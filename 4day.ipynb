{
 "cells": [
  {
   "cell_type": "code",
   "execution_count": 287,
   "id": "e919ac35",
   "metadata": {},
   "outputs": [
    {
     "data": {
      "text/html": [
       "<style>\n",
       "div.container { width:100% !important; }\n",
       "div.CodeMirror {font-family: Consolas; font-size: 25pt;}\n",
       "div.output { font-size: 16pt; font-weight: bold;}\n",
       "div.input { font-family: Consolas; font-size: 25pt;}\n",
       "div.prompt { min-width: 100px;}\n",
       "</style>\n"
      ],
      "text/plain": [
       "<IPython.core.display.HTML object>"
      ]
     },
     "metadata": {},
     "output_type": "display_data"
    }
   ],
   "source": [
    "\n",
    "from IPython.core.display import display, HTML\n",
    "display(HTML(\n",
    "\"\"\"<style>\n",
    "div.container { width:100% !important; }\n",
    "div.CodeMirror {font-family: Consolas; font-size: 25pt;}\n",
    "div.output { font-size: 16pt; font-weight: bold;}\n",
    "div.input { font-family: Consolas; font-size: 25pt;}\n",
    "div.prompt { min-width: 100px;}\n",
    "</style>\n",
    "\"\"\"))"
   ]
  },
  {
   "cell_type": "code",
   "execution_count": 4,
   "id": "22071d6c",
   "metadata": {},
   "outputs": [],
   "source": [
    "## 파일 입출력\n",
    "## 데이터를 파일에 저장하거나 파일에 있는 데이터를 가져오고자 할 때 사용\n",
    "## 파일에 데이터를 저장\n",
    "# f = open(\"C:/Users/soldesk/Desktop/python2110/test1.txt\",\"w\")\n",
    "f = open(\"test1.txt\",\"w\")\n",
    "f.write(\"1번째 줄입니다.\\n\")\n",
    "f.write(\"2번째 줄입니다.\\n\")\n",
    "f.write(\"3번째 줄입니다.\\n\")\n",
    "f.write(\"4번째 줄입니다.\\n\")\n",
    "f.close()"
   ]
  },
  {
   "cell_type": "code",
   "execution_count": 5,
   "id": "eec80303",
   "metadata": {},
   "outputs": [],
   "source": [
    "f = open(\"test1.txt\",\"w\") # 있는 파일에 내용 적으면  overwrite가 된다.\n",
    "f.write(\"5번째 줄입니다.\\n\")\n",
    "f.write(\"6번째 줄입니다.\\n\")\n",
    "f.write(\"7번째 줄입니다.\\n\")\n",
    "f.write(\"8번째 줄입니다.\\n\")\n",
    "f.close()"
   ]
  },
  {
   "cell_type": "code",
   "execution_count": 6,
   "id": "4ca8991a",
   "metadata": {},
   "outputs": [],
   "source": [
    "f = open(\"test1.txt\",\"w\")\n",
    "for i in range(1, 21):\n",
    "    f.write(f\"{i}번째 줄입니다.\\n\")\n",
    "f.close()"
   ]
  },
  {
   "cell_type": "code",
   "execution_count": 7,
   "id": "f5e41ff5",
   "metadata": {},
   "outputs": [],
   "source": [
    "f = open(\"test1.txt\",\"a\")\n",
    "for i in range(21, 41):\n",
    "    f.write(f\"{i}번째 줄입니다.\\n\")\n",
    "f.close()"
   ]
  },
  {
   "cell_type": "code",
   "execution_count": 13,
   "id": "a4e183fd",
   "metadata": {},
   "outputs": [
    {
     "name": "stdout",
     "output_type": "stream",
     "text": [
      "1번째 줄입니다.\n",
      "\n",
      "2번째 줄입니다.\n",
      "\n",
      "3번째 줄입니다.\n",
      "\n"
     ]
    },
    {
     "data": {
      "text/plain": [
       "'\\nline = f.readline() # 파일이 닫혀서 오류 발생\\nprint(line)\\n'"
      ]
     },
     "execution_count": 13,
     "metadata": {},
     "output_type": "execute_result"
    }
   ],
   "source": [
    "#### 파일안에 있는 내용을 읽어 오기\n",
    "f = open(\"test1.txt\",\"r\")\n",
    "line = f.readline()\n",
    "print(line)\n",
    "line = f.readline()\n",
    "print(line)\n",
    "line = f.readline()\n",
    "print(line)\n",
    "f.close()\n",
    "'''\n",
    "line = f.readline() # 파일이 닫혀서 오류 발생\n",
    "print(line)\n",
    "'''"
   ]
  },
  {
   "cell_type": "code",
   "execution_count": 14,
   "id": "3562d95a",
   "metadata": {},
   "outputs": [
    {
     "name": "stdout",
     "output_type": "stream",
     "text": [
      "1번째 줄입니다.\n",
      "\n",
      "2번째 줄입니다.\n",
      "\n",
      "3번째 줄입니다.\n",
      "\n",
      "4번째 줄입니다.\n",
      "\n",
      "5번째 줄입니다.\n",
      "\n",
      "6번째 줄입니다.\n",
      "\n",
      "7번째 줄입니다.\n",
      "\n",
      "8번째 줄입니다.\n",
      "\n",
      "9번째 줄입니다.\n",
      "\n",
      "10번째 줄입니다.\n",
      "\n",
      "11번째 줄입니다.\n",
      "\n",
      "12번째 줄입니다.\n",
      "\n",
      "13번째 줄입니다.\n",
      "\n",
      "14번째 줄입니다.\n",
      "\n",
      "15번째 줄입니다.\n",
      "\n",
      "16번째 줄입니다.\n",
      "\n",
      "17번째 줄입니다.\n",
      "\n",
      "18번째 줄입니다.\n",
      "\n",
      "19번째 줄입니다.\n",
      "\n",
      "20번째 줄입니다.\n",
      "\n",
      "21번째 줄입니다.\n",
      "\n",
      "22번째 줄입니다.\n",
      "\n",
      "23번째 줄입니다.\n",
      "\n",
      "24번째 줄입니다.\n",
      "\n",
      "25번째 줄입니다.\n",
      "\n",
      "26번째 줄입니다.\n",
      "\n",
      "27번째 줄입니다.\n",
      "\n",
      "28번째 줄입니다.\n",
      "\n",
      "29번째 줄입니다.\n",
      "\n",
      "30번째 줄입니다.\n",
      "\n",
      "31번째 줄입니다.\n",
      "\n",
      "32번째 줄입니다.\n",
      "\n",
      "33번째 줄입니다.\n",
      "\n",
      "34번째 줄입니다.\n",
      "\n",
      "35번째 줄입니다.\n",
      "\n",
      "36번째 줄입니다.\n",
      "\n",
      "37번째 줄입니다.\n",
      "\n",
      "38번째 줄입니다.\n",
      "\n",
      "39번째 줄입니다.\n",
      "\n",
      "40번째 줄입니다.\n",
      "\n"
     ]
    }
   ],
   "source": [
    "f = open(\"test1.txt\",\"r\")\n",
    "while True:\n",
    "    line = f.readline() # 한행 씩 읽어 올때 사용하는 것이 좋다.\n",
    "    if not line: # 데이터를 읽어 오지 못하면 False이다. not False = True\n",
    "        break\n",
    "    print(line)\n",
    "f.close()"
   ]
  },
  {
   "cell_type": "code",
   "execution_count": 20,
   "id": "7bf2c1a6",
   "metadata": {},
   "outputs": [
    {
     "name": "stdout",
     "output_type": "stream",
     "text": [
      "['1번째 줄입니다.\\n', '2번째 줄입니다.\\n', '3번째 줄입니다.\\n', '4번째 줄입니다.\\n', '5번째 줄입니다.\\n', '6번째 줄입니다.\\n', '7번째 줄입니다.\\n', '8번째 줄입니다.\\n', '9번째 줄입니다.\\n', '10번째 줄입니다.\\n', '11번째 줄입니다.\\n', '12번째 줄입니다.\\n', '13번째 줄입니다.\\n', '14번째 줄입니다.\\n', '15번째 줄입니다.\\n', '16번째 줄입니다.\\n', '17번째 줄입니다.\\n', '18번째 줄입니다.\\n', '19번째 줄입니다.\\n', '20번째 줄입니다.\\n', '21번째 줄입니다.\\n', '22번째 줄입니다.\\n', '23번째 줄입니다.\\n', '24번째 줄입니다.\\n', '25번째 줄입니다.\\n', '26번째 줄입니다.\\n', '27번째 줄입니다.\\n', '28번째 줄입니다.\\n', '29번째 줄입니다.\\n', '30번째 줄입니다.\\n', '31번째 줄입니다.\\n', '32번째 줄입니다.\\n', '33번째 줄입니다.\\n', '34번째 줄입니다.\\n', '35번째 줄입니다.\\n', '36번째 줄입니다.\\n', '37번째 줄입니다.\\n', '38번째 줄입니다.\\n', '39번째 줄입니다.\\n', '40번째 줄입니다.\\n']\n",
      "============================================================\n",
      "1번째 줄입니다.\n",
      "\n",
      "2번째 줄입니다.\n",
      "\n",
      "3번째 줄입니다.\n",
      "\n",
      "4번째 줄입니다.\n",
      "\n",
      "5번째 줄입니다.\n",
      "\n",
      "6번째 줄입니다.\n",
      "\n",
      "7번째 줄입니다.\n",
      "\n",
      "8번째 줄입니다.\n",
      "\n",
      "9번째 줄입니다.\n",
      "\n",
      "10번째 줄입니다.\n",
      "\n",
      "11번째 줄입니다.\n",
      "\n",
      "12번째 줄입니다.\n",
      "\n",
      "13번째 줄입니다.\n",
      "\n",
      "14번째 줄입니다.\n",
      "\n",
      "15번째 줄입니다.\n",
      "\n",
      "16번째 줄입니다.\n",
      "\n",
      "17번째 줄입니다.\n",
      "\n",
      "18번째 줄입니다.\n",
      "\n",
      "19번째 줄입니다.\n",
      "\n",
      "20번째 줄입니다.\n",
      "\n",
      "21번째 줄입니다.\n",
      "\n",
      "22번째 줄입니다.\n",
      "\n",
      "23번째 줄입니다.\n",
      "\n",
      "24번째 줄입니다.\n",
      "\n",
      "25번째 줄입니다.\n",
      "\n",
      "26번째 줄입니다.\n",
      "\n",
      "27번째 줄입니다.\n",
      "\n",
      "28번째 줄입니다.\n",
      "\n",
      "29번째 줄입니다.\n",
      "\n",
      "30번째 줄입니다.\n",
      "\n",
      "31번째 줄입니다.\n",
      "\n",
      "32번째 줄입니다.\n",
      "\n",
      "33번째 줄입니다.\n",
      "\n",
      "34번째 줄입니다.\n",
      "\n",
      "35번째 줄입니다.\n",
      "\n",
      "36번째 줄입니다.\n",
      "\n",
      "37번째 줄입니다.\n",
      "\n",
      "38번째 줄입니다.\n",
      "\n",
      "39번째 줄입니다.\n",
      "\n",
      "40번째 줄입니다.\n",
      "\n",
      "============================================================\n",
      "1번째 줄입니다.\n",
      "2번째 줄입니다.\n",
      "3번째 줄입니다.\n",
      "4번째 줄입니다.\n",
      "5번째 줄입니다.\n",
      "6번째 줄입니다.\n",
      "7번째 줄입니다.\n",
      "8번째 줄입니다.\n",
      "9번째 줄입니다.\n",
      "10번째 줄입니다.\n",
      "11번째 줄입니다.\n",
      "12번째 줄입니다.\n",
      "13번째 줄입니다.\n",
      "14번째 줄입니다.\n",
      "15번째 줄입니다.\n",
      "16번째 줄입니다.\n",
      "17번째 줄입니다.\n",
      "18번째 줄입니다.\n",
      "19번째 줄입니다.\n",
      "20번째 줄입니다.\n",
      "21번째 줄입니다.\n",
      "22번째 줄입니다.\n",
      "23번째 줄입니다.\n",
      "24번째 줄입니다.\n",
      "25번째 줄입니다.\n",
      "26번째 줄입니다.\n",
      "27번째 줄입니다.\n",
      "28번째 줄입니다.\n",
      "29번째 줄입니다.\n",
      "30번째 줄입니다.\n",
      "31번째 줄입니다.\n",
      "32번째 줄입니다.\n",
      "33번째 줄입니다.\n",
      "34번째 줄입니다.\n",
      "35번째 줄입니다.\n",
      "36번째 줄입니다.\n",
      "37번째 줄입니다.\n",
      "38번째 줄입니다.\n",
      "39번째 줄입니다.\n",
      "40번째 줄입니다.\n",
      "\n",
      "a,b,c,d,e,f,g\n"
     ]
    }
   ],
   "source": [
    "f = open(\"test1.txt\",\"r\")\n",
    "lines = f.readlines() ### 파일 내용의 행(\\n)을 요소하는 리스트로 받아옴\n",
    "f.close()\n",
    "print(lines)\n",
    "\n",
    "print(\"==\" * 30)\n",
    "for line in lines:\n",
    "    print(line)\n",
    "    \n",
    "print(\"==\" * 30)\n",
    "lines = \"\".join(lines) #### 리스트 자료형을 문자열 가져오고자 할 때 사용\n",
    "print(lines)\n",
    "\n",
    "print(\"==\" * 30)\n",
    "str1 = 'abcdefg'\n",
    "print(','.join(str1))"
   ]
  },
  {
   "cell_type": "code",
   "execution_count": 21,
   "id": "4aa5ae44",
   "metadata": {},
   "outputs": [
    {
     "name": "stdout",
     "output_type": "stream",
     "text": [
      "1번째 줄입니다.\n",
      "2번째 줄입니다.\n",
      "3번째 줄입니다.\n",
      "4번째 줄입니다.\n",
      "5번째 줄입니다.\n",
      "6번째 줄입니다.\n",
      "7번째 줄입니다.\n",
      "8번째 줄입니다.\n",
      "9번째 줄입니다.\n",
      "10번째 줄입니다.\n",
      "11번째 줄입니다.\n",
      "12번째 줄입니다.\n",
      "13번째 줄입니다.\n",
      "14번째 줄입니다.\n",
      "15번째 줄입니다.\n",
      "16번째 줄입니다.\n",
      "17번째 줄입니다.\n",
      "18번째 줄입니다.\n",
      "19번째 줄입니다.\n",
      "20번째 줄입니다.\n",
      "21번째 줄입니다.\n",
      "22번째 줄입니다.\n",
      "23번째 줄입니다.\n",
      "24번째 줄입니다.\n",
      "25번째 줄입니다.\n",
      "26번째 줄입니다.\n",
      "27번째 줄입니다.\n",
      "28번째 줄입니다.\n",
      "29번째 줄입니다.\n",
      "30번째 줄입니다.\n",
      "31번째 줄입니다.\n",
      "32번째 줄입니다.\n",
      "33번째 줄입니다.\n",
      "34번째 줄입니다.\n",
      "35번째 줄입니다.\n",
      "36번째 줄입니다.\n",
      "37번째 줄입니다.\n",
      "38번째 줄입니다.\n",
      "39번째 줄입니다.\n",
      "40번째 줄입니다.\n",
      "\n"
     ]
    }
   ],
   "source": [
    "f = open(\"test1.txt\",\"r\")\n",
    "data = f.read() # 파일안에 있는 내용을 그대로 받아옴.\n",
    "f.close()\n",
    "print(data)"
   ]
  },
  {
   "cell_type": "code",
   "execution_count": 24,
   "id": "be1db060",
   "metadata": {},
   "outputs": [
    {
     "name": "stdout",
     "output_type": "stream",
     "text": [
      "1번째 입니다.\n",
      "2번째 입니다.\n",
      "3번째 입니다.\n",
      "4번째 입니다.\n",
      "5번째 입니다.\n",
      "6번째 입니다.\n",
      "7번째 입니다.\n",
      "8번째 입니다.\n",
      "9번째 입니다.\n",
      "10번째 입니다.\n",
      "11번째 입니다.\n",
      "12번째 입니다.\n",
      "13번째 입니다.\n",
      "14번째 입니다.\n",
      "15번째 입니다.\n",
      "16번째 입니다.\n",
      "17번째 입니다.\n",
      "18번째 입니다.\n",
      "19번째 입니다.\n",
      "20번째 입니다.\n",
      "21번째 입니다.\n",
      "22번째 입니다.\n",
      "23번째 입니다.\n",
      "24번째 입니다.\n",
      "25번째 입니다.\n",
      "26번째 입니다.\n",
      "27번째 입니다.\n",
      "28번째 입니다.\n",
      "29번째 입니다.\n",
      "30번째 입니다.\n",
      "\n"
     ]
    }
   ],
   "source": [
    "f = open(\"test2.txt\",\"w\")\n",
    "for i in range(1, 31):\n",
    "    f.write(f\"{i}번째 입니다.\\n\")\n",
    "f.close()\n",
    "f = open(\"test2.txt\",\"r\")\n",
    "data = f.read()\n",
    "f.close()\n",
    "print(data)"
   ]
  },
  {
   "cell_type": "code",
   "execution_count": 28,
   "id": "7a9fae69",
   "metadata": {},
   "outputs": [
    {
     "name": "stdout",
     "output_type": "stream",
     "text": [
      "1번째 입니다.\n",
      "2번째 입니다.\n",
      "3번째 입니다.\n",
      "4번째 입니다.\n",
      "5번째 입니다.\n",
      "6번째 입니다.\n",
      "7번째 입니다.\n",
      "8번째 입니다.\n",
      "9번째 입니다.\n",
      "10번째 입니다.\n",
      "11번째 입니다.\n",
      "12번째 입니다.\n",
      "13번째 입니다.\n",
      "14번째 입니다.\n",
      "15번째 입니다.\n",
      "16번째 입니다.\n",
      "17번째 입니다.\n",
      "18번째 입니다.\n",
      "19번째 입니다.\n",
      "20번째 입니다.\n",
      "21번째 입니다.\n",
      "22번째 입니다.\n",
      "23번째 입니다.\n",
      "24번째 입니다.\n",
      "25번째 입니다.\n",
      "26번째 입니다.\n",
      "27번째 입니다.\n",
      "28번째 입니다.\n",
      "29번째 입니다.\n",
      "30번째 입니다.\n",
      "\n",
      "==========================================================================================\n",
      "1번째 입니다.\n",
      "2번째 입니다.\n",
      "3번째 입니다.\n",
      "4번째 입니다.\n",
      "5번째 입니다.\n",
      "6번째 입니다.\n",
      "7번째 입니다.\n",
      "8번째 입니다.\n",
      "9번째 입니다.\n",
      "10번째 입니다.\n",
      "11번째 입니다.\n",
      "12번째 입니다.\n",
      "13번째 입니다.\n",
      "14번째 입니다.\n",
      "15번째 입니다.\n",
      "16번째 입니다.\n",
      "17번째 입니다.\n",
      "18번째 입니다.\n",
      "19번째 입니다.\n",
      "20번째 입니다.\n",
      "21번째 입니다.\n",
      "22번째 입니다.\n",
      "23번째 입니다.\n",
      "24번째 입니다.\n",
      "25번째 입니다.\n",
      "26번째 입니다.\n",
      "27번째 입니다.\n",
      "28번째 입니다.\n",
      "29번째 입니다.\n",
      "30번째 입니다.\n",
      "31번째 입니다.\n",
      "32번째 입니다.\n",
      "33번째 입니다.\n",
      "34번째 입니다.\n",
      "35번째 입니다.\n",
      "36번째 입니다.\n",
      "37번째 입니다.\n",
      "38번째 입니다.\n",
      "39번째 입니다.\n",
      "40번째 입니다.\n",
      "\n"
     ]
    }
   ],
   "source": [
    "with open(\"test3.txt\",\"w\") as f:\n",
    "    for i in range(1, 31):\n",
    "        f.write(\"%d번째 입니다.\\n\" % i)\n",
    "with open(\"test3.txt\",\"r\") as f:\n",
    "    data = f.read()\n",
    "print(data)\n",
    "\n",
    "print(\"===\" * 30)\n",
    "with open(\"test3.txt\",\"a\") as f:\n",
    "    for i in range(31, 41):\n",
    "        f.write(\"%d번째 입니다.\\n\" % i)\n",
    "with open(\"test3.txt\",\"r\") as f:\n",
    "    data = f.read()\n",
    "print(data)"
   ]
  },
  {
   "cell_type": "code",
   "execution_count": 30,
   "id": "0f4343a7",
   "metadata": {},
   "outputs": [
    {
     "name": "stdout",
     "output_type": "stream",
     "text": [
      "1\n",
      "5\n",
      "8\n"
     ]
    }
   ],
   "source": [
    "#### class는 반복적으로 사용해야 하는 변수와 함수가 있는 경우\n",
    "result = 0 # 연산을 할때마다 값 증가되거나 변하도록 한다.\n",
    "result += 1 # result = result + 1 # result = 0 + 1 : 1\n",
    "print(result)\n",
    "result += 4 # result = result + 4 # result = 1 + 4 : 5\n",
    "print(result)\n",
    "result += 3 # result = result + 3 # result = 5 + 3 : 8\n",
    "print(result)"
   ]
  },
  {
   "cell_type": "code",
   "execution_count": 35,
   "id": "2c9c069d",
   "metadata": {},
   "outputs": [],
   "source": [
    "result = 0 # 전역변수\n",
    "def add(num):\n",
    "    global result\n",
    "    result += num"
   ]
  },
  {
   "cell_type": "code",
   "execution_count": 36,
   "id": "84bc3fa8",
   "metadata": {},
   "outputs": [
    {
     "name": "stdout",
     "output_type": "stream",
     "text": [
      "1\n",
      "5\n",
      "8\n"
     ]
    }
   ],
   "source": [
    "add(1) # result = result + 1 : result = 0 + 1\n",
    "print(result) \n",
    "add(4) # result = result + 4 : result = 1 + 4\n",
    "print(result)\n",
    "add(3) # result = result + 3 : result = 5 + 3\n",
    "print(result)"
   ]
  },
  {
   "cell_type": "code",
   "execution_count": 38,
   "id": "774fbc26",
   "metadata": {},
   "outputs": [
    {
     "name": "stdout",
     "output_type": "stream",
     "text": [
      "8\n"
     ]
    }
   ],
   "source": [
    "print(result) # 8\n",
    "'''\n",
    "add(3) # result = result + 3 : result = 8 + 3\n",
    "print(result) # 11\n",
    "'''"
   ]
  },
  {
   "cell_type": "code",
   "execution_count": 42,
   "id": "44d079bc",
   "metadata": {},
   "outputs": [],
   "source": [
    "result1 = 0 # 전역변수\n",
    "def add1(num):\n",
    "    global result1\n",
    "    result1 += num"
   ]
  },
  {
   "cell_type": "code",
   "execution_count": 43,
   "id": "82514fe0",
   "metadata": {},
   "outputs": [
    {
     "name": "stdout",
     "output_type": "stream",
     "text": [
      "2\n",
      "8\n",
      "5\n",
      "8\n",
      "12\n",
      "8\n"
     ]
    }
   ],
   "source": [
    "add1(2)\n",
    "print(result1)\n",
    "print(result)\n",
    "add1(3)\n",
    "print(result1)\n",
    "print(result)\n",
    "add1(7)\n",
    "print(result1) # 12\n",
    "print(result) # 8"
   ]
  },
  {
   "cell_type": "code",
   "execution_count": 44,
   "id": "0b60c403",
   "metadata": {},
   "outputs": [
    {
     "name": "stdout",
     "output_type": "stream",
     "text": [
      "12\n",
      "8\n"
     ]
    }
   ],
   "source": [
    "print(result1) # 12\n",
    "print(result) # 8"
   ]
  },
  {
   "cell_type": "code",
   "execution_count": null,
   "id": "0bbd2807",
   "metadata": {},
   "outputs": [],
   "source": [
    "result2 = 0 # 전역변수\n",
    "def add2(num):\n",
    "    global result2\n",
    "    result2 += num"
   ]
  },
  {
   "cell_type": "code",
   "execution_count": 47,
   "id": "26d2543e",
   "metadata": {},
   "outputs": [],
   "source": [
    "class ClassAdd:\n",
    "    result = 0\n",
    "    def add(self, num):#class안에 있는 함수의 매개변수에는 self매개변수가 있어야 한다.\n",
    "        self.result += num"
   ]
  },
  {
   "cell_type": "code",
   "execution_count": 51,
   "id": "7f48d4ec",
   "metadata": {},
   "outputs": [
    {
     "name": "stdout",
     "output_type": "stream",
     "text": [
      "1\n",
      "5\n",
      "8\n"
     ]
    }
   ],
   "source": [
    "a1 = ClassAdd() # result, add()\n",
    "i = 10\n",
    "l = [1,2,3,4]\n",
    "\n",
    "a1.add(1)\n",
    "print(a1.result)\n",
    "a1.add(4)\n",
    "print(a1.result)\n",
    "a1.add(3)\n",
    "print(a1.result)"
   ]
  },
  {
   "cell_type": "code",
   "execution_count": 52,
   "id": "4adb7356",
   "metadata": {},
   "outputs": [
    {
     "name": "stdout",
     "output_type": "stream",
     "text": [
      "8\n"
     ]
    }
   ],
   "source": [
    "print(a1.result)"
   ]
  },
  {
   "cell_type": "code",
   "execution_count": 54,
   "id": "2c733e42",
   "metadata": {},
   "outputs": [
    {
     "name": "stdout",
     "output_type": "stream",
     "text": [
      "2\n",
      "5\n",
      "12\n"
     ]
    }
   ],
   "source": [
    "a2 = ClassAdd() # result , add()\n",
    "a2.add(2)\n",
    "print(a2.result)\n",
    "a2.add(3)\n",
    "print(a2.result)\n",
    "a2.add(7)\n",
    "print(a2.result)"
   ]
  },
  {
   "cell_type": "code",
   "execution_count": 56,
   "id": "3875b7b9",
   "metadata": {},
   "outputs": [
    {
     "name": "stdout",
     "output_type": "stream",
     "text": [
      "8\n",
      "12\n"
     ]
    }
   ],
   "source": [
    "print(a1.result)\n",
    "print(a2.result)"
   ]
  },
  {
   "cell_type": "code",
   "execution_count": 59,
   "id": "6e707d1b",
   "metadata": {},
   "outputs": [],
   "source": [
    "a3 = ClassAdd()\n",
    "a3.add(3)\n",
    "a3.add(9)\n",
    "a3.add(5)"
   ]
  },
  {
   "cell_type": "code",
   "execution_count": 60,
   "id": "4d140c42",
   "metadata": {},
   "outputs": [
    {
     "name": "stdout",
     "output_type": "stream",
     "text": [
      "8\n",
      "12\n",
      "17\n"
     ]
    }
   ],
   "source": [
    "print(a1.result)\n",
    "print(a2.result)\n",
    "print(a3.result)"
   ]
  },
  {
   "cell_type": "code",
   "execution_count": 65,
   "id": "f21044c8",
   "metadata": {},
   "outputs": [],
   "source": [
    "# class내에 있는 함수의 매개변수 self\n",
    "class Calculator:\n",
    "    result = 0 # 멤버변수, 멤버필드\n",
    "    def add(self, num):\n",
    "        self.result += num # self.result = self.result + num"
   ]
  },
  {
   "cell_type": "code",
   "execution_count": 68,
   "id": "0f1c6fb5",
   "metadata": {},
   "outputs": [
    {
     "name": "stdout",
     "output_type": "stream",
     "text": [
      "2\n",
      "3\n",
      "============================================================\n",
      "5\n",
      "8\n"
     ]
    }
   ],
   "source": [
    "cal1 = Calculator()\n",
    "cal1.add(2) \n",
    "cal2 = Calculator()\n",
    "cal2.add(3) \n",
    "print(cal1.result)\n",
    "print(cal2.result)\n",
    "print(\"==\" * 30)\n",
    "Calculator.add(cal1, 3)\n",
    "print(cal1.result)\n",
    "Calculator.add(cal2, 5)\n",
    "print(cal2.result)\n",
    "cal1.add(4) #  변수명이 self매개변수에게 넘어가도록 되어 있다.\n",
    "cal2.add(10)  \n",
    "print(cal1.result)\n",
    "print(cal2.result)"
   ]
  },
  {
   "cell_type": "code",
   "execution_count": 69,
   "id": "0e29d7e9",
   "metadata": {},
   "outputs": [
    {
     "name": "stdout",
     "output_type": "stream",
     "text": [
      "8\n"
     ]
    }
   ],
   "source": [
    "cal3 = Calculator()\n",
    "Calculator.add(cal3, 5)\n",
    "cal3.add(3) # cal3변수가 add()함수의 self매개변수 전달이 된다.\n",
    "print(cal3.result) # java에 this와 self는 같은 의미이다."
   ]
  },
  {
   "cell_type": "code",
   "execution_count": 83,
   "id": "04a71b93",
   "metadata": {},
   "outputs": [],
   "source": [
    "# 멤버 필드 초기화\n",
    "class FourCal:\n",
    "    def setData(self, num1, num2):\n",
    "        self.first = num1\n",
    "        self.second = num2\n",
    "    def add(self):\n",
    "        self.result = self.first + self.second\n",
    "    def sub(self):\n",
    "        self.result = self.first - self.second\n",
    "    def mul(self):\n",
    "        self.result = self.first * self.second\n",
    "    def div(self):\n",
    "        self.result = self.first / self.second"
   ]
  },
  {
   "cell_type": "code",
   "execution_count": 84,
   "id": "465caaf4",
   "metadata": {},
   "outputs": [
    {
     "name": "stdout",
     "output_type": "stream",
     "text": [
      "10 20\n",
      "30\n"
     ]
    }
   ],
   "source": [
    "a = FourCal()\n",
    "a.setData(10, 20) # 멤버필드 초기화(first, second)\n",
    "print(a.first, a.second) \n",
    "a.add()\n",
    "print(a.result)"
   ]
  },
  {
   "cell_type": "code",
   "execution_count": 86,
   "id": "95d84670",
   "metadata": {},
   "outputs": [
    {
     "name": "stdout",
     "output_type": "stream",
     "text": [
      "-10\n",
      "200\n",
      "0.5\n"
     ]
    }
   ],
   "source": [
    "a.sub()\n",
    "print(a.result)\n",
    "a.mul()\n",
    "print(a.result)\n",
    "FourCal.div(a) # a.div()\n",
    "print(a.result)"
   ]
  },
  {
   "cell_type": "code",
   "execution_count": 87,
   "id": "deaebbe5",
   "metadata": {},
   "outputs": [
    {
     "name": "stdout",
     "output_type": "stream",
     "text": [
      "20 10\n"
     ]
    }
   ],
   "source": [
    "b = FourCal() # 변수 선언 : 객체 생성 : 클래스로 변수 선언 \n",
    "FourCal.setData(b, 20, 10) # b.setData(20,10)\n",
    "print(b.first, b.second)\n",
    "# 1. 객체생성 \n",
    "# 2. 멤버 필드 초기화"
   ]
  },
  {
   "cell_type": "code",
   "execution_count": 94,
   "id": "5c18689e",
   "metadata": {},
   "outputs": [],
   "source": [
    "# 객체 생성과 동시에 멤버필드 초기화\n",
    "class FourCal1:\n",
    "    def __init__(self, num1, num2): ## 객체 생성시에 실행되는 함수 : 생성자\n",
    "        self.first = num1           ## 멤버 필드를 초기화하기 위해서 사용\n",
    "        self.second = num2\n",
    "        print(\"객체 생성시 자동으로 실행\") # 추가\n",
    "    def add(self):\n",
    "        self.result = self.first + self.second\n",
    "    def sub(self):\n",
    "        self.result = self.first - self.second\n",
    "    def mul(self):\n",
    "        self.result = self.first * self.second\n",
    "    def div(self):\n",
    "        self.result = self.first / self.second"
   ]
  },
  {
   "cell_type": "code",
   "execution_count": 91,
   "id": "f1f284c1",
   "metadata": {},
   "outputs": [
    {
     "name": "stdout",
     "output_type": "stream",
     "text": [
      "20 10\n",
      "30\n",
      "10\n",
      "200\n",
      "2.0\n"
     ]
    }
   ],
   "source": [
    "b = FourCal1(20, 10) ### 객체생성과 동시에 멤버 필드 초기화\n",
    "                     ## __init__()자동으로 실행이 됨\n",
    "print(b.first, b.second)\n",
    "b.add()\n",
    "print(b.result)\n",
    "b.sub()\n",
    "print(b.result)\n",
    "b.mul()\n",
    "print(b.result)\n",
    "b.div()\n",
    "print(b.result)"
   ]
  },
  {
   "cell_type": "code",
   "execution_count": 95,
   "id": "bba45bea",
   "metadata": {},
   "outputs": [
    {
     "name": "stdout",
     "output_type": "stream",
     "text": [
      "객체 생성시 자동으로 실행\n"
     ]
    }
   ],
   "source": [
    "c = FourCal1(30, 15)# __init__()실행이된 걸 확인 할수 있다."
   ]
  },
  {
   "cell_type": "code",
   "execution_count": 97,
   "id": "1d711314",
   "metadata": {},
   "outputs": [],
   "source": [
    "# 상속\n",
    "class FourCal2: ### 선배가 이미 만들어 놓은 것(부모 클래스)\n",
    "    def __init__(self, num1, num2): \n",
    "        self.first = num1           \n",
    "        self.second = num2\n",
    "    def add(self):\n",
    "        self.result = self.first + self.second\n",
    "    def div(self):\n",
    "        self.result = self.first / self.second"
   ]
  },
  {
   "cell_type": "code",
   "execution_count": 98,
   "id": "6777df62",
   "metadata": {},
   "outputs": [],
   "source": [
    "class MoreFourCal(FourCal2): # FourCal2를 상속받아 옴 ( 자식클래스 )\n",
    "    def sub(self):\n",
    "        self.result = self.first - self.second\n",
    "    def mul(self):\n",
    "        self.result = self.first * self.second \n",
    "# 상속받아 왔으므로 암시적으로 아래 내용이 포함됨\n",
    "#     def __init__(self, num1, num2): \n",
    "#         self.first = num1           \n",
    "#         self.second = num2\n",
    "#     def add(self):\n",
    "#         self.result = self.first + self.second\n",
    "#     def div(self):\n",
    "#         self.result = self.first / self.second"
   ]
  },
  {
   "cell_type": "code",
   "execution_count": 101,
   "id": "ec342aea",
   "metadata": {},
   "outputs": [
    {
     "name": "stdout",
     "output_type": "stream",
     "text": [
      "4,2\n",
      "6\n",
      "2\n",
      "8\n",
      "2.0\n"
     ]
    }
   ],
   "source": [
    "d = MoreFourCal(4, 2)\n",
    "print(d.first, d.second, sep =\",\")\n",
    "d.add()\n",
    "print(d.result)\n",
    "d.sub()\n",
    "print(d.result)\n",
    "d.mul()\n",
    "print(d.result)\n",
    "d.div()\n",
    "print(d.result)"
   ]
  },
  {
   "cell_type": "code",
   "execution_count": 105,
   "id": "dab2f5b4",
   "metadata": {},
   "outputs": [
    {
     "name": "stdout",
     "output_type": "stream",
     "text": [
      "0.0\n"
     ]
    },
    {
     "ename": "ZeroDivisionError",
     "evalue": "division by zero",
     "output_type": "error",
     "traceback": [
      "\u001b[1;31m---------------------------------------------------------------------------\u001b[0m",
      "\u001b[1;31mZeroDivisionError\u001b[0m                         Traceback (most recent call last)",
      "\u001b[1;32m~\\AppData\\Local\\Temp/ipykernel_3596/4255306391.py\u001b[0m in \u001b[0;36m<module>\u001b[1;34m\u001b[0m\n\u001b[0;32m      4\u001b[0m \u001b[1;33m\u001b[0m\u001b[0m\n\u001b[0;32m      5\u001b[0m \u001b[0me\u001b[0m \u001b[1;33m=\u001b[0m \u001b[0mMoreFourCal\u001b[0m\u001b[1;33m(\u001b[0m\u001b[1;36m2\u001b[0m\u001b[1;33m,\u001b[0m \u001b[1;36m0\u001b[0m\u001b[1;33m)\u001b[0m\u001b[1;33m\u001b[0m\u001b[1;33m\u001b[0m\u001b[0m\n\u001b[1;32m----> 6\u001b[1;33m \u001b[0me\u001b[0m\u001b[1;33m.\u001b[0m\u001b[0mdiv\u001b[0m\u001b[1;33m(\u001b[0m\u001b[1;33m)\u001b[0m \u001b[1;31m# 2 / 0 : 불능 # 오류발생\u001b[0m\u001b[1;33m\u001b[0m\u001b[1;33m\u001b[0m\u001b[0m\n\u001b[0m\u001b[0;32m      7\u001b[0m \u001b[0mprint\u001b[0m\u001b[1;33m(\u001b[0m\u001b[0me\u001b[0m\u001b[1;33m.\u001b[0m\u001b[0mresult\u001b[0m\u001b[1;33m)\u001b[0m\u001b[1;33m\u001b[0m\u001b[1;33m\u001b[0m\u001b[0m\n",
      "\u001b[1;32m~\\AppData\\Local\\Temp/ipykernel_3596/1815809663.py\u001b[0m in \u001b[0;36mdiv\u001b[1;34m(self)\u001b[0m\n\u001b[0;32m      7\u001b[0m         \u001b[0mself\u001b[0m\u001b[1;33m.\u001b[0m\u001b[0mresult\u001b[0m \u001b[1;33m=\u001b[0m \u001b[0mself\u001b[0m\u001b[1;33m.\u001b[0m\u001b[0mfirst\u001b[0m \u001b[1;33m+\u001b[0m \u001b[0mself\u001b[0m\u001b[1;33m.\u001b[0m\u001b[0msecond\u001b[0m\u001b[1;33m\u001b[0m\u001b[1;33m\u001b[0m\u001b[0m\n\u001b[0;32m      8\u001b[0m     \u001b[1;32mdef\u001b[0m \u001b[0mdiv\u001b[0m\u001b[1;33m(\u001b[0m\u001b[0mself\u001b[0m\u001b[1;33m)\u001b[0m\u001b[1;33m:\u001b[0m\u001b[1;33m\u001b[0m\u001b[1;33m\u001b[0m\u001b[0m\n\u001b[1;32m----> 9\u001b[1;33m         \u001b[0mself\u001b[0m\u001b[1;33m.\u001b[0m\u001b[0mresult\u001b[0m \u001b[1;33m=\u001b[0m \u001b[0mself\u001b[0m\u001b[1;33m.\u001b[0m\u001b[0mfirst\u001b[0m \u001b[1;33m/\u001b[0m \u001b[0mself\u001b[0m\u001b[1;33m.\u001b[0m\u001b[0msecond\u001b[0m\u001b[1;33m\u001b[0m\u001b[1;33m\u001b[0m\u001b[0m\n\u001b[0m",
      "\u001b[1;31mZeroDivisionError\u001b[0m: division by zero"
     ]
    }
   ],
   "source": [
    "e = MoreFourCal(0, 2)\n",
    "e.div() # 0 / 2 = 0 : 부정\n",
    "print(e.result)\n",
    "\n",
    "e = MoreFourCal(2, 0)\n",
    "# e.div() # 2 / 0 : 불능 # 오류발생\n",
    "# print(e.result)"
   ]
  },
  {
   "cell_type": "code",
   "execution_count": 109,
   "id": "e9b80b08",
   "metadata": {},
   "outputs": [],
   "source": [
    "class FourCal3: \n",
    "    def __init__(self, num1, num2): \n",
    "        self.first = num1           \n",
    "        self.second = num2\n",
    "    def add(self):\n",
    "        self.result = self.first + self.second\n",
    "    def div(self): # 불능을 생각 하지 않고 만들어서 오류가 발생\n",
    "        self.result = self.first / self.second\n",
    "class MoreFourCal3(FourCal3):\n",
    "    def sub(self):\n",
    "        self.result = self.first - self.second\n",
    "    def mul(self):\n",
    "        self.result = self.first * self.second \n",
    "#     def div(self): \n",
    "#         self.result = self.first / self.second\n",
    "    def div(self): # 암시적으로 존재하는 상속 받은 함수를 재정의 : 오버라이딩\n",
    "        if self.second == 0:\n",
    "            self.result = 0\n",
    "        else: \n",
    "            self.result = self.first / self.second"
   ]
  },
  {
   "cell_type": "code",
   "execution_count": 113,
   "id": "656f7442",
   "metadata": {},
   "outputs": [
    {
     "name": "stdout",
     "output_type": "stream",
     "text": [
      "0\n",
      "0.0\n",
      "2.0\n"
     ]
    }
   ],
   "source": [
    "f = MoreFourCal3(2, 0) # first : 2 , second = 0 \n",
    "f.div()\n",
    "print(f.result)\n",
    "f = MoreFourCal3(0,2) \n",
    "f.div()\n",
    "print(f.result)\n",
    "f = MoreFourCal3(4,2) \n",
    "f.div()\n",
    "print(f.result)"
   ]
  },
  {
   "cell_type": "code",
   "execution_count": null,
   "id": "bd25f3e8",
   "metadata": {},
   "outputs": [],
   "source": [
    "# 반복문 : 반복적으로 사용되는 규칙성을 가질 때 명령어를 한번만 사용\n",
    "# 함수 : 반복문을 반복적으로 사용\n",
    "# 클래스 : 변수와 함수를 반복적으로 만들어서 사용\n",
    "# 모듈 : 반복적으로 사용되는 변수나 함수 그리고 클래스를 하나로 묶어 놓은 것 "
   ]
  },
  {
   "cell_type": "code",
   "execution_count": 149,
   "id": "3b4eb31a",
   "metadata": {},
   "outputs": [
    {
     "name": "stdout",
     "output_type": "stream",
     "text": [
      "3.141592\n",
      "30\n",
      "객체 생성시 자동으로 실행\n",
      "30\n"
     ]
    }
   ],
   "source": [
    "import mod1 # 파일안에 있는 내용이 암시적으로 존재\n",
    "print(mod1.PI)\n",
    "result1 = mod1.sum1(20, 10)\n",
    "print(result1)\n",
    "dd = mod1.FourCal1(20, 10)\n",
    "dd.add()\n",
    "print(dd.result)"
   ]
  },
  {
   "cell_type": "code",
   "execution_count": 163,
   "id": "3c87dc5f",
   "metadata": {},
   "outputs": [
    {
     "name": "stdout",
     "output_type": "stream",
     "text": [
      "3.141592\n",
      "30\n",
      "객체 생성시 자동으로 실행\n",
      "30\n"
     ]
    }
   ],
   "source": [
    "from mod1 import *\n",
    "\n",
    "print(PI)\n",
    "result1 = sum1(20, 10)\n",
    "print(result1)\n",
    "dd = FourCal1(20, 10)\n",
    "dd.add()\n",
    "print(dd.result)\n"
   ]
  },
  {
   "cell_type": "code",
   "execution_count": 138,
   "id": "01e53706",
   "metadata": {},
   "outputs": [
    {
     "name": "stdout",
     "output_type": "stream",
     "text": [
      "8\n"
     ]
    }
   ],
   "source": [
    "### python에는 배열 자료형이 없다.\n",
    "### switch문 대신 딕셔너리, 배열 대신 리스트 \n",
    "\n",
    "### numpy는 숫자로 된 배열\n",
    "import numpy as np \n",
    "num = np.random.randint(10)\n",
    "print(num)"
   ]
  },
  {
   "cell_type": "code",
   "execution_count": 170,
   "id": "135f9db9",
   "metadata": {},
   "outputs": [
    {
     "name": "stdout",
     "output_type": "stream",
     "text": [
      "1\n"
     ]
    }
   ],
   "source": [
    "num = np.random.randint(10)\n",
    "print(num)"
   ]
  },
  {
   "cell_type": "code",
   "execution_count": 172,
   "id": "c0ab58f6",
   "metadata": {},
   "outputs": [
    {
     "name": "stdout",
     "output_type": "stream",
     "text": [
      "[1 5 2 1 1 0]\n",
      "[1, 2, 3, 4, 5]\n"
     ]
    }
   ],
   "source": [
    "# 1~ 10사이에 있는 값을 가는 1차원 배열\n",
    "num = np.random.randint(10, size=6)\n",
    "print(num) # [1 5 2 1 1 0]\n",
    "l = [1,2,3,4,5]\n",
    "print(l)"
   ]
  },
  {
   "cell_type": "code",
   "execution_count": 174,
   "id": "3168e26c",
   "metadata": {},
   "outputs": [
    {
     "name": "stdout",
     "output_type": "stream",
     "text": [
      "[[3 0 4 3]\n",
      " [5 5 1 9]\n",
      " [4 8 9 9]]\n",
      "[[7 3 2 2]]\n"
     ]
    }
   ],
   "source": [
    "# 1~ 10사이에 있는 값을 가는 2차원 배열\n",
    "num2 = np.random.randint(10, size=(3, 4)) # 3행 4열\n",
    "print(num2)\n",
    "# 2차원 배열 : 1차원 배열의 집합체\n",
    "# 2차원의 행은 1차원 배열이다.\n",
    "num3 = np.random.randint(10, size=(1, 4)) # 1행 4열\n",
    "print(num3) # [[7 3 2 2]]"
   ]
  },
  {
   "cell_type": "code",
   "execution_count": 178,
   "id": "66e3a27a",
   "metadata": {},
   "outputs": [
    {
     "name": "stdout",
     "output_type": "stream",
     "text": [
      "[1 5 2 1 1 0]\n",
      "[1, 2, 3, 4, 5]\n",
      "3\n",
      "2\n",
      "4\n",
      "1\n"
     ]
    }
   ],
   "source": [
    "### 1차원배열과 리스트 비교\n",
    "print(num) # [1 5 2 1 1 0]\n",
    "#     열번호  0 1 2 3 4 5\n",
    "#            6 5 4 3 2 1 -\n",
    "print(l) # [1, 2, 3, 4, 5]\n",
    "#           0  1  2  3  4 :index\n",
    "#           5  4  3  2  1 -\n",
    "print(l[2])\n",
    "print(num[2])\n",
    "print(l[-2])\n",
    "print(num[-2])"
   ]
  },
  {
   "cell_type": "code",
   "execution_count": 184,
   "id": "5787b9ce",
   "metadata": {},
   "outputs": [
    {
     "name": "stdout",
     "output_type": "stream",
     "text": [
      "[1, 2, 3, 4]\n",
      "[1 5 2 1]\n",
      "[1, 3]\n",
      "[1 2]\n",
      "[1, 2, 3, 4]\n",
      "[1 5 2 1]\n",
      "[1, 2, 3, 4, 5]\n",
      "[1 5 2 1 1 0]\n",
      "[5, 4, 3, 2, 1]\n",
      "[0 1 1 2 5 1]\n"
     ]
    }
   ],
   "source": [
    "# [1 5 2 1 1 0] 배열\n",
    "# [1, 2, 3, 4, 5] 리스트\n",
    "print(l[0:4])\n",
    "print(num[0:4])\n",
    "print(l[0:4:2])\n",
    "print(num[0:4:2])\n",
    "print(l[:4])\n",
    "print(num[:4])\n",
    "print(l[:])\n",
    "print(num[:])\n",
    "print(l[::-1])\n",
    "print(num[::-1])\n",
    "# indexing이나 slicing은 리스트나 1차원 배열은 같다."
   ]
  },
  {
   "cell_type": "code",
   "execution_count": 189,
   "id": "0b69a321",
   "metadata": {},
   "outputs": [
    {
     "name": "stdout",
     "output_type": "stream",
     "text": [
      "[1, 2, 10, 4, 5]\n",
      "[1 5 2 1 1 0]\n",
      "10\n",
      "2\n",
      "[ 1  5 10  1  1  0]\n"
     ]
    }
   ],
   "source": [
    "### 배열이나 리스트에 있는 값을 변경하는 방법도 같다.\n",
    "print(l)\n",
    "print(num)\n",
    "print(l[2])\n",
    "l[2] = 10\n",
    "print(num[2])\n",
    "num[2] = 10\n",
    "print(num)"
   ]
  },
  {
   "cell_type": "code",
   "execution_count": 192,
   "id": "6c92e8c2",
   "metadata": {},
   "outputs": [
    {
     "name": "stdout",
     "output_type": "stream",
     "text": [
      "[[3 0 4 3]\n",
      " [5 5 1 9]\n",
      " [4 8 9 9]]\n",
      "[[3, 0, 4, 3], [5, 5, 1, 9], [4, 8, 9, 9]]\n"
     ]
    }
   ],
   "source": [
    "print(num2) # 2차원 배열 \n",
    "#     0 1 2 3\n",
    "#     4 3 2 1 -\n",
    "# 0 [[3 0 4 3]  -3\n",
    "# 1 [5 5 1 9]   -2\n",
    "# 2 [4 8 9 9]]  -1\n",
    "l2 = [[3, 0, 4, 3],[5, 5, 1, 9],[4, 8, 9, 9]]\n",
    "#           0            1            2\n",
    "#      0  1  2  3   0  1  2  3   0  1  2  3   \n",
    "#          -3           -2           -1\n",
    "#      4  3  2  1   4  3  2  1   4  3  2  1 -\n",
    "print(l2) # 리스트"
   ]
  },
  {
   "cell_type": "code",
   "execution_count": 200,
   "id": "d50461e3",
   "metadata": {},
   "outputs": [
    {
     "name": "stdout",
     "output_type": "stream",
     "text": [
      "[3 0 4 3]\n",
      "[3, 0, 4, 3]\n",
      "[5 5 1 9]\n",
      "[5, 5, 1, 9]\n",
      "5\n",
      "5\n",
      "5\n",
      "1\n",
      "1\n",
      "1\n"
     ]
    }
   ],
   "source": [
    "print(num2[0])\n",
    "print(l2[0])\n",
    "print(num2[1])\n",
    "print(l2[1])\n",
    "print(l2[1][1])\n",
    "print(num2[1][1]) # 리스트 스타일\n",
    "# print(l2[1 , 1]) # 리스트에서는 배열 방식은 사용할 수 없다.\n",
    "print(num2[1, 1]) # 배열 스타일\n",
    "print(l2[-2][-2])\n",
    "print(num2[-2][-2]) # 리스트 스타일\n",
    "print(num2[-2, -2]) # 배열 스타일\n",
    "#print(num2[행, 열])"
   ]
  },
  {
   "cell_type": "code",
   "execution_count": 215,
   "id": "1bc0b537",
   "metadata": {},
   "outputs": [
    {
     "name": "stdout",
     "output_type": "stream",
     "text": [
      "[[3, 0, 4, 3], [5, 5, 1, 9]]\n",
      "[[3 0 4 3]\n",
      " [5 5 1 9]]\n",
      "[5, 5]\n",
      "[5 5]\n",
      "[3, 0]\n",
      "[5, 5]\n",
      "[[3, 0, 4, 3], [5, 5, 1, 9]]\n",
      "[[3 0]\n",
      " [5 5]]\n",
      "[5, 1]\n",
      "[[3 4]\n",
      " [4 9]]\n",
      "[[3 4]\n",
      " [5 1]\n",
      " [4 9]]\n",
      "[[3 0 4 3]\n",
      " [4 8 9 9]]\n"
     ]
    }
   ],
   "source": [
    "# slicing\n",
    "# 2차원 배열(num2)\n",
    "#     0 1 2 3\n",
    "#     4 3 2 1 -\n",
    "# 0 [[3 0 4 3]  -3\n",
    "# 1  [5 5 1 9]   -2\n",
    "# 2  [4 8 9 9]]  -1\n",
    "# 리스트(l2)\n",
    "#    [[3, 0, 4, 3],[5, 5, 1, 9],[4, 8, 9, 9]]\n",
    "#           0            1            2\n",
    "#      0  1  2  3   0  1  2  3   0  1  2  3   \n",
    "#          -3           -2           -1\n",
    "#      4  3  2  1   4  3  2  1   4  3  2  1 -\n",
    "print(l2[0:2])\n",
    "print(num2[0:2])\n",
    "print(l2[1][0:2])\n",
    "print(num2[1][0:2])\n",
    "print(l2[0][0:2])\n",
    "print(l2[1][0:2])\n",
    "print(l2[0:2])\n",
    "# print(l2[0:2][0:2]) \n",
    "# print(num2[0:2][0:2]) 리스트 스타일로는 열이 분리되지 않는다.\n",
    "# 원하는 행에 있는 원하는 열을 가지고 올 수 있다.\n",
    "print(num2[0:2, 0:2]) \n",
    "#           행, 열    # 0행과 1행에서 0열과 1열만 가져옴\n",
    "print(l2[1][::2])\n",
    "print(num2[::2, ::2]) # 행과 열을 한칸 띄기\n",
    "\n",
    "### 열을 한칸씩 건너 띄우기\n",
    "print(num2[: , ::2])\n",
    "### 행을 한칸씩 건너 띄우기\n",
    "print(num2[::2, :])"
   ]
  },
  {
   "cell_type": "code",
   "execution_count": 226,
   "id": "f43cf884",
   "metadata": {},
   "outputs": [
    {
     "name": "stdout",
     "output_type": "stream",
     "text": [
      "[[3 0 4 3]\n",
      " [5 5 1 9]\n",
      " [4 8 9 9]]\n",
      "[[4 8 9 9]\n",
      " [5 5 1 9]\n",
      " [3 0 4 3]]\n",
      "[[3 4 0 3]\n",
      " [9 1 5 5]\n",
      " [9 9 8 4]]\n",
      "[[9 9 8 4]\n",
      " [9 1 5 5]\n",
      " [3 4 0 3]]\n",
      "[3 0 4 3]\n",
      "[3 0 4 3]\n",
      "[3 5 4]\n",
      "[0 5 8]\n",
      "[[99  0  4  3]\n",
      " [ 5  5  1  9]\n",
      " [ 4  8  9  9]]\n"
     ]
    }
   ],
   "source": [
    "print(num2)\n",
    "# 행을 2 1 0순으로 출력\n",
    "print(num2[::-1])\n",
    "# 열을 3 2 1 0순으로 출력\n",
    "print(num2[:, ::-1])\n",
    "# 행과 열을 모두 거꾸로 출력\n",
    "print(num2[::-1, ::-1])\n",
    "### 첫번째 행만 출력\n",
    "print(num2[0])\n",
    "print(num2[0, :])\n",
    "### 첫번째 열만 출력\n",
    "print(num2[:, 0])\n",
    "### 두번째 열만 출력\n",
    "print(num2[:, 1])\n",
    "# 1행 1열의 값을 99로 변경하시오.\n",
    "num2[0,0] = 99\n",
    "print(num2)"
   ]
  },
  {
   "cell_type": "code",
   "execution_count": 236,
   "id": "95021b2f",
   "metadata": {},
   "outputs": [
    {
     "name": "stdout",
     "output_type": "stream",
     "text": [
      "[[0 1 2]\n",
      " [3 4 5]\n",
      " [6 7 8]]\n",
      "[[ 0  1  2  3]\n",
      " [ 4  5  6  7]\n",
      " [ 8  9 10 11]]\n",
      "[[ 0  1  2]\n",
      " [ 3  4  5]\n",
      " [ 6  7  8]\n",
      " [ 9 10 11]]\n",
      "[[11 12 13]\n",
      " [14 15 16]\n",
      " [17 18 19]]\n",
      "[[1 2 3]]\n",
      "[[1]\n",
      " [2]\n",
      " [3]]\n",
      "[1 2 3]\n"
     ]
    }
   ],
   "source": [
    "### 배열을 만드는 다른 방법\n",
    "#  0~8까지 9개의 수를 가지는 2차원 배열\n",
    "i = np.arange(9).reshape(3,3)\n",
    "print(i)\n",
    "#  0~11까지 12개의 수를 가지는 2차원 배열\n",
    "i1 = np.arange(12).reshape(3,4)\n",
    "i2 = np.arange(12).reshape(4,3)\n",
    "print(i1)\n",
    "print(i2)\n",
    "#  11~ 19까지 수를 가지는 2차원 배열\n",
    "i3 = np.arange(11,20).reshape(3,3)\n",
    "print(i3)\n",
    "# 1~3까지의 수를 가지는 1행짜리 2차원배열\n",
    "i4 = np.arange(1,4).reshape(1,3)\n",
    "print(i4)\n",
    "# 1~3까지의 수를 가지는 3행짜리 2차원배열\n",
    "i5 = np.arange(1,4).reshape(3,1)\n",
    "print(i5)\n",
    "# 1~3까지의 수를 가지는 1차원배열\n",
    "i6 = np.arange(1,4).reshape(3)\n",
    "print(i6)"
   ]
  },
  {
   "cell_type": "code",
   "execution_count": 240,
   "id": "fbe55696",
   "metadata": {},
   "outputs": [
    {
     "name": "stdout",
     "output_type": "stream",
     "text": [
      "[2 5 7]\n",
      "[[1 2 3]\n",
      " [4 5 6]\n",
      " [7 8 9]]\n",
      "[[[1 2 3]\n",
      "  [4 5 6]\n",
      "  [7 8 9]]\n",
      "\n",
      " [[1 2 3]\n",
      "  [4 5 6]\n",
      "  [7 8 9]]\n",
      "\n",
      " [[1 2 3]\n",
      "  [4 5 6]\n",
      "  [7 8 9]]]\n",
      "7\n",
      "9\n",
      "9\n"
     ]
    }
   ],
   "source": [
    "# array함수를 이용한 배열을 만들자.\n",
    "# 2,5,7을 가지는 1차원 배열을 만드시오.\n",
    "ii1 = np.array([2,5,7])\n",
    "print(ii1)\n",
    "# [1,2,3],[4,5,6],[7,8,9]을 가지는 2차원배열 만들자.\n",
    "ii2 = np.array([[1,2,3],[4,5,6],[7,8,9]])\n",
    "print(ii2)\n",
    "ii3 = np.array([[[1,2,3],[4,5,6],[7,8,9]], # 0면\n",
    "                [[1,2,3],[4,5,6],[7,8,9]], # 1면\n",
    "                [[1,2,3],[4,5,6],[7,8,9]]]) # 2면\n",
    "print(ii3)\n",
    "print(ii1[2]) # ii1[열]\n",
    "print(ii2[2,2]) # ii2[행, 열]\n",
    "print(ii3[1, 2, 2]) # ii3[면, 행, 열]"
   ]
  },
  {
   "cell_type": "code",
   "execution_count": 248,
   "id": "c061d53e",
   "metadata": {},
   "outputs": [
    {
     "name": "stdout",
     "output_type": "stream",
     "text": [
      "[1 2 3]\n",
      "[3 2 1]\n",
      "[1 2 3 3 2 1]\n",
      "[ 1  2  3  3  2  1 99 99 99]\n",
      "[1 2 3 4 5 6 7 8 9]\n",
      "[1 2 3 4 5 6 7 8 9]\n",
      "[1 2 3 4 7 8]\n"
     ]
    }
   ],
   "source": [
    "x = np.array([1, 2, 3]) # 1차원 배열\n",
    "y = np.array([3, 2, 1]) # 1차원 배열\n",
    "print(x)\n",
    "print(y)\n",
    "z = np.concatenate([x,y])\n",
    "print(z)\n",
    "v = [99,99,99] # 리스트\n",
    "z = np.concatenate([x,y,v])\n",
    "print(z)\n",
    "l1 = [1,2,3] # 리스트\n",
    "l2 = [4,5,6] # 리스트\n",
    "l3 = [7,8,9] # 리스트\n",
    "z = np.concatenate([l1,l2,l3])\n",
    "print(z)\n",
    "z = np.concatenate([[1,2,3],[4,5,6],[7,8,9]])\n",
    "print(z)\n",
    "z = np.concatenate([[1,2,3],[4],[7,8]])\n",
    "print(z)"
   ]
  },
  {
   "cell_type": "code",
   "execution_count": 257,
   "id": "4faa3217",
   "metadata": {},
   "outputs": [
    {
     "name": "stdout",
     "output_type": "stream",
     "text": [
      "[[1 2 3]\n",
      " [9 8 7]\n",
      " [6 5 4]]\n",
      "[[9 8 7]\n",
      " [6 5 4]\n",
      " [1 2 3]]\n",
      "[[1]\n",
      " [2]]\n",
      "[[9 8 7]\n",
      " [6 5 4]]\n",
      "[[9 8 7 1]\n",
      " [6 5 4 2]]\n",
      "[[1 9 8 7]\n",
      " [2 6 5 4]]\n"
     ]
    }
   ],
   "source": [
    "x2 = np.array([1, 2, 3])\n",
    "grid = np.array([[9, 8, 7],\n",
    "                 [6, 5, 4]])\n",
    "#z = np.concatenate([x2 ,grid]) # 차원이 다르면 사용할 수 없다.\n",
    "z = np.vstack([x2 ,grid]) # 열의 크기가 다르면 안됨\n",
    "print(z)\n",
    "z = np.vstack([grid,x2])\n",
    "print(z)\n",
    "y2 = np.array([[1],[2]])\n",
    "print(y2)\n",
    "print(grid)\n",
    "z = np.hstack([grid,y2]) # 행의 크기가 다르면 합쳐지지 않는다.\n",
    "print(z)\n",
    "z = np.hstack([y2,grid])\n",
    "print(z)"
   ]
  },
  {
   "cell_type": "code",
   "execution_count": 265,
   "id": "7b15c66b",
   "metadata": {},
   "outputs": [
    {
     "name": "stdout",
     "output_type": "stream",
     "text": [
      "[0 1 2 3]\n",
      "[5 5 5 5]\n",
      "[5 6 7 8]\n",
      "[5 6 7 8]\n",
      "[-5 -4 -3 -2]\n",
      "[-5 -4 -3 -2]\n",
      "[ 0  5 10 15]\n",
      "[ 0  5 10 15]\n"
     ]
    }
   ],
   "source": [
    "# 유니버설 함수(UFuncs)\n",
    "x = np.arange(4)\n",
    "print(x)\n",
    "j = np.array([5,5,5,5])\n",
    "print(j)\n",
    "y = x + j  # [0 1 2 3] + [5 5 5 5] = [5 6 7 8]\n",
    "print(y)\n",
    "\n",
    "y = x + 5 # [0 1 2 3] + 5 => [0 1 2 3] + [5 5 5 5]\n",
    "print(y)\n",
    "y = np.add(x , 5)\n",
    "y = x - 5\n",
    "print(y)\n",
    "y = np.subtract(x, 5)\n",
    "print(y)\n",
    "y = x * 5\n",
    "print(y)\n",
    "y = np.multiply(x, 5)\n",
    "print(y)"
   ]
  },
  {
   "cell_type": "code",
   "execution_count": 271,
   "id": "bc7b0a91",
   "metadata": {},
   "outputs": [
    {
     "name": "stdout",
     "output_type": "stream",
     "text": [
      "[0 1 2]\n",
      "[[0]\n",
      " [1]\n",
      " [2]]\n",
      "[[0 1 2]\n",
      " [1 2 3]\n",
      " [2 3 4]]\n",
      "[[1. 1. 1.]\n",
      " [1. 1. 1.]\n",
      " [1. 1. 1.]]\n",
      "[[0. 0. 0.]\n",
      " [0. 0. 0.]\n",
      " [0. 0. 0.]]\n",
      "[[1. 2. 3.]\n",
      " [1. 2. 3.]\n",
      " [1. 2. 3.]]\n"
     ]
    }
   ],
   "source": [
    "a = np.arange(3)\n",
    "print(a)\n",
    "b = np.arange(3)[:,np.newaxis] # 1열짜리 배열\n",
    "print(b)\n",
    "c = a + b # 크기가 같게 만들어 주는 것을 브로드케스트\n",
    "print(c)\n",
    "M = np.ones((3,3))\n",
    "print(M)\n",
    "o = np.zeros((3,3))\n",
    "print(o)\n",
    "c = a + M # 브로드케스트 \n",
    "print(c)"
   ]
  },
  {
   "cell_type": "code",
   "execution_count": 273,
   "id": "c57e8aa1",
   "metadata": {},
   "outputs": [
    {
     "name": "stdout",
     "output_type": "stream",
     "text": [
      "[1 2 3] [99 99  3] [2 1 3]\n",
      "[1 2 3] [99 99] [3 2] [1 3]\n"
     ]
    }
   ],
   "source": [
    "# 배열 분할하기\n",
    "x = np.array([1, 2, 3, 99, 99, 3, 2, 1,3])\n",
    "x1, x2, x3 = np.split(x, 3)\n",
    "print(x1, x2 , x3)\n",
    "\n",
    "x1 , x2 , x3, x4 = np.split(x, [3,5,7])\n",
    "print(x1, x2 , x3, x4)\n",
    "# 3번째까지, 5번째까지, 7번째까지 , 나머지"
   ]
  },
  {
   "cell_type": "code",
   "execution_count": 276,
   "id": "232ef182",
   "metadata": {},
   "outputs": [
    {
     "name": "stdout",
     "output_type": "stream",
     "text": [
      "[[ 0  1  2  3]\n",
      " [ 4  5  6  7]\n",
      " [ 8  9 10 11]\n",
      " [12 13 14 15]]\n",
      "[[0 1 2 3]\n",
      " [4 5 6 7]] [[ 8  9 10 11]\n",
      " [12 13 14 15]]\n",
      "[[ 0  1]\n",
      " [ 4  5]\n",
      " [ 8  9]\n",
      " [12 13]] [[ 2  3]\n",
      " [ 6  7]\n",
      " [10 11]\n",
      " [14 15]]\n"
     ]
    }
   ],
   "source": [
    "grid = np.arange(16).reshape((4, 4))\n",
    "print(grid)\n",
    "y1 , y2 = np.vsplit(grid, [2])\n",
    "print(y1)\n",
    "print(y2)\n",
    "y1 , y2 = np.hsplit(grid, [2])\n",
    "print(y1)\n",
    "print(y2)"
   ]
  },
  {
   "cell_type": "code",
   "execution_count": 291,
   "id": "d3db90aa",
   "metadata": {},
   "outputs": [
    {
     "name": "stdout",
     "output_type": "stream",
     "text": [
      "[0.95151256 0.6870814  0.86709526]\n",
      "[0.47412225 0.4574557  0.46836517 0.19949639 0.20794931 0.21567681]\n",
      "[0.57257954 0.89964684 0.63811173 ... 0.22844415 0.14505182 0.18542254]\n",
      "1.06 ms ± 169 µs per loop (mean ± std. dev. of 7 runs, 1000 loops each)\n"
     ]
    }
   ],
   "source": [
    "import numpy as np\n",
    "x = np.random.rand(3)\n",
    "print(x)\n",
    "x = np.random.rand(6)\n",
    "print(x)\n",
    "x = np.random.rand(1000000) # 0 ~ 1사이의 값을 가지는 1차원 배열\n",
    "print(x)\n",
    "%timeit sum(x) \n",
    "%timeit np.sum(x) \n",
    "\n",
    "#94.1 ms ± 4.5 ms per loop (mean ± std. dev. of 7 runs, 10 loops each)\n",
    "#1.63 ms ± 448 µs per loop (mean ± std. dev. of 7 runs, 1000 loops each)"
   ]
  },
  {
   "cell_type": "code",
   "execution_count": 296,
   "id": "80b3b0ca",
   "metadata": {},
   "outputs": [
    {
     "name": "stdout",
     "output_type": "stream",
     "text": [
      "[[0.15487452 0.17376509 0.36558943 0.15342648]\n",
      " [0.72780961 0.28878071 0.16728728 0.21661847]\n",
      " [0.33939047 0.2471052  0.46196749 0.71292035]]\n",
      "4.0095351121616725\n",
      "0.15342648160296835\n",
      "[0.15487452 0.17376509 0.16728728 0.15342648]\n",
      "[0.15342648 0.16728728 0.2471052 ]\n"
     ]
    }
   ],
   "source": [
    "M = np.random.random((3, 4))\n",
    "print(M)\n",
    "print(M.sum())\n",
    "print(M.min())\n",
    "### 열에서 최소값\n",
    "print(M.min(axis=0)) # x축 기준\n",
    "### 행에 대한 최소값 \n",
    "print(M.min(axis=1)) # y 축기준"
   ]
  },
  {
   "cell_type": "code",
   "execution_count": 300,
   "id": "eeaf06e9",
   "metadata": {},
   "outputs": [
    {
     "name": "stdout",
     "output_type": "stream",
     "text": [
      "[189 170 189 163 183 171 185 168 173 183 173 173 175 178 183 193 178 173\n",
      " 174 183 183 168 170 178 182 180 183 178 182 188 175 179 183 193 182 183\n",
      " 177 185 188 188 182 185]\n",
      "179.73809523809524\n",
      "163\n",
      "193\n",
      "6.931843442745892\n",
      "182.0\n",
      "174.25\n",
      "183.0\n"
     ]
    }
   ],
   "source": [
    "import pandas as pd\n",
    "data = pd.read_csv(\"https://raw.githubusercontent.com/SoongMoo/soldesk2110/main/%EC%B0%B8%EA%B3%A0%EC%9E%90%EB%A3%8C/NumPy/data/president_heights.csv\")\n",
    "# print(data)\n",
    "heights = np.array(data['height(cm)'])\n",
    "print(heights)\n",
    "print(heights.mean()) # 평균값\n",
    "print(heights.min()) # 최소값 0 사분위\n",
    "print(heights.max()) # 최대값 4 사분위\n",
    "print(heights.std()) # 표준편차\n",
    "print(np.median(heights)) # 중앙값  2사분위\n",
    "print(np.percentile(heights, 25)) # 1 사분위 25%\n",
    "print(np.percentile(heights, 75)) # 3 사분위 75%"
   ]
  },
  {
   "cell_type": "code",
   "execution_count": 303,
   "id": "9aa2be31",
   "metadata": {},
   "outputs": [
    {
     "name": "stdout",
     "output_type": "stream",
     "text": [
      "[False False False  True  True]\n",
      "[False False False  True  True]\n",
      "[ True  True False False False]\n",
      "[ True  True False False False]\n",
      "[ True  True  True False False]\n",
      "[ True  True  True False False]\n",
      "[False False  True False False]\n",
      "[False False  True False False]\n",
      "[ True  True False  True  True]\n",
      "[ True  True False  True  True]\n"
     ]
    }
   ],
   "source": [
    "# 비교 연산자\n",
    "x = np.array([1, 2, 3, 4, 5])\n",
    "print( x > 3)\n",
    "print(np.greater(x, 3))\n",
    "print( x < 3 )\n",
    "print(np.less(x, 3))\n",
    "print(x <= 3)\n",
    "print(np.less_equal(x, 3))\n",
    "print(x == 3)\n",
    "print(np.equal(x, 3))\n",
    "print(x != 3)\n",
    "print(np.not_equal(x, 3))"
   ]
  },
  {
   "cell_type": "code",
   "execution_count": 315,
   "id": "43c825fb",
   "metadata": {},
   "outputs": [
    {
     "name": "stdout",
     "output_type": "stream",
     "text": [
      "0\n",
      "2\n",
      "37\n",
      "26\n",
      "339\n",
      "339\n",
      "215\n",
      "150\n"
     ]
    }
   ],
   "source": [
    "rainfall = pd.read_csv(\"https://raw.githubusercontent.com/SoongMoo/soldesk2110/main/%EC%B0%B8%EA%B3%A0%EC%9E%90%EB%A3%8C/NumPy/data/Seattle2014.csv\")\n",
    "inches = np.array(rainfall['PRCP']) / 254\n",
    "# print(inches)\n",
    "# 강수량이 0.5이상인 날은 몇일이나 되나요?\n",
    "# print(inches > 0.5) \n",
    "print(False + False) # False는 0\n",
    "print(True + True) # True는 1\n",
    "print(np.sum(inches > 0.5))\n",
    "# 강수량이 0.5에서 0.8 사이인 날은 몇일이나 되나요?\n",
    "print(np.sum((inches >= 0.5) & (inches <=0.8)))\n",
    "# 강수량이 0.5보다 적게 오고 0.8보다 많이 온날은?\n",
    "print(np.sum(~((inches >= 0.5) & (inches <=0.8))))\n",
    "print(np.sum((inches < 0.5) | (inches > 0.8)))\n",
    "\n",
    "# 비가 안온 날은 몇일 일까요?\n",
    "print(np.sum(inches == 0))\n",
    "# 비가 온날은 몇일 입니까?\n",
    "print(np.sum(inches != 0))"
   ]
  },
  {
   "cell_type": "code",
   "execution_count": 317,
   "id": "89b37dcf",
   "metadata": {},
   "outputs": [
    {
     "name": "stdout",
     "output_type": "stream",
     "text": [
      "[1 2 3 4 5]\n",
      "[2 1 4 3 5]\n",
      "[1 2 3 4 5]\n",
      "[1 2 3 4 5]\n"
     ]
    }
   ],
   "source": [
    "# 정렬\n",
    "x = np.array([2, 1, 4, 3, 5])\n",
    "print(np.sort(x))\n",
    "print(x)\n",
    "y = np.sort(x)\n",
    "print(y)\n",
    "x.sort() # 정렬이 되어서 저장\n",
    "print(x)"
   ]
  },
  {
   "cell_type": "code",
   "execution_count": 321,
   "id": "2d2b88ea",
   "metadata": {},
   "outputs": [
    {
     "name": "stdout",
     "output_type": "stream",
     "text": [
      "[[8 4 9 7 0 2]\n",
      " [1 7 9 4 4 1]\n",
      " [0 2 5 0 4 9]\n",
      " [2 3 1 0 8 4]]\n",
      "[[0 2 4 7 8 9]\n",
      " [1 1 4 4 7 9]\n",
      " [0 0 2 4 5 9]\n",
      " [0 1 2 3 4 8]]\n",
      "[[0 2 4 7 8 9]\n",
      " [1 1 4 4 7 9]\n",
      " [0 0 2 4 5 9]\n",
      " [0 1 2 3 4 8]]\n",
      "[[0 2 1 0 0 1]\n",
      " [1 3 5 0 4 2]\n",
      " [2 4 9 4 4 4]\n",
      " [8 7 9 7 8 9]]\n"
     ]
    }
   ],
   "source": [
    "x = np.random.randint(0,10,(4,6))\n",
    "print(x)\n",
    "# 행단위 정렬\n",
    "print(np.sort(x))\n",
    "print(np.sort(x, axis = 1)) # y축기준\n",
    "# 열단위 정렬\n",
    "print(np.sort(x, axis = 0)) # x축기준"
   ]
  },
  {
   "cell_type": "code",
   "execution_count": 325,
   "id": "8a6e8fcd",
   "metadata": {},
   "outputs": [
    {
     "name": "stdout",
     "output_type": "stream",
     "text": [
      "[[8 4 9 7 0 2]\n",
      " [1 7 9 4 4 1]\n",
      " [0 2 5 0 4 9]\n",
      " [2 3 1 0 8 4]]\n",
      "[[0 2 5 0 0 1]\n",
      " [1 3 1 0 4 2]\n",
      " [2 4 9 4 4 4]\n",
      " [8 7 9 7 8 9]]\n",
      "[[0 2 4 7 8 9]\n",
      " [1 1 4 4 7 9]\n",
      " [0 0 2 4 5 9]\n",
      " [0 1 2 3 4 8]]\n"
     ]
    }
   ],
   "source": [
    "# 파티션 나누기\n",
    "print(x)\n",
    "# 작은 수 3개를 앞으로 나머지는 뒤로\n",
    "print(np.partition(x,3, axis=0 )) # 열 단위 , x축기준, 순서는 없다\n",
    "print(np.partition(x,3, axis=1 )) # 행 단위 , y축기준, 순서는 없다"
   ]
  },
  {
   "cell_type": "code",
   "execution_count": null,
   "id": "095cc8cb",
   "metadata": {},
   "outputs": [],
   "source": []
  },
  {
   "cell_type": "code",
   "execution_count": null,
   "id": "9f064e03",
   "metadata": {},
   "outputs": [],
   "source": []
  }
 ],
 "metadata": {
  "kernelspec": {
   "display_name": "Python 3 (ipykernel)",
   "language": "python",
   "name": "python3"
  },
  "language_info": {
   "codemirror_mode": {
    "name": "ipython",
    "version": 3
   },
   "file_extension": ".py",
   "mimetype": "text/x-python",
   "name": "python",
   "nbconvert_exporter": "python",
   "pygments_lexer": "ipython3",
   "version": "3.8.11"
  }
 },
 "nbformat": 4,
 "nbformat_minor": 5
}
