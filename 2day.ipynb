{
 "cells": [
  {
   "cell_type": "code",
   "execution_count": 20,
   "id": "cff5d81a",
   "metadata": {},
   "outputs": [
    {
     "name": "stdout",
     "output_type": "stream",
     "text": [
      "L\n",
      "n\n",
      "Life \n",
      "Life \n",
      "Life is too short, You need python\n",
      "Lf st\n",
      "nohtyp deen uoY ,trohs oot si efiL\n",
      "Leso\n"
     ]
    },
    {
     "data": {
      "text/plain": [
       "False"
      ]
     },
     "execution_count": 20,
     "metadata": {},
     "output_type": "execute_result"
    }
   ],
   "source": [
    "# 리터널 : 자연어 : 문자, 숫자 \n",
    "# 숫자 : 정수 , 실수 , 10, 10.5 , '10'(x)\n",
    "# 연산자 : + - * / % // **\n",
    "# 문자 : 'abc' ,\"abc\", '''abc''' , \"\"\"abc\"\"\" , '10',   a : 변수 : 문자가 될 수 없다\n",
    "a  = 10\n",
    "# 문자열에서  indexing\n",
    "a = 'Life is too short, You need python'\n",
    "#    0123456789012345678901234567890123\n",
    "#              1         2         3\n",
    "#                                 54321 -  \n",
    "print(a[0])\n",
    "print(a[-1])\n",
    "# 문자열에서  slicing\n",
    "print(a[0:0+5])\n",
    "print(a[0:5])\n",
    "print(a[:])\n",
    "print(a[0:10:2]) # 한칸씩 건너 띄어서 가져오기\n",
    "print(a[::-1]) # 거꾸로 출력하기\n",
    "print(a[0:10:3]) # 두칸씩 건너 띄어서 가져오기\n",
    "# 연산자 : + , *\n",
    "# 문자함수\n",
    "a.count('o')\n",
    "a.find('t')\n",
    "a.find('too') # 문자열인 경우 첫번째 문자의 iondex를 가져온다.\n",
    "a.find('s',7)\n",
    "a.find('k') # 없는 문자인 경우 : -1\n",
    "a.index('t') \n",
    "a.index('s',7) \n",
    "a.index('too') \n",
    "a.rindex('s') \n",
    "# a.index('k')  #없는 문자인 경우 : 오류가 발생\n",
    "':'.join(a) # 문자열 삽입 (*****)\n",
    "a.upper() \n",
    "a.lower() \n",
    "a.strip() # 양쪽 공백을 제거 할때 사용\n",
    "a.strip('ab') \n",
    "a.lstrip() # 오른쪽에 있는 공백문자를 제거\n",
    "a.rstrip() # 왼쪽에 있는 공백문자만 제거\n",
    "a.rstrip(\"ab\") ### abcdefab  ==> abcdef\n",
    "a.replace(\"Life\", \"Yore leg\")\n",
    "a = \"010-1234-1234\"\n",
    "a.isdigit() # 행당 문자열이 모두 숫자인지 \"12345678\" : true/false\n",
    "            # a = \"010-1234-1234\" : false\n",
    "a = \"01012341234\" # 숫자 앞에 0이 있는 경우에는 문자로 인식할 수도 있으니 주의\n",
    "a.isdigit() \n",
    "a = \"abc def\" # 공백문자는  알파벳이 아니다.\n",
    "a.isalpha() \n",
    "a = \"abcdef\" \n",
    "a.isalpha()\n",
    "a.islower() # 모두 소문자\n",
    "a.isupper() # 모두 대문자  true/false"
   ]
  },
  {
   "cell_type": "code",
   "execution_count": 33,
   "id": "6de0904f",
   "metadata": {},
   "outputs": [
    {
     "name": "stdout",
     "output_type": "stream",
     "text": [
      "나는 10개의 사과를 먹어서 three일 동안 아팠습니다.\n"
     ]
    }
   ],
   "source": [
    "# 문자열 출력하기.\n",
    "print(a)\n",
    "number = 10\n",
    "day = \"three\"\n",
    "a = \"나의 나이는 %d살이고 키는 %3.1f 입니다.\" % (35, 175.5)\n",
    "a = \"나는 {1}개의 사과를 먹어서 {0}일 동안 아팠습니다.\".format(5, 3)\n",
    "a = \"나는 {number}개의 사과를 먹어서 {day}일 동안 아팠습니다.\".format(number=10, day=3)\n",
    "a = f\"나는 {number}개의 사과를 먹어서 {day}일 동안 아팠습니다.\""
   ]
  },
  {
   "cell_type": "code",
   "execution_count": 41,
   "id": "11e82961",
   "metadata": {},
   "outputs": [
    {
     "name": "stdout",
     "output_type": "stream",
     "text": [
      "=====\n",
      "1\n",
      "4\n",
      "[1, 2]\n",
      "[1, 2, 3, 4, 5, 6]\n",
      "[1, 2, 3, 1, 2, 3, 1, 2, 3]\n",
      "11\n",
      "3\n",
      "[4, 10, 6]\n",
      "[4, 6]\n",
      "[4, 6, 10]\n"
     ]
    }
   ],
   "source": [
    "# 리스트 : 여러 유형의 데이터를 여러 개 저장할 수 있는 자료형 []\n",
    "a  = [] # []를 사용하면 리스트가 된다. 빈리스트\n",
    "b = [1, 2, 3] # 정수형 리스트\n",
    "c = ['Life', 'is', 'too', 'short'] # 문자열 리스트\n",
    "d = [1,2,3,'Life', 'is', 'too', 'short'] # 정수와 문자열 혼합 리스트\n",
    "e = [1,2,3,[4,5,'Life']] # 리스트에 리스트를 포함\n",
    "print(\"=\" * 5)\n",
    "a = 1 # 숫자\n",
    "a = '1' # 문자열\n",
    "a = [1] # 리스트\n",
    "a = [1, 2, 3]\n",
    "print(a[0])\n",
    "print(a[0] + a[2])\n",
    "print(a[0:2])\n",
    "### 연산자 :  + , * \n",
    "a = [1, 2, 3]\n",
    "b = [4, 5, 6]\n",
    "print(a + b)\n",
    "print(a * 3)\n",
    "a = \"01012341234\"\n",
    "print(len(a))\n",
    "print(len(b))\n",
    "b[1] = 10 # index를 이용해서 리스트에 있는 값을 변경\n",
    "print(b)\n",
    "del b[1] # del 명령어를 이용하여 index에 해당하는 값을 리스트에서 삭제\n",
    "print(b)\n",
    "b.append(10)\n",
    "print(b)\n",
    "##############################################"
   ]
  },
  {
   "cell_type": "code",
   "execution_count": 54,
   "id": "908573cb",
   "metadata": {},
   "outputs": [
    {
     "name": "stdout",
     "output_type": "stream",
     "text": [
      "[1, 4, 2, 3]\n",
      "[1, 2, 3, 4]\n",
      "[1, 4, 2, 3]\n",
      "[3, 2, 4, 1]\n",
      "2\n",
      "2\n",
      "-1\n",
      "3\n"
     ]
    }
   ],
   "source": [
    "a = [1, 4, 2, 3]\n",
    "print(a)\n",
    "# 데이터를 정렬\n",
    "a.sort() # 실제 데이터를 변경하는 함수\n",
    "print(a)\n",
    "a = [1, 4, 2, 3]\n",
    "print(a)\n",
    "a.reverse() # 역순으로 저장  : 내림차순 아님\n",
    "print(a)\n",
    "##########################################\n",
    "s = \"Life is too short\"\n",
    "print(s.index('f'))\n",
    "print(s.find('f'))\n",
    "print(s.find('k'))\n",
    "a = [1, 4, 2, 3]\n",
    "##### 리스트에 원하는 데이터가 있는지 찾기 : index\n",
    "print(a.index(3))\n",
    "# print(a.index(5)) # 없는 데이터인 경우 오류\n",
    "# print(a.find(5)) # 리스트에는 find함수가 없다."
   ]
  },
  {
   "cell_type": "code",
   "execution_count": 61,
   "id": "1049e544",
   "metadata": {},
   "outputs": [
    {
     "name": "stdout",
     "output_type": "stream",
     "text": [
      "[1, 2, 3]\n",
      "[1, 2, 3, 4]\n",
      "[1, 2, 3, 4, 5]\n",
      "[1, 6, 2, 3, 4, 5]\n",
      "[1, 6, 2, 10, 3, 4, 5]\n",
      "[1, 6, 2, 10, 3, [1, 2, 3, 4], 4, 5]\n"
     ]
    }
   ],
   "source": [
    "a = [1,2,3]\n",
    "#    0 1 2\n",
    "print(a)\n",
    "a.append(4) # 마지막에 데이터가 추가가 된다.\n",
    "print(a)\n",
    "a.append(5) # [1, 2, 3, 4, 5]\n",
    "print(a)\n",
    "a.insert(1, 6) # [1, 6, 2, 3, 4, 5]\n",
    "print(a)\n",
    "a.insert(3, 10) # [1, 6, 2, 10, 3, 4, 5 ]\n",
    "print(a)\n",
    "a.insert(5, [1,2,3,4]) # [1, 6, 2, 10, 3, [1,2,3,4],4 ,5 ]\n",
    "print(a)"
   ]
  },
  {
   "cell_type": "code",
   "execution_count": 69,
   "id": "54463164",
   "metadata": {},
   "outputs": [
    {
     "name": "stdout",
     "output_type": "stream",
     "text": [
      "[1, 4, 2, 5, 4, 3]\n",
      "[1, 2, 5, 4, 3]\n",
      "[1, 4, 2, 5, 4, 3]\n",
      "[1, 2, 5, 4, 3]\n",
      "[1, 2, 5, 3]\n"
     ]
    }
   ],
   "source": [
    "a = [1, 4, 2, 5, 4, 3]\n",
    "#    0  1  2  3  4  5\n",
    "print(a)\n",
    "del a[1] #### index를 이용해서 삭제\n",
    "print(a)\n",
    "a.insert(1, 4)\n",
    "print(a)\n",
    "##### 값을 이용해서 삭제\n",
    "#  리터널을 이용해서 리터널에 해당되는 값을 삭제\n",
    "a.remove(4) ### 4값을 삭제\n",
    "print(a) # 처음에 있는 값부터 삭제\n",
    "a.remove(4)\n",
    "print(a)"
   ]
  },
  {
   "cell_type": "code",
   "execution_count": 72,
   "id": "8475f777",
   "metadata": {},
   "outputs": [
    {
     "name": "stdout",
     "output_type": "stream",
     "text": [
      "[1, 4, 2, 5, 4, 3]\n",
      "2\n",
      "[1, 2, 5, 3]\n"
     ]
    }
   ],
   "source": [
    "a = [1, 4, 2, 5, 4, 3]\n",
    "print(a)\n",
    "cnt = a.count(4) #### 반복문에서 이용하면 count만큼 삭제 하도록 할 수 있다.\n",
    "print(cnt)\n",
    "i = 0 \n",
    "while i < cnt : # cnt만큼 remove가 반복되게 만듦\n",
    "    a.remove(4) \n",
    "    i+=1\n",
    "print(a)"
   ]
  },
  {
   "cell_type": "code",
   "execution_count": 83,
   "id": "99521031",
   "metadata": {},
   "outputs": [
    {
     "name": "stdout",
     "output_type": "stream",
     "text": [
      "[1, 4, 2, 5, 4, 3]\n",
      "[1, 2, 5, 4, 3]\n",
      "[1, 2, 5, 3]\n",
      "3\n",
      "[1, 2, 5]\n",
      "5\n",
      "[1, 2]\n",
      "2\n",
      "[1]\n",
      "4\n",
      "[1, 4, 2, 5, 3]\n",
      "2\n",
      "[1, 4, 5, 3]\n"
     ]
    }
   ],
   "source": [
    "a = [1, 4, 2, 5, 4, 3]\n",
    "print(a)\n",
    "del a[1]\n",
    "print(a)\n",
    "a.remove(4)\n",
    "print(a) \n",
    "b = a.pop() # 리스트에 있는 값을 가져 나온 후 삭제  # 맨 마지막 값부터 삭제\n",
    "print(b)\n",
    "print(a)\n",
    "b = a.pop() \n",
    "print(b)\n",
    "print(a)\n",
    "b = a.pop() \n",
    "print(b)\n",
    "print(a)\n",
    "a = [1, 4, 2, 5, 4, 3]\n",
    "#    0  1  2  3  4  5\n",
    "b = a.pop(4) # index를 사용해서 데이터 삭제\n",
    "print(b)\n",
    "print(a)\n",
    "b = a.pop(2)\n",
    "print(b)\n",
    "print(a)"
   ]
  },
  {
   "cell_type": "code",
   "execution_count": 88,
   "id": "636bc75b",
   "metadata": {},
   "outputs": [
    {
     "name": "stdout",
     "output_type": "stream",
     "text": [
      "[1, 2, 3, 4, 4, 5]\n",
      "[3, 4, 5, 2, 4, 1]\n",
      "[5, 4, 4, 3, 2, 1]\n"
     ]
    }
   ],
   "source": [
    "a = [1, 4, 2, 5, 4, 3]\n",
    "a.sort() # 오름차순으로 정렬\n",
    "print(a)\n",
    "a = [1, 4, 2, 5, 4, 3]\n",
    "a.reverse()\n",
    "print(a)\n",
    "### 내림차순으로 변경\n",
    "a.sort(reverse=True)\n",
    "print(a)"
   ]
  },
  {
   "cell_type": "code",
   "execution_count": 102,
   "id": "b6ffff0b",
   "metadata": {},
   "outputs": [
    {
     "name": "stdout",
     "output_type": "stream",
     "text": [
      "[1, 2, 3, 4]\n",
      "[1, 2, 3]\n",
      "[1, 2, 3, [4, 5]]\n",
      "[1, 2, 3]\n",
      "[1, 2, 3, 4, 5]\n",
      "[1, 2, 3]\n",
      "[1, 2, 3, 4, 5]\n"
     ]
    }
   ],
   "source": [
    "a = [1,2,3] # [1,2,3,4,5]\n",
    "a.append(4)\n",
    "print(a)\n",
    "a.remove(4)\n",
    "print(a)\n",
    "a.append([4,5])\n",
    "print(a)\n",
    "a.remove([4,5])\n",
    "print(a)\n",
    "\n",
    "a.extend([4,5])\n",
    "print(a)\n",
    "a = [1,2,3]\n",
    "print(a)\n",
    "a = a + [4,5] \n",
    "print(a)"
   ]
  },
  {
   "cell_type": "code",
   "execution_count": 104,
   "id": "ed66a436",
   "metadata": {},
   "outputs": [
    {
     "name": "stdout",
     "output_type": "stream",
     "text": [
      "2\n",
      "11\n",
      "[1, 1]\n"
     ]
    }
   ],
   "source": [
    "print(1  + 1) # 숫자\n",
    "print(\"1\" + \"1\") # 문자\n",
    "print([1] + [1]) # 리스트 []"
   ]
  },
  {
   "cell_type": "code",
   "execution_count": 107,
   "id": "be712370",
   "metadata": {},
   "outputs": [
    {
     "name": "stdout",
     "output_type": "stream",
     "text": [
      "1\n",
      "1\n",
      "[1]\n",
      "1\n",
      "1\n",
      "(1,)\n",
      "[1, 2]\n",
      "(1, 2)\n"
     ]
    }
   ],
   "source": [
    "## 튜플 ()\n",
    "print(1)\n",
    "print('1')\n",
    "print([1]) ## 라스트\n",
    "print((1)) ### 정수 : ()만 있는 경우에는 최우선 연산자가 된다.\n",
    "print((\"1\")) ### 문자 : 튜플(x) \n",
    "print((1,)) ### 튜플 : 요소가 하나인 경우에는 요소뒤에 ,가 있어야 한다.\n",
    "print([1,2]) ### 리스트\n",
    "print((1,2)) ### 튜플"
   ]
  },
  {
   "cell_type": "code",
   "execution_count": 112,
   "id": "973c8ba3",
   "metadata": {},
   "outputs": [
    {
     "name": "stdout",
     "output_type": "stream",
     "text": [
      "2\n"
     ]
    }
   ],
   "source": [
    "l = [] # 빈 리스트\n",
    "t  = () #  빈 튜플\n",
    "l1 = [1]  #요소가 하나인 리스트\n",
    "t1 = (1,) #요소가 하나인 튜플 (*****)\n",
    "i = (1) # 정수 1 (*****)\n",
    "s = '1'\n",
    "# print(s + 1)\n",
    "print( i + 1)\n",
    "# print(t1 + 1) # 튜플과 정수는 연산할 수 없다\n",
    "# print( l1 + 1) # 리스트와 정수는 연산할 수 없다."
   ]
  },
  {
   "cell_type": "code",
   "execution_count": 123,
   "id": "de44a1ab",
   "metadata": {},
   "outputs": [
    {
     "name": "stdout",
     "output_type": "stream",
     "text": [
      "(1, 2)\n",
      "('a', 'b', ('ab', 'cd'), [1, 2, 3])\n",
      "[1, 2, 3, 'a', 'b', [1, 2, 3], (1, 2, 3)]\n",
      "(1, 2, 3)\n",
      "(1, 2, 3, 4, 5, 6, 7)\n",
      "('a', 'b', ('ab', 'cd'), [1, 2, 3])\n",
      "('ab', 'cd')\n",
      "cd\n",
      "[1, 2, 3]\n",
      "2\n",
      "3\n",
      "5\n"
     ]
    }
   ],
   "source": [
    "t3 = (1,2)\n",
    "print(t3)\n",
    "# 튜플 또한 리스트와 같이 여러 종류의 데이터를 여러개 저장할 수 있다.\n",
    "t5 = (1,2,3,'a', 'b') \n",
    "t6 = ('a', 'b', ('ab', 'cd'))\n",
    "t6 = ('a', 'b', ('ab', 'cd'),[1, 2, 3])\n",
    "##     0    1        2          3\n",
    "###               0      1    0  1  2\n",
    "print(t6)\n",
    "l = [1, 2, 3, \"a\", \"b\", [1,2,3], (1,2,3)]\n",
    "##   0  1  2   3    4      5        6\n",
    "print(l)\n",
    "print(l[6])\n",
    "t7 = 1,2,3,4,5,6,7 # 튜플\n",
    "print(t7)\n",
    "print(t6)\n",
    "print(t6[2]) ### 튜플 출력\n",
    "print(t6[2][1]) ## 문자열\n",
    "print(t6[3]) ### 티스트 출력\n",
    "print(t6[3][1]) ### 정수\n",
    "print(t6[3][2]) ### 정수\n",
    "print(t6[3][1] + t6[3][2]) ####  정수 +정수"
   ]
  },
  {
   "cell_type": "code",
   "execution_count": 137,
   "id": "dfe54bb5",
   "metadata": {},
   "outputs": [
    {
     "name": "stdout",
     "output_type": "stream",
     "text": [
      "3\n",
      "[1, 2, 10, 4]\n",
      "3\n",
      "3\n",
      "(1, 2)\n"
     ]
    }
   ],
   "source": [
    "l = [1,2,3,4] ### 리스트\n",
    "t = (1,2,3,4) ### 튜플\n",
    "print(l[2]) \n",
    "l[2] = 10\n",
    "print(l)\n",
    "print(t[2])\n",
    "### t[2] = 10 :  오류\n",
    "# 튜플과 리스트의 차이\n",
    "# 리스트는 요소의 값을 변경할 수 있다\n",
    "# 튜플은 요소의 값을 변경할 수 없다.\n",
    "l.index(2)\n",
    "t.index(2)\n",
    "### t.find(2)\n",
    "print(t[2]) ### indexing\n",
    "print(t[0:2]) ### slicing"
   ]
  },
  {
   "cell_type": "code",
   "execution_count": 143,
   "id": "398c1f67",
   "metadata": {},
   "outputs": [
    {
     "name": "stdout",
     "output_type": "stream",
     "text": [
      "('b', ('ab', 'cd'), [1, 2, 3])\n",
      "('b', ('ab', 'cd'))\n",
      "[1, 2, 3]\n",
      "[2, 3]\n"
     ]
    }
   ],
   "source": [
    "t6 = ('a', 'b', ('ab', 'cd'),[1,2,3])\n",
    "# 슬라이싱하기\n",
    "print(t6[1:])\n",
    "print(t6[1:3])\n",
    "print(t6[3])\n",
    "print(t6[3][1:3])"
   ]
  },
  {
   "cell_type": "code",
   "execution_count": 144,
   "id": "feea2663",
   "metadata": {},
   "outputs": [],
   "source": [
    "### 숫자 : 정수 , 실수 : 10, 10.5\n",
    "### 문자 : \"\", '', '''''', \"\"\"\"\"\", \"10\"\n",
    "### 리스트 : [] , [10]\n",
    "### 튜플 : (), (1,)  \n",
    "# (1) : 최우선 연산자로 인식하여 튜플로 사용할 수 없다."
   ]
  },
  {
   "cell_type": "code",
   "execution_count": 157,
   "id": "5e4c2d28",
   "metadata": {},
   "outputs": [
    {
     "name": "stdout",
     "output_type": "stream",
     "text": [
      "2\n",
      "pey\n",
      "0119993323\n",
      "숭\n",
      "a\n",
      "{1: '숭', 2: 'b'}\n",
      "{1: '숭', 2: '무'}\n",
      "{1: '숭', 2: '무', 3: '이'}\n",
      "{1: '숭'}\n"
     ]
    }
   ],
   "source": [
    "### 딕셔너리 : 키와 값이 하나의 쌍으로 되어 있는 것을 딕셔너리라고 한다.\n",
    "# {Key1:Value1, Key2:Value2, Key3:Value3, ...}\n",
    "###  javascript:JSON {키:값, 키:값,...}, java:map<키,값>\n",
    "dic = {'name':'pey', 'phone':'0119993323', 'birth': '1118'}\n",
    "l = [1,2,3,4]\n",
    "print(l[1])\n",
    "print(dic['name']) ### 딕셔러니는 index대신 키를 이용해서 값을 가져온다.\n",
    "print(dic['phone'])\n",
    "d1 = {2:\"이\", 0:\"숭\" ,1 :\"무\"}\n",
    "###     0      1         2\n",
    "print(d1[0]) ### 키와 index가 같은 경우가 있을 수 있어서 index대신 키를 사용한다.\n",
    "### 키가 0인 값을 가져오게 된다.\n",
    "a = {1: 'a', 2: 'b'}\n",
    "# 딕셔너리에 있는 값을 변경 할 수 있다\n",
    "print(a[1])\n",
    "a[1] = '숭'\n",
    "print(a)\n",
    "a[2] = '무'\n",
    "print(a)\n",
    "a[3] = '이' # 키가 있으면 값을 변경하지만 키가 없는 경우에는 추가가 된다.\n",
    "print(a)    # 중복 키를 허용하지 않는다.\n",
    "a  = {1:'이', 1:\"숭\"}\n",
    "print(a) # 키가 중복되는 경우에는 마지막값을 가지게 된다."
   ]
  },
  {
   "cell_type": "code",
   "execution_count": 164,
   "id": "185d1abf",
   "metadata": {},
   "outputs": [
    {
     "name": "stdout",
     "output_type": "stream",
     "text": [
      "{1: 'a'}\n",
      "{1: 'a', 2: 'b'}\n",
      "{1: 'a', 2: 'b', 'name': 'pey'}\n",
      "{1: 'a', 2: 'b', 'name': 'pey', 3: [1, 2, 3]}\n",
      "{1: 'a', 2: 'b', 'name': 'pey'}\n",
      "{1: 'a', 2: 'b'}\n"
     ]
    }
   ],
   "source": [
    "a = {1: 'a'}\n",
    "print(a)\n",
    "a[2] = \"b\";\n",
    "print(a)\n",
    "a[\"name\"] = \"pey\" #문자열를 키로 사용\n",
    "print(a)\n",
    "a[3] = [1,2,3]\n",
    "print(a)\n",
    "#### 키를 이용해서 딕셔너리에 있는 값을 삭제\n",
    "del a[3]\n",
    "print(a)\n",
    "del a['name']\n",
    "print(a)"
   ]
  },
  {
   "cell_type": "code",
   "execution_count": 169,
   "id": "28496ef8",
   "metadata": {},
   "outputs": [
    {
     "name": "stdout",
     "output_type": "stream",
     "text": [
      "{'name': 'pey', 'phone': '0119993323', 'birth': '19991118'}\n",
      "19991118\n",
      "1118\n",
      "1118\n"
     ]
    }
   ],
   "source": [
    "dic = {'name':'pey', 'phone':'0119993323', 'birth': '1118'}\n",
    "dic['birth'] = '19991118'\n",
    "#               01234567\n",
    "#               87654321 -\n",
    "print(dic)\n",
    "print(dic['birth'])\n",
    "#### 'birth'에서 '1118'만 출력하시오.\n",
    "print(dic['birth'][4:])\n",
    "print(dic['birth'][-4:])"
   ]
  },
  {
   "cell_type": "code",
   "execution_count": 179,
   "id": "fe4ac3e7",
   "metadata": {},
   "outputs": [
    {
     "name": "stdout",
     "output_type": "stream",
     "text": [
      "dict_keys(['name', 'phone', 'birth'])\n",
      "dict_values(['pey', '0119993323', '19991118'])\n",
      "dict_items([('name', 'pey'), ('phone', '0119993323'), ('birth', '19991118')])\n",
      "{}\n"
     ]
    }
   ],
   "source": [
    "#### 딕셔너리 관련 함수\n",
    "dic = {'name': 'pey', 'phone': '0119993323', 'birth': '19991118'}\n",
    "### 딕셔너리에 있는 키만 가져오기\n",
    "print(dic.keys())\n",
    "### 딕셔너리에 있는 값만 가져오기\n",
    "print(dic.values())\n",
    "### 딕셔너리에 있는 키와 값을 쌍으로 가져오기\n",
    "print(dic.items())\n",
    "### 딕셔너리 데이터 삭제\n",
    "dic.clear()\n",
    "print(dic)"
   ]
  },
  {
   "cell_type": "code",
   "execution_count": 194,
   "id": "65635e50",
   "metadata": {},
   "outputs": [
    {
     "name": "stdout",
     "output_type": "stream",
     "text": [
      "pey\n",
      "pey\n",
      "0\n",
      "1000\n",
      "1200\n",
      "1000\n",
      "1200\n",
      "100\n",
      "None\n"
     ]
    }
   ],
   "source": [
    "dic = {'name': 'pey', 'phone': '0119993323', 'birth': '19991118'}\n",
    "print(dic['name'])\n",
    "print(dic.get('name'))\n",
    "## print(dic['money']) # 키가 없으므로 키 오류가 생긴다\n",
    "print(dic.get('money', 0)) \n",
    "### 키가 없는 경우 특정한 값을 가질 수 있게 할 수 있다.\n",
    "\n",
    "dic1  = {'classic' : 500 ,  \"pop\" : 600 }\n",
    "dic2  = {'classic' : 500 ,  \"pop\" : 600 ,\"money\":100 }\n",
    "print(dic1['classic'] + dic2['classic'])\n",
    "print(dic1['pop'] + dic2['pop'])\n",
    "### 키가 없으므로 오류가 생긴다.\n",
    "## print(dic1['money'] + dic2['money'])\n",
    "print(dic1.get('classic',0) + dic2.get('classic',0))\n",
    "print(dic1.get('pop', 0) + dic2.get('pop', 0))\n",
    "print(dic1.get('money', 0) + dic2.get('money', 0))\n",
    "print(dic1.get('money')) ### 키가 없는 경우에는 None을 출력한다."
   ]
  },
  {
   "cell_type": "code",
   "execution_count": 196,
   "id": "7375bbd6",
   "metadata": {},
   "outputs": [
    {
     "name": "stdout",
     "output_type": "stream",
     "text": [
      "{1, 2, 3}\n"
     ]
    }
   ],
   "source": [
    "# 집합 자료형 : 교집합, 합집합 , 차집합\n",
    "s1 = set([1,2,3]) ### {1, 2, 3}\n",
    "print(s1)"
   ]
  },
  {
   "cell_type": "code",
   "execution_count": 197,
   "id": "30bd314c",
   "metadata": {},
   "outputs": [],
   "source": [
    "#### 숫자 : 11,12\n",
    "#### 문자 : '1',\"1\",'''1''',\"\"\"1\"\"\"\n",
    "#### 리스트 : []\n",
    "### 튜플 : () , (1,) \n",
    "### 딕셔너리 : {키:값}\n",
    "#### 집합 : set : {1,2,3}"
   ]
  },
  {
   "cell_type": "code",
   "execution_count": 206,
   "id": "f2ae0519",
   "metadata": {},
   "outputs": [
    {
     "name": "stdout",
     "output_type": "stream",
     "text": [
      "{1, 2, 3}\n",
      "{1, 2, 3}\n",
      "{'o', 'l', 'h', 'e'}\n",
      "[1, 2, 3]\n",
      "(1, 2, 3)\n",
      "1\n",
      "2\n"
     ]
    }
   ],
   "source": [
    "s1 = set([1,2,3])\n",
    "s2 = set((1,2,3))\n",
    "s3 = set(\"hello\") ##  문자 하나하나가 집합자료형의 데이터, 중복 데이터를 허용X\n",
    "print(s1)\n",
    "print(s2)\n",
    "print(s3)\n",
    "## 집합자료형의 데이터를 가져오기 위해서는 리스트나 튜플로 가져옴\n",
    "l = list(s2) \n",
    "t = tuple(s1)\n",
    "print(l)\n",
    "print(t)\n",
    "print(l[0])\n",
    "print(t[1])"
   ]
  },
  {
   "cell_type": "code",
   "execution_count": 220,
   "id": "2b66ce02",
   "metadata": {},
   "outputs": [
    {
     "name": "stdout",
     "output_type": "stream",
     "text": [
      "{1, 2, 3, 4, 5, 6}\n",
      "{4, 5, 6, 7, 8, 9}\n",
      "{4, 5, 6}\n",
      "{4, 5, 6}\n",
      "{1, 2, 3, 4, 5, 6, 7, 8, 9}\n",
      "{1, 2, 3, 4, 5, 6, 7, 8, 9}\n",
      "{1, 2, 3}\n",
      "{8, 9, 7}\n",
      "{1, 2, 3}\n",
      "{1, 2, 3, 4, 5, 6, 7}\n",
      "{1, 2, 3, 4, 5, 6, 7, 8, 9}\n",
      "{1, 2, 3, 4, 5, 6, 7, 9}\n"
     ]
    }
   ],
   "source": [
    "#### 교집합, 합집합, 차집합\n",
    "s1 = set([1, 2, 3, 4, 5, 6])\n",
    "s2 = set([4, 5, 6, 7, 8, 9])\n",
    "print(s1)\n",
    "print(s2)\n",
    "### 교집합\n",
    "print(s1 & s2)\n",
    "print(s1.intersection(s2))\n",
    "### 합집합\n",
    "print(s1 | s2) ### 중복 데이터는 한번만 출력\n",
    "print(s1.union(s2))\n",
    "### 차집합\n",
    "print(s1 - s2)\n",
    "print(s2 - s1)\n",
    "print(s1.difference(s2))\n",
    "### 요소 추가\n",
    "s1.add(7)\n",
    "print(s1)\n",
    "### s1.add([8,9,10])\n",
    "s1.update([7,8,9]) \n",
    "# 집합에서는 중복을 허용하지 않기 때문에 데이터가 있는 경우 추가되지 않는다.\n",
    "print(s1)\n",
    "## 요소 삭제\n",
    "s1.remove(8)\n",
    "print(s1)"
   ]
  },
  {
   "cell_type": "code",
   "execution_count": 233,
   "id": "e2e06dd0",
   "metadata": {},
   "outputs": [
    {
     "name": "stdout",
     "output_type": "stream",
     "text": [
      "True\n",
      "False\n",
      "True\n",
      "<class 'int'>\n",
      "<class 'float'>\n",
      "<class 'str'>\n",
      "<class 'list'>\n",
      "<class 'int'>\n",
      "<class 'tuple'>\n",
      "<class 'bool'>\n",
      "<class 'str'>\n",
      "<class 'dict'>\n",
      "<class 'set'>\n"
     ]
    }
   ],
   "source": [
    "# 부울 타입 / True | False\n",
    "a = True ## 부울 타입\n",
    "b = False\n",
    "print(a)\n",
    "print(b)\n",
    "c = \"True\" ## 문자열\n",
    "print(c)\n",
    "i = 10\n",
    "print(type(i))\n",
    "f = 10.5\n",
    "print(type(f))\n",
    "s = \"10.5\"\n",
    "print(type(s))\n",
    "l = [1,2]\n",
    "print(type(l))\n",
    "i1 = (1)\n",
    "print(type(i1))\n",
    "t = (1,)\n",
    "print(type(t))\n",
    "b = True\n",
    "print(type(b))\n",
    "s1 = \"True\"\n",
    "print(type(s1))\n",
    "d  = {1:'a'}\n",
    "print(type(d))\n",
    "se = {1,2,3,4}\n",
    "print(type(se))"
   ]
  },
  {
   "cell_type": "code",
   "execution_count": 241,
   "id": "6fecad64",
   "metadata": {},
   "outputs": [
    {
     "name": "stdout",
     "output_type": "stream",
     "text": [
      "False\n",
      "False\n",
      "True\n",
      "False\n",
      "True\n",
      "True\n"
     ]
    }
   ],
   "source": [
    "x = 10 ; y = 20 \n",
    "### 비교연산자의 결과 값은 bool타입이다.\n",
    "a = x == y\n",
    "print(a)\n",
    "a = x > y\n",
    "print(a)\n",
    "a = x < y\n",
    "print(a)\n",
    "a = x >= y\n",
    "print(a)\n",
    "a = x <= y\n",
    "print(a)\n",
    "a = x != y\n",
    "print(a)"
   ]
  },
  {
   "cell_type": "code",
   "execution_count": 249,
   "id": "de499349",
   "metadata": {},
   "outputs": [
    {
     "name": "stdout",
     "output_type": "stream",
     "text": [
      "True\n",
      "False\n",
      "False\n",
      "False\n",
      "True\n",
      "True\n",
      "True\n",
      "False\n",
      "False\n",
      "True\n"
     ]
    }
   ],
   "source": [
    "# and | or : 논리연산 : bool타입을 이용해서 연산\n",
    "## and\n",
    "print(True and True) \n",
    "print(True and False)\n",
    "print(False and True)\n",
    "print(False and False)\n",
    "\n",
    "### or \n",
    "print(True or True) \n",
    "print(True or False)\n",
    "print(False or True)\n",
    "print(False or False)\n",
    "\n",
    "x = 10; y = 20 ; z = 15\n",
    "print( x > y and y > z)\n",
    "print( x > y or y > z )"
   ]
  },
  {
   "cell_type": "code",
   "execution_count": 255,
   "id": "cb5036c7",
   "metadata": {},
   "outputs": [
    {
     "name": "stdout",
     "output_type": "stream",
     "text": [
      "True\n",
      "False\n",
      "True\n",
      "False\n",
      "True\n",
      "False\n",
      "False\n",
      "True\n",
      "True\n",
      "False\n"
     ]
    }
   ],
   "source": [
    "print(bool(\"이숭무\")) ### True\n",
    "print(bool(\"\"))###### False\n",
    "print(bool([1,2,3,4]))### True\n",
    "print(bool([])) ###### False\n",
    "print(bool((1,2,3,4)))### True\n",
    "print(bool(()))   ###### False\n",
    "\n",
    "print(bool(0))    ###### False\n",
    "print(bool(-1))### True\n",
    "print(bool(1))### True\n",
    "print(bool(None))  ###### False"
   ]
  },
  {
   "cell_type": "code",
   "execution_count": 256,
   "id": "708c807b",
   "metadata": {},
   "outputs": [
    {
     "name": "stdout",
     "output_type": "stream",
     "text": [
      "False\n",
      "False\n",
      "False\n",
      "False\n",
      "False\n"
     ]
    }
   ],
   "source": [
    "print(bool(\"\"))   ###### False\n",
    "print(bool([]))   ###### False\n",
    "print(bool(()))   ###### False\n",
    "print(bool(0))    ###### False\n",
    "print(bool(None))  ###### False"
   ]
  },
  {
   "cell_type": "code",
   "execution_count": null,
   "id": "d2a1587a",
   "metadata": {},
   "outputs": [],
   "source": [
    "### 2200년은 윤년일까요(True)? 평년일까요(False)? \n",
    "### 4년마다 윤년이지만 100년마다는 윤년이 아니다 그렇지만 400년마다는 윤년이다.\n"
   ]
  }
 ],
 "metadata": {
  "kernelspec": {
   "display_name": "Python 3 (ipykernel)",
   "language": "python",
   "name": "python3"
  },
  "language_info": {
   "codemirror_mode": {
    "name": "ipython",
    "version": 3
   },
   "file_extension": ".py",
   "mimetype": "text/x-python",
   "name": "python",
   "nbconvert_exporter": "python",
   "pygments_lexer": "ipython3",
   "version": "3.8.11"
  }
 },
 "nbformat": 4,
 "nbformat_minor": 5
}
