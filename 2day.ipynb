{
 "cells": [
  {
   "cell_type": "code",
   "execution_count": 20,
   "id": "cff5d81a",
   "metadata": {},
   "outputs": [
    {
     "name": "stdout",
     "output_type": "stream",
     "text": [
      "L\n",
      "n\n",
      "Life \n",
      "Life \n",
      "Life is too short, You need python\n",
      "Lf st\n",
      "nohtyp deen uoY ,trohs oot si efiL\n",
      "Leso\n"
     ]
    },
    {
     "data": {
      "text/plain": [
       "False"
      ]
     },
     "execution_count": 20,
     "metadata": {},
     "output_type": "execute_result"
    }
   ],
   "source": [
    "# 리터널 : 자연어 : 문자, 숫자 \n",
    "# 숫자 : 정수 , 실수 , 10, 10.5 , '10'(x)\n",
    "# 연산자 : + - * / % // **\n",
    "# 문자 : 'abc' ,\"abc\", '''abc''' , \"\"\"abc\"\"\" , '10',   a : 변수 : 문자가 될 수 없다\n",
    "a  = 10\n",
    "# 문자열에서  indexing\n",
    "a = 'Life is too short, You need python'\n",
    "#    0123456789012345678901234567890123\n",
    "#              1         2         3\n",
    "#                                 54321 -  \n",
    "print(a[0])\n",
    "print(a[-1])\n",
    "# 문자열에서  slicing\n",
    "print(a[0:0+5])\n",
    "print(a[0:5])\n",
    "print(a[:])\n",
    "print(a[0:10:2]) # 한칸씩 건너 띄어서 가져오기\n",
    "print(a[::-1]) # 거꾸로 출력하기\n",
    "print(a[0:10:3]) # 두칸씩 건너 띄어서 가져오기\n",
    "# 연산자 : + , *\n",
    "# 문자함수\n",
    "a.count('o')\n",
    "a.find('t')\n",
    "a.find('too') # 문자열인 경우 첫번째 문자의 iondex를 가져온다.\n",
    "a.find('s',7)\n",
    "a.find('k') # 없는 문자인 경우 : -1\n",
    "a.index('t') \n",
    "a.index('s',7) \n",
    "a.index('too') \n",
    "a.rindex('s') \n",
    "# a.index('k')  #없는 문자인 경우 : 오류가 발생\n",
    "':'.join(a) # 문자열 삽입 (*****)\n",
    "a.upper() \n",
    "a.lower() \n",
    "a.strip() # 양쪽 공백을 제거 할때 사용\n",
    "a.strip('ab') \n",
    "a.lstrip() # 오른쪽에 있는 공백문자를 제거\n",
    "a.rstrip() # 왼쪽에 있는 공백문자만 제거\n",
    "a.rstrip(\"ab\") ### abcdefab  ==> abcdef\n",
    "a.replace(\"Life\", \"Yore leg\")\n",
    "a = \"010-1234-1234\"\n",
    "a.isdigit() # 행당 문자열이 모두 숫자인지 \"12345678\" : true/false\n",
    "            # a = \"010-1234-1234\" : false\n",
    "a = \"01012341234\" # 숫자 앞에 0이 있는 경우에는 문자로 인식할 수도 있으니 주의\n",
    "a.isdigit() \n",
    "a = \"abc def\" # 공백문자는  알파벳이 아니다.\n",
    "a.isalpha() \n",
    "a = \"abcdef\" \n",
    "a.isalpha()\n",
    "a.islower() # 모두 소문자\n",
    "a.isupper() # 모두 대문자  true/false"
   ]
  },
  {
   "cell_type": "code",
   "execution_count": 33,
   "id": "7a907b4f",
   "metadata": {},
   "outputs": [
    {
     "name": "stdout",
     "output_type": "stream",
     "text": [
      "나는 10개의 사과를 먹어서 three일 동안 아팠습니다.\n"
     ]
    }
   ],
   "source": [
    "# 문자열 출력하기.\n",
    "print(a)\n",
    "number = 10\n",
    "day = \"three\"\n",
    "a = \"나의 나이는 %d살이고 키는 %3.1f 입니다.\" % (35, 175.5)\n",
    "a = \"나는 {1}개의 사과를 먹어서 {0}일 동안 아팠습니다.\".format(5, 3)\n",
    "a = \"나는 {number}개의 사과를 먹어서 {day}일 동안 아팠습니다.\".format(number=10, day=3)\n",
    "a = f\"나는 {number}개의 사과를 먹어서 {day}일 동안 아팠습니다.\""
   ]
  },
  {
   "cell_type": "code",
   "execution_count": 41,
   "id": "e70ad754",
   "metadata": {},
   "outputs": [
    {
     "name": "stdout",
     "output_type": "stream",
     "text": [
      "=====\n",
      "1\n",
      "4\n",
      "[1, 2]\n",
      "[1, 2, 3, 4, 5, 6]\n",
      "[1, 2, 3, 1, 2, 3, 1, 2, 3]\n",
      "11\n",
      "3\n",
      "[4, 10, 6]\n",
      "[4, 6]\n",
      "[4, 6, 10]\n"
     ]
    }
   ],
   "source": [
    "# 리스트 : 여러 유형의 데이터를 여러 개 저장할 수 있는 자료형 []\n",
    "a  = [] # []를 사용하면 리스트가 된다. 빈리스트\n",
    "b = [1, 2, 3] # 정수형 리스트\n",
    "c = ['Life', 'is', 'too', 'short'] # 문자열 리스트\n",
    "d = [1,2,3,'Life', 'is', 'too', 'short'] # 정수와 문자열 혼합 리스트\n",
    "e = [1,2,3,[4,5,'Life']] # 리스트에 리스트를 포함\n",
    "print(\"=\" * 5)\n",
    "a = 1 # 숫자\n",
    "a = '1' # 문자열\n",
    "a = [1] # 리스트\n",
    "a = [1, 2, 3]\n",
    "print(a[0])\n",
    "print(a[0] + a[2])\n",
    "print(a[0:2])\n",
    "### 연산자 :  + , * \n",
    "a = [1, 2, 3]\n",
    "b = [4, 5, 6]\n",
    "print(a + b)\n",
    "print(a * 3)\n",
    "a = \"01012341234\"\n",
    "print(len(a))\n",
    "print(len(b))\n",
    "b[1] = 10 # index를 이용해서 리스트에 있는 값을 변경\n",
    "print(b)\n",
    "del b[1] # del 명령어를 이용하여 index에 해당하는 값을 리스트에서 삭제\n",
    "print(b)\n",
    "b.append(10)\n",
    "print(b)\n",
    "##############################################"
   ]
  },
  {
   "cell_type": "code",
   "execution_count": 54,
   "id": "ad9f7c10",
   "metadata": {},
   "outputs": [
    {
     "name": "stdout",
     "output_type": "stream",
     "text": [
      "[1, 4, 2, 3]\n",
      "[1, 2, 3, 4]\n",
      "[1, 4, 2, 3]\n",
      "[3, 2, 4, 1]\n",
      "2\n",
      "2\n",
      "-1\n",
      "3\n"
     ]
    }
   ],
   "source": [
    "a = [1, 4, 2, 3]\n",
    "print(a)\n",
    "# 데이터를 정렬\n",
    "a.sort() # 실제 데이터를 변경하는 함수\n",
    "print(a)\n",
    "a = [1, 4, 2, 3]\n",
    "print(a)\n",
    "a.reverse() # 역순으로 저장  : 내림차순 아님\n",
    "print(a)\n",
    "##########################################\n",
    "s = \"Life is too short\"\n",
    "print(s.index('f'))\n",
    "print(s.find('f'))\n",
    "print(s.find('k'))\n",
    "a = [1, 4, 2, 3]\n",
    "##### 리스트에 원하는 데이터가 있는지 찾기 : index\n",
    "print(a.index(3))\n",
    "# print(a.index(5)) # 없는 데이터인 경우 오류\n",
    "# print(a.find(5)) # 리스트에는 find함수가 없다."
   ]
  },
  {
   "cell_type": "code",
   "execution_count": 61,
   "id": "852dfe8e",
   "metadata": {},
   "outputs": [
    {
     "name": "stdout",
     "output_type": "stream",
     "text": [
      "[1, 2, 3]\n",
      "[1, 2, 3, 4]\n",
      "[1, 2, 3, 4, 5]\n",
      "[1, 6, 2, 3, 4, 5]\n",
      "[1, 6, 2, 10, 3, 4, 5]\n",
      "[1, 6, 2, 10, 3, [1, 2, 3, 4], 4, 5]\n"
     ]
    }
   ],
   "source": [
    "a = [1,2,3]\n",
    "#    0 1 2\n",
    "print(a)\n",
    "a.append(4) # 마지막에 데이터가 추가가 된다.\n",
    "print(a)\n",
    "a.append(5) # [1, 2, 3, 4, 5]\n",
    "print(a)\n",
    "a.insert(1, 6) # [1, 6, 2, 3, 4, 5]\n",
    "print(a)\n",
    "a.insert(3, 10) # [1, 6, 2, 10, 3, 4, 5 ]\n",
    "print(a)\n",
    "a.insert(5, [1,2,3,4]) # [1, 6, 2, 10, 3, [1,2,3,4],4 ,5 ]\n",
    "print(a)"
   ]
  },
  {
   "cell_type": "code",
   "execution_count": 69,
   "id": "20138d5f",
   "metadata": {},
   "outputs": [
    {
     "name": "stdout",
     "output_type": "stream",
     "text": [
      "[1, 4, 2, 5, 4, 3]\n",
      "[1, 2, 5, 4, 3]\n",
      "[1, 4, 2, 5, 4, 3]\n",
      "[1, 2, 5, 4, 3]\n",
      "[1, 2, 5, 3]\n"
     ]
    }
   ],
   "source": [
    "a = [1, 4, 2, 5, 4, 3]\n",
    "#    0  1  2  3  4  5\n",
    "print(a)\n",
    "del a[1] #### index를 이용해서 삭제\n",
    "print(a)\n",
    "a.insert(1, 4)\n",
    "print(a)\n",
    "##### 값을 이용해서 삭제\n",
    "#  리터널을 이용해서 리터널에 해당되는 값을 삭제\n",
    "a.remove(4) ### 4값을 삭제\n",
    "print(a) # 처음에 있는 값부터 삭제\n",
    "a.remove(4)\n",
    "print(a)"
   ]
  },
  {
   "cell_type": "code",
   "execution_count": 72,
   "id": "1b696493",
   "metadata": {},
   "outputs": [
    {
     "name": "stdout",
     "output_type": "stream",
     "text": [
      "[1, 4, 2, 5, 4, 3]\n",
      "2\n",
      "[1, 2, 5, 3]\n"
     ]
    }
   ],
   "source": [
    "a = [1, 4, 2, 5, 4, 3]\n",
    "print(a)\n",
    "cnt = a.count(4) #### 반복문에서 이용하면 count만큼 삭제 하도록 할 수 있다.\n",
    "print(cnt)\n",
    "i = 0 \n",
    "while i < cnt : # cnt만큼 remove가 반복되게 만듦\n",
    "    a.remove(4) \n",
    "    i+=1\n",
    "print(a)"
   ]
  },
  {
   "cell_type": "code",
   "execution_count": 83,
   "id": "9722bde6",
   "metadata": {},
   "outputs": [
    {
     "name": "stdout",
     "output_type": "stream",
     "text": [
      "[1, 4, 2, 5, 4, 3]\n",
      "[1, 2, 5, 4, 3]\n",
      "[1, 2, 5, 3]\n",
      "3\n",
      "[1, 2, 5]\n",
      "5\n",
      "[1, 2]\n",
      "2\n",
      "[1]\n",
      "4\n",
      "[1, 4, 2, 5, 3]\n",
      "2\n",
      "[1, 4, 5, 3]\n"
     ]
    }
   ],
   "source": [
    "a = [1, 4, 2, 5, 4, 3]\n",
    "print(a)\n",
    "del a[1]\n",
    "print(a)\n",
    "a.remove(4)\n",
    "print(a) \n",
    "b = a.pop() # 리스트에 있는 값을 가져 나온 후 삭제  # 맨 마지막 값부터 삭제\n",
    "print(b)\n",
    "print(a)\n",
    "b = a.pop() \n",
    "print(b)\n",
    "print(a)\n",
    "b = a.pop() \n",
    "print(b)\n",
    "print(a)\n",
    "a = [1, 4, 2, 5, 4, 3]\n",
    "#    0  1  2  3  4  5\n",
    "b = a.pop(4) # index를 사용해서 데이터 삭제\n",
    "print(b)\n",
    "print(a)\n",
    "b = a.pop(2)\n",
    "print(b)\n",
    "print(a)"
   ]
  },
  {
   "cell_type": "code",
   "execution_count": 88,
   "id": "bdaeeaa5",
   "metadata": {},
   "outputs": [
    {
     "name": "stdout",
     "output_type": "stream",
     "text": [
      "[1, 2, 3, 4, 4, 5]\n",
      "[3, 4, 5, 2, 4, 1]\n",
      "[5, 4, 4, 3, 2, 1]\n"
     ]
    }
   ],
   "source": [
    "a = [1, 4, 2, 5, 4, 3]\n",
    "a.sort() # 오름차순으로 정렬\n",
    "print(a)\n",
    "a = [1, 4, 2, 5, 4, 3]\n",
    "a.reverse()\n",
    "print(a)\n",
    "### 내림차순으로 변경\n",
    "a.sort(reverse=True)\n",
    "print(a)"
   ]
  },
  {
   "cell_type": "code",
   "execution_count": 102,
   "id": "ca6a46d5",
   "metadata": {},
   "outputs": [
    {
     "name": "stdout",
     "output_type": "stream",
     "text": [
      "[1, 2, 3, 4]\n",
      "[1, 2, 3]\n",
      "[1, 2, 3, [4, 5]]\n",
      "[1, 2, 3]\n",
      "[1, 2, 3, 4, 5]\n",
      "[1, 2, 3]\n",
      "[1, 2, 3, 4, 5]\n"
     ]
    }
   ],
   "source": [
    "a = [1,2,3] # [1,2,3,4,5]\n",
    "a.append(4)\n",
    "print(a)\n",
    "a.remove(4)\n",
    "print(a)\n",
    "a.append([4,5])\n",
    "print(a)\n",
    "a.remove([4,5])\n",
    "print(a)\n",
    "\n",
    "a.extend([4,5])\n",
    "print(a)\n",
    "a = [1,2,3]\n",
    "print(a)\n",
    "a = a + [4,5] \n",
    "print(a)"
   ]
  },
  {
   "cell_type": "code",
   "execution_count": 104,
   "id": "66be6148",
   "metadata": {},
   "outputs": [
    {
     "name": "stdout",
     "output_type": "stream",
     "text": [
      "2\n",
      "11\n",
      "[1, 1]\n"
     ]
    }
   ],
   "source": [
    "print(1  + 1) # 숫자\n",
    "print(\"1\" + \"1\") # 문자\n",
    "print([1] + [1]) # 리스트 []"
   ]
  },
  {
   "cell_type": "code",
   "execution_count": 107,
   "id": "1a7bc6e8",
   "metadata": {},
   "outputs": [
    {
     "name": "stdout",
     "output_type": "stream",
     "text": [
      "1\n",
      "1\n",
      "[1]\n",
      "1\n",
      "1\n",
      "(1,)\n",
      "[1, 2]\n",
      "(1, 2)\n"
     ]
    }
   ],
   "source": [
    "## 튜플 ()\n",
    "print(1)\n",
    "print('1')\n",
    "print([1]) ## 라스트\n",
    "print((1)) ### 정수 : ()만 있는 경우에는 최우선 연산자가 된다.\n",
    "print((\"1\")) ### 문자 : 튜플(x) \n",
    "print((1,)) ### 튜플 : 요소가 하나인 경우에는 요소뒤에 ,가 있어야 한다.\n",
    "print([1,2]) ### 리스트\n",
    "print((1,2)) ### 튜플"
   ]
  },
  {
   "cell_type": "code",
   "execution_count": 112,
   "id": "1a39a869",
   "metadata": {},
   "outputs": [
    {
     "name": "stdout",
     "output_type": "stream",
     "text": [
      "2\n"
     ]
    }
   ],
   "source": [
    "l = [] # 빈 리스트\n",
    "t  = () #  빈 튜플\n",
    "l1 = [1]  #요소가 하나인 리스트\n",
    "t1 = (1,) #요소가 하나인 튜플 (*****)\n",
    "i = (1) # 정수 1 (*****)\n",
    "s = '1'\n",
    "# print(s + 1)\n",
    "print( i + 1)\n",
    "# print(t1 + 1) # 튜플과 정수는 연산할 수 없다\n",
    "# print( l1 + 1) # 리스트와 정수는 연산할 수 없다."
   ]
  },
  {
   "cell_type": "code",
   "execution_count": 123,
   "id": "d8591ae9",
   "metadata": {},
   "outputs": [
    {
     "name": "stdout",
     "output_type": "stream",
     "text": [
      "(1, 2)\n",
      "('a', 'b', ('ab', 'cd'), [1, 2, 3])\n",
      "[1, 2, 3, 'a', 'b', [1, 2, 3], (1, 2, 3)]\n",
      "(1, 2, 3)\n",
      "(1, 2, 3, 4, 5, 6, 7)\n",
      "('a', 'b', ('ab', 'cd'), [1, 2, 3])\n",
      "('ab', 'cd')\n",
      "cd\n",
      "[1, 2, 3]\n",
      "2\n",
      "3\n",
      "5\n"
     ]
    }
   ],
   "source": [
    "t3 = (1,2)\n",
    "print(t3)\n",
    "# 튜플 또한 리스트와 같이 여러 종류의 데이터를 여러개 저장할 수 있다.\n",
    "t5 = (1,2,3,'a', 'b') \n",
    "t6 = ('a', 'b', ('ab', 'cd'))\n",
    "t6 = ('a', 'b', ('ab', 'cd'),[1, 2, 3])\n",
    "##     0    1        2          3\n",
    "###               0      1    0  1  2\n",
    "print(t6)\n",
    "l = [1, 2, 3, \"a\", \"b\", [1,2,3], (1,2,3)]\n",
    "##   0  1  2   3    4      5        6\n",
    "print(l)\n",
    "print(l[6])\n",
    "t7 = 1,2,3,4,5,6,7 # 튜플\n",
    "print(t7)\n",
    "print(t6)\n",
    "print(t6[2]) ### 튜플 출력\n",
    "print(t6[2][1]) ## 문자열\n",
    "print(t6[3]) ### 티스트 출력\n",
    "print(t6[3][1]) ### 정수\n",
    "print(t6[3][2]) ### 정수\n",
    "print(t6[3][1] + t6[3][2]) ####  정수 +정수"
   ]
  },
  {
   "cell_type": "code",
   "execution_count": 137,
   "id": "4f379e4e",
   "metadata": {},
   "outputs": [
    {
     "name": "stdout",
     "output_type": "stream",
     "text": [
      "3\n",
      "[1, 2, 10, 4]\n",
      "3\n",
      "3\n",
      "(1, 2)\n"
     ]
    }
   ],
   "source": [
    "l = [1,2,3,4] ### 리스트\n",
    "t = (1,2,3,4) ### 튜플\n",
    "print(l[2]) \n",
    "l[2] = 10\n",
    "print(l)\n",
    "print(t[2])\n",
    "### t[2] = 10 :  오류\n",
    "# 튜플과 리스트의 차이\n",
    "# 리스트는 요소의 값을 변경할 수 있다\n",
    "# 튜플은 요소의 값을 변경할 수 없다.\n",
    "l.index(2)\n",
    "t.index(2)\n",
    "### t.find(2)\n",
    "print(t[2]) ### indexing\n",
    "print(t[0:2]) ### slicing"
   ]
  },
  {
   "cell_type": "code",
   "execution_count": 143,
   "id": "dd194b49",
   "metadata": {},
   "outputs": [
    {
     "name": "stdout",
     "output_type": "stream",
     "text": [
      "('b', ('ab', 'cd'), [1, 2, 3])\n",
      "('b', ('ab', 'cd'))\n",
      "[1, 2, 3]\n",
      "[2, 3]\n"
     ]
    }
   ],
   "source": [
    "t6 = ('a', 'b', ('ab', 'cd'),[1,2,3])\n",
    "# 슬라이싱하기\n",
    "print(t6[1:])\n",
    "print(t6[1:3])\n",
    "print(t6[3])\n",
    "print(t6[3][1:3])"
   ]
  },
  {
   "cell_type": "code",
   "execution_count": 144,
   "id": "a5bb2594",
   "metadata": {},
   "outputs": [],
   "source": [
    "### 숫자 : 정수 , 실수 : 10, 10.5\n",
    "### 문자 : \"\", '', '''''', \"\"\"\"\"\", \"10\"\n",
    "### 리스트 : [] , [10]\n",
    "### 튜플 : (), (1,)  \n",
    "# (1) : 최우선 연산자로 인식하여 튜플로 사용할 수 없다."
   ]
  },
  {
   "cell_type": "code",
   "execution_count": 157,
   "id": "801dc2c2",
   "metadata": {},
   "outputs": [
    {
     "name": "stdout",
     "output_type": "stream",
     "text": [
      "2\n",
      "pey\n",
      "0119993323\n",
      "숭\n",
      "a\n",
      "{1: '숭', 2: 'b'}\n",
      "{1: '숭', 2: '무'}\n",
      "{1: '숭', 2: '무', 3: '이'}\n",
      "{1: '숭'}\n"
     ]
    }
   ],
   "source": [
    "### 딕셔너리 : 키와 값이 하나의 쌍으로 되어 있는 것을 딕셔너리라고 한다.\n",
    "# {Key1:Value1, Key2:Value2, Key3:Value3, ...}\n",
    "###  javascript:JSON {키:값, 키:값,...}, java:map<키,값>\n",
    "dic = {'name':'pey', 'phone':'0119993323', 'birth': '1118'}\n",
    "l = [1,2,3,4]\n",
    "print(l[1])\n",
    "print(dic['name']) ### 딕셔러니는 index대신 키를 이용해서 값을 가져온다.\n",
    "print(dic['phone'])\n",
    "d1 = {2:\"이\", 0:\"숭\" ,1 :\"무\"}\n",
    "###     0      1         2\n",
    "print(d1[0]) ### 키와 index가 같은 경우가 있을 수 있어서 index대신 키를 사용한다.\n",
    "### 키가 0인 값을 가져오게 된다.\n",
    "a = {1: 'a', 2: 'b'}\n",
    "# 딕셔너리에 있는 값을 변경 할 수 있다\n",
    "print(a[1])\n",
    "a[1] = '숭'\n",
    "print(a)\n",
    "a[2] = '무'\n",
    "print(a)\n",
    "a[3] = '이' # 키가 있으면 값을 변경하지만 키가 없는 경우에는 추가가 된다.\n",
    "print(a)    # 중복 키를 허용하지 않는다.\n",
    "a  = {1:'이', 1:\"숭\"}\n",
    "print(a) # 키가 중복되는 경우에는 마지막값을 가지게 된다."
   ]
  },
  {
   "cell_type": "code",
   "execution_count": 164,
   "id": "79e6d02f",
   "metadata": {},
   "outputs": [
    {
     "name": "stdout",
     "output_type": "stream",
     "text": [
      "{1: 'a'}\n",
      "{1: 'a', 2: 'b'}\n",
      "{1: 'a', 2: 'b', 'name': 'pey'}\n",
      "{1: 'a', 2: 'b', 'name': 'pey', 3: [1, 2, 3]}\n",
      "{1: 'a', 2: 'b', 'name': 'pey'}\n",
      "{1: 'a', 2: 'b'}\n"
     ]
    }
   ],
   "source": [
    "a = {1: 'a'}\n",
    "print(a)\n",
    "a[2] = \"b\";\n",
    "print(a)\n",
    "a[\"name\"] = \"pey\" #문자열를 키로 사용\n",
    "print(a)\n",
    "a[3] = [1,2,3]\n",
    "print(a)\n",
    "#### 키를 이용해서 딕셔너리에 있는 값을 삭제\n",
    "del a[3]\n",
    "print(a)\n",
    "del a['name']\n",
    "print(a)"
   ]
  },
  {
   "cell_type": "code",
   "execution_count": 169,
   "id": "602223fa",
   "metadata": {},
   "outputs": [
    {
     "name": "stdout",
     "output_type": "stream",
     "text": [
      "{'name': 'pey', 'phone': '0119993323', 'birth': '19991118'}\n",
      "19991118\n",
      "1118\n",
      "1118\n"
     ]
    }
   ],
   "source": [
    "dic = {'name':'pey', 'phone':'0119993323', 'birth': '1118'}\n",
    "dic['birth'] = '19991118'\n",
    "#               01234567\n",
    "#               87654321 -\n",
    "print(dic)\n",
    "print(dic['birth'])\n",
    "#### 'birth'에서 '1118'만 출력하시오.\n",
    "print(dic['birth'][4:])\n",
    "print(dic['birth'][-4:])"
   ]
  },
  {
   "cell_type": "code",
   "execution_count": 179,
   "id": "f4425087",
   "metadata": {},
   "outputs": [
    {
     "name": "stdout",
     "output_type": "stream",
     "text": [
      "dict_keys(['name', 'phone', 'birth'])\n",
      "dict_values(['pey', '0119993323', '19991118'])\n",
      "dict_items([('name', 'pey'), ('phone', '0119993323'), ('birth', '19991118')])\n",
      "{}\n"
     ]
    }
   ],
   "source": [
    "#### 딕셔너리 관련 함수\n",
    "dic = {'name': 'pey', 'phone': '0119993323', 'birth': '19991118'}\n",
    "### 딕셔너리에 있는 키만 가져오기\n",
    "print(dic.keys())\n",
    "### 딕셔너리에 있는 값만 가져오기\n",
    "print(dic.values())\n",
    "### 딕셔너리에 있는 키와 값을 쌍으로 가져오기\n",
    "print(dic.items())\n",
    "### 딕셔너리 데이터 삭제\n",
    "dic.clear()\n",
    "print(dic)"
   ]
  },
  {
   "cell_type": "code",
   "execution_count": 194,
   "id": "0a3ffd7d",
   "metadata": {},
   "outputs": [
    {
     "name": "stdout",
     "output_type": "stream",
     "text": [
      "pey\n",
      "pey\n",
      "0\n",
      "1000\n",
      "1200\n",
      "1000\n",
      "1200\n",
      "100\n",
      "None\n"
     ]
    }
   ],
   "source": [
    "dic = {'name': 'pey', 'phone': '0119993323', 'birth': '19991118'}\n",
    "print(dic['name'])\n",
    "print(dic.get('name'))\n",
    "## print(dic['money']) # 키가 없으므로 키 오류가 생긴다\n",
    "print(dic.get('money', 0)) \n",
    "### 키가 없는 경우 특정한 값을 가질 수 있게 할 수 있다.\n",
    "\n",
    "dic1  = {'classic' : 500 ,  \"pop\" : 600 }\n",
    "dic2  = {'classic' : 500 ,  \"pop\" : 600 ,\"money\":100 }\n",
    "print(dic1['classic'] + dic2['classic'])\n",
    "print(dic1['pop'] + dic2['pop'])\n",
    "### 키가 없으므로 오류가 생긴다.\n",
    "## print(dic1['money'] + dic2['money'])\n",
    "print(dic1.get('classic',0) + dic2.get('classic',0))\n",
    "print(dic1.get('pop', 0) + dic2.get('pop', 0))\n",
    "print(dic1.get('money', 0) + dic2.get('money', 0))\n",
    "print(dic1.get('money')) ### 키가 없는 경우에는 None을 출력한다."
   ]
  },
  {
   "cell_type": "code",
   "execution_count": 196,
   "id": "173834d7",
   "metadata": {},
   "outputs": [
    {
     "name": "stdout",
     "output_type": "stream",
     "text": [
      "{1, 2, 3}\n"
     ]
    }
   ],
   "source": [
    "# 집합 자료형 : 교집합, 합집합 , 차집합\n",
    "s1 = set([1,2,3]) ### {1, 2, 3}\n",
    "print(s1)"
   ]
  },
  {
   "cell_type": "code",
   "execution_count": 197,
   "id": "d0343694",
   "metadata": {},
   "outputs": [],
   "source": [
    "#### 숫자 : 11,12\n",
    "#### 문자 : '1',\"1\",'''1''',\"\"\"1\"\"\"\n",
    "#### 리스트 : []\n",
    "### 튜플 : () , (1,) \n",
    "### 딕셔너리 : {키:값}\n",
    "#### 집합 : set : {1,2,3}"
   ]
  },
  {
   "cell_type": "code",
   "execution_count": 206,
   "id": "7607a305",
   "metadata": {},
   "outputs": [
    {
     "name": "stdout",
     "output_type": "stream",
     "text": [
      "{1, 2, 3}\n",
      "{1, 2, 3}\n",
      "{'o', 'l', 'h', 'e'}\n",
      "[1, 2, 3]\n",
      "(1, 2, 3)\n",
      "1\n",
      "2\n"
     ]
    }
   ],
   "source": [
    "s1 = set([1,2,3])\n",
    "s2 = set((1,2,3))\n",
    "s3 = set(\"hello\") ##  문자 하나하나가 집합자료형의 데이터, 중복 데이터를 허용X\n",
    "print(s1)\n",
    "print(s2)\n",
    "print(s3)\n",
    "## 집합자료형의 데이터를 가져오기 위해서는 리스트나 튜플로 가져옴\n",
    "l = list(s2) \n",
    "t = tuple(s1)\n",
    "print(l)\n",
    "print(t)\n",
    "print(l[0])\n",
    "print(t[1])"
   ]
  },
  {
   "cell_type": "code",
   "execution_count": 220,
   "id": "009d54d8",
   "metadata": {},
   "outputs": [
    {
     "name": "stdout",
     "output_type": "stream",
     "text": [
      "{1, 2, 3, 4, 5, 6}\n",
      "{4, 5, 6, 7, 8, 9}\n",
      "{4, 5, 6}\n",
      "{4, 5, 6}\n",
      "{1, 2, 3, 4, 5, 6, 7, 8, 9}\n",
      "{1, 2, 3, 4, 5, 6, 7, 8, 9}\n",
      "{1, 2, 3}\n",
      "{8, 9, 7}\n",
      "{1, 2, 3}\n",
      "{1, 2, 3, 4, 5, 6, 7}\n",
      "{1, 2, 3, 4, 5, 6, 7, 8, 9}\n",
      "{1, 2, 3, 4, 5, 6, 7, 9}\n"
     ]
    }
   ],
   "source": [
    "#### 교집합, 합집합, 차집합\n",
    "s1 = set([1, 2, 3, 4, 5, 6])\n",
    "s2 = set([4, 5, 6, 7, 8, 9])\n",
    "print(s1)\n",
    "print(s2)\n",
    "### 교집합\n",
    "print(s1 & s2)\n",
    "print(s1.intersection(s2))\n",
    "### 합집합\n",
    "print(s1 | s2) ### 중복 데이터는 한번만 출력\n",
    "print(s1.union(s2))\n",
    "### 차집합\n",
    "print(s1 - s2)\n",
    "print(s2 - s1)\n",
    "print(s1.difference(s2))\n",
    "### 요소 추가\n",
    "s1.add(7)\n",
    "print(s1)\n",
    "### s1.add([8,9,10])\n",
    "s1.update([7,8,9]) \n",
    "# 집합에서는 중복을 허용하지 않기 때문에 데이터가 있는 경우 추가되지 않는다.\n",
    "print(s1)\n",
    "## 요소 삭제\n",
    "s1.remove(8)\n",
    "print(s1)"
   ]
  },
  {
   "cell_type": "code",
   "execution_count": 233,
   "id": "d2006d4c",
   "metadata": {},
   "outputs": [
    {
     "name": "stdout",
     "output_type": "stream",
     "text": [
      "True\n",
      "False\n",
      "True\n",
      "<class 'int'>\n",
      "<class 'float'>\n",
      "<class 'str'>\n",
      "<class 'list'>\n",
      "<class 'int'>\n",
      "<class 'tuple'>\n",
      "<class 'bool'>\n",
      "<class 'str'>\n",
      "<class 'dict'>\n",
      "<class 'set'>\n"
     ]
    }
   ],
   "source": [
    "# 부울 타입 / True | False\n",
    "a = True ## 부울 타입\n",
    "b = False\n",
    "print(a)\n",
    "print(b)\n",
    "c = \"True\" ## 문자열\n",
    "print(c)\n",
    "i = 10\n",
    "print(type(i))\n",
    "f = 10.5\n",
    "print(type(f))\n",
    "s = \"10.5\"\n",
    "print(type(s))\n",
    "l = [1,2]\n",
    "print(type(l))\n",
    "i1 = (1)\n",
    "print(type(i1))\n",
    "t = (1,)\n",
    "print(type(t))\n",
    "b = True\n",
    "print(type(b))\n",
    "s1 = \"True\"\n",
    "print(type(s1))\n",
    "d  = {1:'a'}\n",
    "print(type(d))\n",
    "se = {1,2,3,4}\n",
    "print(type(se))"
   ]
  },
  {
   "cell_type": "code",
   "execution_count": 241,
   "id": "a9ce5b2f",
   "metadata": {},
   "outputs": [
    {
     "name": "stdout",
     "output_type": "stream",
     "text": [
      "False\n",
      "False\n",
      "True\n",
      "False\n",
      "True\n",
      "True\n"
     ]
    }
   ],
   "source": [
    "x = 10 ; y = 20 \n",
    "### 비교(관계)연산자의 결과 값은 bool타입이다.\n",
    "a = x == y\n",
    "print(a)\n",
    "a = x > y\n",
    "print(a)\n",
    "a = x < y\n",
    "print(a)\n",
    "a = x >= y\n",
    "print(a)\n",
    "a = x <= y\n",
    "print(a)\n",
    "a = x != y\n",
    "print(a)"
   ]
  },
  {
   "cell_type": "code",
   "execution_count": 249,
   "id": "b447de7f",
   "metadata": {},
   "outputs": [
    {
     "name": "stdout",
     "output_type": "stream",
     "text": [
      "True\n",
      "False\n",
      "False\n",
      "False\n",
      "True\n",
      "True\n",
      "True\n",
      "False\n",
      "False\n",
      "True\n"
     ]
    }
   ],
   "source": [
    "# and | or : 논리연산 : bool타입을 이용해서 연산\n",
    "## and\n",
    "print(True and True) \n",
    "print(True and False)\n",
    "print(False and True)\n",
    "print(False and False)\n",
    "\n",
    "### or \n",
    "print(True or True) \n",
    "print(True or False)\n",
    "print(False or True)\n",
    "print(False or False)\n",
    "\n",
    "x = 10; y = 20 ; z = 15\n",
    "print( x > y and y > z)\n",
    "print( x > y or y > z )"
   ]
  },
  {
   "cell_type": "code",
   "execution_count": 255,
   "id": "842c3ef3",
   "metadata": {},
   "outputs": [
    {
     "name": "stdout",
     "output_type": "stream",
     "text": [
      "True\n",
      "False\n",
      "True\n",
      "False\n",
      "True\n",
      "False\n",
      "False\n",
      "True\n",
      "True\n",
      "False\n"
     ]
    }
   ],
   "source": [
    "print(bool(\"이숭무\")) ### True\n",
    "print(bool(\"\"))###### False\n",
    "print(bool([1,2,3,4]))### True\n",
    "print(bool([])) ###### False\n",
    "print(bool((1,2,3,4)))### True\n",
    "print(bool(()))   ###### False\n",
    "\n",
    "print(bool(0))    ###### False\n",
    "print(bool(-1))### True\n",
    "print(bool(1))### True\n",
    "print(bool(None))  ###### False"
   ]
  },
  {
   "cell_type": "code",
   "execution_count": 256,
   "id": "02ab8486",
   "metadata": {},
   "outputs": [
    {
     "name": "stdout",
     "output_type": "stream",
     "text": [
      "False\n",
      "False\n",
      "False\n",
      "False\n",
      "False\n"
     ]
    }
   ],
   "source": [
    "print(bool(\"\"))   ###### False\n",
    "print(bool([]))   ###### False\n",
    "print(bool(()))   ###### False\n",
    "print(bool(0))    ###### False\n",
    "print(bool(None))  ###### False"
   ]
  },
  {
   "cell_type": "code",
   "execution_count": 259,
   "id": "9d11b3a5",
   "metadata": {},
   "outputs": [
    {
     "name": "stdout",
     "output_type": "stream",
     "text": [
      "False\n",
      "평년입니다.\n"
     ]
    }
   ],
   "source": [
    "### 2200년은 윤년일까요(True)? 평년일까요(False)? \n",
    "### 4년마다 윤년이지만 100년마다는 윤년이 아니다 그렇지만 400년마다는 윤년이다.\n",
    "a = 2200 % 4 == 0 and 2200 % 100 != 0 or 2200 % 400 == 0\n",
    "print(a)\n",
    "\n",
    "if  2200 % 4 == 0 and 2200 % 100 != 0 or 2200 % 400 == 0 :\n",
    "    print(\"윤년입니다\")\n",
    "else:\n",
    "    print(\"평년입니다.\")\n",
    "    \n",
    "### bool타입은 제어문에서 사용하게 된다."
   ]
  },
  {
   "cell_type": "code",
   "execution_count": 266,
   "id": "14b8d9e1",
   "metadata": {},
   "outputs": [
    {
     "name": "stdout",
     "output_type": "stream",
     "text": [
      "0 0 0\n",
      "python\n",
      "life\n",
      "python\n",
      "life\n",
      "python\n",
      "life\n",
      "python\n",
      "life\n",
      "[1, 2, 3, 4]\n",
      "[5, 6, 7, 8]\n"
     ]
    }
   ],
   "source": [
    "### 파이썬 변수 선언법\n",
    "a = 'python'\n",
    "b = 'life'\n",
    "a = b = c = 0\n",
    "print(a,b,c)\n",
    "a, b = ('python','life' )\n",
    "print(a)\n",
    "print(b)\n",
    "(a, b) = 'python','life'\n",
    "print(a)\n",
    "print(b)\n",
    "(a, b) = ('python','life')\n",
    "print(a)\n",
    "print(b)\n",
    "a, b = 'python','life'\n",
    "print(a)\n",
    "print(b)\n",
    "a, b = ([1,2,3,4],[5,6,7,8])\n",
    "print(a)\n",
    "print(b)\n",
    "a, b = [1,2,3,4],[5,6,7,8]\n",
    "print(a)\n",
    "print(b)"
   ]
  },
  {
   "cell_type": "code",
   "execution_count": 268,
   "id": "57ff21af",
   "metadata": {},
   "outputs": [
    {
     "name": "stdout",
     "output_type": "stream",
     "text": [
      "3\n",
      "5\n",
      "5\n",
      "3\n"
     ]
    }
   ],
   "source": [
    "# 변수에 있는 값을 서로 교환하기\n",
    "a = 3 \n",
    "b = 5\n",
    "print(a)\n",
    "print(b)\n",
    "a , b = b, a\n",
    "print(a)\n",
    "print(b)"
   ]
  },
  {
   "cell_type": "code",
   "execution_count": 273,
   "id": "79d868fc",
   "metadata": {},
   "outputs": [
    {
     "name": "stdout",
     "output_type": "stream",
     "text": [
      "a차를 타고 가시오.\n"
     ]
    },
    {
     "data": {
      "text/plain": [
       "'\\nif 조건식 :\\n    명령문1\\n    명령문2\\n    ...\\n'"
      ]
     },
     "execution_count": 273,
     "metadata": {},
     "output_type": "execute_result"
    }
   ],
   "source": [
    "#### 3장 제어문\n",
    "### bool타입을 이용해서 원하는 결과를 얻어 오는 것을 말한다.\n",
    "## 조건문 : 여러가지 선택중에서 하나를 선택할 수 있게 하는 것\n",
    "### 조건식을 사용할 경우에는 조건문 뒤에는 : 이 있어야하고\n",
    "### 명령문은 들여쓰기를 하여야 한다. 들어쓰기가 되지 않은 경우 오류 발생\n",
    "### 들여쓰기는 공백문자 또는 탭을 사용할 수가 있지만 두개를 같이 사용하지 못한다.\n",
    "### 들여쓰기할 때는 주로 탭을 많이 사용한다.\n",
    "## 단일 if\n",
    "money = 3000\n",
    "if money >= 3000 : # 조건식 : 결과값은 bool타입이어야 한다.\n",
    "    print(\"a차를 타고 가시오.\")\n",
    "\n",
    "money = 2000 \n",
    "if money >= 3000 : ## False이므로 아래 명령문이 실행되지 않는다.\n",
    "    print(\"b차를 타고 가시오\")\n",
    "'''\n",
    "if 조건식 :\n",
    "    명령문1\n",
    "    명령문2\n",
    "    ...\n",
    "'''    "
   ]
  },
  {
   "cell_type": "code",
   "execution_count": 275,
   "id": "9a58a741",
   "metadata": {},
   "outputs": [
    {
     "name": "stdout",
     "output_type": "stream",
     "text": [
      "차를 타고 가시오.\n"
     ]
    }
   ],
   "source": [
    "### if ~ else  : 두개중에 하나를 선택하고자 할 때 사용\n",
    "money = 3000\n",
    "if money >= 3000: ### True면 실행\n",
    "    print(\"차를 타고 가시오.\")\n",
    "else: ## 조건이 False일 때 실행할 명령문\n",
    "    print(\"걸어가시오\")"
   ]
  },
  {
   "cell_type": "code",
   "execution_count": 277,
   "id": "87b7f5f5",
   "metadata": {},
   "outputs": [
    {
     "name": "stdout",
     "output_type": "stream",
     "text": [
      "걸어가시오\n"
     ]
    }
   ],
   "source": [
    "money = 2000\n",
    "if money >= 3000: ### True면 실행\n",
    "    print(\"차를 타고 가시오.\")\n",
    "else: ## 조건이 False일 때 실행할 명령문\n",
    "    print(\"걸어가시오\")"
   ]
  },
  {
   "cell_type": "code",
   "execution_count": 286,
   "id": "a8500d72",
   "metadata": {},
   "outputs": [
    {
     "name": "stdout",
     "output_type": "stream",
     "text": [
      "True\n",
      "False\n",
      "True\n",
      "False\n",
      "True\n",
      "0입니다\n"
     ]
    }
   ],
   "source": [
    "'''\n",
    "print(bool(\"이숭무\")) ### True\n",
    "print(bool(\"\"))###### False\n",
    "print(bool([1,2,3,4]))### True\n",
    "print(bool([])) ###### False\n",
    "print(bool((1,2,3,4)))### True\n",
    "print(bool(()))   ###### False\n",
    "\n",
    "print(bool(0))    ###### False\n",
    "print(bool(-1))### True\n",
    "print(bool(1))### True\n",
    "print(bool(None))  ###### False\n",
    "'''\n",
    "if \"이숭무\":\n",
    "    print(True)\n",
    "    \n",
    "if \"\":\n",
    "    print(True)\n",
    "else:\n",
    "    print(False)\n",
    "\n",
    "if 1 :\n",
    "    print(True)\n",
    "\n",
    "if 0 :\n",
    "    print(True)\n",
    "else:\n",
    "    print(False)\n",
    "\n",
    "if [1,2,3,4] :\n",
    "    print(True)\n",
    "\n",
    "if not 0: ### False를 True 변경\n",
    "    print(\"True입니다.\")\n",
    "    \n",
    "## not False : True , not True : False"
   ]
  },
  {
   "cell_type": "code",
   "execution_count": 294,
   "id": "339d641e",
   "metadata": {},
   "outputs": [
    {
     "name": "stdout",
     "output_type": "stream",
     "text": [
      "False\n",
      "False\n",
      "True\n",
      "False\n",
      "True\n",
      "True\n",
      "x와 y는 같지 않다.\n",
      "x가 작다\n"
     ]
    }
   ],
   "source": [
    "x = 10 ; y = 20 \n",
    "print( x == y )\n",
    "print( x > y )\n",
    "print( x < y )\n",
    "print( x >= y )\n",
    "print( x <= y )\n",
    "print( x != y )\n",
    "\n",
    "if x == y : #True\n",
    "    print(\"x와 y는 같다\")\n",
    "else: # False\n",
    "    print(\"x와 y는 같지 않다.\")\n",
    "\n",
    "if x < y : #True\n",
    "    print(\"x가 작다\")\n",
    "else: # False\n",
    "    print(\"y가 작다. x가 크다\")"
   ]
  },
  {
   "cell_type": "code",
   "execution_count": 308,
   "id": "d85331d6",
   "metadata": {},
   "outputs": [
    {
     "name": "stdout",
     "output_type": "stream",
     "text": [
      "True\n",
      "False\n",
      "리스트에 4가 포함되어 있습니다.\n",
      "리스트에 7가 포함되어 있지않다.\n",
      "True\n",
      "True\n",
      "True\n",
      "False\n",
      "True\n",
      "False\n",
      "True\n",
      "False\n",
      "True\n",
      "True\n",
      "주머니에 돈이 있습니다.\n",
      "python문자열에는 'j'가 포함되어 있지 않습니다\n"
     ]
    }
   ],
   "source": [
    "# 조건문에 IN연산자 사용하기\n",
    "l = [1,2,3,4,5,6]\n",
    "print(4 in l)\n",
    "print( 7 in l )\n",
    "if 4 in l:\n",
    "    print(\"리스트에 4가 포함되어 있습니다.\")\n",
    "else:\n",
    "    print(\"리스트에 4가 포함되어 있지않다.\")\n",
    "\n",
    "if 7 in l:\n",
    "    print(\"리스트에 7가 포함되어 있습니다.\")\n",
    "else:\n",
    "    print(\"리스트에 7가 포함되어 있지않다.\")\n",
    "\n",
    "    \n",
    "print(4 in [1,2,3,4,5,6])\n",
    "print(4 in (1,2,3,4,5,6))\n",
    "print(4 in {1,2,3,4,5,6})\n",
    "\n",
    "print(7 in {1,2,3,4,5,6})\n",
    "print(7 not in {1,2,3,4,5,6})\n",
    "print(4 not in {1,2,3,4,5,6})\n",
    "print('a' in {'a': 4, 'b':5 })\n",
    "print('j' in \"python\")\n",
    "print('j' not in \"python\")\n",
    "\n",
    "pocket = ['paper', 'cellphone', 'money']\n",
    "print('money' in pocket)\n",
    "if 'money' in pocket:\n",
    "    print(\"주머니에 돈이 있습니다.\")\n",
    "\n",
    "if 'j' not in \"python\":\n",
    "    print(\"python문자열에는 'j'가 포함되어 있지 않습니다\")\n",
    "\n",
    "### 제언문에서 추가로 사용되는 연산자 : not / in"
   ]
  },
  {
   "cell_type": "code",
   "execution_count": 311,
   "id": "04fa62d4",
   "metadata": {},
   "outputs": [
    {
     "name": "stdout",
     "output_type": "stream",
     "text": [
      "B\n",
      "합격\n",
      "False\n",
      "불합격\n"
     ]
    }
   ],
   "source": [
    "### 조건문 : 단일 if, if ~ else, if ~ elif ~ ... ~ else\n",
    "# score가 90이상이면 A, 80이상이면 B, 70이상이면 C, 60이상이면 D, 그렇지 않으면 F\n",
    "# 조건은 if문에만 줄 수 있다.\n",
    "score = 89\n",
    "if score >= 90:\n",
    "    print('A')\n",
    "elif score >= 80:\n",
    "    print('B')\n",
    "elif score >= 70:\n",
    "    print('C')\n",
    "elif score >= 60:\n",
    "    print('D')\n",
    "else:\n",
    "    print('F')\n",
    "\n",
    "### score가 60이상이면 합격 그렇지 않으면 불합격을 출력하시오.\n",
    "if score >= 60:\n",
    "    print(\"합격\")\n",
    "else:\n",
    "    print(\"불합격\")\n",
    "\n",
    "### 영어가 40이상이고, 국어가 40이상이고 , 수학이 40이상일 때 , 평균이 60이상이면 \n",
    "## 합격 그렇지 않으면 불합격\n",
    "mat = 55\n",
    "eng = 70\n",
    "kor = 40\n",
    "result = (mat+eng+kor)/3 >= 60 and mat >= 40 and eng >= 40 and kor >= 40\n",
    "print(result)\n",
    "\n",
    "if (mat+eng+kor)/3 >= 60 and mat >= 40 and eng >= 40 and kor >= 40:\n",
    "    print(\"합격\")\n",
    "else:\n",
    "    print(\"불합격\")"
   ]
  },
  {
   "cell_type": "code",
   "execution_count": 312,
   "id": "a033acf6",
   "metadata": {},
   "outputs": [
    {
     "name": "stdout",
     "output_type": "stream",
     "text": [
      "B+\n"
     ]
    }
   ],
   "source": [
    "### 95이상이면 A+ 이하면 A\n",
    "### 85이상이면 B+ 이하면 B\n",
    "### 75이상이면 C+ 이하면 C\n",
    "### 65이상이면 D+ 이하면 D\n",
    "score = 89 ### 다중 if문\n",
    "if score >= 90:\n",
    "    if score >= 95:\n",
    "        print('A+')\n",
    "    else:\n",
    "        print('A')\n",
    "elif score >= 80:\n",
    "    if score >= 85:\n",
    "        print('B+')\n",
    "    else:\n",
    "        print('B')\n",
    "elif score >= 70:\n",
    "    if score >= 75:\n",
    "        print('C+')\n",
    "    else:\n",
    "        print('C')\n",
    "elif score >= 60:\n",
    "    if score >= 65:\n",
    "        print('D+')\n",
    "    else:\n",
    "        print('D')\n",
    "else:\n",
    "    print('F')"
   ]
  },
  {
   "cell_type": "code",
   "execution_count": 316,
   "id": "3c20a21e",
   "metadata": {},
   "outputs": [
    {
     "name": "stdout",
     "output_type": "stream",
     "text": [
      "success\n",
      "success\n",
      "2\n"
     ]
    }
   ],
   "source": [
    "'''\n",
    "score가 60이면 message 변수에 success를 아니면 message 에 failure를 저장한 후 출력\n",
    "'''\n",
    "if  score >= 60:\n",
    "    message = 'success'\n",
    "else :\n",
    "    message = 'failure'\n",
    "print(message)\n",
    "\n",
    "###(*****)\n",
    "message = 'success' if score >= 60 else 'failure'\n",
    "print(message)\n",
    "\n",
    "#### 파이썬에서는 switch/case 문을 사용해야 되는 경우 딕셔너리를 권장한다.\n",
    "num = '2'\n",
    "'''\n",
    "swith(num){\n",
    "    case '1' : 1; break;\n",
    "    case '2' : 2; break;\n",
    "    case '3' : 3; break;\n",
    "}\n",
    "'''\n",
    "dic = {'1':1,'2':2,'3':3}\n",
    "print(dic[num])"
   ]
  },
  {
   "cell_type": "code",
   "execution_count": 324,
   "id": "232dcfce",
   "metadata": {},
   "outputs": [
    {
     "name": "stdout",
     "output_type": "stream",
     "text": [
      "나무를 1번 찍었습니다.\n",
      "나무를 2번 찍었습니다.\n",
      "나무를 3번 찍었습니다.\n",
      "나무를 4번 찍었습니다.\n",
      "나무를 5번 찍었습니다.\n",
      "나무를 6번 찍었습니다.\n",
      "나무를 7번 찍었습니다.\n",
      "나무를 8번 찍었습니다.\n",
      "나무를 9번 찍었습니다.\n",
      "나무를 10번 찍었습니다.\n",
      "==================================================\n",
      "나무를 1번 찍었습니다.\n",
      "나무를 2번 찍었습니다.\n",
      "나무를 3번 찍었습니다.\n",
      "나무를 4번 찍었습니다.\n",
      "나무를 5번 찍었습니다.\n",
      "나무를 6번 찍었습니다.\n",
      "나무를 7번 찍었습니다.\n",
      "나무를 8번 찍었습니다.\n",
      "나무를 9번 찍었습니다.\n",
      "나무를 10번 찍었습니다.\n"
     ]
    }
   ],
   "source": [
    "print(\"나무를 1번 찍었습니다.\")\n",
    "print(\"나무를 2번 찍었습니다.\")\n",
    "print(\"나무를 3번 찍었습니다.\")\n",
    "print(\"나무를 4번 찍었습니다.\")\n",
    "print(\"나무를 5번 찍었습니다.\")\n",
    "print(\"나무를 6번 찍었습니다.\")\n",
    "print(\"나무를 7번 찍었습니다.\")\n",
    "print(\"나무를 8번 찍었습니다.\")\n",
    "print(\"나무를 9번 찍었습니다.\")\n",
    "print(\"나무를 10번 찍었습니다.\")\n",
    "'''\n",
    "반복적인 명령문이 있는 경우 한번만 사용해도 똑 같은 결과를 얻도록 하는 것이\n",
    "반복문이다.\n",
    "'''\n",
    "print(\"=\"* 50)\n",
    "\n",
    "i = 1\n",
    "while i <= 10: # True이면 반복을 하고 False이면 중지\n",
    "    print(f\"나무를 {i}번 찍었습니다.\")\n",
    "    i += 1 # i = i + 1   # i = 1 + 1 = 2\n",
    "                         # i = 2 + 1 = 3\n",
    "                         # ...\n",
    "                         # i = 9 + 1 = 10\n",
    "                         # i = 10 + 1 = 11 # 반복을 멈춘다.   "
   ]
  },
  {
   "cell_type": "code",
   "execution_count": 334,
   "id": "0efdf3c7",
   "metadata": {},
   "outputs": [
    {
     "name": "stdout",
     "output_type": "stream",
     "text": [
      "8  * 1 = 8\n",
      "8  * 2 = 16\n",
      "8  * 3 = 24\n",
      "8  * 4 = 32\n",
      "8  * 5 = 40\n",
      "8  * 6 = 48\n",
      "8  * 7 = 56\n",
      "8  * 8 = 64\n",
      "8  * 9 = 72\n",
      "===========================================================================\n",
      "8  * 1 = 8\n",
      "8  * 2 = 16\n",
      "8  * 3 = 24\n",
      "8  * 4 = 32\n",
      "8  * 5 = 40\n",
      "8  * 6 = 48\n",
      "8  * 7 = 56\n",
      "8  * 8 = 64\n",
      "8  * 9 = 72\n",
      "===========================================================================\n",
      "8  * 1 = 8\n",
      "8  * 2 = 16\n",
      "8  * 3 = 24\n",
      "8  * 4 = 32\n",
      "8  * 5 = 40\n",
      "8  * 6 = 48\n",
      "8  * 7 = 56\n",
      "8  * 8 = 64\n",
      "8  * 9 = 72\n"
     ]
    }
   ],
   "source": [
    "print(f\"8  * 1 = {8*1}\")\n",
    "print(f\"8  * 2 = {8*2}\")\n",
    "print(f\"8  * 3 = {8*3}\")\n",
    "print(f\"8  * 4 = {8*4}\")\n",
    "print(f\"8  * 5 = {8*5}\")\n",
    "print(f\"8  * 6 = {8*6}\")\n",
    "print(f\"8  * 7 = {8*7}\")\n",
    "print(f\"8  * 8 = {8*8}\")\n",
    "print(f\"8  * 9 = {8*9}\")\n",
    "\n",
    "print(\"===\" * 25)\n",
    "\n",
    "i = 1\n",
    "while i <= 9:\n",
    "    print(f\"8  * {i} = {8*i}\")\n",
    "    i += 1\n",
    "\n",
    "print(\"===\" * 25)\n",
    "### 포맷문자를 사용하여 출력하시오\n",
    "i = 1\n",
    "while i <= 9:\n",
    "    print(\"8  * %d = %d\" % (i, 8 * i))\n",
    "    i += 1"
   ]
  },
  {
   "cell_type": "code",
   "execution_count": 348,
   "id": "06410146",
   "metadata": {},
   "outputs": [
    {
     "name": "stdout",
     "output_type": "stream",
     "text": [
      "단을 입력하시오. : 4\n",
      "4  * 1 = 4\n",
      "4  * 2 = 8\n",
      "4  * 3 = 12\n",
      "4  * 4 = 16\n",
      "4  * 5 = 20\n",
      "4  * 6 = 24\n",
      "4  * 7 = 28\n",
      "4  * 8 = 32\n",
      "4  * 9 = 36\n",
      "============================================================\n",
      "4  * 9 = 4\n",
      "4  * 9 = 8\n",
      "4  * 9 = 12\n",
      "4  * 9 = 16\n",
      "4  * 9 = 20\n",
      "4  * 9 = 24\n",
      "4  * 9 = 28\n",
      "4  * 9 = 32\n",
      "4  * 9 = 36\n",
      "============================================================\n",
      "4  * 1 = 4\n",
      "4  * 2 = 8\n",
      "4  * 3 = 12\n",
      "4  * 4 = 16\n",
      "4  * 5 = 20\n",
      "4  * 6 = 24\n",
      "4  * 7 = 28\n",
      "4  * 8 = 32\n",
      "4  * 9 = 36\n"
     ]
    }
   ],
   "source": [
    "### 원하는 단을 입력 받아서 구구단을 출력하시오.\n",
    "dan = int(input(\"단을 입력하시오. : \")) # 입력창에서 받은 데이터는 모두 문자이다.\n",
    "print(f\"{dan}  * 1 = {dan * 1}\")\n",
    "print(f\"{dan}  * 2 = {dan * 2}\")\n",
    "print(f\"{dan}  * 3 = {dan * 3}\")\n",
    "print(f\"{dan}  * 4 = {dan * 4}\")\n",
    "print(f\"{dan}  * 5 = {dan * 5}\")\n",
    "print(f\"{dan}  * 6 = {dan * 6}\")\n",
    "print(f\"{dan}  * 7 = {dan * 7}\")\n",
    "print(f\"{dan}  * 8 = {dan * 8}\")\n",
    "print(f\"{dan}  * 9 = {dan * 9}\")\n",
    "\n",
    "print(\"==\" * 30)\n",
    "i = 1\n",
    "while i <=9:\n",
    "    print(f\"{dan}  * 9 = {dan * i}\")\n",
    "    i += 1\n",
    "\n",
    "print(\"==\" * 30)\n",
    "### 포맷문자를 사용하여 출력하시오\n",
    "i = 1\n",
    "while i <= 9:\n",
    "    print(\"%d  * %d = %d\" % (dan, i, dan * i))\n",
    "    i += 1"
   ]
  },
  {
   "cell_type": "code",
   "execution_count": 350,
   "id": "aa4304b1",
   "metadata": {},
   "outputs": [
    {
     "name": "stdout",
     "output_type": "stream",
     "text": [
      "8  * 4 = 32\n",
      "8  * 5 = 40\n",
      "8  * 6 = 48\n",
      "8  * 7 = 56\n",
      "============================================================\n",
      "단을 입력하시오. : 4\n",
      "4  * 4 = 16\n",
      "4  * 5 = 20\n",
      "4  * 6 = 24\n",
      "4  * 7 = 28\n"
     ]
    }
   ],
   "source": [
    "print(\"8  * 4 = 32\")\n",
    "print(\"8  * 5 = 40\")\n",
    "print(\"8  * 6 = 48\")\n",
    "print(\"8  * 7 = 56\")\n",
    "print(\"==\" * 30)\n",
    "dan = int(input(\"단을 입력하시오. : \"))\n",
    "start  = 4\n",
    "end = 7\n",
    "while start <= end:\n",
    "    print(\"%d  * %d = %d\" % (dan, start, dan * start))\n",
    "    start += 1"
   ]
  },
  {
   "cell_type": "code",
   "execution_count": 352,
   "id": "37cff58a",
   "metadata": {},
   "outputs": [
    {
     "name": "stdout",
     "output_type": "stream",
     "text": [
      "단을 입력하시오. : 4\n",
      "시작 곱을 입력하시오 : 2\n",
      "마지막 곱을 입력하시오5\n",
      "4  * 2 = 8\n",
      "4  * 3 = 12\n",
      "4  * 4 = 16\n",
      "4  * 5 = 20\n"
     ]
    }
   ],
   "source": [
    "dan = int(input(\"단을 입력하시오. : \"))\n",
    "start  =  int(input(\"시작 곱을 입력하시오 : \"))\n",
    "end = int(input(\"마지막 곱을 입력하시오\"))\n",
    "while start <= end:\n",
    "    print(\"%d  * %d = %d\" % (dan, start, dan * start))\n",
    "    start += 1"
   ]
  }
 ],
 "metadata": {
  "kernelspec": {
   "display_name": "Python 3 (ipykernel)",
   "language": "python",
   "name": "python3"
  },
  "language_info": {
   "codemirror_mode": {
    "name": "ipython",
    "version": 3
   },
   "file_extension": ".py",
   "mimetype": "text/x-python",
   "name": "python",
   "nbconvert_exporter": "python",
   "pygments_lexer": "ipython3",
   "version": "3.8.11"
  }
 },
 "nbformat": 4,
 "nbformat_minor": 5
}
