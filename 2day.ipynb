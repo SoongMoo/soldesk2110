{
 "cells": [
  {
   "cell_type": "code",
   "execution_count": 20,
   "id": "cff5d81a",
   "metadata": {},
   "outputs": [
    {
     "name": "stdout",
     "output_type": "stream",
     "text": [
      "L\n",
      "n\n",
      "Life \n",
      "Life \n",
      "Life is too short, You need python\n",
      "Lf st\n",
      "nohtyp deen uoY ,trohs oot si efiL\n",
      "Leso\n"
     ]
    },
    {
     "data": {
      "text/plain": [
       "False"
      ]
     },
     "execution_count": 20,
     "metadata": {},
     "output_type": "execute_result"
    }
   ],
   "source": [
    "# 리터널 : 자연어 : 문자, 숫자 \n",
    "# 숫자 : 정수 , 실수 , 10, 10.5 , '10'(x)\n",
    "# 연산자 : + - * / % // **\n",
    "# 문자 : 'abc' ,\"abc\", '''abc''' , \"\"\"abc\"\"\" , '10',   a : 변수 : 문자가 될 수 없다\n",
    "a  = 10\n",
    "# 문자열에서  indexing\n",
    "a = 'Life is too short, You need python'\n",
    "#    0123456789012345678901234567890123\n",
    "#              1         2         3\n",
    "#                                 54321 -  \n",
    "print(a[0])\n",
    "print(a[-1])\n",
    "# 문자열에서  slicing\n",
    "print(a[0:0+5])\n",
    "print(a[0:5])\n",
    "print(a[:])\n",
    "print(a[0:10:2]) # 한칸씩 건너 띄어서 가져오기\n",
    "print(a[::-1]) # 거꾸로 출력하기\n",
    "print(a[0:10:3]) # 두칸씩 건너 띄어서 가져오기\n",
    "# 연산자 : + , *\n",
    "# 문자함수\n",
    "a.count('o')\n",
    "a.find('t')\n",
    "a.find('too') # 문자열인 경우 첫번째 문자의 iondex를 가져온다.\n",
    "a.find('s',7)\n",
    "a.find('k') # 없는 문자인 경우 : -1\n",
    "a.index('t') \n",
    "a.index('s',7) \n",
    "a.index('too') \n",
    "a.rindex('s') \n",
    "# a.index('k')  #없는 문자인 경우 : 오류가 발생\n",
    "':'.join(a) # 문자열 삽입 (*****)\n",
    "a.upper() \n",
    "a.lower() \n",
    "a.strip() # 양쪽 공백을 제거 할때 사용\n",
    "a.strip('ab') \n",
    "a.lstrip() # 오른쪽에 있는 공백문자를 제거\n",
    "a.rstrip() # 왼쪽에 있는 공백문자만 제거\n",
    "a.rstrip(\"ab\") ### abcdefab  ==> abcdef\n",
    "a.replace(\"Life\", \"Yore leg\")\n",
    "a = \"010-1234-1234\"\n",
    "a.isdigit() # 행당 문자열이 모두 숫자인지 \"12345678\" : true/false\n",
    "            # a = \"010-1234-1234\" : false\n",
    "a = \"01012341234\" # 숫자 앞에 0이 있는 경우에는 문자로 인식할 수도 있으니 주의\n",
    "a.isdigit() \n",
    "a = \"abc def\" # 공백문자는  알파벳이 아니다.\n",
    "a.isalpha() \n",
    "a = \"abcdef\" \n",
    "a.isalpha()\n",
    "a.islower() # 모두 소문자\n",
    "a.isupper() # 모두 대문자  true/false"
   ]
  },
  {
   "cell_type": "code",
   "execution_count": 33,
   "id": "aef0dd98",
   "metadata": {},
   "outputs": [
    {
     "name": "stdout",
     "output_type": "stream",
     "text": [
      "나는 10개의 사과를 먹어서 three일 동안 아팠습니다.\n"
     ]
    }
   ],
   "source": [
    "# 문자열 출력하기.\n",
    "print(a)\n",
    "number = 10\n",
    "day = \"three\"\n",
    "a = \"나의 나이는 %d살이고 키는 %3.1f 입니다.\" % (35, 175.5)\n",
    "a = \"나는 {1}개의 사과를 먹어서 {0}일 동안 아팠습니다.\".format(5, 3)\n",
    "a = \"나는 {number}개의 사과를 먹어서 {day}일 동안 아팠습니다.\".format(number=10, day=3)\n",
    "a = f\"나는 {number}개의 사과를 먹어서 {day}일 동안 아팠습니다.\""
   ]
  },
  {
   "cell_type": "code",
   "execution_count": 41,
   "id": "187b7ddc",
   "metadata": {},
   "outputs": [
    {
     "name": "stdout",
     "output_type": "stream",
     "text": [
      "=====\n",
      "1\n",
      "4\n",
      "[1, 2]\n",
      "[1, 2, 3, 4, 5, 6]\n",
      "[1, 2, 3, 1, 2, 3, 1, 2, 3]\n",
      "11\n",
      "3\n",
      "[4, 10, 6]\n",
      "[4, 6]\n",
      "[4, 6, 10]\n"
     ]
    }
   ],
   "source": [
    "# 리스트 : 여러 유형의 데이터를 여러 개 저장할 수 있는 자료형 []\n",
    "a  = [] # []를 사용하면 리스트가 된다. 빈리스트\n",
    "b = [1, 2, 3] # 정수형 리스트\n",
    "c = ['Life', 'is', 'too', 'short'] # 문자열 리스트\n",
    "d = [1,2,3,'Life', 'is', 'too', 'short'] # 정수와 문자열 혼합 리스트\n",
    "e = [1,2,3,[4,5,'Life']] # 리스트에 리스트를 포함\n",
    "print(\"=\" * 5)\n",
    "a = 1 # 숫자\n",
    "a = '1' # 문자열\n",
    "a = [1] # 리스트\n",
    "a = [1, 2, 3]\n",
    "print(a[0])\n",
    "print(a[0] + a[2])\n",
    "print(a[0:2])\n",
    "### 연산자 :  + , * \n",
    "a = [1, 2, 3]\n",
    "b = [4, 5, 6]\n",
    "print(a + b)\n",
    "print(a * 3)\n",
    "a = \"01012341234\"\n",
    "print(len(a))\n",
    "print(len(b))\n",
    "b[1] = 10 # index를 이용해서 리스트에 있는 값을 변경\n",
    "print(b)\n",
    "del b[1] # del 명령어를 이용하여 index에 해당하는 값을 리스트에서 삭제\n",
    "print(b)\n",
    "b.append(10)\n",
    "print(b)\n",
    "##############################################"
   ]
  },
  {
   "cell_type": "code",
   "execution_count": 54,
   "id": "855cb6ba",
   "metadata": {},
   "outputs": [
    {
     "name": "stdout",
     "output_type": "stream",
     "text": [
      "[1, 4, 2, 3]\n",
      "[1, 2, 3, 4]\n",
      "[1, 4, 2, 3]\n",
      "[3, 2, 4, 1]\n",
      "2\n",
      "2\n",
      "-1\n",
      "3\n"
     ]
    }
   ],
   "source": [
    "a = [1, 4, 2, 3]\n",
    "print(a)\n",
    "# 데이터를 정렬\n",
    "a.sort() # 실제 데이터를 변경하는 함수\n",
    "print(a)\n",
    "a = [1, 4, 2, 3]\n",
    "print(a)\n",
    "a.reverse() # 역순으로 저장  : 내림차순 아님\n",
    "print(a)\n",
    "##########################################\n",
    "s = \"Life is too short\"\n",
    "print(s.index('f'))\n",
    "print(s.find('f'))\n",
    "print(s.find('k'))\n",
    "a = [1, 4, 2, 3]\n",
    "##### 리스트에 원하는 데이터가 있는지 찾기 : index\n",
    "print(a.index(3))\n",
    "# print(a.index(5)) # 없는 데이터인 경우 오류\n",
    "# print(a.find(5)) # 리스트에는 find함수가 없다."
   ]
  },
  {
   "cell_type": "code",
   "execution_count": 61,
   "id": "7d70e068",
   "metadata": {},
   "outputs": [
    {
     "name": "stdout",
     "output_type": "stream",
     "text": [
      "[1, 2, 3]\n",
      "[1, 2, 3, 4]\n",
      "[1, 2, 3, 4, 5]\n",
      "[1, 6, 2, 3, 4, 5]\n",
      "[1, 6, 2, 10, 3, 4, 5]\n",
      "[1, 6, 2, 10, 3, [1, 2, 3, 4], 4, 5]\n"
     ]
    }
   ],
   "source": [
    "a = [1,2,3]\n",
    "#    0 1 2\n",
    "print(a)\n",
    "a.append(4) # 마지막에 데이터가 추가가 된다.\n",
    "print(a)\n",
    "a.append(5) # [1, 2, 3, 4, 5]\n",
    "print(a)\n",
    "a.insert(1, 6) # [1, 6, 2, 3, 4, 5]\n",
    "print(a)\n",
    "a.insert(3, 10) # [1, 6, 2, 10, 3, 4, 5 ]\n",
    "print(a)\n",
    "a.insert(5, [1,2,3,4]) # [1, 6, 2, 10, 3, [1,2,3,4],4 ,5 ]\n",
    "print(a)"
   ]
  },
  {
   "cell_type": "code",
   "execution_count": 69,
   "id": "e2dbfffe",
   "metadata": {},
   "outputs": [
    {
     "name": "stdout",
     "output_type": "stream",
     "text": [
      "[1, 4, 2, 5, 4, 3]\n",
      "[1, 2, 5, 4, 3]\n",
      "[1, 4, 2, 5, 4, 3]\n",
      "[1, 2, 5, 4, 3]\n",
      "[1, 2, 5, 3]\n"
     ]
    }
   ],
   "source": [
    "a = [1, 4, 2, 5, 4, 3]\n",
    "#    0  1  2  3  4  5\n",
    "print(a)\n",
    "del a[1] #### index를 이용해서 삭제\n",
    "print(a)\n",
    "a.insert(1, 4)\n",
    "print(a)\n",
    "##### 값을 이용해서 삭제\n",
    "#  리터널을 이용해서 리터널에 해당되는 값을 삭제\n",
    "a.remove(4) ### 4값을 삭제\n",
    "print(a) # 처음에 있는 값부터 삭제\n",
    "a.remove(4)\n",
    "print(a)"
   ]
  },
  {
   "cell_type": "code",
   "execution_count": 72,
   "id": "5e4bf77f",
   "metadata": {},
   "outputs": [
    {
     "name": "stdout",
     "output_type": "stream",
     "text": [
      "[1, 4, 2, 5, 4, 3]\n",
      "2\n",
      "[1, 2, 5, 3]\n"
     ]
    }
   ],
   "source": [
    "a = [1, 4, 2, 5, 4, 3]\n",
    "print(a)\n",
    "cnt = a.count(4) #### 반복문에서 이용하면 count만큼 삭제 하도록 할 수 있다.\n",
    "print(cnt)\n",
    "i = 0 \n",
    "while i < cnt : # cnt만큼 remove가 반복되게 만듦\n",
    "    a.remove(4) \n",
    "    i+=1\n",
    "print(a)"
   ]
  },
  {
   "cell_type": "code",
   "execution_count": 83,
   "id": "1f82727e",
   "metadata": {},
   "outputs": [
    {
     "name": "stdout",
     "output_type": "stream",
     "text": [
      "[1, 4, 2, 5, 4, 3]\n",
      "[1, 2, 5, 4, 3]\n",
      "[1, 2, 5, 3]\n",
      "3\n",
      "[1, 2, 5]\n",
      "5\n",
      "[1, 2]\n",
      "2\n",
      "[1]\n",
      "4\n",
      "[1, 4, 2, 5, 3]\n",
      "2\n",
      "[1, 4, 5, 3]\n"
     ]
    }
   ],
   "source": [
    "a = [1, 4, 2, 5, 4, 3]\n",
    "print(a)\n",
    "del a[1]\n",
    "print(a)\n",
    "a.remove(4)\n",
    "print(a) \n",
    "b = a.pop() # 리스트에 있는 값을 가져 나온 후 삭제  # 맨 마지막 값부터 삭제\n",
    "print(b)\n",
    "print(a)\n",
    "b = a.pop() \n",
    "print(b)\n",
    "print(a)\n",
    "b = a.pop() \n",
    "print(b)\n",
    "print(a)\n",
    "a = [1, 4, 2, 5, 4, 3]\n",
    "#    0  1  2  3  4  5\n",
    "b = a.pop(4) # index를 사용해서 데이터 삭제\n",
    "print(b)\n",
    "print(a)\n",
    "b = a.pop(2)\n",
    "print(b)\n",
    "print(a)"
   ]
  },
  {
   "cell_type": "code",
   "execution_count": 87,
   "id": "1784370a",
   "metadata": {},
   "outputs": [
    {
     "name": "stdout",
     "output_type": "stream",
     "text": [
      "[1, 2, 3, 4, 4, 5]\n",
      "[3, 4, 5, 2, 4, 1]\n",
      "[5, 4, 4, 3, 2, 1]\n"
     ]
    }
   ],
   "source": [
    "a = [1, 4, 2, 5, 4, 3]\n",
    "a.sort() # 오름차순으로 정렬\n",
    "print(a)\n",
    "a = [1, 4, 2, 5, 4, 3]\n",
    "a.reverse()\n",
    "print(a)\n",
    "### 내림차순으로 변경\n",
    "a.sort(reverse=True)\n",
    "print(a)"
   ]
  }
 ],
 "metadata": {
  "kernelspec": {
   "display_name": "Python 3 (ipykernel)",
   "language": "python",
   "name": "python3"
  },
  "language_info": {
   "codemirror_mode": {
    "name": "ipython",
    "version": 3
   },
   "file_extension": ".py",
   "mimetype": "text/x-python",
   "name": "python",
   "nbconvert_exporter": "python",
   "pygments_lexer": "ipython3",
   "version": "3.8.11"
  }
 },
 "nbformat": 4,
 "nbformat_minor": 5
}
