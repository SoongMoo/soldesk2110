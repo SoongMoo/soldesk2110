{
 "cells": [
  {
   "cell_type": "code",
   "execution_count": 3,
   "id": "152ae8c8",
   "metadata": {},
   "outputs": [
    {
     "name": "stdout",
     "output_type": "stream",
     "text": [
      "파이썬 실행\n",
      "실행2\n"
     ]
    }
   ],
   "source": [
    "# 한 행이 명령 줄이다. ==== 주석\n",
    "print(\"파이썬 실행\"); print(\"실행2\") # 주석"
   ]
  },
  {
   "cell_type": "code",
   "execution_count": 13,
   "id": "2adb9589",
   "metadata": {},
   "outputs": [
    {
     "name": "stdout",
     "output_type": "stream",
     "text": [
      "10\n",
      "10.1\n",
      "10\n",
      "20\n",
      "1\n",
      "3\n",
      "100\n",
      "1000\n"
     ]
    }
   ],
   "source": [
    "#### 자료형 : 80%\n",
    "### 숫자 : 정수 , 실수\n",
    "### 정수 : 1, 10, 11\n",
    "##  실수 : 1.1 , 1.0 , 10.1\n",
    "print(10) ### 정수\n",
    "print(10.1) ### 실수 \n",
    "### 리터널 : 자연어 : 숫자, 문자,\n",
    "### 리터널 값을 저장하는 문자를 변수\n",
    "a = 10 \n",
    "# 변수 = 리터널\n",
    "print(a)\n",
    "## 연산자 : +, - , / , * , % , //, **\n",
    "print( 10  * 2 )\n",
    "### 나머지 : %\n",
    "print(10 % 3)\n",
    "### 몫 연산자\n",
    "print(10 // 3)\n",
    "### 제곱 승\n",
    "print(10 ** 2)\n",
    "print(10 ** 3)"
   ]
  },
  {
   "cell_type": "code",
   "execution_count": 26,
   "id": "e0ab6b0e",
   "metadata": {},
   "outputs": [
    {
     "name": "stdout",
     "output_type": "stream",
     "text": [
      "10\n",
      "10\n",
      "b\n",
      "이숭무\n",
      "이숭무\n",
      "Hello World\n",
      "Python is fun\n"
     ]
    }
   ],
   "source": [
    "## 문자열\n",
    "### 문자만 사용하면 프로그램에서는 변수라고 인식을 한다.\n",
    "### 변수에는 값이 존재해야 하고 선언이 되어 있어야 한다.\n",
    "# print(b) # name 'b' is not defined\n",
    "b = 10 ## 선언과 값을 가져야 한다.\n",
    "print(b)\n",
    "### 변수와 문자를 구별하도록 하자.\n",
    "print(b)\n",
    "print(\"b\")\n",
    "# 문자열을 나타내는 리터널은 : \"\" , ''\n",
    "print(\"이숭무\")\n",
    "print('이숭무')\n",
    "######################\n",
    "print(\"Hello World\")\n",
    "print('Python is fun')"
   ]
  },
  {
   "cell_type": "code",
   "execution_count": 29,
   "id": "a9676b2a",
   "metadata": {},
   "outputs": [
    {
     "name": "stdout",
     "output_type": "stream",
     "text": [
      "Life is too short, You need python\n",
      "Life is too short, You need python\n"
     ]
    }
   ],
   "source": [
    "print(\"\"\"Life is too short, You need python\"\"\")\n",
    "print('''Life is too short, You need python''')\n",
    "### 문자열을 나타내는 리터널을 표시하기 위해서는 \"\",'',\"\"\"\"\"\",''''''"
   ]
  },
  {
   "cell_type": "code",
   "execution_count": 37,
   "id": "999124eb",
   "metadata": {},
   "outputs": [
    {
     "name": "stdout",
     "output_type": "stream",
     "text": [
      "Life is too short, \n",
      "You need python\n",
      "Life is too short, \n",
      "You need python\n"
     ]
    }
   ],
   "source": [
    "'''\n",
    "print(\"이\n",
    "      숭\n",
    "      무\")\n",
    "'''\n",
    "print(\"\"\"Life is too short, \n",
    "You need python\"\"\") #### 행바꿈이 있는 문자열이 있는 경우\n",
    "print('''Life is too short, \n",
    "You need python''')"
   ]
  },
  {
   "cell_type": "code",
   "execution_count": 41,
   "id": "d1317e81",
   "metadata": {},
   "outputs": [
    {
     "name": "stdout",
     "output_type": "stream",
     "text": [
      "Life's too short, You need python\n",
      "Life is too short, \"You need python\"\n"
     ]
    }
   ],
   "source": [
    "print(\"Life's too short, You need python\")\n",
    "print('Life is too short, \"You need python\"')"
   ]
  },
  {
   "cell_type": "code",
   "execution_count": 44,
   "id": "1fc713e9",
   "metadata": {},
   "outputs": [
    {
     "name": "stdout",
     "output_type": "stream",
     "text": [
      "Life's too short, You need python\n",
      "Life is too short, \"You need python\"\n"
     ]
    }
   ],
   "source": [
    "print('Life\\'s too short, You need python')\n",
    "print(\"Life is too short, \\\"You need python\\\"\")"
   ]
  },
  {
   "cell_type": "code",
   "execution_count": 49,
   "id": "cd794743",
   "metadata": {},
   "outputs": [
    {
     "name": "stdout",
     "output_type": "stream",
     "text": [
      "Life's too short, You need python\n",
      "Life's too short, You need python\n",
      "Python\n",
      "Python\n",
      "is fun\n",
      "is fun\n"
     ]
    }
   ],
   "source": [
    "print('Life\\'s too short, You need python')\n",
    "aa = 'Life\\'s too short, You need python'\n",
    "print(aa)\n",
    "print(\"Python\")\n",
    "head = \"Python\"\n",
    "print(head)\n",
    "print(\"is fun\")\n",
    "tail = \"is fun\"\n",
    "print(tail)"
   ]
  },
  {
   "cell_type": "code",
   "execution_count": 60,
   "id": "e6d3eff1",
   "metadata": {},
   "outputs": [
    {
     "name": "stdout",
     "output_type": "stream",
     "text": [
      "Python\n",
      "is fun\n",
      "Python is fun\n",
      "Python is fun\n",
      "PythonPythonPythonPythonPython\n",
      "==================================================\n",
      "Life's too short, You need python\n",
      "==================================================\n"
     ]
    }
   ],
   "source": [
    "### 숫자 연산자 : +, -, * ,/ , % , //, **\n",
    "### 문자열 연산자 : + , *\n",
    "print(head)\n",
    "print(tail)\n",
    "#### + : 문자열 붙이기 연산자.\n",
    "print(\"Python \" + \"is fun\")\n",
    "print(head + \" \" + tail)\n",
    "# print(\"나의 나이는 \" + 35) # 데이터의 형태가 다르면 연산할 수 없다.\n",
    "# can only concatenate str (not \"int\") to str\n",
    "print(\"Python\" * 5)\n",
    "# 문자열에서 *연산자는 반복 연산자이다.\n",
    "print(\"=\" * 50)\n",
    "print(\"Life's too short, You need python\")\n",
    "print(\"=\" * 50)"
   ]
  },
  {
   "cell_type": "code",
   "execution_count": 62,
   "id": "7773ca92",
   "metadata": {},
   "outputs": [
    {
     "name": "stdout",
     "output_type": "stream",
     "text": [
      "17\n"
     ]
    }
   ],
   "source": [
    "a = \"Life is too short\"\n",
    "###  12345678901234567\n",
    "###           1\n",
    "### 글자의 갯수\n",
    "print(len(a))"
   ]
  },
  {
   "cell_type": "code",
   "execution_count": 76,
   "id": "6b084d09",
   "metadata": {},
   "outputs": [
    {
     "name": "stdout",
     "output_type": "stream",
     "text": [
      "t\n",
      "s\n",
      "s\n",
      "t\n",
      "t\n",
      "r\n",
      "L\n",
      "L\n",
      "L\n",
      "L\n",
      "i\n",
      "f\n",
      "e\n",
      "Life\n"
     ]
    }
   ],
   "source": [
    "# index  : 문자열 리터널의 문자의 고유의 번호\n",
    "# indexing : 고유의 번호를 이용해서 문자를 가져오는 것\n",
    "a = \"Life is too short\"\n",
    "#    01234567890123456\n",
    "#              1\n",
    "#    76543210987654321-\n",
    "#           1\n",
    "print(a[8])\n",
    "print(a[12])\n",
    "print(a[6])\n",
    "\n",
    "print(a[16])# 맨뒤에 있는 문자를 가져오시오.\n",
    "print(a[-1])# 맨뒤에 있는 문자를 가져오시오.\n",
    "\n",
    "print(a[-2])# 뒤에서 두번째 있는 문자를 가져오시오.\n",
    "\n",
    "print(a[0])# 맨앞에 있는 문자를 가져오시오.\n",
    "print(a[-17])# 맨앞에 있는 문자를 가져오시오.\n",
    "print(a[-0])# 맨앞에 있는 문자를 가져오시오.\n",
    "# index를 이용해서 'Life'를 출력하시오.\n",
    "print(a[0]); print(a[1]); print(a[2]); print(a[3])\n",
    "print(a[0]+a[1]+a[2]+a[3])"
   ]
  },
  {
   "cell_type": "code",
   "execution_count": null,
   "id": "a58412a3",
   "metadata": {},
   "outputs": [],
   "source": []
  }
 ],
 "metadata": {
  "kernelspec": {
   "display_name": "Python 3 (ipykernel)",
   "language": "python",
   "name": "python3"
  },
  "language_info": {
   "codemirror_mode": {
    "name": "ipython",
    "version": 3
   },
   "file_extension": ".py",
   "mimetype": "text/x-python",
   "name": "python",
   "nbconvert_exporter": "python",
   "pygments_lexer": "ipython3",
   "version": "3.8.11"
  }
 },
 "nbformat": 4,
 "nbformat_minor": 5
}
