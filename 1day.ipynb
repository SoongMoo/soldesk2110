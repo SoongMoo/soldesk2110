{
 "cells": [
  {
   "cell_type": "code",
   "execution_count": 3,
   "id": "ce518de1",
   "metadata": {},
   "outputs": [
    {
     "name": "stdout",
     "output_type": "stream",
     "text": [
      "파이썬 실행\n",
      "실행2\n"
     ]
    }
   ],
   "source": [
    "# 한 행이 명령 줄이다. ==== 주석\n",
    "print(\"파이썬 실행\"); print(\"실행2\") # 주석"
   ]
  },
  {
   "cell_type": "code",
   "execution_count": 13,
   "id": "5d019c45",
   "metadata": {},
   "outputs": [
    {
     "name": "stdout",
     "output_type": "stream",
     "text": [
      "10\n",
      "10.1\n",
      "10\n",
      "20\n",
      "1\n",
      "3\n",
      "100\n",
      "1000\n"
     ]
    }
   ],
   "source": [
    "#### 자료형 : 80%\n",
    "### 숫자 : 정수 , 실수\n",
    "### 정수 : 1, 10, 11\n",
    "##  실수 : 1.1 , 1.0 , 10.1\n",
    "print(10) ### 정수\n",
    "print(10.1) ### 실수 \n",
    "### 리터널 : 자연어 : 숫자, 문자,\n",
    "### 리터널 값을 저장하는 문자를 변수\n",
    "a = 10 \n",
    "# 변수 = 리터널\n",
    "print(a)\n",
    "## 연산자 : +, - , / , * , % , //, **\n",
    "print( 10  * 2 )\n",
    "### 나머지 : %\n",
    "print(10 % 3)\n",
    "### 몫 연산자\n",
    "print(10 // 3)\n",
    "### 제곱 승\n",
    "print(10 ** 2)\n",
    "print(10 ** 3)"
   ]
  },
  {
   "cell_type": "code",
   "execution_count": 26,
   "id": "0f33c780",
   "metadata": {},
   "outputs": [
    {
     "name": "stdout",
     "output_type": "stream",
     "text": [
      "10\n",
      "10\n",
      "b\n",
      "이숭무\n",
      "이숭무\n",
      "Hello World\n",
      "Python is fun\n"
     ]
    }
   ],
   "source": [
    "## 문자열\n",
    "### 문자만 사용하면 프로그램에서는 변수라고 인식을 한다.\n",
    "### 변수에는 값이 존재해야 하고 선언이 되어 있어야 한다.\n",
    "# print(b) # name 'b' is not defined\n",
    "b = 10 ## 선언과 값을 가져야 한다.\n",
    "print(b)\n",
    "### 변수와 문자를 구별하도록 하자.\n",
    "print(b)\n",
    "print(\"b\")\n",
    "# 문자열을 나타내는 리터널은 : \"\" , ''\n",
    "print(\"이숭무\")\n",
    "print('이숭무')\n",
    "######################\n",
    "print(\"Hello World\")\n",
    "print('Python is fun')"
   ]
  },
  {
   "cell_type": "code",
   "execution_count": 29,
   "id": "cd9e5dfd",
   "metadata": {},
   "outputs": [
    {
     "name": "stdout",
     "output_type": "stream",
     "text": [
      "Life is too short, You need python\n",
      "Life is too short, You need python\n"
     ]
    }
   ],
   "source": [
    "print(\"\"\"Life is too short, You need python\"\"\")\n",
    "print('''Life is too short, You need python''')\n",
    "### 문자열을 나타내는 리터널을 표시하기 위해서는 \"\",'',\"\"\"\"\"\",''''''"
   ]
  },
  {
   "cell_type": "code",
   "execution_count": 37,
   "id": "7dcb8475",
   "metadata": {},
   "outputs": [
    {
     "name": "stdout",
     "output_type": "stream",
     "text": [
      "Life is too short, \n",
      "You need python\n",
      "Life is too short, \n",
      "You need python\n"
     ]
    }
   ],
   "source": [
    "'''\n",
    "print(\"이\n",
    "      숭\n",
    "      무\")\n",
    "'''\n",
    "print(\"\"\"Life is too short, \n",
    "You need python\"\"\") #### 행바꿈이 있는 문자열이 있는 경우\n",
    "print('''Life is too short, \n",
    "You need python''')"
   ]
  },
  {
   "cell_type": "code",
   "execution_count": 41,
   "id": "82304d10",
   "metadata": {},
   "outputs": [
    {
     "name": "stdout",
     "output_type": "stream",
     "text": [
      "Life's too short, You need python\n",
      "Life is too short, \"You need python\"\n"
     ]
    }
   ],
   "source": [
    "print(\"Life's too short, You need python\")\n",
    "print('Life is too short, \"You need python\"')"
   ]
  },
  {
   "cell_type": "code",
   "execution_count": 44,
   "id": "7d7fbdb7",
   "metadata": {},
   "outputs": [
    {
     "name": "stdout",
     "output_type": "stream",
     "text": [
      "Life's too short, You need python\n",
      "Life is too short, \"You need python\"\n"
     ]
    }
   ],
   "source": [
    "print('Life\\'s too short, You need python')\n",
    "print(\"Life is too short, \\\"You need python\\\"\")"
   ]
  },
  {
   "cell_type": "code",
   "execution_count": 49,
   "id": "0776c16d",
   "metadata": {},
   "outputs": [
    {
     "name": "stdout",
     "output_type": "stream",
     "text": [
      "Life's too short, You need python\n",
      "Life's too short, You need python\n",
      "Python\n",
      "Python\n",
      "is fun\n",
      "is fun\n"
     ]
    }
   ],
   "source": [
    "print('Life\\'s too short, You need python')\n",
    "aa = 'Life\\'s too short, You need python'\n",
    "print(aa)\n",
    "print(\"Python\")\n",
    "head = \"Python\"\n",
    "print(head)\n",
    "print(\"is fun\")\n",
    "tail = \"is fun\"\n",
    "print(tail)"
   ]
  },
  {
   "cell_type": "code",
   "execution_count": 60,
   "id": "7d6863c2",
   "metadata": {},
   "outputs": [
    {
     "name": "stdout",
     "output_type": "stream",
     "text": [
      "Python\n",
      "is fun\n",
      "Python is fun\n",
      "Python is fun\n",
      "PythonPythonPythonPythonPython\n",
      "==================================================\n",
      "Life's too short, You need python\n",
      "==================================================\n"
     ]
    }
   ],
   "source": [
    "### 숫자 연산자 : +, -, * ,/ , % , //, **\n",
    "### 문자열 연산자 : + , *\n",
    "print(head)\n",
    "print(tail)\n",
    "#### + : 문자열 붙이기 연산자.\n",
    "print(\"Python \" + \"is fun\")\n",
    "print(head + \" \" + tail)\n",
    "# print(\"나의 나이는 \" + 35) # 데이터의 형태가 다르면 연산할 수 없다.\n",
    "# can only concatenate str (not \"int\") to str\n",
    "print(\"Python\" * 5)\n",
    "# 문자열에서 *연산자는 반복 연산자이다.\n",
    "print(\"=\" * 50)\n",
    "print(\"Life's too short, You need python\")\n",
    "print(\"=\" * 50)"
   ]
  },
  {
   "cell_type": "code",
   "execution_count": 62,
   "id": "1adf83d1",
   "metadata": {},
   "outputs": [
    {
     "name": "stdout",
     "output_type": "stream",
     "text": [
      "17\n"
     ]
    }
   ],
   "source": [
    "a = \"Life is too short\"\n",
    "###  12345678901234567\n",
    "###           1\n",
    "### 글자의 갯수\n",
    "print(len(a))"
   ]
  },
  {
   "cell_type": "code",
   "execution_count": 76,
   "id": "71dbc513",
   "metadata": {},
   "outputs": [
    {
     "name": "stdout",
     "output_type": "stream",
     "text": [
      "t\n",
      "s\n",
      "s\n",
      "t\n",
      "t\n",
      "r\n",
      "L\n",
      "L\n",
      "L\n",
      "L\n",
      "i\n",
      "f\n",
      "e\n",
      "Life\n"
     ]
    }
   ],
   "source": [
    "# index  : 문자열 리터널의 문자의 고유의 번호\n",
    "# indexing : 고유의 번호를 이용해서 문자를 가져오는 것\n",
    "a = \"Life is too short\"\n",
    "#    01234567890123456\n",
    "#              1\n",
    "#    76543210987654321-\n",
    "#           1\n",
    "print(a[8])\n",
    "print(a[12])\n",
    "print(a[6])\n",
    "\n",
    "print(a[16])# 맨뒤에 있는 문자를 가져오시오.\n",
    "print(a[-1])# 맨뒤에 있는 문자를 가져오시오.\n",
    "\n",
    "print(a[-2])# 뒤에서 두번째 있는 문자를 가져오시오.\n",
    "\n",
    "print(a[0])# 맨앞에 있는 문자를 가져오시오.\n",
    "print(a[-17])# 맨앞에 있는 문자를 가져오시오.\n",
    "print(a[-0])# 맨앞에 있는 문자를 가져오시오.\n",
    "# index를 이용해서 'Life'를 출력하시오.\n",
    "print(a[0]); print(a[1]); print(a[2]); print(a[3])\n",
    "print(a[0]+a[1]+a[2]+a[3])"
   ]
  },
  {
   "cell_type": "code",
   "execution_count": 88,
   "id": "0e9bac56",
   "metadata": {},
   "outputs": [
    {
     "name": "stdout",
     "output_type": "stream",
     "text": [
      "Life is too short\n",
      "Life\n",
      "Life\n",
      "Lif\n",
      "Life\n",
      "Life is to\n",
      "too\n",
      "too\n",
      "is too \n"
     ]
    }
   ],
   "source": [
    "#Life is too short\n",
    "#01234567890123456\n",
    "#          1\n",
    "print(a)\n",
    "print(a[0]+a[1]+a[2]+a[3])\n",
    "#slicing\n",
    "print(a[0 : 0+4])\n",
    "print(a[0:3])\n",
    "print(a[0:4]) # 0부터 4전까지 가지고 오시오.\n",
    "print(a[0: 10]) # 0부터 10전까지\n",
    "print(a[8: 8 + 3]) # a[8 : 10](x), a[8 : 8 + n], a[8 : 11]\n",
    "n = 3\n",
    "print(a[8 : 8 + n]) # index8번 부터 n개 만큼 가져오시오\n",
    "print(a[5 : 5 + 7]) # index 5번 부터 7글짜 가져오시오"
   ]
  },
  {
   "cell_type": "code",
   "execution_count": 100,
   "id": "d7c69756",
   "metadata": {},
   "outputs": [
    {
     "name": "stdout",
     "output_type": "stream",
     "text": [
      "Life is too short\n",
      "Life\n",
      "Life\n",
      "Life\n",
      "is too short\n",
      "is too short\n",
      "is too short\n",
      "s too s\n",
      "s too s\n",
      "ife is t\n"
     ]
    }
   ],
   "source": [
    "#Life is too short\n",
    "#01234567890123456\n",
    "#          1\n",
    "#76543210987654321  -\n",
    "#       1       \n",
    "print(a)\n",
    "print(a[0:0+4])\n",
    "print(a[:4]) # 처음 부터 4글자\n",
    "print(a[-17:4]) # 처음 부터 4글자\n",
    "print(a[5:17])\n",
    "print(a[5:]) # index 5번 부터 마지막까지\n",
    "print(a[-12:]) #문자 f부터 마지막 까지\n",
    "print(a[6:13]) \n",
    "print(a[6:-4])\n",
    "print(a[-16:9])"
   ]
  },
  {
   "cell_type": "code",
   "execution_count": 103,
   "id": "0f7cb63f",
   "metadata": {},
   "outputs": [
    {
     "name": "stdout",
     "output_type": "stream",
     "text": [
      "20010331\n",
      "Rainy\n",
      "0331\n"
     ]
    }
   ],
   "source": [
    "a = \"20010331Rainy\"\n",
    "# 날짜와 이름을 분리하여 출력하시오,\n",
    "print(a[:8])\n",
    "print(a[8:])\n",
    "# 월일만 출력\n",
    "print(a[4:4+4])"
   ]
  },
  {
   "cell_type": "code",
   "execution_count": 111,
   "id": "ee8b8211",
   "metadata": {},
   "outputs": [
    {
     "name": "stdout",
     "output_type": "stream",
     "text": [
      "pithon\n",
      "i\n",
      "10\n",
      "11\n",
      "pithon\n",
      "python\n"
     ]
    }
   ],
   "source": [
    "a = 'pithon'\n",
    "print(a)\n",
    "### index를 이용해서 문자를 변경가능할까?\n",
    "print(a[1])\n",
    "# a[1] = 'y' # 문자열은 index를 이용해서 문자를 변경할 수 없다.\n",
    "# 리터널 값은 index를 이용해서 일부만 변경할 수 없다.\n",
    "a = 10\n",
    "print(a)\n",
    "a = 11\n",
    "print(a)\n",
    "a = 'pithon'\n",
    "print(a)\n",
    "a = 'python'\n",
    "print(a)"
   ]
  },
  {
   "cell_type": "code",
   "execution_count": 115,
   "id": "c7e3bde9",
   "metadata": {},
   "outputs": [
    {
     "name": "stdout",
     "output_type": "stream",
     "text": [
      "20\n"
     ]
    }
   ],
   "source": [
    "####  숫자리터널 : 정수, 실수 , 10, 11.5\n",
    "###   연산자 : +, - , * , / , % , // , **\n",
    "###  문자 리터널 : \"이숭무\"  , \"abcd\" , \"10\"(문자리터널), '',\"\"\"\"\"\",''''''\n",
    "###   연산자 : + , *\n",
    "###   indexing, slicing\n",
    "print(10 + 10)\n",
    "# print(10 + \"10\")"
   ]
  },
  {
   "cell_type": "code",
   "execution_count": 122,
   "id": "685923da",
   "metadata": {},
   "outputs": [
    {
     "name": "stdout",
     "output_type": "stream",
     "text": [
      "이숭무의 계좌번호 1111에는 100원이 들어 있습니다.\n",
      "이숭무의 계좌번호 1111에는 100원이 들어 있습니다.\n",
      "이숭무나이는 25살이고요 키는 175.300000입니다.\n"
     ]
    }
   ],
   "source": [
    "# 문자열 포매팅\n",
    "account = '1111'\n",
    "name = '이숭무'\n",
    "money = 100\n",
    "### 이숭무의 계좌번호 1111에는 100원이 들어 있습니다.\n",
    "### print(name + money)\n",
    "print(\"%s의 계좌번호 %s에는 %d원이 들어 있습니다.\" % (name,account, money))\n",
    "## s : string(문자열)  d: decimal(십진수)\n",
    "print(\"%s의 계좌번호 %s에는 %d원이 들어 있습니다.\" % ('이숭무','1111', 100))\n",
    "### 이숭무의 나이는 25살이구요 키는 175.3 입니다.\n",
    "age = 25\n",
    "height = 175.3\n",
    "print(\"%s나이는 %d살이고요 키는 %f입니다.\"%(name,age,height))\n",
    "###  f : float : 솟수점자리 6자리가 출력"
   ]
  },
  {
   "cell_type": "code",
   "execution_count": 130,
   "id": "9b6b8795",
   "metadata": {},
   "outputs": [
    {
     "name": "stdout",
     "output_type": "stream",
     "text": [
      "이숭무나이는 25살이고요 키는 175.300000입니다.\n",
      "이숭무나이는 25살이고요 키는 175.3입니다.\n",
      "이숭무나이는 25살이고요 키는 175.30입니다.\n",
      "이숭무나이는 25살이고요 키는 175.30입니다.\n",
      "이숭무나이는 25살이고요 키는 175.4입니다.\n",
      "이숭무나이는 25살이고요 키는 175.300000입니다.\n"
     ]
    }
   ],
   "source": [
    "print(\"%s나이는 %d살이고요 키는 %f입니다.\"%(name,age,height))\n",
    "print(\"%s나이는 %d살이고요 키는 %5.1f입니다.\"%(name,age,height))\n",
    "print(\"%s나이는 %d살이고요 키는 %5.2f입니다.\"%(name,age,height))\n",
    "# 정수부의 출력공간이 부족할 경우 수가 달라지기 때문에 정수인 경우 \n",
    "# 출력공간이 모자라도 무조건 출력되게 하였다.\n",
    "print(\"%s나이는 %d살이고요 키는 %.2f입니다.\"%(name,age,height))\n",
    "print(\"%s나이는 %d살이고요 키는 %.1f입니다.\"%(name,age,175.352))\n",
    "# 소수부가 5이상이 되면 반올림이 된다.\n",
    "print(\"%s나이는 %d살이고요 키는 %5f입니다.\"%(name,age,height))\n",
    "# 소수점이하 자리수를 지정하지 않으면 소수점이하 6자리가 그대로 출력이된다."
   ]
  },
  {
   "cell_type": "code",
   "execution_count": 133,
   "id": "71a48766",
   "metadata": {},
   "outputs": [
    {
     "name": "stdout",
     "output_type": "stream",
     "text": [
      "이숭무나이는 25살이고요 키는      175.3입니다.\n",
      "이숭무나이는 25살이고요 키는 175.3      입니다.\n"
     ]
    }
   ],
   "source": [
    "print(\"%s나이는 %d살이고요 키는 %10.1f입니다.\" % (name,age,height)) # 오른쪽 정렬\n",
    "print(\"%s나이는 %d살이고요 키는 %-10.1f 입니다.\" % (name,age,height))# 왼쪽정렬"
   ]
  },
  {
   "cell_type": "code",
   "execution_count": 137,
   "id": "1909942b",
   "metadata": {},
   "outputs": [
    {
     "name": "stdout",
     "output_type": "stream",
     "text": [
      "       이숭무나이는         25살이고요 키는      175.3입니다.\n",
      "이숭무       나이는 25        살이고요 키는 175.3     입니다.\n",
      "이숭무나이는 25살이고요 키는 175.3입니다.\n"
     ]
    }
   ],
   "source": [
    "print(\"%10s나이는 %10d살이고요 키는 %10.1f입니다.\" % (name,age,height))\n",
    "print(\"%-10s나이는 %-10d살이고요 키는 %-10.1f입니다.\" % (name,age,height))\n",
    "#### %s, %d, %f : 포맷문자 \n",
    "                                         #  문자열, 정수, 실수\n",
    "print(\"%s나이는 %s살이고요 키는 %s입니다.\" % (name,age,height))"
   ]
  },
  {
   "cell_type": "code",
   "execution_count": 144,
   "id": "2c8c9aa4",
   "metadata": {},
   "outputs": [
    {
     "name": "stdout",
     "output_type": "stream",
     "text": [
      "이숭무님의 나이는 25살이고요 키는 175.3입니다.\n",
      "이숭무님의 나이는 25살이고요 키는 175.3입니다.\n",
      "이숭무님의 나이는 25살이고요 키는 175.352입니다.\n",
      "이숭무입니다.\n",
      "이숭무입니다.\n"
     ]
    }
   ],
   "source": [
    "# format 함수를 사용한 포매팅\n",
    "# 변수 : a, 문자 : 'a', 함수 : a()\n",
    "# print() : print함수\n",
    "# format()\n",
    "account = '1111'\n",
    "name = '이숭무'\n",
    "money = 100\n",
    "age = 25\n",
    "height = 175.3\n",
    "print(\"{0}님의 나이는 {1}살이고요 키는 {2}입니다.\".format(name, age,height ))\n",
    "print(\"{1}님의 나이는 {0}살이고요 키는 {2}입니다.\".format(age , name ,height ))\n",
    "#{}안에 있는 번호는 format()함수안에 있는 인자의 숫서를 의미\n",
    "print(\"{1}님의 나이는 {0}살이고요 키는 {2}입니다.\".format(age , name ,175.352 ))\n",
    "print(\"{0}입니다.\".format(name))\n",
    "print(\"{0}입니다.\".format('이숭무'))"
   ]
  },
  {
   "cell_type": "code",
   "execution_count": 158,
   "id": "314f0970",
   "metadata": {},
   "outputs": [
    {
     "name": "stdout",
     "output_type": "stream",
     "text": [
      "이숭무님의 나이는 25살이고요 키는 175.3입니다.\n",
      "이숭무님의 나이는 25살이고요 키는 175.3입니다.\n",
      "이숭무님의 나이는 25살이고요 키는 175.3입니다.\n",
      "이숭무님의 나이는 25살이고요. 블러그이름은 이숭무입니다.\n"
     ]
    }
   ],
   "source": [
    "account = '1111'\n",
    "name = '이숭무'\n",
    "money = 100\n",
    "age = 25\n",
    "height = 175.3\n",
    "### 인덱스와 이름을 혼용해서 넣기\n",
    "print(\"{0}님의 나이는 {1}살이고요 키는 {height}입니다.\"\n",
    "      .format(name, age, height= 175.3))\n",
    "print(\"{0}님의 나이는 {1}살이고요 키는 {h}입니다.\"\n",
    "      .format(name, age, h=height))\n",
    "#print(\"{2}님의 나이는 {1}살이고요 키는 {h}입니다.\".format( age, h=height, name))\n",
    "#print(\"{1}님의 나이는 {0}살이고요 키는 {h}입니다.\".format( age, h=height, name))\n",
    "#이름은 INDEX사이에 들어 갈 수 없다.\n",
    "print(\"{0}님의 나이는 {nai}살이고요 키는 {h}입니다.\"\n",
    "      .format(name , h=height,nai=age))\n",
    "# index 다음에 이름이 와야 하고 이름의 순서는 영향 받지 않는다.\n",
    "print(\"{0}님의 나이는 {1}살이고요. 블러그이름은 {0}입니다.\"\n",
    "      .format(name, age))"
   ]
  },
  {
   "cell_type": "code",
   "execution_count": 161,
   "id": "31dfae05",
   "metadata": {},
   "outputs": [
    {
     "name": "stdout",
     "output_type": "stream",
     "text": [
      "이숭무의 나이는 25살이고요. 키는 175.3입니다.\n"
     ]
    }
   ],
   "source": [
    "### f 문자열 포매팅\n",
    "account = '1111'\n",
    "name = '이숭무'\n",
    "money = 100\n",
    "age = 25\n",
    "height = 175.3\n",
    "print(f\"{name}의 나이는 {age}살이고요. 키는 {height}입니다.\")"
   ]
  },
  {
   "cell_type": "code",
   "execution_count": 174,
   "id": "f9bbdfb5",
   "metadata": {},
   "outputs": [
    {
     "name": "stdout",
     "output_type": "stream",
     "text": [
      "5\n",
      "5\n",
      "2\n",
      "2\n",
      "1\n",
      "o\n",
      "1\n",
      "-1\n",
      "없는 문자입니다.\n",
      "포함된 문자입니다.\n"
     ]
    }
   ],
   "source": [
    "#### 문자열 리터널 : \"\",'',\"\"\"\"\"\",'''''', indexing, slicing\n",
    "### 포맷문자, 포맷함수, f문자\n",
    "### + , *\n",
    "#### 문자열을 가공하기 위해서 자주 사용하는 명령문 : 문자열 함수\n",
    "a = \"hobby\"\n",
    "# len() :  문자의 갯수\n",
    "print(len(a))\n",
    "print(len(\"hobby\"))\n",
    "# 문자열안에 있는 특정문자의 갯수\n",
    "print(a.count('b'))\n",
    "print(\"hobby\".count('b'))\n",
    "# 원하는 문자가 있는 위치(index)\n",
    "print(a.index('o'))\n",
    "print(a[1])\n",
    "print(a.find('o'))\n",
    "### k문자를 찾으시오.\n",
    "print(a.find('k')) ## 없는 문자인 경우에는 -1\n",
    "# print(a.index('k')) ### 없는 문자를 찾는 경우에는 오류가 발생\n",
    "if a.find('k') == -1:\n",
    "    print('없는 문자입니다.')\n",
    "else:\n",
    "    print('포함된 문자입니다.')\n",
    "\n",
    "if a.find('o') == -1:\n",
    "    print('없는 문자입니다.')\n",
    "else:\n",
    "    print('포함된 문자입니다.')"
   ]
  },
  {
   "cell_type": "code",
   "execution_count": 190,
   "id": "3967e637",
   "metadata": {},
   "outputs": [
    {
     "name": "stdout",
     "output_type": "stream",
     "text": [
      "hobby\n",
      "2\n",
      "3\n",
      "17\n",
      "17\n",
      "17\n",
      "17\n",
      "HI\n",
      "hi\n",
      "hi\n",
      "HI\n"
     ]
    }
   ],
   "source": [
    "a = 'hobby'\n",
    "print(a) # hobby\n",
    "#          01234\n",
    "print(a.index('b'))\n",
    "print(a.index('b',3))\n",
    "a = \"Python is the best choice\"\n",
    "#    0123456789012345678901234\n",
    "#              1         2\n",
    "print(a.index('t',11))\n",
    "print(a.find('t',11))\n",
    "# 뒤부터 원하는 문자의 index를 찾기\n",
    "print(a.rindex('t'))\n",
    "print(a.rfind('t'))\n",
    "\n",
    "# 소문자는 대문자로 , 대문자는 소문자로 변경\n",
    "a= 'hi'\n",
    "print(a.upper()) # 변수 a에 있는 값이 변경되는 것은 아니다.\n",
    "print(a)\n",
    "a = 'HI'\n",
    "print(a.lower()) \n",
    "print(a)"
   ]
  },
  {
   "cell_type": "code",
   "execution_count": 193,
   "id": "3f0384c1",
   "metadata": {},
   "outputs": [
    {
     "name": "stdout",
     "output_type": "stream",
     "text": [
      "HI\n",
      "hi\n"
     ]
    }
   ],
   "source": [
    "a = 'Hi'\n",
    "print(a.upper())\n",
    "print(a.lower())"
   ]
  },
  {
   "cell_type": "code",
   "execution_count": 207,
   "id": "01b3343b",
   "metadata": {},
   "outputs": [
    {
     "name": "stdout",
     "output_type": "stream",
     "text": [
      "abcd\n",
      " abcd \n",
      "abcd\n",
      "abcd \n",
      " abcd\n",
      "ab cd\n",
      "Python is the best choice\n",
      "cdabef\n",
      "Your leg is too short\n",
      "['Life', 'is', 'too', 'short']\n",
      "['Life', 'is', 'too', 'short']\n"
     ]
    }
   ],
   "source": [
    "a='abcd'\n",
    "print(a)\n",
    "a = ' abcd '\n",
    "print(a)\n",
    "print(a.strip())\n",
    "print(a.lstrip())\n",
    "print(a.rstrip())\n",
    "a = ' ab cd '\n",
    "print(a.strip())\n",
    "a = \" Python is the best choice \"\n",
    "print(a.strip()) ### 양옆에 있는 공백문자만 삭제가 된다.\n",
    "\n",
    "a = 'abcdabefab'\n",
    "print(a.strip('ab'))\n",
    "a = \"Life is too short\" # \"Life\"를 \"Your leg\"로 변경\n",
    "b = a.replace(\"Life\", \"Your leg\")\n",
    "print(b)\n",
    "\n",
    "# 문자열에 있는 값을 공백문자를 기준으로 쪼개자.\n",
    "c = a.split() # ['Life', 'is', 'too', 'short']  : 리스트\n",
    "print(c) \n",
    "#  문자열을 split()을 하게 되면 문자열이 리스트에 저장된다\n",
    "a = \"Life:is:too:short\"\n",
    "c = a.split(\":\")\n",
    "print(c)"
   ]
  },
  {
   "cell_type": "code",
   "execution_count": 211,
   "id": "6761611e",
   "metadata": {},
   "outputs": [
    {
     "name": "stdout",
     "output_type": "stream",
     "text": [
      "20.5\n"
     ]
    }
   ],
   "source": [
    "### 리터널 :  자연어 (숫자, 문자)\n",
    "### 숫자 리터널 자료형 : 10, 10.4\n",
    "### +, -, * , /, % ,// , **\n",
    "### 문자열 리터널 자료형 : \"a\", \"abcd\", \"이숭무\" , \"10\", \"11.5\" , a(x)\n",
    "###                        \"\", '', \"\"\"\"\"\", ''''''\n",
    "print(10 +  10.5)\n",
    "#print(10 + \"10.5\")\n",
    "# 포맷문자, format(), f문자 \n",
    "# 문자열 함수, indexing, slicing"
   ]
  },
  {
   "cell_type": "code",
   "execution_count": 217,
   "id": "b911fcaa",
   "metadata": {},
   "outputs": [
    {
     "name": "stdout",
     "output_type": "stream",
     "text": [
      "[1, 2, 3, 4]\n",
      "['이숭무', '이상범', '이장범']\n",
      "['이숭무', 35, 175.5, [1, 2, 3]]\n",
      "[[1, 2, 3], [4, 5, 6]]\n",
      "['Life', 'is', 'too', 'short']\n"
     ]
    }
   ],
   "source": [
    "### 리스트 자료형 : 여러개의 데이터(자료)를 저장할 수 있는 자료형\n",
    "### 숫자 자료형 : 1,2,3 , 10.5\n",
    "### 문자 자료형 : '1', \"1\", \"\",'',\"\"\"\"\"\",''''''\n",
    "### 리스트 자료형 : []\n",
    "a = [1,2,3,4] # 정수값을 가진 리스트 자료형\n",
    "print(a)\n",
    "a = [\"이숭무\",\"이상범\",\"이장범\"] # 문자열을 가지고 있는 리스트 자료형\n",
    "print(a)\n",
    "a  = [\"이숭무\" , 35 , 175.5 , [1,2,3] ] # 혼합형 리스트 자료형\n",
    "print(a)\n",
    "a = [[1,2,3], [4,5,6]] # 리스트를 가진 리스트 자료형\n",
    "print(a)\n",
    "a = [] # 빈리스트\n",
    "a = \"Life:is:too:short\"\n",
    "c = a.split(\":\")\n",
    "print(c)"
   ]
  },
  {
   "cell_type": "code",
   "execution_count": 226,
   "id": "c06135e8",
   "metadata": {},
   "outputs": [
    {
     "name": "stdout",
     "output_type": "stream",
     "text": [
      "i\n",
      "3\n",
      "too\n",
      "2\n",
      "5\n",
      "7\n",
      "too\n"
     ]
    }
   ],
   "source": [
    "a = \"Life is too short\"\n",
    "#    01234567890123456\n",
    "#              1\n",
    "#    76543210987654321 -\n",
    "#           1 \n",
    "print(a[5])\n",
    "b = [1,2,3,4,5,6]\n",
    "#    0 1 2 3 4 5\n",
    "print(b[2])\n",
    "c = ['Life', 'is', 'too', 'short'] #  리스트는 요소마다  index가 있다.\n",
    "##     0      1      2       3\n",
    "##     4       3     2       1   -\n",
    "print(c[2])\n",
    "print(b[1])\n",
    "print(b[4])\n",
    "print(b[1]+b[4])\n",
    "print(c[-2])"
   ]
  },
  {
   "cell_type": "code",
   "execution_count": 231,
   "id": "5ad158a9",
   "metadata": {},
   "outputs": [
    {
     "name": "stdout",
     "output_type": "stream",
     "text": [
      "['a', 'b', 'c']\n",
      "['a', 'b', 'c']\n",
      "b\n",
      "b\n"
     ]
    }
   ],
   "source": [
    "a = [1, 2, 3, ['a', 'b', 'c']]\n",
    "###  0  1  2         3\n",
    "####            0    1    2\n",
    "print(a[3])\n",
    "b = a[3]  # b = ['a', 'b', 'c']\n",
    "          #       0    1    2\n",
    "print(b)\n",
    "print(b[1])\n",
    "print(a[3][1])"
   ]
  },
  {
   "cell_type": "code",
   "execution_count": 233,
   "id": "33ab0e7b",
   "metadata": {},
   "outputs": [
    {
     "name": "stdout",
     "output_type": "stream",
     "text": [
      "b\n",
      "b\n"
     ]
    }
   ],
   "source": [
    "a = [1, 2, 3, ['a', 'b', 'c']]\n",
    "###  0  1  2        3\n",
    "###  4  3  2        1          -\n",
    "#               3    2    1    -\n",
    "#               0    1    2\n",
    "print(a[-1][-2])\n",
    "print(a[-1][1])"
   ]
  },
  {
   "cell_type": "code",
   "execution_count": 236,
   "id": "c670693c",
   "metadata": {},
   "outputs": [
    {
     "name": "stdout",
     "output_type": "stream",
     "text": [
      "Life\n",
      "f\n"
     ]
    }
   ],
   "source": [
    "a = [1, 2, ['a', 'b', ['Life', 'is']]]\n",
    "###  0  1           2\n",
    "###          0    1         2\n",
    "###                      0      1\n",
    "###                     0123\n",
    "print(a[2][2][0])\n",
    "print(a[2][2][0][2])"
   ]
  },
  {
   "cell_type": "code",
   "execution_count": 240,
   "id": "80d9e140",
   "metadata": {},
   "outputs": [
    {
     "name": "stdout",
     "output_type": "stream",
     "text": [
      "Life is too short\n",
      "too\n",
      "[3, 4]\n"
     ]
    }
   ],
   "source": [
    "### 리스트의 슬라이싱\n",
    "a ='Life is too short'\n",
    "### 01234567890123456\n",
    "##            1\n",
    "print(a)\n",
    "print(a[8:8+3])\n",
    "l = [1,2,3,4,5]\n",
    "##   0 1 2 3 4\n",
    "print(l[2:2+2])"
   ]
  },
  {
   "cell_type": "code",
   "execution_count": 246,
   "id": "75146ac7",
   "metadata": {},
   "outputs": [
    {
     "name": "stdout",
     "output_type": "stream",
     "text": [
      "[3, ['a', 'b', 'c'], 4]\n",
      "['a', 'b', 'c']\n",
      "b\n",
      "b\n"
     ]
    }
   ],
   "source": [
    "a = [1, 2, 3, ['a', 'b', 'c'], 4, 5]\n",
    "##   0  1   2       3          4  5\n",
    "###             0   1     2\n",
    "print(a[2:2+3])       # [3, ['a', 'b', 'c'], 4]\n",
    "                      #  0         1         2\n",
    "print(a[2:2+3][1])    # ['a',  # 'b', 'c']\n",
    "                      #   0    1    2\n",
    "print(a[2:2+3][1][1]) # 'b'\n",
    "print(a[3][1])"
   ]
  },
  {
   "cell_type": "code",
   "execution_count": 249,
   "id": "323dee27",
   "metadata": {},
   "outputs": [
    {
     "name": "stdout",
     "output_type": "stream",
     "text": [
      "['a', 'b', 'c']\n",
      "['b', 'c']\n"
     ]
    }
   ],
   "source": [
    "a = [1, 2, 3, ['a', 'b', 'c'], 4, 5]\n",
    "#    0   1  2        3         4  5\n",
    "#               0    1    2\n",
    "print(a[3]) # ['a', 'b', 'c']\n",
    "#               0   1     2\n",
    "print(a[3][1:3])"
   ]
  },
  {
   "cell_type": "code",
   "execution_count": 257,
   "id": "ef40f94f",
   "metadata": {},
   "outputs": [
    {
     "name": "stdout",
     "output_type": "stream",
     "text": [
      "[1, 2, 3, 'aaaa', 'bbbb', 'ccccc']\n",
      "[1, 2, 3, 1, 2, 3, 1, 2, 3]\n",
      "3\n",
      "3\n",
      "4\n"
     ]
    }
   ],
   "source": [
    "### 리스트 연산자 :  + , *\n",
    "a = [1,2,3]\n",
    "b = ['aaaa','bbbb','ccccc']\n",
    "c = a + b\n",
    "print(c)\n",
    "print(a * 3)\n",
    "print(len(a))\n",
    "print(len(b))\n",
    "print(len(b[1]))"
   ]
  },
  {
   "cell_type": "code",
   "execution_count": 261,
   "id": "460ab011",
   "metadata": {},
   "outputs": [
    {
     "name": "stdout",
     "output_type": "stream",
     "text": [
      "You need python\n",
      "[1, 10, 3, 4, 5]\n"
     ]
    }
   ],
   "source": [
    "s = \"Life is too short\"\n",
    "# s[1] = 'y'\n",
    "s = 'You need python'\n",
    "print(s)\n",
    "a = [1, 2, 3, 4, 5]\n",
    "a[1] = 10\n",
    "print(a)"
   ]
  },
  {
   "cell_type": "code",
   "execution_count": 272,
   "id": "f69697ea",
   "metadata": {},
   "outputs": [
    {
     "name": "stdout",
     "output_type": "stream",
     "text": [
      "['Your leg', 'is', 'too', 'short']\n",
      "['Your leg', 'is', 'short']\n",
      "['is', 'short']\n",
      "['Your leg']\n",
      "['Life']\n",
      "['Life', 'is']\n",
      "['Life', 'is', 'too']\n",
      "['Life', 'is', 'too', 'short']\n"
     ]
    }
   ],
   "source": [
    "l = ['Life', 'is', 'too', 'short']\n",
    "##      0      1     2       3\n",
    "l[0] = \"Your leg\"\n",
    "print(l)\n",
    "# 리스트에서는 index를 이용해서 값을 변경할 수 있다.\n",
    "\n",
    "# 리스트에서 요소 삭제\n",
    "del l[2]\n",
    "print(l)\n",
    "print(l[1:3])\n",
    "del l[1:3]\n",
    "print(l)\n",
    "l = ['Life', 'is', 'too', 'short']\n",
    "del l[1:]\n",
    "print(l)\n",
    "### 리스트에 요소 추가 \n",
    "l.append('is')\n",
    "print(l)\n",
    "l.append('too')\n",
    "print(l)\n",
    "l.append('short')\n",
    "print(l)"
   ]
  }
 ],
 "metadata": {
  "kernelspec": {
   "display_name": "Python 3 (ipykernel)",
   "language": "python",
   "name": "python3"
  },
  "language_info": {
   "codemirror_mode": {
    "name": "ipython",
    "version": 3
   },
   "file_extension": ".py",
   "mimetype": "text/x-python",
   "name": "python",
   "nbconvert_exporter": "python",
   "pygments_lexer": "ipython3",
   "version": "3.8.11"
  }
 },
 "nbformat": 4,
 "nbformat_minor": 5
}
