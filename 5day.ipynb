{
 "cells": [
  {
   "cell_type": "code",
   "execution_count": 123,
   "id": "2f7a7265",
   "metadata": {},
   "outputs": [
    {
     "data": {
      "text/html": [
       "<style>\n",
       "div.container { width:100% !important; }\n",
       "div.CodeMirror {font-family: Consolas; font-size: 25pt;}\n",
       "div.output { font-size: 16pt; font-weight: bold;}\n",
       "div.input { font-family: Consolas; font-size: 25pt;}\n",
       "div.prompt { min-width: 100px;}\n",
       "</style>\n"
      ],
      "text/plain": [
       "<IPython.core.display.HTML object>"
      ]
     },
     "metadata": {},
     "output_type": "display_data"
    }
   ],
   "source": [
    "\n",
    "from IPython.core.display import display, HTML\n",
    "display(HTML(\n",
    "\"\"\"<style>\n",
    "div.container { width:100% !important; }\n",
    "div.CodeMirror {font-family: Consolas; font-size: 25pt;}\n",
    "div.output { font-size: 16pt; font-weight: bold;}\n",
    "div.input { font-family: Consolas; font-size: 25pt;}\n",
    "div.prompt { min-width: 100px;}\n",
    "</style>\n",
    "\"\"\"))"
   ]
  },
  {
   "cell_type": "code",
   "execution_count": 3,
   "id": "343fb55e",
   "metadata": {},
   "outputs": [],
   "source": [
    "import pandas as pd\n",
    "df = pd.read_csv(\n",
    "    \"https://raw.githubusercontent.com/SoongMoo/soldesk2110/main/data/gapminder.tsv\",sep=\"\\t\")"
   ]
  },
  {
   "cell_type": "code",
   "execution_count": 4,
   "id": "2800398c",
   "metadata": {},
   "outputs": [
    {
     "name": "stdout",
     "output_type": "stream",
     "text": [
      "          country continent  year  lifeExp       pop   gdpPercap\n",
      "0     Afghanistan      Asia  1952   28.801   8425333  779.445314\n",
      "1     Afghanistan      Asia  1957   30.332   9240934  820.853030\n",
      "2     Afghanistan      Asia  1962   31.997  10267083  853.100710\n",
      "3     Afghanistan      Asia  1967   34.020  11537966  836.197138\n",
      "4     Afghanistan      Asia  1972   36.088  13079460  739.981106\n",
      "...           ...       ...   ...      ...       ...         ...\n",
      "1699     Zimbabwe    Africa  1987   62.351   9216418  706.157306\n",
      "1700     Zimbabwe    Africa  1992   60.377  10704340  693.420786\n",
      "1701     Zimbabwe    Africa  1997   46.809  11404948  792.449960\n",
      "1702     Zimbabwe    Africa  2002   39.989  11926563  672.038623\n",
      "1703     Zimbabwe    Africa  2007   43.487  12311143  469.709298\n",
      "\n",
      "[1704 rows x 6 columns]\n"
     ]
    }
   ],
   "source": [
    "print(df)"
   ]
  },
  {
   "cell_type": "code",
   "execution_count": 5,
   "id": "bbf39d60",
   "metadata": {},
   "outputs": [
    {
     "name": "stdout",
     "output_type": "stream",
     "text": [
      "       country continent  year  lifeExp       pop   gdpPercap\n",
      "0  Afghanistan      Asia  1952   28.801   8425333  779.445314\n",
      "1  Afghanistan      Asia  1957   30.332   9240934  820.853030\n",
      "2  Afghanistan      Asia  1962   31.997  10267083  853.100710\n",
      "3  Afghanistan      Asia  1967   34.020  11537966  836.197138\n",
      "4  Afghanistan      Asia  1972   36.088  13079460  739.981106\n"
     ]
    }
   ],
   "source": [
    "print(df.head())"
   ]
  },
  {
   "cell_type": "code",
   "execution_count": 6,
   "id": "f979e10f",
   "metadata": {},
   "outputs": [
    {
     "name": "stdout",
     "output_type": "stream",
     "text": [
      "       country continent  year  lifeExp       pop   gdpPercap\n",
      "1699  Zimbabwe    Africa  1987   62.351   9216418  706.157306\n",
      "1700  Zimbabwe    Africa  1992   60.377  10704340  693.420786\n",
      "1701  Zimbabwe    Africa  1997   46.809  11404948  792.449960\n",
      "1702  Zimbabwe    Africa  2002   39.989  11926563  672.038623\n",
      "1703  Zimbabwe    Africa  2007   43.487  12311143  469.709298\n"
     ]
    }
   ],
   "source": [
    "print(df.tail())"
   ]
  },
  {
   "cell_type": "code",
   "execution_count": 8,
   "id": "93dad7cf",
   "metadata": {},
   "outputs": [
    {
     "name": "stdout",
     "output_type": "stream",
     "text": [
      "<class 'list'>\n",
      "<class 'str'>\n",
      "<class 'pandas.core.frame.DataFrame'>\n"
     ]
    }
   ],
   "source": [
    "l = [1,2,3,4,5]\n",
    "s = \"python\"\n",
    "print(type(l)) # 리스트 자료형\n",
    "print(type(s)) # 문자열 자료형\n",
    "print(type(df)) # DataFrame자료형 : table"
   ]
  },
  {
   "cell_type": "code",
   "execution_count": 15,
   "id": "7315ad57",
   "metadata": {},
   "outputs": [
    {
     "name": "stdout",
     "output_type": "stream",
     "text": [
      "5\n",
      "(1704, 6)\n",
      "1704\n",
      "6\n",
      "Index(['country', 'continent', 'year', 'lifeExp', 'pop', 'gdpPercap'], dtype='object')\n",
      "country       object\n",
      "continent     object\n",
      "year           int64\n",
      "lifeExp      float64\n",
      "pop            int64\n",
      "gdpPercap    float64\n",
      "dtype: object\n",
      "<class 'pandas.core.frame.DataFrame'>\n",
      "RangeIndex: 1704 entries, 0 to 1703\n",
      "Data columns (total 6 columns):\n",
      " #   Column     Non-Null Count  Dtype  \n",
      "---  ------     --------------  -----  \n",
      " 0   country    1704 non-null   object \n",
      " 1   continent  1704 non-null   object \n",
      " 2   year       1704 non-null   int64  \n",
      " 3   lifeExp    1704 non-null   float64\n",
      " 4   pop        1704 non-null   int64  \n",
      " 5   gdpPercap  1704 non-null   float64\n",
      "dtypes: float64(2), int64(2), object(2)\n",
      "memory usage: 80.0+ KB\n",
      "None\n"
     ]
    }
   ],
   "source": [
    "## 크기\n",
    "print(len(l))\n",
    "print(df.shape) ### 1704행 6열 , 튜플\n",
    "# 행의 크기\n",
    "print(df.shape[0])\n",
    "# 열의 크기 \n",
    "print(df.shape[1])\n",
    "# 각 열의 정보\n",
    "print(df.columns)\n",
    "# 각 열의 자료형\n",
    "print(df.dtypes) # 컬럼안에 있는 데이터의 자료형 \n",
    "#### 컬럼의 모든 정보 \n",
    "### null이 있는지, 데이터의 갯수는 몇개인지, 자료형은 무엇인지\n",
    "print(df.info())\n"
   ]
  },
  {
   "cell_type": "code",
   "execution_count": 24,
   "id": "4ce931bf",
   "metadata": {
    "scrolled": true
   },
   "outputs": [
    {
     "name": "stdout",
     "output_type": "stream",
     "text": [
      "Afghanistan\n",
      "Africa\n",
      "       country continent  year  lifeExp       pop   gdpPercap\n",
      "0  Afghanistan      Asia  1952   28.801   8425333  779.445314\n",
      "1  Afghanistan      Asia  1957   30.332   9240934  820.853030\n",
      "2  Afghanistan      Asia  1962   31.997  10267083  853.100710\n",
      "3  Afghanistan      Asia  1967   34.020  11537966  836.197138\n",
      "4  Afghanistan      Asia  1972   36.088  13079460  739.981106\n",
      "0    Afghanistan\n",
      "1    Afghanistan\n",
      "2    Afghanistan\n",
      "3    Afghanistan\n",
      "4    Afghanistan\n",
      "Name: country, dtype: object\n",
      "1699    Africa\n",
      "1700    Africa\n",
      "1701    Africa\n",
      "1702    Africa\n",
      "1703    Africa\n",
      "Name: continent, dtype: object\n",
      "<class 'pandas.core.series.Series'>\n",
      "<class 'pandas.core.series.Series'>\n"
     ]
    }
   ],
   "source": [
    "dic = {\"country\": \"Afghanistan\", \"continent\" : \"Africa\"}\n",
    "print(dic['country'])\n",
    "print(dic[\"continent\"])\n",
    "print(df.head())\n",
    "# country 컬럼의 값을 출력\n",
    "print(df['country'].head()) # 위에서 5개만\n",
    "print(df['continent'].tail()) # 아래에서 5개만\n",
    "# 열의 자료형 \n",
    "print(type(df['country'])) # Series ㅣ dataFrame안에 있는 하나의 열의 자료형을 Series \n",
    "print(type(df['continent'])) # Series\n"
   ]
  },
  {
   "cell_type": "code",
   "execution_count": 39,
   "id": "fe43c854",
   "metadata": {},
   "outputs": [
    {
     "name": "stdout",
     "output_type": "stream",
     "text": [
      "Afghanistan\n",
      "       country continent  year  lifeExp       pop   gdpPercap\n",
      "0  Afghanistan      Asia  1952   28.801   8425333  779.445314\n",
      "1  Afghanistan      Asia  1957   30.332   9240934  820.853030\n",
      "2  Afghanistan      Asia  1962   31.997  10267083  853.100710\n",
      "3  Afghanistan      Asia  1967   34.020  11537966  836.197138\n",
      "4  Afghanistan      Asia  1972   36.088  13079460  739.981106\n",
      "0    Afghanistan\n",
      "1    Afghanistan\n",
      "2    Afghanistan\n",
      "3    Afghanistan\n",
      "4    Afghanistan\n",
      "Name: country, dtype: object\n",
      "       country continent\n",
      "0  Afghanistan      Asia\n",
      "1  Afghanistan      Asia\n",
      "2  Afghanistan      Asia\n",
      "3  Afghanistan      Asia\n",
      "4  Afghanistan      Asia\n",
      "       country continent  year\n",
      "0  Afghanistan      Asia  1952\n",
      "1  Afghanistan      Asia  1957\n",
      "2  Afghanistan      Asia  1962\n",
      "3  Afghanistan      Asia  1967\n",
      "4  Afghanistan      Asia  1972\n"
     ]
    }
   ],
   "source": [
    "print(dic['country'])\n",
    "#print(dic[['country','continent']]) # 딕셔너리는 동시에 여러개의 키에 있는 값을 가져올 수 없다.\n",
    "print(df.head())\n",
    "print(df['country'].head())\n",
    "print(df[['country','continent']].head())\n",
    "print(df[['country','continent','year']].head())"
   ]
  },
  {
   "cell_type": "code",
   "execution_count": 45,
   "id": "a03057fd",
   "metadata": {
    "scrolled": true
   },
   "outputs": [
    {
     "name": "stdout",
     "output_type": "stream",
     "text": [
      "          country continent  year  lifeExp       pop   gdpPercap\n",
      "0     Afghanistan      Asia  1952   28.801   8425333  779.445314\n",
      "1     Afghanistan      Asia  1957   30.332   9240934  820.853030\n",
      "2     Afghanistan      Asia  1962   31.997  10267083  853.100710\n",
      "3     Afghanistan      Asia  1967   34.020  11537966  836.197138\n",
      "4     Afghanistan      Asia  1972   36.088  13079460  739.981106\n",
      "...           ...       ...   ...      ...       ...         ...\n",
      "1699     Zimbabwe    Africa  1987   62.351   9216418  706.157306\n",
      "1700     Zimbabwe    Africa  1992   60.377  10704340  693.420786\n",
      "1701     Zimbabwe    Africa  1997   46.809  11404948  792.449960\n",
      "1702     Zimbabwe    Africa  2002   39.989  11926563  672.038623\n",
      "1703     Zimbabwe    Africa  2007   43.487  12311143  469.709298\n",
      "\n",
      "[1704 rows x 6 columns]\n",
      "country      Afghanistan\n",
      "continent           Asia\n",
      "year                1952\n",
      "lifeExp           28.801\n",
      "pop              8425333\n",
      "gdpPercap     779.445314\n",
      "Name: 0, dtype: object\n",
      "country      Bangladesh\n",
      "continent          Asia\n",
      "year               1972\n",
      "lifeExp          45.252\n",
      "pop            70759295\n",
      "gdpPercap    630.233627\n",
      "Name: 100, dtype: object\n",
      "<class 'pandas.core.series.Series'>\n"
     ]
    }
   ],
   "source": [
    "print(df)\n",
    "# print(df[0]) # 0이라는 이름의 컬럼 \n",
    "print(df.loc[0])\n",
    "# 101번째 행의 데이터를 가지고 오시오.\n",
    "print(df.loc[100])\n",
    "## 행의 자료형\n",
    "print(type(df.loc[100])) # Series # 열로 표현된 타입을 Series라고 한다."
   ]
  },
  {
   "cell_type": "code",
   "execution_count": 53,
   "id": "52c7de27",
   "metadata": {},
   "outputs": [
    {
     "name": "stdout",
     "output_type": "stream",
     "text": [
      "          country continent  year  lifeExp       pop   gdpPercap\n",
      "0     Afghanistan      Asia  1952   28.801   8425333  779.445314\n",
      "1     Afghanistan      Asia  1957   30.332   9240934  820.853030\n",
      "2     Afghanistan      Asia  1962   31.997  10267083  853.100710\n",
      "3     Afghanistan      Asia  1967   34.020  11537966  836.197138\n",
      "4     Afghanistan      Asia  1972   36.088  13079460  739.981106\n",
      "...           ...       ...   ...      ...       ...         ...\n",
      "1699     Zimbabwe    Africa  1987   62.351   9216418  706.157306\n",
      "1700     Zimbabwe    Africa  1992   60.377  10704340  693.420786\n",
      "1701     Zimbabwe    Africa  1997   46.809  11404948  792.449960\n",
      "1702     Zimbabwe    Africa  2002   39.989  11926563  672.038623\n",
      "1703     Zimbabwe    Africa  2007   43.487  12311143  469.709298\n",
      "\n",
      "[1704 rows x 6 columns]\n",
      "country        Zimbabwe\n",
      "continent        Africa\n",
      "year               2007\n",
      "lifeExp          43.487\n",
      "pop            12311143\n",
      "gdpPercap    469.709298\n",
      "Name: 1703, dtype: object\n",
      "country        Zimbabwe\n",
      "continent        Africa\n",
      "year               2007\n",
      "lifeExp          43.487\n",
      "pop            12311143\n",
      "gdpPercap    469.709298\n",
      "Name: 1703, dtype: object\n",
      "(1704, 6)\n",
      "1704\n",
      "country        Zimbabwe\n",
      "continent        Africa\n",
      "year               2007\n",
      "lifeExp          43.487\n",
      "pop            12311143\n",
      "gdpPercap    469.709298\n",
      "Name: 1703, dtype: object\n"
     ]
    }
   ],
   "source": [
    "print(df)\n",
    "print(df.loc[1703]) # 명시적 index\n",
    "print(df.iloc[-1]) # 암시적 index\n",
    "##마지막 행의 번호를 모르는 경우 마지막행의 값을 출력하시오 , 단 암시적인덱스는 사용하지 말것\n",
    "print(df.shape)\n",
    "number_of_rows  = df.shape[0] # 행의 크기를 가져옴\n",
    "print(number_of_rows)\n",
    "last_row_index  = number_of_rows - 1\n",
    "print(df.loc[last_row_index])"
   ]
  },
  {
   "cell_type": "code",
   "execution_count": 55,
   "id": "91900e8a",
   "metadata": {},
   "outputs": [
    {
     "name": "stdout",
     "output_type": "stream",
     "text": [
      "       country continent  year  lifeExp       pop   gdpPercap\n",
      "1699  Zimbabwe    Africa  1987   62.351   9216418  706.157306\n",
      "1700  Zimbabwe    Africa  1992   60.377  10704340  693.420786\n",
      "1701  Zimbabwe    Africa  1997   46.809  11404948  792.449960\n",
      "1702  Zimbabwe    Africa  2002   39.989  11926563  672.038623\n",
      "1703  Zimbabwe    Africa  2007   43.487  12311143  469.709298\n",
      "\n",
      "       country continent  year  lifeExp       pop   gdpPercap\n",
      "1703  Zimbabwe    Africa  2007   43.487  12311143  469.709298\n",
      "\n",
      "       country continent  year  lifeExp       pop   gdpPercap\n",
      "1701  Zimbabwe    Africa  1997   46.809  11404948  792.449960\n",
      "1702  Zimbabwe    Africa  2002   39.989  11926563  672.038623\n",
      "1703  Zimbabwe    Africa  2007   43.487  12311143  469.709298\n",
      "\n",
      "       country continent  year  lifeExp       pop   gdpPercap\n",
      "1697  Zimbabwe    Africa  1977   57.674   6642107  685.587682\n",
      "1698  Zimbabwe    Africa  1982   60.363   7636524  788.855041\n",
      "1699  Zimbabwe    Africa  1987   62.351   9216418  706.157306\n",
      "1700  Zimbabwe    Africa  1992   60.377  10704340  693.420786\n",
      "1701  Zimbabwe    Africa  1997   46.809  11404948  792.449960\n",
      "1702  Zimbabwe    Africa  2002   39.989  11926563  672.038623\n",
      "1703  Zimbabwe    Africa  2007   43.487  12311143  469.709298\n"
     ]
    }
   ],
   "source": [
    "print(df.tail()) # n = 5\n",
    "print()\n",
    "print(df.tail(n = 1))\n",
    "print()\n",
    "print(df.tail(n = 3))\n",
    "print()\n",
    "print(df.tail(n = 7))"
   ]
  },
  {
   "cell_type": "code",
   "execution_count": 57,
   "id": "86b04f9a",
   "metadata": {},
   "outputs": [
    {
     "name": "stdout",
     "output_type": "stream",
     "text": [
      "       country continent  year  lifeExp       pop   gdpPercap\n",
      "0  Afghanistan      Asia  1952   28.801   8425333  779.445314\n",
      "1  Afghanistan      Asia  1957   30.332   9240934  820.853030\n",
      "2  Afghanistan      Asia  1962   31.997  10267083  853.100710\n",
      "3  Afghanistan      Asia  1967   34.020  11537966  836.197138\n",
      "4  Afghanistan      Asia  1972   36.088  13079460  739.981106\n",
      "\n",
      "       country continent  year  lifeExp      pop   gdpPercap\n",
      "0  Afghanistan      Asia  1952   28.801  8425333  779.445314\n",
      "\n",
      "       country continent  year  lifeExp       pop   gdpPercap\n",
      "0  Afghanistan      Asia  1952   28.801   8425333  779.445314\n",
      "1  Afghanistan      Asia  1957   30.332   9240934  820.853030\n",
      "2  Afghanistan      Asia  1962   31.997  10267083  853.100710\n",
      "\n",
      "       country continent  year  lifeExp       pop   gdpPercap\n",
      "0  Afghanistan      Asia  1952   28.801   8425333  779.445314\n",
      "1  Afghanistan      Asia  1957   30.332   9240934  820.853030\n",
      "2  Afghanistan      Asia  1962   31.997  10267083  853.100710\n",
      "3  Afghanistan      Asia  1967   34.020  11537966  836.197138\n",
      "4  Afghanistan      Asia  1972   36.088  13079460  739.981106\n",
      "5  Afghanistan      Asia  1977   38.438  14880372  786.113360\n",
      "6  Afghanistan      Asia  1982   39.854  12881816  978.011439\n"
     ]
    }
   ],
   "source": [
    "print(df.head()) # n = 5\n",
    "print()\n",
    "print(df.head(n = 1))\n",
    "print()\n",
    "print(df.head(n = 3))\n",
    "print()\n",
    "print(df.head(n = 7))"
   ]
  },
  {
   "cell_type": "code",
   "execution_count": 58,
   "id": "0613a2ce",
   "metadata": {
    "scrolled": true
   },
   "outputs": [
    {
     "name": "stdout",
     "output_type": "stream",
     "text": [
      "          country  year   gdpPercap\n",
      "0     Afghanistan  1952  779.445314\n",
      "1     Afghanistan  1957  820.853030\n",
      "2     Afghanistan  1962  853.100710\n",
      "3     Afghanistan  1967  836.197138\n",
      "4     Afghanistan  1972  739.981106\n",
      "...           ...   ...         ...\n",
      "1699     Zimbabwe  1987  706.157306\n",
      "1700     Zimbabwe  1992  693.420786\n",
      "1701     Zimbabwe  1997  792.449960\n",
      "1702     Zimbabwe  2002  672.038623\n",
      "1703     Zimbabwe  2007  469.709298\n",
      "\n",
      "[1704 rows x 3 columns]\n"
     ]
    }
   ],
   "source": [
    "print(df[['country','year','gdpPercap']])"
   ]
  },
  {
   "cell_type": "code",
   "execution_count": 61,
   "id": "3abcee81",
   "metadata": {},
   "outputs": [
    {
     "name": "stdout",
     "output_type": "stream",
     "text": [
      "country      Afghanistan\n",
      "continent           Asia\n",
      "year                1952\n",
      "lifeExp           28.801\n",
      "pop              8425333\n",
      "gdpPercap     779.445314\n",
      "Name: 0, dtype: object\n",
      "         country continent  year  lifeExp       pop   gdpPercap\n",
      "0    Afghanistan      Asia  1952   28.801   8425333  779.445314\n",
      "10   Afghanistan      Asia  2002   42.129  25268405  726.734055\n",
      "100   Bangladesh      Asia  1972   45.252  70759295  630.233627\n",
      "         country continent  year  lifeExp       pop   gdpPercap\n",
      "0    Afghanistan      Asia  1952   28.801   8425333  779.445314\n",
      "10   Afghanistan      Asia  2002   42.129  25268405  726.734055\n",
      "100   Bangladesh      Asia  1972   45.252  70759295  630.233627\n"
     ]
    }
   ],
   "source": [
    "print(df.loc[0])\n",
    "### 0, 10, 100행의 값을 가져오기\n",
    "print(df.loc[[0,10,100]]) # 명시적 \n",
    "### 암시적 인덱스\n",
    "print(df.iloc[[0, 10, 100]]) # 암시적으로 0부터 시작하는 수가 존재한다."
   ]
  },
  {
   "cell_type": "code",
   "execution_count": 68,
   "id": "37864ad6",
   "metadata": {},
   "outputs": [
    {
     "name": "stdout",
     "output_type": "stream",
     "text": [
      "[1, 2, 3, 4, 5]\n",
      "[1, 2, 3]\n",
      "       country continent  year  lifeExp       pop   gdpPercap\n",
      "0  Afghanistan      Asia  1952   28.801   8425333  779.445314\n",
      "1  Afghanistan      Asia  1957   30.332   9240934  820.853030\n",
      "2  Afghanistan      Asia  1962   31.997  10267083  853.100710\n",
      "3  Afghanistan      Asia  1967   34.020  11537966  836.197138\n",
      "4  Afghanistan      Asia  1972   36.088  13079460  739.981106\n",
      "5  Afghanistan      Asia  1977   38.438  14880372  786.113360\n",
      "6  Afghanistan      Asia  1982   39.854  12881816  978.011439\n",
      "7  Afghanistan      Asia  1987   40.822  13867957  852.395945\n",
      "8  Afghanistan      Asia  1992   41.674  16317921  649.341395\n",
      "9  Afghanistan      Asia  1997   41.763  22227415  635.341351\n",
      "       country continent  year  lifeExp       pop   gdpPercap\n",
      "3  Afghanistan      Asia  1967   34.020  11537966  836.197138\n",
      "4  Afghanistan      Asia  1972   36.088  13079460  739.981106\n",
      "5  Afghanistan      Asia  1977   38.438  14880372  786.113360\n",
      "6  Afghanistan      Asia  1982   39.854  12881816  978.011439\n",
      "7  Afghanistan      Asia  1987   40.822  13867957  852.395945\n",
      "8  Afghanistan      Asia  1992   41.674  16317921  649.341395\n",
      "       country continent  year  lifeExp       pop   gdpPercap\n",
      "3  Afghanistan      Asia  1967   34.020  11537966  836.197138\n",
      "4  Afghanistan      Asia  1972   36.088  13079460  739.981106\n",
      "5  Afghanistan      Asia  1977   38.438  14880372  786.113360\n",
      "6  Afghanistan      Asia  1982   39.854  12881816  978.011439\n",
      "7  Afghanistan      Asia  1987   40.822  13867957  852.395945\n",
      "8  Afghanistan      Asia  1992   41.674  16317921  649.341395\n"
     ]
    }
   ],
   "source": [
    "# 행의 범위를 가졍오기 \n",
    "l = [1,2,3,4,5]\n",
    "print(l)\n",
    "print(l[0:3]) # slicing\n",
    "print(df.head(n=10))\n",
    "print(df.loc[3:8])\n",
    "print(df.loc[3:8 :])"
   ]
  },
  {
   "cell_type": "code",
   "execution_count": 73,
   "id": "05c3fcdd",
   "metadata": {},
   "outputs": [
    {
     "name": "stdout",
     "output_type": "stream",
     "text": [
      "          country  year       pop\n",
      "0     Afghanistan  1952   8425333\n",
      "1     Afghanistan  1957   9240934\n",
      "2     Afghanistan  1962  10267083\n",
      "3     Afghanistan  1967  11537966\n",
      "4     Afghanistan  1972  13079460\n",
      "...           ...   ...       ...\n",
      "1699     Zimbabwe  1987   9216418\n",
      "1700     Zimbabwe  1992  10704340\n",
      "1701     Zimbabwe  1997  11404948\n",
      "1702     Zimbabwe  2002  11926563\n",
      "1703     Zimbabwe  2007  12311143\n",
      "\n",
      "[1704 rows x 3 columns]\n",
      "          country  year       pop\n",
      "0     Afghanistan  1952   8425333\n",
      "1     Afghanistan  1957   9240934\n",
      "2     Afghanistan  1962  10267083\n",
      "3     Afghanistan  1967  11537966\n",
      "4     Afghanistan  1972  13079460\n",
      "...           ...   ...       ...\n",
      "1699     Zimbabwe  1987   9216418\n",
      "1700     Zimbabwe  1992  10704340\n",
      "1701     Zimbabwe  1997  11404948\n",
      "1702     Zimbabwe  2002  11926563\n",
      "1703     Zimbabwe  2007  12311143\n",
      "\n",
      "[1704 rows x 3 columns]\n",
      "       country  year       pop\n",
      "0  Afghanistan  1952   8425333\n",
      "1  Afghanistan  1957   9240934\n",
      "2  Afghanistan  1962  10267083\n",
      "3  Afghanistan  1967  11537966\n",
      "4  Afghanistan  1972  13079460\n",
      "       country  year       pop\n",
      "0  Afghanistan  1952   8425333\n",
      "1  Afghanistan  1957   9240934\n",
      "2  Afghanistan  1962  10267083\n",
      "3  Afghanistan  1967  11537966\n",
      "4  Afghanistan  1972  13079460\n"
     ]
    }
   ],
   "source": [
    "### 전체 행에서 컬럼 country 와 year 와 pop \n",
    "print(df[['country','year','pop']])\n",
    "print(df.loc[:, ['country','year','pop']])\n",
    "print(df.loc[:, ['country','year','pop']].head())\n",
    "subset = df.loc[:, ['country','year','pop']]\n",
    "print(subset.head())"
   ]
  },
  {
   "cell_type": "code",
   "execution_count": 76,
   "id": "19fd4465",
   "metadata": {},
   "outputs": [
    {
     "name": "stdout",
     "output_type": "stream",
     "text": [
      "          country  year       pop\n",
      "0     Afghanistan  1952   8425333\n",
      "1     Afghanistan  1957   9240934\n",
      "2     Afghanistan  1962  10267083\n",
      "3     Afghanistan  1967  11537966\n",
      "4     Afghanistan  1972  13079460\n",
      "...           ...   ...       ...\n",
      "1699     Zimbabwe  1987   9216418\n",
      "1700     Zimbabwe  1992  10704340\n",
      "1701     Zimbabwe  1997  11404948\n",
      "1702     Zimbabwe  2002  11926563\n",
      "1703     Zimbabwe  2007  12311143\n",
      "\n",
      "[1704 rows x 3 columns]\n",
      "       country  year       pop\n",
      "0  Afghanistan  1952   8425333\n",
      "1  Afghanistan  1957   9240934\n",
      "2  Afghanistan  1962  10267083\n",
      "3  Afghanistan  1967  11537966\n",
      "4  Afghanistan  1972  13079460\n",
      "       country  year       pop\n",
      "1699  Zimbabwe  1987   9216418\n",
      "1700  Zimbabwe  1992  10704340\n",
      "1701  Zimbabwe  1997  11404948\n",
      "1702  Zimbabwe  2002  11926563\n",
      "1703  Zimbabwe  2007  12311143\n"
     ]
    }
   ],
   "source": [
    "# 컬럼에 있는 암시적인덱스를 이용해서 'country','year','pop'를 출력하시오\n",
    "print(df.iloc[:,[0,2,4]])\n",
    "print(df.iloc[:,[0,2,4]].head())\n",
    "print(df.iloc[:,[0,2,4]].tail())"
   ]
  },
  {
   "cell_type": "code",
   "execution_count": 82,
   "id": "30ea4a87",
   "metadata": {},
   "outputs": [
    {
     "name": "stdout",
     "output_type": "stream",
     "text": [
      "          country continent  year  lifeExp       pop\n",
      "0     Afghanistan      Asia  1952   28.801   8425333\n",
      "1     Afghanistan      Asia  1957   30.332   9240934\n",
      "2     Afghanistan      Asia  1962   31.997  10267083\n",
      "3     Afghanistan      Asia  1967   34.020  11537966\n",
      "4     Afghanistan      Asia  1972   36.088  13079460\n",
      "...           ...       ...   ...      ...       ...\n",
      "1699     Zimbabwe    Africa  1987   62.351   9216418\n",
      "1700     Zimbabwe    Africa  1992   60.377  10704340\n",
      "1701     Zimbabwe    Africa  1997   46.809  11404948\n",
      "1702     Zimbabwe    Africa  2002   39.989  11926563\n",
      "1703     Zimbabwe    Africa  2007   43.487  12311143\n",
      "\n",
      "[1704 rows x 5 columns]\n",
      "          country continent  year  lifeExp       pop\n",
      "0     Afghanistan      Asia  1952   28.801   8425333\n",
      "1     Afghanistan      Asia  1957   30.332   9240934\n",
      "2     Afghanistan      Asia  1962   31.997  10267083\n",
      "3     Afghanistan      Asia  1967   34.020  11537966\n",
      "4     Afghanistan      Asia  1972   36.088  13079460\n",
      "...           ...       ...   ...      ...       ...\n",
      "1699     Zimbabwe    Africa  1987   62.351   9216418\n",
      "1700     Zimbabwe    Africa  1992   60.377  10704340\n",
      "1701     Zimbabwe    Africa  1997   46.809  11404948\n",
      "1702     Zimbabwe    Africa  2002   39.989  11926563\n",
      "1703     Zimbabwe    Africa  2007   43.487  12311143\n",
      "\n",
      "[1704 rows x 5 columns]\n",
      "       country continent  year  lifeExp       pop   gdpPercap\n",
      "0  Afghanistan      Asia  1952   28.801   8425333  779.445314\n",
      "1  Afghanistan      Asia  1957   30.332   9240934  820.853030\n",
      "2  Afghanistan      Asia  1962   31.997  10267083  853.100710\n",
      "3  Afghanistan      Asia  1967   34.020  11537966  836.197138\n",
      "4  Afghanistan      Asia  1972   36.088  13079460  739.981106\n",
      "       country continent  year  lifeExp       pop   gdpPercap\n",
      "0  Afghanistan      Asia  1952   28.801   8425333  779.445314\n",
      "1  Afghanistan      Asia  1957   30.332   9240934  820.853030\n",
      "2  Afghanistan      Asia  1962   31.997  10267083  853.100710\n",
      "3  Afghanistan      Asia  1967   34.020  11537966  836.197138\n",
      "4  Afghanistan      Asia  1972   36.088  13079460  739.981106\n",
      "       country continent  year  lifeExp       pop   gdpPercap\n",
      "0  Afghanistan      Asia  1952   28.801   8425333  779.445314\n",
      "1  Afghanistan      Asia  1957   30.332   9240934  820.853030\n",
      "2  Afghanistan      Asia  1962   31.997  10267083  853.100710\n",
      "3  Afghanistan      Asia  1967   34.020  11537966  836.197138\n",
      "4  Afghanistan      Asia  1972   36.088  13079460  739.981106\n",
      "        country continent  year  lifeExp       pop    gdpPercap\n",
      "10  Afghanistan      Asia  2002   42.129  25268405   726.734055\n",
      "11  Afghanistan      Asia  2007   43.828  31889923   974.580338\n",
      "12      Albania    Europe  1952   55.230   1282697  1601.056136\n",
      "13      Albania    Europe  1957   59.280   1476505  1942.284244\n",
      "14      Albania    Europe  1962   64.820   1728137  2312.888958\n",
      "        country continent  year  lifeExp       pop    gdpPercap\n",
      "10  Afghanistan      Asia  2002   42.129  25268405   726.734055\n",
      "11  Afghanistan      Asia  2007   43.828  31889923   974.580338\n",
      "12      Albania    Europe  1952   55.230   1282697  1601.056136\n",
      "13      Albania    Europe  1957   59.280   1476505  1942.284244\n",
      "14      Albania    Europe  1962   64.820   1728137  2312.888958\n"
     ]
    }
   ],
   "source": [
    "# 모든 행에 대해서 0열 부터 5개의 열을 가져오시오\n",
    "print(df.iloc[:,0:5])\n",
    "print(df.iloc[:,range(5)])\n",
    "## 처음부터 5개의 행을 가져오시오. head()사용하지 말것\n",
    "print(df.iloc[0:5,:])\n",
    "print(df.iloc[:5,:])\n",
    "print(df.iloc[range(5),:])\n",
    "### 10번부터 5개의 행을 가져오시오.\n",
    "print(df.iloc[10:15,:])\n",
    "print(df.iloc[range(10, 15),:])"
   ]
  },
  {
   "cell_type": "code",
   "execution_count": 84,
   "id": "54fdf7c5",
   "metadata": {},
   "outputs": [
    {
     "name": "stdout",
     "output_type": "stream",
     "text": [
      "      lifeExp       pop   gdpPercap\n",
      "0      28.801   8425333  779.445314\n",
      "1      30.332   9240934  820.853030\n",
      "2      31.997  10267083  853.100710\n",
      "3      34.020  11537966  836.197138\n",
      "4      36.088  13079460  739.981106\n",
      "...       ...       ...         ...\n",
      "1699   62.351   9216418  706.157306\n",
      "1700   60.377  10704340  693.420786\n",
      "1701   46.809  11404948  792.449960\n",
      "1702   39.989  11926563  672.038623\n",
      "1703   43.487  12311143  469.709298\n",
      "\n",
      "[1704 rows x 3 columns]\n",
      "      lifeExp       pop   gdpPercap\n",
      "0      28.801   8425333  779.445314\n",
      "1      30.332   9240934  820.853030\n",
      "2      31.997  10267083  853.100710\n",
      "3      34.020  11537966  836.197138\n",
      "4      36.088  13079460  739.981106\n",
      "...       ...       ...         ...\n",
      "1699   62.351   9216418  706.157306\n",
      "1700   60.377  10704340  693.420786\n",
      "1701   46.809  11404948  792.449960\n",
      "1702   39.989  11926563  672.038623\n",
      "1703   43.487  12311143  469.709298\n",
      "\n",
      "[1704 rows x 3 columns]\n"
     ]
    }
   ],
   "source": [
    "### 모든 행에 대해 3번 열부터 3개의 열을 가져오시오\n",
    "print(df.iloc[:, 3:6])\n",
    "print(df.iloc[:, range(3, 6)])"
   ]
  },
  {
   "cell_type": "code",
   "execution_count": 87,
   "id": "5b5011e5",
   "metadata": {},
   "outputs": [
    {
     "name": "stdout",
     "output_type": "stream",
     "text": [
      "          country  year       pop\n",
      "0     Afghanistan  1952   8425333\n",
      "1     Afghanistan  1957   9240934\n",
      "2     Afghanistan  1962  10267083\n",
      "3     Afghanistan  1967  11537966\n",
      "4     Afghanistan  1972  13079460\n",
      "...           ...   ...       ...\n",
      "1699     Zimbabwe  1987   9216418\n",
      "1700     Zimbabwe  1992  10704340\n",
      "1701     Zimbabwe  1997  11404948\n",
      "1702     Zimbabwe  2002  11926563\n",
      "1703     Zimbabwe  2007  12311143\n",
      "\n",
      "[1704 rows x 3 columns]\n",
      "          country  year       pop\n",
      "0     Afghanistan  1952   8425333\n",
      "1     Afghanistan  1957   9240934\n",
      "2     Afghanistan  1962  10267083\n",
      "3     Afghanistan  1967  11537966\n",
      "4     Afghanistan  1972  13079460\n",
      "...           ...   ...       ...\n",
      "1699     Zimbabwe  1987   9216418\n",
      "1700     Zimbabwe  1992  10704340\n",
      "1701     Zimbabwe  1997  11404948\n",
      "1702     Zimbabwe  2002  11926563\n",
      "1703     Zimbabwe  2007  12311143\n",
      "\n",
      "[1704 rows x 3 columns]\n"
     ]
    }
   ],
   "source": [
    "# 열을 0부터 5까지중 한칸씩 띄어서 가져오시오.\n",
    "print(df.iloc[:, 0:6:2])\n",
    "print(df.iloc[:, range(0,6,2)])"
   ]
  },
  {
   "cell_type": "code",
   "execution_count": 90,
   "id": "45b615dc",
   "metadata": {},
   "outputs": [
    {
     "name": "stdout",
     "output_type": "stream",
     "text": [
      "        country  year       pop\n",
      "0   Afghanistan  1952   8425333\n",
      "2   Afghanistan  1962  10267083\n",
      "4   Afghanistan  1972  13079460\n",
      "6   Afghanistan  1982  12881816\n",
      "8   Afghanistan  1992  16317921\n",
      "10  Afghanistan  2002  25268405\n",
      "12      Albania  1952   1282697\n",
      "14      Albania  1962   1728137\n",
      "16      Albania  1972   2263554\n",
      "18      Albania  1982   2780097\n",
      "        country  year       pop\n",
      "0   Afghanistan  1952   8425333\n",
      "2   Afghanistan  1962  10267083\n",
      "4   Afghanistan  1972  13079460\n",
      "6   Afghanistan  1982  12881816\n",
      "8   Afghanistan  1992  16317921\n",
      "10  Afghanistan  2002  25268405\n",
      "12      Albania  1952   1282697\n",
      "14      Albania  1962   1728137\n",
      "16      Albania  1972   2263554\n",
      "18      Albania  1982   2780097\n",
      "        country  year       pop\n",
      "10  Afghanistan  2002  25268405\n",
      "13      Albania  1957   1476505\n",
      "16      Albania  1972   2263554\n",
      "19      Albania  1987   3075321\n",
      "22      Albania  2002   3508512\n",
      "25      Algeria  1957  10270856\n",
      "28      Algeria  1972  14760787\n",
      "31      Algeria  1987  23254956\n",
      "34      Algeria  2002  31287142\n",
      "37       Angola  1957   4561361\n",
      "40       Angola  1972   5894858\n",
      "43       Angola  1987   7874230\n",
      "46       Angola  2002  10866106\n",
      "49    Argentina  1957  19610538\n",
      "52    Argentina  1972  24779799\n",
      "55    Argentina  1987  31620918\n",
      "58    Argentina  2002  38331121\n",
      "61    Australia  1957   9712569\n",
      "64    Australia  1972  13177000\n",
      "67    Australia  1987  16257249\n",
      "70    Australia  2002  19546792\n",
      "73      Austria  1957   6965860\n",
      "76      Austria  1972   7544201\n",
      "79      Austria  1987   7578903\n",
      "82      Austria  2002   8148312\n",
      "85      Bahrain  1957    138655\n",
      "88      Bahrain  1972    230800\n",
      "91      Bahrain  1987    454612\n",
      "94      Bahrain  2002    656397\n",
      "97   Bangladesh  1957  51365468\n",
      "        country  year       pop\n",
      "1   Afghanistan  1957   9240934\n",
      "4   Afghanistan  1972  13079460\n",
      "7   Afghanistan  1987  13867957\n",
      "10  Afghanistan  2002  25268405\n",
      "13      Albania  1957   1476505\n",
      "16      Albania  1972   2263554\n",
      "19      Albania  1987   3075321\n",
      "22      Albania  2002   3508512\n",
      "25      Algeria  1957  10270856\n",
      "28      Algeria  1972  14760787\n",
      "31      Algeria  1987  23254956\n",
      "34      Algeria  2002  31287142\n",
      "37       Angola  1957   4561361\n",
      "40       Angola  1972   5894858\n",
      "43       Angola  1987   7874230\n",
      "46       Angola  2002  10866106\n",
      "49    Argentina  1957  19610538\n",
      "52    Argentina  1972  24779799\n",
      "55    Argentina  1987  31620918\n",
      "58    Argentina  2002  38331121\n",
      "61    Australia  1957   9712569\n",
      "64    Australia  1972  13177000\n",
      "67    Australia  1987  16257249\n",
      "70    Australia  2002  19546792\n",
      "73      Austria  1957   6965860\n",
      "76      Austria  1972   7544201\n",
      "79      Austria  1987   7578903\n",
      "82      Austria  2002   8148312\n",
      "85      Bahrain  1957    138655\n",
      "88      Bahrain  1972    230800\n",
      "91      Bahrain  1987    454612\n",
      "94      Bahrain  2002    656397\n",
      "97   Bangladesh  1957  51365468\n"
     ]
    }
   ],
   "source": [
    "#행을 0부터 20개를 가져오고 열을 0부터 5까지 가져올 때 행과 열을 한칸씩 띄어서 가져오시오\n",
    "print(df.iloc[0:20:2, 0:6:2])\n",
    "print(df.iloc[range(0,20,2) ,range(0, 6,2)])\n",
    "#0행부터 100의 행을 두칸씩 띄우고 열은  하나씩 건너서 출력\n",
    "print(df.iloc[10:100:3,::2])\n",
    "print(df.iloc[range(1,100,3) ,::2])"
   ]
  },
  {
   "cell_type": "code",
   "execution_count": 95,
   "id": "b7dfab61",
   "metadata": {},
   "outputs": [
    {
     "name": "stdout",
     "output_type": "stream",
     "text": [
      "         country  lifeExp    gdpPercap\n",
      "0    Afghanistan   28.801   779.445314\n",
      "99    Bangladesh   43.453   721.186086\n",
      "999     Mongolia   51.253  1226.041130\n",
      "        country  lifeExp   gdpPercap\n",
      "0   Afghanistan   28.801  779.445314\n",
      "99   Bangladesh   43.453  721.186086\n",
      "99   Bangladesh   43.453  721.186086\n",
      "        country  lifeExp    gdpPercap\n",
      "10  Afghanistan   42.129   726.734055\n",
      "11  Afghanistan   43.828   974.580338\n",
      "12      Albania   55.230  1601.056136\n",
      "13      Albania   59.280  1942.284244\n"
     ]
    }
   ],
   "source": [
    "### 0,99,999행과 0,3,5열을 출력하시오.\n",
    "print(df.iloc[[0,99,999],[0,3,5]])\n",
    "# 열을 명시적 인덱스 사용\n",
    "print(df.loc[[0,99,99],['country',  'lifeExp',    'gdpPercap']])\n",
    "# 10행부터 3개를 가져오고 컬럼은 'country',  'lifeExp',    'gdpPercap'를 출력하시오.\n",
    "print(df.loc[10:13,['country',  'lifeExp',    'gdpPercap']])"
   ]
  },
  {
   "cell_type": "code",
   "execution_count": 100,
   "id": "c9b896f0",
   "metadata": {},
   "outputs": [
    {
     "name": "stdout",
     "output_type": "stream",
     "text": [
      "        country continent  year  lifeExp       pop    gdpPercap\n",
      "0   Afghanistan      Asia  1952   28.801   8425333   779.445314\n",
      "1   Afghanistan      Asia  1957   30.332   9240934   820.853030\n",
      "2   Afghanistan      Asia  1962   31.997  10267083   853.100710\n",
      "3   Afghanistan      Asia  1967   34.020  11537966   836.197138\n",
      "4   Afghanistan      Asia  1972   36.088  13079460   739.981106\n",
      "5   Afghanistan      Asia  1977   38.438  14880372   786.113360\n",
      "6   Afghanistan      Asia  1982   39.854  12881816   978.011439\n",
      "7   Afghanistan      Asia  1987   40.822  13867957   852.395945\n",
      "8   Afghanistan      Asia  1992   41.674  16317921   649.341395\n",
      "9   Afghanistan      Asia  1997   41.763  22227415   635.341351\n",
      "10  Afghanistan      Asia  2002   42.129  25268405   726.734055\n",
      "11  Afghanistan      Asia  2007   43.828  31889923   974.580338\n",
      "12      Albania    Europe  1952   55.230   1282697  1601.056136\n",
      "13      Albania    Europe  1957   59.280   1476505  1942.284244\n",
      "14      Albania    Europe  1962   64.820   1728137  2312.888958\n",
      "15      Albania    Europe  1967   66.220   1984060  2760.196931\n",
      "16      Albania    Europe  1972   67.690   2263554  3313.422188\n",
      "17      Albania    Europe  1977   68.930   2509048  3533.003910\n",
      "18      Albania    Europe  1982   70.420   2780097  3630.880722\n",
      "19      Albania    Europe  1987   72.000   3075321  3738.932735\n",
      "20      Albania    Europe  1992   71.581   3326498  2497.437901\n",
      "21      Albania    Europe  1997   72.950   3428038  3193.054604\n",
      "22      Albania    Europe  2002   75.651   3508512  4604.211737\n",
      "23      Albania    Europe  2007   76.423   3600523  5937.029526\n",
      "24      Algeria    Africa  1952   43.077   9279525  2449.008185\n",
      "25      Algeria    Africa  1957   45.685  10270856  3013.976023\n",
      "26      Algeria    Africa  1962   48.303  11000948  2550.816880\n",
      "27      Algeria    Africa  1967   51.407  12760499  3246.991771\n",
      "28      Algeria    Africa  1972   54.518  14760787  4182.663766\n",
      "29      Algeria    Africa  1977   58.014  17152804  4910.416756\n",
      "30      Algeria    Africa  1982   61.368  20033753  5745.160213\n",
      "31      Algeria    Africa  1987   65.799  23254956  5681.358539\n",
      "32      Algeria    Africa  1992   67.744  26298373  5023.216647\n",
      "33      Algeria    Africa  1997   69.152  29072015  4797.295051\n",
      "34      Algeria    Africa  2002   70.994  31287142  5288.040382\n",
      "35      Algeria    Africa  2007   72.301  33333216  6223.367465\n",
      "36       Angola    Africa  1952   30.015   4232095  3520.610273\n",
      "37       Angola    Africa  1957   31.999   4561361  3827.940465\n",
      "38       Angola    Africa  1962   34.000   4826015  4269.276742\n",
      "39       Angola    Africa  1967   35.985   5247469  5522.776375\n",
      "40       Angola    Africa  1972   37.928   5894858  5473.288005\n",
      "41       Angola    Africa  1977   39.483   6162675  3008.647355\n",
      "42       Angola    Africa  1982   39.942   7016384  2756.953672\n",
      "43       Angola    Africa  1987   39.906   7874230  2430.208311\n",
      "44       Angola    Africa  1992   40.647   8735988  2627.845685\n",
      "45       Angola    Africa  1997   40.963   9875024  2277.140884\n",
      "46       Angola    Africa  2002   41.003  10866106  2773.287312\n",
      "47       Angola    Africa  2007   42.731  12420476  4797.231267\n",
      "48    Argentina  Americas  1952   62.485  17876956  5911.315053\n",
      "49    Argentina  Americas  1957   64.399  19610538  6856.856212\n",
      "year\n",
      "1952    49.057620\n",
      "1957    51.507401\n",
      "1962    53.609249\n",
      "1967    55.678290\n",
      "1972    57.647386\n",
      "1977    59.570157\n",
      "1982    61.533197\n",
      "1987    63.212613\n",
      "1992    64.160338\n",
      "1997    65.014676\n",
      "2002    65.694923\n",
      "2007    67.007423\n",
      "Name: lifeExp, dtype: float64\n",
      "year\n",
      "1952    28.801\n",
      "1957    30.332\n",
      "1962    31.997\n",
      "1967    34.020\n",
      "1972    35.400\n",
      "1977    31.220\n",
      "1982    38.445\n",
      "1987    39.906\n",
      "1992    23.599\n",
      "1997    36.087\n",
      "2002    39.193\n",
      "2007    39.613\n",
      "Name: lifeExp, dtype: float64\n",
      "year\n",
      "1952    72.670\n",
      "1957    73.470\n",
      "1962    73.680\n",
      "1967    74.160\n",
      "1972    74.720\n",
      "1977    76.110\n",
      "1982    77.110\n",
      "1987    78.670\n",
      "1992    79.360\n",
      "1997    80.690\n",
      "2002    82.000\n",
      "2007    82.603\n",
      "Name: lifeExp, dtype: float64\n"
     ]
    }
   ],
   "source": [
    "print(df.head(n= 50))\n",
    "# 년도별 평균수명에 대한 평균\n",
    "print(df.groupby('year')['lifeExp'].mean())\n",
    "# 년도별 평균수명에 대한 최소\n",
    "print(df.groupby('year')['lifeExp'].min())\n",
    "# 년도별 평균수명에 대한 최대\n",
    "print(df.groupby('year')['lifeExp'].max())"
   ]
  },
  {
   "cell_type": "code",
   "execution_count": 103,
   "id": "f9258b62",
   "metadata": {},
   "outputs": [
    {
     "name": "stdout",
     "output_type": "stream",
     "text": [
      "year\n",
      "1952    49.057620\n",
      "1957    51.507401\n",
      "1962    53.609249\n",
      "1967    55.678290\n",
      "1972    57.647386\n",
      "1977    59.570157\n",
      "1982    61.533197\n",
      "1987    63.212613\n",
      "1992    64.160338\n",
      "1997    65.014676\n",
      "2002    65.694923\n",
      "2007    67.007423\n",
      "Name: lifeExp, dtype: float64\n",
      "year\n",
      "1952    49.057620\n",
      "1957    51.507401\n",
      "1962    53.609249\n",
      "1967    55.678290\n",
      "1972    57.647386\n",
      "1977    59.570157\n",
      "1982    61.533197\n",
      "1987    63.212613\n",
      "1992    64.160338\n",
      "1997    65.014676\n",
      "2002    65.694923\n",
      "2007    67.007423\n",
      "Name: lifeExp, dtype: float64\n",
      "year\n",
      "1952    49.057620\n",
      "1957    51.507401\n",
      "1962    53.609249\n",
      "1967    55.678290\n",
      "1972    57.647386\n",
      "1977    59.570157\n",
      "1982    61.533197\n",
      "1987    63.212613\n",
      "1992    64.160338\n",
      "1997    65.014676\n",
      "2002    65.694923\n",
      "2007    67.007423\n",
      "Name: lifeExp, dtype: float64\n"
     ]
    }
   ],
   "source": [
    "grouped_year_df = df.groupby('year')\n",
    "mean_lifeExp_by_year = grouped_year_df['lifeExp']\n",
    "print(mean_lifeExp_by_year.mean())\n",
    "\n",
    "print(grouped_year_df['lifeExp'].mean())\n",
    "print(df.groupby('year')['lifeExp'].mean())"
   ]
  },
  {
   "cell_type": "code",
   "execution_count": 112,
   "id": "ea718670",
   "metadata": {},
   "outputs": [
    {
     "name": "stdout",
     "output_type": "stream",
     "text": [
      "year  continent\n",
      "1952  Africa       39.135500\n",
      "      Americas     53.279840\n",
      "      Asia         46.314394\n",
      "      Europe       64.408500\n",
      "      Oceania      69.255000\n",
      "1957  Africa       41.266346\n",
      "      Americas     55.960280\n",
      "      Asia         49.318544\n",
      "      Europe       66.703067\n",
      "      Oceania      70.295000\n",
      "1962  Africa       43.319442\n",
      "      Americas     58.398760\n",
      "      Asia         51.563223\n",
      "      Europe       68.539233\n",
      "      Oceania      71.085000\n",
      "1967  Africa       45.334538\n",
      "      Americas     60.410920\n",
      "      Asia         54.663640\n",
      "      Europe       69.737600\n",
      "      Oceania      71.310000\n",
      "1972  Africa       47.450942\n",
      "      Americas     62.394920\n",
      "      Asia         57.319269\n",
      "      Europe       70.775033\n",
      "      Oceania      71.910000\n",
      "1977  Africa       49.580423\n",
      "      Americas     64.391560\n",
      "      Asia         59.610556\n",
      "      Europe       71.937767\n",
      "      Oceania      72.855000\n",
      "1982  Africa       51.592865\n",
      "      Americas     66.228840\n",
      "      Asia         62.617939\n",
      "      Europe       72.806400\n",
      "      Oceania      74.290000\n",
      "1987  Africa       53.344788\n",
      "      Americas     68.090720\n",
      "      Asia         64.851182\n",
      "      Europe       73.642167\n",
      "      Oceania      75.320000\n",
      "1992  Africa       53.629577\n",
      "      Americas     69.568360\n",
      "      Asia         66.537212\n",
      "      Europe       74.440100\n",
      "      Oceania      76.945000\n",
      "1997  Africa       53.598269\n",
      "      Americas     71.150480\n",
      "      Asia         68.020515\n",
      "      Europe       75.505167\n",
      "      Oceania      78.190000\n",
      "2002  Africa       53.325231\n",
      "      Americas     72.422040\n",
      "      Asia         69.233879\n",
      "      Europe       76.700600\n",
      "      Oceania      79.740000\n",
      "2007  Africa       54.806038\n",
      "      Americas     73.608120\n",
      "      Asia         70.728485\n",
      "      Europe       77.648600\n",
      "      Oceania      80.719500\n",
      "Name: lifeExp, dtype: float64\n"
     ]
    }
   ],
   "source": [
    "#print(df.head(n=50))\n",
    "### 년도별 각 지역의 평균 수명의 평균을 구하시오.\n",
    "print(df.groupby(['year','continent'])['lifeExp'].mean())"
   ]
  },
  {
   "cell_type": "code",
   "execution_count": null,
   "id": "1296a164",
   "metadata": {},
   "outputs": [],
   "source": []
  },
  {
   "cell_type": "code",
   "execution_count": 114,
   "id": "1b69725f",
   "metadata": {},
   "outputs": [
    {
     "name": "stdout",
     "output_type": "stream",
     "text": [
      "year  continent  gdpPercap   \n",
      "1952  Africa     298.846212      42.138\n",
      "                 299.850319      32.500\n",
      "                 328.940557      35.928\n",
      "                 339.296459      39.031\n",
      "                 362.146280      34.078\n",
      "                                  ...  \n",
      "2007  Europe     37506.419070    81.701\n",
      "                 40675.996350    78.885\n",
      "                 49357.190170    80.196\n",
      "      Oceania    25185.009110    80.204\n",
      "                 34435.367440    81.235\n",
      "Name: lifeExp, Length: 1704, dtype: float64\n"
     ]
    }
   ],
   "source": [
    "df\n",
    "### 년도별 지역의 gdp에 따른 평균수명에 대한 평균은?\n",
    "print(df.groupby(['year','continent','gdpPercap'])['lifeExp'].mean())"
   ]
  },
  {
   "cell_type": "code",
   "execution_count": 117,
   "id": "b55b55a0",
   "metadata": {},
   "outputs": [
    {
     "name": "stdout",
     "output_type": "stream",
     "text": [
      "                  lifeExp     gdpPercap\n",
      "year continent                         \n",
      "1952 Africa     39.135500   1252.572466\n",
      "     Americas   53.279840   4079.062552\n",
      "     Asia       46.314394   5195.484004\n",
      "     Europe     64.408500   5661.057435\n",
      "     Oceania    69.255000  10298.085650\n",
      "1957 Africa     41.266346   1385.236062\n",
      "     Americas   55.960280   4616.043733\n",
      "     Asia       49.318544   5787.732940\n",
      "     Europe     66.703067   6963.012816\n",
      "     Oceania    70.295000  11598.522455\n",
      "1962 Africa     43.319442   1598.078825\n",
      "     Americas   58.398760   4901.541870\n",
      "     Asia       51.563223   5729.369625\n",
      "     Europe     68.539233   8365.486814\n",
      "     Oceania    71.085000  12696.452430\n",
      "1967 Africa     45.334538   2050.363801\n",
      "     Americas   60.410920   5668.253496\n",
      "     Asia       54.663640   5971.173374\n",
      "     Europe     69.737600  10143.823757\n",
      "     Oceania    71.310000  14495.021790\n",
      "1972 Africa     47.450942   2339.615674\n",
      "     Americas   62.394920   6491.334139\n",
      "     Asia       57.319269   8187.468699\n",
      "     Europe     70.775033  12479.575246\n",
      "     Oceania    71.910000  16417.333380\n",
      "1977 Africa     49.580423   2585.938508\n",
      "     Americas   64.391560   7352.007126\n",
      "     Asia       59.610556   7791.314020\n",
      "     Europe     71.937767  14283.979110\n",
      "     Oceania    72.855000  17283.957605\n",
      "1982 Africa     51.592865   2481.592960\n",
      "     Americas   66.228840   7506.737088\n",
      "     Asia       62.617939   7434.135157\n",
      "     Europe     72.806400  15617.896551\n",
      "     Oceania    74.290000  18554.709840\n",
      "1987 Africa     53.344788   2282.668991\n",
      "     Americas   68.090720   7793.400261\n",
      "     Asia       64.851182   7608.226508\n",
      "     Europe     73.642167  17214.310727\n",
      "     Oceania    75.320000  20448.040160\n",
      "1992 Africa     53.629577   2281.810333\n",
      "     Americas   69.568360   8044.934406\n",
      "     Asia       66.537212   8639.690248\n",
      "     Europe     74.440100  17061.568084\n",
      "     Oceania    76.945000  20894.045885\n",
      "1997 Africa     53.598269   2378.759555\n",
      "     Americas   71.150480   8889.300863\n",
      "     Asia       68.020515   9834.093295\n",
      "     Europe     75.505167  19076.781802\n",
      "     Oceania    78.190000  24024.175170\n",
      "2002 Africa     53.325231   2599.385159\n",
      "     Americas   72.422040   9287.677107\n",
      "     Asia       69.233879  10174.090397\n",
      "     Europe     76.700600  21711.732422\n",
      "     Oceania    79.740000  26938.778040\n",
      "2007 Africa     54.806038   3089.032605\n",
      "     Americas   73.608120  11003.031625\n",
      "     Asia       70.728485  12473.026870\n",
      "     Europe     77.648600  25054.481636\n",
      "     Oceania    80.719500  29810.188275\n"
     ]
    },
    {
     "name": "stderr",
     "output_type": "stream",
     "text": [
      "C:\\Users\\soldesk\\AppData\\Local\\Temp/ipykernel_6032/655364533.py:3: FutureWarning: Indexing with multiple keys (implicitly converted to a tuple of keys) will be deprecated, use a list instead.\n",
      "  print(df.groupby(['year','continent'])['lifeExp','gdpPercap'].mean())\n"
     ]
    }
   ],
   "source": [
    "df\n",
    "### 년도별 지역의 평균 수명의 평균과 gdp의 평균을 구하시오\n",
    "print(df.groupby(['year','continent'])['lifeExp','gdpPercap'].mean())"
   ]
  },
  {
   "cell_type": "code",
   "execution_count": 119,
   "id": "c5730c96",
   "metadata": {},
   "outputs": [
    {
     "name": "stdout",
     "output_type": "stream",
     "text": [
      "continent\n",
      "Africa      52\n",
      "Americas    25\n",
      "Asia        33\n",
      "Europe      30\n",
      "Oceania      2\n",
      "Name: country, dtype: int64\n"
     ]
    }
   ],
   "source": [
    "df\n",
    "# 그룹화한 데이터의 개수 세기\n",
    "## 지역에 대한 나라의 갯수\n",
    "print(df.groupby('continent')['country'].nunique())"
   ]
  },
  {
   "cell_type": "code",
   "execution_count": 126,
   "id": "2c737cf4",
   "metadata": {},
   "outputs": [
    {
     "name": "stdout",
     "output_type": "stream",
     "text": [
      "year\n",
      "1952    49.057620\n",
      "1957    51.507401\n",
      "1962    53.609249\n",
      "1967    55.678290\n",
      "1972    57.647386\n",
      "1977    59.570157\n",
      "1982    61.533197\n",
      "1987    63.212613\n",
      "1992    64.160338\n",
      "1997    65.014676\n",
      "2002    65.694923\n",
      "2007    67.007423\n",
      "Name: lifeExp, dtype: float64\n"
     ]
    },
    {
     "data": {
      "text/plain": [
       "<AxesSubplot:xlabel='year'>"
      ]
     },
     "execution_count": 126,
     "metadata": {},
     "output_type": "execute_result"
    },
    {
     "data": {
      "image/png": "[encoded data removed]",
      "text/plain": [
       "<Figure size 432x288 with 1 Axes>"
      ]
     },
     "metadata": {
      "needs_background": "light"
     },
     "output_type": "display_data"
    }
   ],
   "source": [
    "%matplotlib inline # 주피터 노트북에서 그래프를 그리기 위한 함수\n",
    "import matplotlib as plt\n",
    "# 년도별 평균 수명의 평균을 구하시오.\n",
    "print(df.groupby('year')['lifeExp'].mean())\n",
    "# 위 데이터를 그래프로 표현하시오.\n",
    "df.groupby('year')['lifeExp'].mean().plot()"
   ]
  },
  {
   "cell_type": "code",
   "execution_count": 129,
   "id": "a9a81184",
   "metadata": {},
   "outputs": [
    {
     "name": "stdout",
     "output_type": "stream",
     "text": [
      "0    banana\n",
      "1        42\n",
      "2      1500\n",
      "dtype: object\n"
     ]
    }
   ],
   "source": [
    "# Series \n",
    "s = pd.Series(['banana', 42, 1500])\n",
    "print(s)"
   ]
  },
  {
   "cell_type": "code",
   "execution_count": 130,
   "id": "10953ca3",
   "metadata": {},
   "outputs": [
    {
     "name": "stdout",
     "output_type": "stream",
     "text": [
      "a    banana\n",
      "b        42\n",
      "c      1500\n",
      "dtype: object\n"
     ]
    }
   ],
   "source": [
    "s = pd.Series(['banana', 42, 1500], index=['a','b','c'])\n",
    "print(s)"
   ]
  },
  {
   "cell_type": "code",
   "execution_count": 131,
   "id": "e2e62d3b",
   "metadata": {},
   "outputs": [
    {
     "name": "stdout",
     "output_type": "stream",
     "text": [
      "banana\n"
     ]
    }
   ],
   "source": [
    "print(s['a'])"
   ]
  },
  {
   "cell_type": "code",
   "execution_count": 132,
   "id": "1725ec4e",
   "metadata": {},
   "outputs": [
    {
     "name": "stdout",
     "output_type": "stream",
     "text": [
      "  Name  age        born\n",
      "0  이숭무   50  1990-10-25\n",
      "1  이상범   35  2000-05-05\n",
      "2  이장범   25  2005-01-15\n"
     ]
    }
   ],
   "source": [
    "### dataFrame\n",
    "df = pd.DataFrame({'Name':['이숭무','이상범','이장범'],\n",
    "                   'age':[50,35,25],\n",
    "                   'born':['1990-10-25','2000-05-05','2005-01-15']})\n",
    "print(df)"
   ]
  },
  {
   "cell_type": "code",
   "execution_count": 133,
   "id": "5e7dad90",
   "metadata": {},
   "outputs": [
    {
     "name": "stdout",
     "output_type": "stream",
     "text": [
      "  Name  age        born\n",
      "c  이숭무   50  1990-10-25\n",
      "b  이상범   35  2000-05-05\n",
      "a  이장범   25  2005-01-15\n"
     ]
    }
   ],
   "source": [
    "df = pd.DataFrame({'Name':['이숭무','이상범','이장범'],\n",
    "                   'age':[50,35,25],\n",
    "                   'born':['1990-10-25','2000-05-05','2005-01-15']}\n",
    "                 ,index={'a','b','c'})\n",
    "print(df)"
   ]
  },
  {
   "cell_type": "code",
   "execution_count": 135,
   "id": "ba49b77e",
   "metadata": {},
   "outputs": [
    {
     "name": "stdout",
     "output_type": "stream",
     "text": [
      "  Name        born  age\n",
      "c  이숭무  1990-10-25   50\n",
      "b  이상범  2000-05-05   35\n",
      "a  이장범  2005-01-15   25\n"
     ]
    }
   ],
   "source": [
    "df = pd.DataFrame({'Name':['이숭무','이상범','이장범'],\n",
    "                   'age':[50,35,25],\n",
    "                   'born':['1990-10-25','2000-05-05','2005-01-15']}\n",
    "                 ,index={'a','b','c'},\n",
    "                 columns=['Name','born','age'])\n",
    "print(df)"
   ]
  },
  {
   "cell_type": "code",
   "execution_count": 139,
   "id": "99f1d263",
   "metadata": {},
   "outputs": [
    {
     "name": "stdout",
     "output_type": "stream",
     "text": [
      "  Name  age        born\n",
      "0  이숭무   50  1990-10-25\n",
      "1  이상범   35  2000-05-05\n",
      "2  이장범   25  2005-01-15\n"
     ]
    }
   ],
   "source": [
    "from collections import OrderedDict\n",
    "df = pd.DataFrame(OrderedDict([\n",
    "    ('Name',['이숭무','이상범','이장범']),\n",
    "    ('age',[50,35,25],),\n",
    "    ('born',['1990-10-25','2000-05-05','2005-01-15'])\n",
    "]))\n",
    "print(df)"
   ]
  },
  {
   "cell_type": "code",
   "execution_count": 140,
   "id": "621b0ad5",
   "metadata": {},
   "outputs": [
    {
     "name": "stdout",
     "output_type": "stream",
     "text": [
      "  Name        born  age\n",
      "c  이숭무  1990-10-25   50\n",
      "b  이상범  2000-05-05   35\n",
      "a  이장범  2005-01-15   25\n"
     ]
    }
   ],
   "source": [
    "df = pd.DataFrame(data={'Name':['이숭무','이상범','이장범'],\n",
    "                   'age':[50,35,25],\n",
    "                   'born':['1990-10-25','2000-05-05','2005-01-15']}\n",
    "                 ,index={'a','b','c'},\n",
    "                 columns=['Name','born','age'])\n",
    "print(df)"
   ]
  },
  {
   "cell_type": "code",
   "execution_count": 143,
   "id": "750a8125",
   "metadata": {},
   "outputs": [
    {
     "name": "stdout",
     "output_type": "stream",
     "text": [
      "c    이숭무\n",
      "b    이상범\n",
      "a    이장범\n",
      "Name: Name, dtype: object\n",
      "c    1990-10-25\n",
      "b    2000-05-05\n",
      "a    2005-01-15\n",
      "Name: born, dtype: object\n",
      "Name           이숭무\n",
      "born    1990-10-25\n",
      "age             50\n",
      "Name: c, dtype: object\n"
     ]
    }
   ],
   "source": [
    "# 첫번째 열을 출력하시오.\n",
    "print(df['Name'])\n",
    "# 두번째열을 출력하시오.\n",
    "print(df['born'])"
   ]
  },
  {
   "cell_type": "code",
   "execution_count": 147,
   "id": "00099547",
   "metadata": {},
   "outputs": [
    {
     "name": "stdout",
     "output_type": "stream",
     "text": [
      "  Name        born  age\n",
      "c  이숭무  1990-10-25   50\n",
      "b  이상범  2000-05-05   35\n",
      "a  이장범  2005-01-15   25\n",
      "Name           이숭무\n",
      "born    1990-10-25\n",
      "age             50\n",
      "Name: c, dtype: object\n",
      "Name           이숭무\n",
      "born    1990-10-25\n",
      "age             50\n",
      "Name: c, dtype: object\n",
      "<class 'pandas.core.series.Series'>\n"
     ]
    }
   ],
   "source": [
    "print(df)\n",
    "# 첫번째 행을 출력하시오.\n",
    "print(df.loc['c'])\n",
    "print(df.iloc[0])\n",
    "print(type(df.iloc[0])) # Series"
   ]
  },
  {
   "cell_type": "code",
   "execution_count": 152,
   "id": "c2369374",
   "metadata": {},
   "outputs": [
    {
     "name": "stdout",
     "output_type": "stream",
     "text": [
      "Index(['c', 'b', 'a'], dtype='object')\n",
      "Index(['Name', 'born', 'age'], dtype='object')\n",
      "Index(['Name', 'born', 'age'], dtype='object')\n",
      "Index(['Name', 'born', 'age'], dtype='object')\n"
     ]
    }
   ],
   "source": [
    "print(df.index) # 행번호를 가져올 때 사용\n",
    "print(df.keys()) # 컬럼명을 가져올 때 사용\n",
    "# 'a'에 있는 컬럼 정보\n",
    "print(df.loc['a'].index)\n",
    "print(df.loc['a'].keys())"
   ]
  },
  {
   "cell_type": "code",
   "execution_count": 163,
   "id": "cae4a7cf",
   "metadata": {},
   "outputs": [
    {
     "name": "stdout",
     "output_type": "stream",
     "text": [
      "c    50\n",
      "b    35\n",
      "a    25\n",
      "Name: age, dtype: int64\n",
      "c    50\n",
      "b    35\n",
      "a    25\n",
      "Name: age, dtype: int64\n",
      "35\n",
      "35\n",
      "36.666666666666664\n",
      "25\n",
      "50\n",
      "12.583057392117915\n"
     ]
    }
   ],
   "source": [
    "#df에서 나이만 출력\n",
    "print(df['age'])\n",
    "# print(df.loc['age']) # age라는 이름의 행을 의미\n",
    "print(df.loc[:, 'age'])\n",
    "### '이상범'의 나이를 출력하시오.\n",
    "print(df.loc['b','age'])\n",
    "    # 암시적 인덱스\n",
    "print(df.iloc[1,2])\n",
    "# 나이의 평균, 최소값 , 최대값, 표준편차를 구하시오.\n",
    "print(df['age'].mean())\n",
    "print(df['age'].min())\n",
    "print(df['age'].max())\n",
    "print(df['age'].std())"
   ]
  },
  {
   "cell_type": "code",
   "execution_count": 164,
   "id": "bd2936a8",
   "metadata": {},
   "outputs": [
    {
     "data": {
      "text/html": [
       "<div>\n",
       "<style scoped>\n",
       "    .dataframe tbody tr th:only-of-type {\n",
       "        vertical-align: middle;\n",
       "    }\n",
       "\n",
       "    .dataframe tbody tr th {\n",
       "        vertical-align: top;\n",
       "    }\n",
       "\n",
       "    .dataframe thead th {\n",
       "        text-align: right;\n",
       "    }\n",
       "</style>\n",
       "<table border=\"1\" class=\"dataframe\">\n",
       "  <thead>\n",
       "    <tr style=\"text-align: right;\">\n",
       "      <th></th>\n",
       "      <th>Name</th>\n",
       "      <th>Born</th>\n",
       "      <th>Died</th>\n",
       "      <th>Age</th>\n",
       "      <th>Occupation</th>\n",
       "    </tr>\n",
       "  </thead>\n",
       "  <tbody>\n",
       "    <tr>\n",
       "      <th>0</th>\n",
       "      <td>Rosaline Franklin</td>\n",
       "      <td>1920-07-25</td>\n",
       "      <td>1958-04-16</td>\n",
       "      <td>37</td>\n",
       "      <td>Chemist</td>\n",
       "    </tr>\n",
       "    <tr>\n",
       "      <th>1</th>\n",
       "      <td>William Gosset</td>\n",
       "      <td>1876-06-13</td>\n",
       "      <td>1937-10-16</td>\n",
       "      <td>61</td>\n",
       "      <td>Statistician</td>\n",
       "    </tr>\n",
       "    <tr>\n",
       "      <th>2</th>\n",
       "      <td>Florence Nightingale</td>\n",
       "      <td>1820-05-12</td>\n",
       "      <td>1910-08-13</td>\n",
       "      <td>90</td>\n",
       "      <td>Nurse</td>\n",
       "    </tr>\n",
       "    <tr>\n",
       "      <th>3</th>\n",
       "      <td>Marie Curie</td>\n",
       "      <td>1867-11-07</td>\n",
       "      <td>1934-07-04</td>\n",
       "      <td>66</td>\n",
       "      <td>Chemist</td>\n",
       "    </tr>\n",
       "    <tr>\n",
       "      <th>4</th>\n",
       "      <td>Rachel Carson</td>\n",
       "      <td>1907-05-27</td>\n",
       "      <td>1964-04-14</td>\n",
       "      <td>56</td>\n",
       "      <td>Biologist</td>\n",
       "    </tr>\n",
       "    <tr>\n",
       "      <th>5</th>\n",
       "      <td>John Snow</td>\n",
       "      <td>1813-03-15</td>\n",
       "      <td>1858-06-16</td>\n",
       "      <td>45</td>\n",
       "      <td>Physician</td>\n",
       "    </tr>\n",
       "    <tr>\n",
       "      <th>6</th>\n",
       "      <td>Alan Turing</td>\n",
       "      <td>1912-06-23</td>\n",
       "      <td>1954-06-07</td>\n",
       "      <td>41</td>\n",
       "      <td>Computer Scientist</td>\n",
       "    </tr>\n",
       "    <tr>\n",
       "      <th>7</th>\n",
       "      <td>Johann Gauss</td>\n",
       "      <td>1777-04-30</td>\n",
       "      <td>1855-02-23</td>\n",
       "      <td>77</td>\n",
       "      <td>Mathematician</td>\n",
       "    </tr>\n",
       "  </tbody>\n",
       "</table>\n",
       "</div>"
      ],
      "text/plain": [
       "                   Name        Born        Died  Age          Occupation\n",
       "0     Rosaline Franklin  1920-07-25  1958-04-16   37             Chemist\n",
       "1        William Gosset  1876-06-13  1937-10-16   61        Statistician\n",
       "2  Florence Nightingale  1820-05-12  1910-08-13   90               Nurse\n",
       "3           Marie Curie  1867-11-07  1934-07-04   66             Chemist\n",
       "4         Rachel Carson  1907-05-27  1964-04-14   56           Biologist\n",
       "5             John Snow  1813-03-15  1858-06-16   45           Physician\n",
       "6           Alan Turing  1912-06-23  1954-06-07   41  Computer Scientist\n",
       "7          Johann Gauss  1777-04-30  1855-02-23   77       Mathematician"
      ]
     },
     "execution_count": 164,
     "metadata": {},
     "output_type": "execute_result"
    }
   ],
   "source": [
    "df = pd.read_csv(\n",
    "    \"https://raw.githubusercontent.com/SoongMoo/soldesk2110/main/data/scientists.csv\")\n",
    "df"
   ]
  },
  {
   "cell_type": "code",
   "execution_count": 169,
   "id": "5a6b9501",
   "metadata": {},
   "outputs": [
    {
     "name": "stdout",
     "output_type": "stream",
     "text": [
      "0    37\n",
      "1    61\n",
      "2    90\n",
      "3    66\n",
      "4    56\n",
      "5    45\n",
      "6    41\n",
      "7    77\n",
      "Name: Age, dtype: int64\n",
      "59.125\n",
      "37\n",
      "90\n",
      "18.325918413937288\n"
     ]
    }
   ],
   "source": [
    "# 과학자의 평균 수명을 구하시오\n",
    "print(df['Age'])\n",
    "print(df['Age'].mean())\n",
    "print(df['Age'].min())\n",
    "print(df['Age'].max())\n",
    "print(df['Age'].std())"
   ]
  },
  {
   "cell_type": "code",
   "execution_count": 179,
   "id": "ab444ef8",
   "metadata": {},
   "outputs": [
    {
     "name": "stdout",
     "output_type": "stream",
     "text": [
      "0    37\n",
      "1    61\n",
      "2    90\n",
      "3    66\n",
      "4    56\n",
      "5    45\n",
      "6    41\n",
      "7    77\n",
      "Name: Age, dtype: int64\n",
      "59.125\n",
      "0    False\n",
      "1     True\n",
      "2     True\n",
      "3     True\n",
      "4    False\n",
      "5    False\n",
      "6    False\n",
      "7     True\n",
      "Name: Age, dtype: bool\n",
      "                   Name        Born        Died  Age     Occupation\n",
      "1        William Gosset  1876-06-13  1937-10-16   61   Statistician\n",
      "2  Florence Nightingale  1820-05-12  1910-08-13   90          Nurse\n",
      "3           Marie Curie  1867-11-07  1934-07-04   66        Chemist\n",
      "7          Johann Gauss  1777-04-30  1855-02-23   77  Mathematician\n",
      "                   Name        Born        Died  Age     Occupation\n",
      "1        William Gosset  1876-06-13  1937-10-16   61   Statistician\n",
      "2  Florence Nightingale  1820-05-12  1910-08-13   90          Nurse\n",
      "3           Marie Curie  1867-11-07  1934-07-04   66        Chemist\n",
      "7          Johann Gauss  1777-04-30  1855-02-23   77  Mathematician\n"
     ]
    }
   ],
   "source": [
    "#### 평균나이보다 많은 사람을 출력하시오.\n",
    "print(df['Age'])\n",
    "print(df['Age'].mean())\n",
    "print(df['Age'] > df['Age'].mean()) # Ture / False\n",
    "print(df[ df['Age'] > df['Age'].mean() ]) # True만 출력\n",
    "print(df[[False,True,True,True,False,False,False,True]]) # True인 행만 출력"
   ]
  },
  {
   "cell_type": "code",
   "execution_count": 183,
   "id": "49f09b7b",
   "metadata": {},
   "outputs": [
    {
     "name": "stdout",
     "output_type": "stream",
     "text": [
      "1    61\n",
      "2    90\n",
      "3    66\n",
      "7    77\n",
      "Name: Age, dtype: int64\n",
      "1    61\n",
      "2    90\n",
      "3    66\n",
      "7    77\n",
      "Name: Age, dtype: int64\n"
     ]
    }
   ],
   "source": [
    "### 나이 컬럼에서 True에 해당하는데이터만 출력\n",
    "print(df['Age'][[False,True,True,True,False,False,False,True]])\n",
    "print(df['Age'][df['Age'] > df['Age'].mean()])"
   ]
  },
  {
   "cell_type": "code",
   "execution_count": 185,
   "id": "3e023e3c",
   "metadata": {},
   "outputs": [
    {
     "data": {
      "text/plain": [
       "0    0\n",
       "1    1\n",
       "2    2\n",
       "3    3\n",
       "4    4\n",
       "5    5\n",
       "6    6\n",
       "7    7\n",
       "8    8\n",
       "dtype: int64"
      ]
     },
     "execution_count": 185,
     "metadata": {},
     "output_type": "execute_result"
    }
   ],
   "source": [
    "### 시리즈와 브로드케이스팅\n",
    "s = pd.Series(range(9))\n",
    "s # index는 0~8번까지"
   ]
  },
  {
   "cell_type": "code",
   "execution_count": 190,
   "id": "68100771",
   "metadata": {},
   "outputs": [
    {
     "name": "stdout",
     "output_type": "stream",
     "text": [
      "0    37\n",
      "1    61\n",
      "2    90\n",
      "3    66\n",
      "4    56\n",
      "5    45\n",
      "6    41\n",
      "7    77\n",
      "Name: Age, dtype: int64\n",
      "0    37.0\n",
      "1    62.0\n",
      "2    92.0\n",
      "3    69.0\n",
      "4    60.0\n",
      "5    50.0\n",
      "6    47.0\n",
      "7    84.0\n",
      "8     NaN\n",
      "dtype: float64\n",
      "0     74\n",
      "1    122\n",
      "2    180\n",
      "3    132\n",
      "4    112\n",
      "5     90\n",
      "6     82\n",
      "7    154\n",
      "Name: Age, dtype: int64\n"
     ]
    }
   ],
   "source": [
    "print(df['Age']) # index 0~7번까지\n",
    "print(df['Age'] + s) # index 0 ~ 8번까지 # 브로드케스팅이 됨\n",
    "# 연산을 할 때 index와 index끼리 연산을 한다.\n",
    "print(df['Age']+df['Age']) # index와 index끼리의 연산"
   ]
  },
  {
   "cell_type": "code",
   "execution_count": 191,
   "id": "fd87bdda",
   "metadata": {},
   "outputs": [
    {
     "name": "stdout",
     "output_type": "stream",
     "text": [
      "0     57\n",
      "1     81\n",
      "2    110\n",
      "3     86\n",
      "4     76\n",
      "5     65\n",
      "6     61\n",
      "7     97\n",
      "Name: Age, dtype: int64\n",
      "0     74\n",
      "1    122\n",
      "2    180\n",
      "3    132\n",
      "4    112\n",
      "5     90\n",
      "6     82\n",
      "7    154\n",
      "Name: Age, dtype: int64\n"
     ]
    }
   ],
   "source": [
    "print(df['Age'] + 20 ) #브로드케스팅\n",
    "print(df['Age'] * 2 ) #브로드케스팅"
   ]
  },
  {
   "cell_type": "code",
   "execution_count": 193,
   "id": "89c0a3b5",
   "metadata": {},
   "outputs": [
    {
     "name": "stdout",
     "output_type": "stream",
     "text": [
      "0      1\n",
      "1    100\n",
      "dtype: int64\n",
      "0     38.0\n",
      "1    161.0\n",
      "2      NaN\n",
      "3      NaN\n",
      "4      NaN\n",
      "5      NaN\n",
      "6      NaN\n",
      "7      NaN\n",
      "dtype: float64\n"
     ]
    }
   ],
   "source": [
    "s1 = pd.Series([1, 100])\n",
    "print(s1)\n",
    "print(df['Age'] + s1) # Series와 Series의 연산인 경우 index와 index 끼리의 연산이고 \n",
    "                      # 크기를 맞추기 위해 브로드케스팅이 된다. \n",
    "                      # s1의 index는 7까지 늘어난다."
   ]
  },
  {
   "cell_type": "code",
   "execution_count": 196,
   "id": "1404c213",
   "metadata": {},
   "outputs": [
    {
     "name": "stdout",
     "output_type": "stream",
     "text": [
      "0    37\n",
      "1    61\n",
      "2    90\n",
      "3    66\n",
      "4    56\n",
      "5    45\n",
      "6    41\n",
      "7    77\n",
      "Name: Age, dtype: int64\n",
      "7    77\n",
      "6    41\n",
      "5    45\n",
      "4    56\n",
      "3    66\n",
      "2    90\n",
      "1    61\n",
      "0    37\n",
      "Name: Age, dtype: int64\n",
      "0     74\n",
      "1    122\n",
      "2    180\n",
      "3    132\n",
      "4    112\n",
      "5     90\n",
      "6     82\n",
      "7    154\n",
      "Name: Age, dtype: int64\n"
     ]
    }
   ],
   "source": [
    "# index와 index끼리의 연산임을 확인해 보자.\n",
    "ev_df = df['Age'].sort_index(ascending=False) # 데이터를 reverse\n",
    "print(df['Age'])\n",
    "print(ev_df)\n",
    "print(df['Age'] + ev_df) # 행간의 연산이 아닌 index끼리의 연산이다."
   ]
  },
  {
   "cell_type": "code",
   "execution_count": 199,
   "id": "5fb44b2b",
   "metadata": {},
   "outputs": [
    {
     "name": "stdout",
     "output_type": "stream",
     "text": [
      "                   Name        Born        Died  Age          Occupation\n",
      "0     Rosaline Franklin  1920-07-25  1958-04-16   37             Chemist\n",
      "1        William Gosset  1876-06-13  1937-10-16   61        Statistician\n",
      "2  Florence Nightingale  1820-05-12  1910-08-13   90               Nurse\n",
      "3           Marie Curie  1867-11-07  1934-07-04   66             Chemist\n",
      "4         Rachel Carson  1907-05-27  1964-04-14   56           Biologist\n",
      "5             John Snow  1813-03-15  1858-06-16   45           Physician\n",
      "6           Alan Turing  1912-06-23  1954-06-07   41  Computer Scientist\n",
      "7          Johann Gauss  1777-04-30  1855-02-23   77       Mathematician\n",
      "                Name        Born        Died  Age    Occupation\n",
      "0  Rosaline Franklin  1920-07-25  1958-04-16   37       Chemist\n",
      "1     William Gosset  1876-06-13  1937-10-16   61  Statistician\n",
      "3        Marie Curie  1867-11-07  1934-07-04   66       Chemist\n",
      "                Name        Born        Died  Age    Occupation\n",
      "0  Rosaline Franklin  1920-07-25  1958-04-16   37       Chemist\n",
      "1     William Gosset  1876-06-13  1937-10-16   61  Statistician\n",
      "3        Marie Curie  1867-11-07  1934-07-04   66       Chemist\n"
     ]
    }
   ],
   "source": [
    "## 데이터프레임 다루기\n",
    "print(df)\n",
    "### 0, 1, 3행을 출력하시오.\n",
    "print(df.loc[[0,1,3]])\n",
    "print(df.loc[[True,True,False,True,False,False,False,False]])"
   ]
  },
  {
   "cell_type": "code",
   "execution_count": 207,
   "id": "0f35792c",
   "metadata": {},
   "outputs": [
    {
     "name": "stdout",
     "output_type": "stream",
     "text": [
      "<class 'pandas.core.series.Series'>\n",
      "0    37\n",
      "1    61\n",
      "2    90\n",
      "3    66\n",
      "4    56\n",
      "5    45\n",
      "6    41\n",
      "7    77\n",
      "Name: Age, dtype: int64\n",
      "0     74\n",
      "1    122\n",
      "2    180\n",
      "3    132\n",
      "4    112\n",
      "5     90\n",
      "6     82\n",
      "7    154\n",
      "Name: Age, dtype: int64\n",
      "                   Name        Born        Died  Age          Occupation\n",
      "0     Rosaline Franklin  1920-07-25  1958-04-16   37             Chemist\n",
      "1        William Gosset  1876-06-13  1937-10-16   61        Statistician\n",
      "2  Florence Nightingale  1820-05-12  1910-08-13   90               Nurse\n",
      "3           Marie Curie  1867-11-07  1934-07-04   66             Chemist\n",
      "4         Rachel Carson  1907-05-27  1964-04-14   56           Biologist\n",
      "5             John Snow  1813-03-15  1858-06-16   45           Physician\n",
      "6           Alan Turing  1912-06-23  1954-06-07   41  Computer Scientist\n",
      "7          Johann Gauss  1777-04-30  1855-02-23   77       Mathematician\n",
      "(8, 5)\n",
      "                                       Name                  Born  \\\n",
      "0        Rosaline FranklinRosaline Franklin  1920-07-251920-07-25   \n",
      "1              William GossetWilliam Gosset  1876-06-131876-06-13   \n",
      "2  Florence NightingaleFlorence Nightingale  1820-05-121820-05-12   \n",
      "3                    Marie CurieMarie Curie  1867-11-071867-11-07   \n",
      "4                Rachel CarsonRachel Carson  1907-05-271907-05-27   \n",
      "5                        John SnowJohn Snow  1813-03-151813-03-15   \n",
      "6                    Alan TuringAlan Turing  1912-06-231912-06-23   \n",
      "7                  Johann GaussJohann Gauss  1777-04-301777-04-30   \n",
      "\n",
      "                   Died  Age                            Occupation  \n",
      "0  1958-04-161958-04-16   74                        ChemistChemist  \n",
      "1  1937-10-161937-10-16  122              StatisticianStatistician  \n",
      "2  1910-08-131910-08-13  180                            NurseNurse  \n",
      "3  1934-07-041934-07-04  132                        ChemistChemist  \n",
      "4  1964-04-141964-04-14  112                    BiologistBiologist  \n",
      "5  1858-06-161858-06-16   90                    PhysicianPhysician  \n",
      "6  1954-06-071954-06-07   82  Computer ScientistComputer Scientist  \n",
      "7  1855-02-231855-02-23  154            MathematicianMathematician  \n"
     ]
    }
   ],
   "source": [
    "print(type(df['Age']))\n",
    "print(df['Age'])\n",
    "print(df['Age'] * 2) # 2가 7행짜리 Series로 브로드케스팅\n",
    "print(df)\n",
    "print(df.shape)\n",
    "print(df * 2) # 2가 8행 5열 DataFrame으로 브로드케스팅"
   ]
  },
  {
   "cell_type": "code",
   "execution_count": 216,
   "id": "b74c855d",
   "metadata": {},
   "outputs": [
    {
     "name": "stdout",
     "output_type": "stream",
     "text": [
      "                   Name        Born        Died  Age          Occupation  \\\n",
      "0     Rosaline Franklin  1920-07-25  1958-04-16   37             Chemist   \n",
      "1        William Gosset  1876-06-13  1937-10-16   61        Statistician   \n",
      "2  Florence Nightingale  1820-05-12  1910-08-13   90               Nurse   \n",
      "3           Marie Curie  1867-11-07  1934-07-04   66             Chemist   \n",
      "4         Rachel Carson  1907-05-27  1964-04-14   56           Biologist   \n",
      "5             John Snow  1813-03-15  1858-06-16   45           Physician   \n",
      "6           Alan Turing  1912-06-23  1954-06-07   41  Computer Scientist   \n",
      "7          Johann Gauss  1777-04-30  1855-02-23   77       Mathematician   \n",
      "\n",
      "                 age_days_dt    Born_dt    Died_dt  \n",
      "0 37 days 18:00:59.178082191 1920-07-25 1958-04-16  \n",
      "1 61 days 09:08:23.013698630 1876-06-13 1937-10-16  \n",
      "2 90 days 07:29:45.205479452 1820-05-12 1910-08-13  \n",
      "3 66 days 16:46:01.643835616 1867-11-07 1934-07-04  \n",
      "4 56 days 22:09:32.054794520 1907-05-27 1964-04-14  \n",
      "5 45 days 06:50:18.082191780 1813-03-15 1858-06-16  \n",
      "6 41 days 23:36:19.726027397 1912-06-23 1954-06-07  \n",
      "7 77 days 20:50:37.808219178 1777-04-30 1855-02-23  \n",
      "<class 'pandas.core.frame.DataFrame'>\n",
      "RangeIndex: 8 entries, 0 to 7\n",
      "Data columns (total 8 columns):\n",
      " #   Column       Non-Null Count  Dtype          \n",
      "---  ------       --------------  -----          \n",
      " 0   Name         8 non-null      object         \n",
      " 1   Born         8 non-null      object         \n",
      " 2   Died         8 non-null      object         \n",
      " 3   Age          8 non-null      int64          \n",
      " 4   Occupation   8 non-null      object         \n",
      " 5   age_days_dt  8 non-null      timedelta64[ns]\n",
      " 6   Born_dt      8 non-null      datetime64[ns] \n",
      " 7   Died_dt      8 non-null      datetime64[ns] \n",
      "dtypes: datetime64[ns](2), int64(1), object(4), timedelta64[ns](1)\n",
      "memory usage: 640.0+ bytes\n",
      "None\n",
      "                   Name        Born        Died  Age          Occupation  \\\n",
      "0     Rosaline Franklin  1920-07-25  1958-04-16   37             Chemist   \n",
      "1        William Gosset  1876-06-13  1937-10-16   61        Statistician   \n",
      "2  Florence Nightingale  1820-05-12  1910-08-13   90               Nurse   \n",
      "3           Marie Curie  1867-11-07  1934-07-04   66             Chemist   \n",
      "4         Rachel Carson  1907-05-27  1964-04-14   56           Biologist   \n",
      "5             John Snow  1813-03-15  1858-06-16   45           Physician   \n",
      "6           Alan Turing  1912-06-23  1954-06-07   41  Computer Scientist   \n",
      "7          Johann Gauss  1777-04-30  1855-02-23   77       Mathematician   \n",
      "\n",
      "                 age_days_dt    Born_dt    Died_dt  \n",
      "0 37 days 18:00:59.178082191 1920-07-25 1958-04-16  \n",
      "1 61 days 09:08:23.013698630 1876-06-13 1937-10-16  \n",
      "2 90 days 07:29:45.205479452 1820-05-12 1910-08-13  \n",
      "3 66 days 16:46:01.643835616 1867-11-07 1934-07-04  \n",
      "4 56 days 22:09:32.054794520 1907-05-27 1964-04-14  \n",
      "5 45 days 06:50:18.082191780 1813-03-15 1858-06-16  \n",
      "6 41 days 23:36:19.726027397 1912-06-23 1954-06-07  \n",
      "7 77 days 20:50:37.808219178 1777-04-30 1855-02-23  \n",
      "                   Name        Born        Died  Age          Occupation  \\\n",
      "0     Rosaline Franklin  1920-07-25  1958-04-16   37             Chemist   \n",
      "1        William Gosset  1876-06-13  1937-10-16   61        Statistician   \n",
      "2  Florence Nightingale  1820-05-12  1910-08-13   90               Nurse   \n",
      "3           Marie Curie  1867-11-07  1934-07-04   66             Chemist   \n",
      "4         Rachel Carson  1907-05-27  1964-04-14   56           Biologist   \n",
      "5             John Snow  1813-03-15  1858-06-16   45           Physician   \n",
      "6           Alan Turing  1912-06-23  1954-06-07   41  Computer Scientist   \n",
      "7          Johann Gauss  1777-04-30  1855-02-23   77       Mathematician   \n",
      "\n",
      "                 age_days_dt    Born_dt    Died_dt  \n",
      "0 37 days 18:00:59.178082191 1920-07-25 1958-04-16  \n",
      "1 61 days 09:08:23.013698630 1876-06-13 1937-10-16  \n",
      "2 90 days 07:29:45.205479452 1820-05-12 1910-08-13  \n",
      "3 66 days 16:46:01.643835616 1867-11-07 1934-07-04  \n",
      "4 56 days 22:09:32.054794520 1907-05-27 1964-04-14  \n",
      "5 45 days 06:50:18.082191780 1813-03-15 1858-06-16  \n",
      "6 41 days 23:36:19.726027397 1912-06-23 1954-06-07  \n",
      "7 77 days 20:50:37.808219178 1777-04-30 1855-02-23  \n",
      "<class 'pandas.core.frame.DataFrame'>\n",
      "RangeIndex: 8 entries, 0 to 7\n",
      "Data columns (total 8 columns):\n",
      " #   Column       Non-Null Count  Dtype          \n",
      "---  ------       --------------  -----          \n",
      " 0   Name         8 non-null      object         \n",
      " 1   Born         8 non-null      object         \n",
      " 2   Died         8 non-null      object         \n",
      " 3   Age          8 non-null      int64          \n",
      " 4   Occupation   8 non-null      object         \n",
      " 5   age_days_dt  8 non-null      timedelta64[ns]\n",
      " 6   Born_dt      8 non-null      datetime64[ns] \n",
      " 7   Died_dt      8 non-null      datetime64[ns] \n",
      "dtypes: datetime64[ns](2), int64(1), object(4), timedelta64[ns](1)\n",
      "memory usage: 640.0+ bytes\n",
      "None\n"
     ]
    }
   ],
   "source": [
    "## 시리즈와 데이터 프레임의 데이터 처리하기\n",
    "print(df)\n",
    "##### 몇살을 살았는지 구하시오.\n",
    "## 각각의 데이터에 대한 데이터 타입을 확인\n",
    "print(df.info())\n",
    "# print(df['Died'] - df['Born'])\n",
    "# 날짜 연산을 하기 위해서 문자를 날짜타입으로 형변환\n",
    "Born = pd.to_datetime(df['Born'], format='%Y-%m-%d') #데이터의 형식이 년월이로 되어 있음을 알림\n",
    "Died = pd.to_datetime(df['Died'], format='%Y-%m-%d')\n",
    "# 나이를 DataFrame에 추가\n",
    "df['age_days_dt'] = (Died - Born) / 365\n",
    "print(df)\n",
    "df['Born_dt'], df['Died_dt'] = Born, Died\n",
    "print(df)\n",
    "print(df.info())"
   ]
  },
  {
   "cell_type": "code",
   "execution_count": 218,
   "id": "8adad0be",
   "metadata": {},
   "outputs": [
    {
     "name": "stdout",
     "output_type": "stream",
     "text": [
      "                   Name        Born        Died  Age          Occupation  \\\n",
      "0     Rosaline Franklin  1920-07-25  1958-04-16   41             Chemist   \n",
      "1        William Gosset  1876-06-13  1937-10-16   45        Statistician   \n",
      "2  Florence Nightingale  1820-05-12  1910-08-13   66               Nurse   \n",
      "3           Marie Curie  1867-11-07  1934-07-04   56             Chemist   \n",
      "4         Rachel Carson  1907-05-27  1964-04-14   90           Biologist   \n",
      "5             John Snow  1813-03-15  1858-06-16   61           Physician   \n",
      "6           Alan Turing  1912-06-23  1954-06-07   37  Computer Scientist   \n",
      "7          Johann Gauss  1777-04-30  1855-02-23   77       Mathematician   \n",
      "\n",
      "                 age_days_dt    Born_dt    Died_dt  \n",
      "0 37 days 18:00:59.178082191 1920-07-25 1958-04-16  \n",
      "1 61 days 09:08:23.013698630 1876-06-13 1937-10-16  \n",
      "2 90 days 07:29:45.205479452 1820-05-12 1910-08-13  \n",
      "3 66 days 16:46:01.643835616 1867-11-07 1934-07-04  \n",
      "4 56 days 22:09:32.054794520 1907-05-27 1964-04-14  \n",
      "5 45 days 06:50:18.082191780 1813-03-15 1858-06-16  \n",
      "6 41 days 23:36:19.726027397 1912-06-23 1954-06-07  \n",
      "7 77 days 20:50:37.808219178 1777-04-30 1855-02-23  \n",
      "                   Name        Born        Died  Age          Occupation  \\\n",
      "0     Rosaline Franklin  1920-07-25  1958-04-16   56             Chemist   \n",
      "1        William Gosset  1876-06-13  1937-10-16   41        Statistician   \n",
      "2  Florence Nightingale  1820-05-12  1910-08-13   45               Nurse   \n",
      "3           Marie Curie  1867-11-07  1934-07-04   90             Chemist   \n",
      "4         Rachel Carson  1907-05-27  1964-04-14   66           Biologist   \n",
      "5             John Snow  1813-03-15  1858-06-16   77           Physician   \n",
      "6           Alan Turing  1912-06-23  1954-06-07   61  Computer Scientist   \n",
      "7          Johann Gauss  1777-04-30  1855-02-23   37       Mathematician   \n",
      "\n",
      "                 age_days_dt    Born_dt    Died_dt  \n",
      "0 37 days 18:00:59.178082191 1920-07-25 1958-04-16  \n",
      "1 61 days 09:08:23.013698630 1876-06-13 1937-10-16  \n",
      "2 90 days 07:29:45.205479452 1820-05-12 1910-08-13  \n",
      "3 66 days 16:46:01.643835616 1867-11-07 1934-07-04  \n",
      "4 56 days 22:09:32.054794520 1907-05-27 1964-04-14  \n",
      "5 45 days 06:50:18.082191780 1813-03-15 1858-06-16  \n",
      "6 41 days 23:36:19.726027397 1912-06-23 1954-06-07  \n",
      "7 77 days 20:50:37.808219178 1777-04-30 1855-02-23  \n"
     ]
    },
    {
     "name": "stderr",
     "output_type": "stream",
     "text": [
      "C:\\Users\\soldesk\\.conda\\envs\\python2110\\lib\\random.py:307: SettingWithCopyWarning: \n",
      "A value is trying to be set on a copy of a slice from a DataFrame\n",
      "\n",
      "See the caveats in the documentation: https://pandas.pydata.org/pandas-docs/stable/user_guide/indexing.html#returning-a-view-versus-a-copy\n",
      "  x[i], x[j] = x[j], x[i]\n"
     ]
    }
   ],
   "source": [
    "import random\n",
    "print(df)\n",
    "random.shuffle(df['Age']) # 컬럼에 있는 값을 섞기\n",
    "print(df)"
   ]
  },
  {
   "cell_type": "code",
   "execution_count": 219,
   "id": "2c9bed4a",
   "metadata": {},
   "outputs": [
    {
     "name": "stdout",
     "output_type": "stream",
     "text": [
      "                   Name        Born        Died          Occupation  \\\n",
      "0     Rosaline Franklin  1920-07-25  1958-04-16             Chemist   \n",
      "1        William Gosset  1876-06-13  1937-10-16        Statistician   \n",
      "2  Florence Nightingale  1820-05-12  1910-08-13               Nurse   \n",
      "3           Marie Curie  1867-11-07  1934-07-04             Chemist   \n",
      "4         Rachel Carson  1907-05-27  1964-04-14           Biologist   \n",
      "5             John Snow  1813-03-15  1858-06-16           Physician   \n",
      "6           Alan Turing  1912-06-23  1954-06-07  Computer Scientist   \n",
      "7          Johann Gauss  1777-04-30  1855-02-23       Mathematician   \n",
      "\n",
      "                 age_days_dt    Born_dt    Died_dt  \n",
      "0 37 days 18:00:59.178082191 1920-07-25 1958-04-16  \n",
      "1 61 days 09:08:23.013698630 1876-06-13 1937-10-16  \n",
      "2 90 days 07:29:45.205479452 1820-05-12 1910-08-13  \n",
      "3 66 days 16:46:01.643835616 1867-11-07 1934-07-04  \n",
      "4 56 days 22:09:32.054794520 1907-05-27 1964-04-14  \n",
      "5 45 days 06:50:18.082191780 1813-03-15 1858-06-16  \n",
      "6 41 days 23:36:19.726027397 1912-06-23 1954-06-07  \n",
      "7 77 days 20:50:37.808219178 1777-04-30 1855-02-23  \n"
     ]
    }
   ],
   "source": [
    "# DataFrame에서 열 삭제\n",
    "df_drop = df.drop(['Age'],  axis = 1)\n",
    "print(df_drop)"
   ]
  },
  {
   "cell_type": "code",
   "execution_count": 220,
   "id": "9274dec8",
   "metadata": {},
   "outputs": [
    {
     "name": "stdout",
     "output_type": "stream",
     "text": [
      "Index(['Name', 'Born', 'Died', 'Age', 'Occupation', 'age_days_dt', 'Born_dt',\n",
      "       'Died_dt'],\n",
      "      dtype='object')\n",
      "Index(['Name', 'Born', 'Died', 'Occupation', 'age_days_dt', 'Born_dt',\n",
      "       'Died_dt'],\n",
      "      dtype='object')\n"
     ]
    }
   ],
   "source": [
    "print(df.columns)\n",
    "print(df_drop.columns)"
   ]
  },
  {
   "cell_type": "code",
   "execution_count": 222,
   "id": "66e9bd94",
   "metadata": {},
   "outputs": [
    {
     "name": "stdout",
     "output_type": "stream",
     "text": [
      "                   Name        Born        Died  Age          Occupation  \\\n",
      "0     Rosaline Franklin  1920-07-25  1958-04-16   56             Chemist   \n",
      "1        William Gosset  1876-06-13  1937-10-16   41        Statistician   \n",
      "2  Florence Nightingale  1820-05-12  1910-08-13   45               Nurse   \n",
      "3           Marie Curie  1867-11-07  1934-07-04   90             Chemist   \n",
      "4         Rachel Carson  1907-05-27  1964-04-14   66           Biologist   \n",
      "5             John Snow  1813-03-15  1858-06-16   77           Physician   \n",
      "6           Alan Turing  1912-06-23  1954-06-07   61  Computer Scientist   \n",
      "7          Johann Gauss  1777-04-30  1855-02-23   37       Mathematician   \n",
      "\n",
      "                 age_days_dt    Born_dt    Died_dt  \n",
      "0 37 days 18:00:59.178082191 1920-07-25 1958-04-16  \n",
      "1 61 days 09:08:23.013698630 1876-06-13 1937-10-16  \n",
      "2 90 days 07:29:45.205479452 1820-05-12 1910-08-13  \n",
      "3 66 days 16:46:01.643835616 1867-11-07 1934-07-04  \n",
      "4 56 days 22:09:32.054794520 1907-05-27 1964-04-14  \n",
      "5 45 days 06:50:18.082191780 1813-03-15 1858-06-16  \n",
      "6 41 days 23:36:19.726027397 1912-06-23 1954-06-07  \n",
      "7 77 days 20:50:37.808219178 1777-04-30 1855-02-23  \n"
     ]
    }
   ],
   "source": [
    "### DataFrame에 있는 데이터를 파일에 저장\n",
    "print(df)\n",
    "df.to_csv(\"df.csv\")\n",
    "df.to_csv(\"df1.tsv\", sep=\"\\t\")\n",
    "df.to_csv(\"df2.csv\", index=False) # 파일에 저장할 때 index가 없이 저장"
   ]
  },
  {
   "cell_type": "code",
   "execution_count": 223,
   "id": "30ba93e1",
   "metadata": {},
   "outputs": [
    {
     "name": "stderr",
     "output_type": "stream",
     "text": [
      "C:\\Users\\soldesk\\AppData\\Local\\Temp/ipykernel_6032/2880873007.py:2: FutureWarning: As the xlwt package is no longer maintained, the xlwt engine will be removed in a future version of pandas. This is the only engine in pandas that supports writing in the xls format. Install openpyxl and write to an xlsx file instead. You can set the option io.excel.xls.writer to 'xlwt' to silence this warning. While this option is deprecated and will also raise a warning, it can be globally set and the warning suppressed.\n",
      "  df.to_excel('df.xls')\n"
     ]
    }
   ],
   "source": [
    "import xlwt\n",
    "df.to_excel('df.xls')"
   ]
  },
  {
   "cell_type": "code",
   "execution_count": 224,
   "id": "7a1a46e0",
   "metadata": {},
   "outputs": [],
   "source": [
    "import openpyxl\n",
    "df.to_excel('df.xlsx')"
   ]
  },
  {
   "cell_type": "code",
   "execution_count": 225,
   "id": "71b9acff",
   "metadata": {},
   "outputs": [],
   "source": [
    "df.to_excel('df1.xlsx',index=False)"
   ]
  },
  {
   "cell_type": "code",
   "execution_count": 235,
   "id": "10ca3ab3",
   "metadata": {},
   "outputs": [
    {
     "name": "stdout",
     "output_type": "stream",
     "text": [
      "                   Name        Born        Died  Age          Occupation  \\\n",
      "0     Rosaline Franklin  1920-07-25  1958-04-16   56             Chemist   \n",
      "1        William Gosset  1876-06-13  1937-10-16   41        Statistician   \n",
      "2  Florence Nightingale  1820-05-12  1910-08-13   45               Nurse   \n",
      "3           Marie Curie  1867-11-07  1934-07-04   90             Chemist   \n",
      "4         Rachel Carson  1907-05-27  1964-04-14   66           Biologist   \n",
      "5             John Snow  1813-03-15  1858-06-16   77           Physician   \n",
      "6           Alan Turing  1912-06-23  1954-06-07   61  Computer Scientist   \n",
      "7          Johann Gauss  1777-04-30  1855-02-23   37       Mathematician   \n",
      "\n",
      "                 age_days_dt    Born_dt    Died_dt  \n",
      "0 37 days 18:00:59.178082191 1920-07-25 1958-04-16  \n",
      "1 61 days 09:08:23.013698630 1876-06-13 1937-10-16  \n",
      "2 90 days 07:29:45.205479452 1820-05-12 1910-08-13  \n",
      "3 66 days 16:46:01.643835616 1867-11-07 1934-07-04  \n",
      "4 56 days 22:09:32.054794520 1907-05-27 1964-04-14  \n",
      "5 45 days 06:50:18.082191780 1813-03-15 1858-06-16  \n",
      "6 41 days 23:36:19.726027397 1912-06-23 1954-06-07  \n",
      "7 77 days 20:50:37.808219178 1777-04-30 1855-02-23  \n",
      "                   Name        Died          Occupation    Born_dt    Died_dt\n",
      "0     Rosaline Franklin  1958-04-16             Chemist 1920-07-25 1958-04-16\n",
      "1        William Gosset  1937-10-16        Statistician 1876-06-13 1937-10-16\n",
      "2  Florence Nightingale  1910-08-13               Nurse 1820-05-12 1910-08-13\n",
      "3           Marie Curie  1934-07-04             Chemist 1867-11-07 1934-07-04\n",
      "4         Rachel Carson  1964-04-14           Biologist 1907-05-27 1964-04-14\n",
      "5             John Snow  1858-06-16           Physician 1813-03-15 1858-06-16\n",
      "6           Alan Turing  1954-06-07  Computer Scientist 1912-06-23 1954-06-07\n",
      "7          Johann Gauss  1855-02-23       Mathematician 1777-04-30 1855-02-23\n",
      "                   Name        Born        Died  Age          Occupation  \\\n",
      "0     Rosaline Franklin  1920-07-25  1958-04-16   56             Chemist   \n",
      "2  Florence Nightingale  1820-05-12  1910-08-13   45               Nurse   \n",
      "4         Rachel Carson  1907-05-27  1964-04-14   66           Biologist   \n",
      "6           Alan Turing  1912-06-23  1954-06-07   61  Computer Scientist   \n",
      "7          Johann Gauss  1777-04-30  1855-02-23   37       Mathematician   \n",
      "\n",
      "                 age_days_dt    Born_dt    Died_dt  \n",
      "0 37 days 18:00:59.178082191 1920-07-25 1958-04-16  \n",
      "2 90 days 07:29:45.205479452 1820-05-12 1910-08-13  \n",
      "4 56 days 22:09:32.054794520 1907-05-27 1964-04-14  \n",
      "6 41 days 23:36:19.726027397 1912-06-23 1954-06-07  \n",
      "7 77 days 20:50:37.808219178 1777-04-30 1855-02-23  \n"
     ]
    }
   ],
   "source": [
    "print(df)\n",
    "#  Born, Age , age_days_dt열을 삭제 하시오.\n",
    "df_drop = df.drop(['Born', 'Age' , 'age_days_dt'] , axis=1)\n",
    "print(df_drop)\n",
    "# # 1, 3, 5 행을 삭제하시오.\n",
    "df_drop = df.drop([1,3,5])\n",
    "print(df_drop)\n",
    "# # 1, 3, 5 행을 삭제하시오.\n",
    "df_drop = df.drop([1,3,5], axis = 0)\n",
    "# print(df_drop)"
   ]
  },
  {
   "cell_type": "code",
   "execution_count": 236,
   "id": "6a09f8f0",
   "metadata": {},
   "outputs": [],
   "source": [
    "df1 = pd.read_csv(\"https://raw.githubusercontent.com/SoongMoo/soldesk2110/main/data/concat_1.csv\")\n",
    "df2 = pd.read_csv(\"https://raw.githubusercontent.com/SoongMoo/soldesk2110/main/data/concat_2.csv\")\n",
    "df3 = pd.read_csv(\"https://raw.githubusercontent.com/SoongMoo/soldesk2110/main/data/concat_3.csv\")"
   ]
  },
  {
   "cell_type": "code",
   "execution_count": 238,
   "id": "564ecd69",
   "metadata": {},
   "outputs": [
    {
     "name": "stdout",
     "output_type": "stream",
     "text": [
      "    A   B   C   D\n",
      "0  a0  b0  c0  d0\n",
      "1  a1  b1  c1  d1\n",
      "2  a2  b2  c2  d2\n",
      "3  a3  b3  c3  d3\n",
      "    A   B   C   D\n",
      "0  a4  b4  c4  d4\n",
      "1  a5  b5  c5  d5\n",
      "2  a6  b6  c6  d6\n",
      "3  a7  b7  c7  d7\n",
      "     A    B    C    D\n",
      "0   a8   b8   c8   d8\n",
      "1   a9   b9   c9   d9\n",
      "2  a10  b10  c10  d10\n",
      "3  a11  b11  c11  d11\n"
     ]
    }
   ],
   "source": [
    "print(df1)\n",
    "print(df2)\n",
    "print(df3)"
   ]
  },
  {
   "cell_type": "code",
   "execution_count": 239,
   "id": "eab3a6f6",
   "metadata": {},
   "outputs": [
    {
     "name": "stdout",
     "output_type": "stream",
     "text": [
      "     A    B    C    D\n",
      "0   a0   b0   c0   d0\n",
      "1   a1   b1   c1   d1\n",
      "2   a2   b2   c2   d2\n",
      "3   a3   b3   c3   d3\n",
      "0   a4   b4   c4   d4\n",
      "1   a5   b5   c5   d5\n",
      "2   a6   b6   c6   d6\n",
      "3   a7   b7   c7   d7\n",
      "0   a8   b8   c8   d8\n",
      "1   a9   b9   c9   d9\n",
      "2  a10  b10  c10  d10\n",
      "3  a11  b11  c11  d11\n"
     ]
    }
   ],
   "source": [
    "row_concat = pd.concat([df1, df2, df3]) # x축 기준 : 행으로 연결\n",
    "print(row_concat)"
   ]
  },
  {
   "cell_type": "code",
   "execution_count": 241,
   "id": "a8692b6b",
   "metadata": {},
   "outputs": [
    {
     "name": "stdout",
     "output_type": "stream",
     "text": [
      "    A   B   C   D   A   B   C   D    A    B    C    D\n",
      "0  a0  b0  c0  d0  a4  b4  c4  d4   a8   b8   c8   d8\n",
      "1  a1  b1  c1  d1  a5  b5  c5  d5   a9   b9   c9   d9\n",
      "2  a2  b2  c2  d2  a6  b6  c6  d6  a10  b10  c10  d10\n",
      "3  a3  b3  c3  d3  a7  b7  c7  d7  a11  b11  c11  d11\n"
     ]
    }
   ],
   "source": [
    "col_concat = pd.concat([df1,df2,df3], axis = 1) # y 축기준 : 열로 연결\n",
    "print(col_concat)"
   ]
  },
  {
   "cell_type": "code",
   "execution_count": 245,
   "id": "625e0a6a",
   "metadata": {},
   "outputs": [
    {
     "name": "stdout",
     "output_type": "stream",
     "text": [
      "     A    B    C    D\n",
      "0   a0   b0   c0   d0\n",
      "1   a1   b1   c1   d1\n",
      "2   a2   b2   c2   d2\n",
      "3   a3   b3   c3   d3\n",
      "0   a4   b4   c4   d4\n",
      "1   a5   b5   c5   d5\n",
      "2   a6   b6   c6   d6\n",
      "3   a7   b7   c7   d7\n",
      "0   a8   b8   c8   d8\n",
      "1   a9   b9   c9   d9\n",
      "2  a10  b10  c10  d10\n",
      "3  a11  b11  c11  d11\n",
      "    A   B   C   D\n",
      "0  a0  b0  c0  d0\n",
      "0  a4  b4  c4  d4\n",
      "0  a8  b8  c8  d8\n",
      "    A   B   C   D\n",
      "1  a1  b1  c1  d1\n",
      "1  a5  b5  c5  d5\n",
      "1  a9  b9  c9  d9\n",
      "A    a1\n",
      "B    b1\n",
      "C    c1\n",
      "D    d1\n",
      "Name: 1, dtype: object\n"
     ]
    }
   ],
   "source": [
    "print(row_concat)\n",
    "print(row_concat.loc[0])\n",
    "print(row_concat.loc[1])\n",
    "print(row_concat.iloc[1])"
   ]
  },
  {
   "cell_type": "code",
   "execution_count": 247,
   "id": "c0589167",
   "metadata": {},
   "outputs": [
    {
     "name": "stdout",
     "output_type": "stream",
     "text": [
      "a5\n",
      "a5\n"
     ]
    }
   ],
   "source": [
    "# a5를 암시적인덱스를 사용해서 출력하시오.\n",
    "print(row_concat.iloc[5][0])\n",
    "print(row_concat.iloc[5 , 0])"
   ]
  },
  {
   "cell_type": "code",
   "execution_count": 250,
   "id": "af4d0aaf",
   "metadata": {},
   "outputs": [
    {
     "name": "stdout",
     "output_type": "stream",
     "text": [
      "A    a5\n",
      "B    b5\n",
      "C    c5\n",
      "D    d5\n",
      "Name: 1, dtype: object\n",
      "A    a5\n",
      "B    b5\n",
      "C    c5\n",
      "D    d5\n",
      "Name: 1, dtype: object\n",
      "A    a5\n",
      "B    b5\n",
      "C    c5\n",
      "D    d5\n",
      "Name: 1, dtype: object\n"
     ]
    }
   ],
   "source": [
    "# 암시적인덱스 5행을 가지고 오시오\n",
    "print(row_concat.iloc[5,])\n",
    "print(row_concat.iloc[5])\n",
    "print(row_concat.iloc[5, :])"
   ]
  },
  {
   "cell_type": "code",
   "execution_count": 253,
   "id": "0099dc0d",
   "metadata": {},
   "outputs": [
    {
     "name": "stdout",
     "output_type": "stream",
     "text": [
      "0    n1\n",
      "1    n2\n",
      "2    n3\n",
      "3    n4\n",
      "dtype: object\n",
      "    A   B   C   D\n",
      "0  a0  b0  c0  d0\n",
      "1  a1  b1  c1  d1\n",
      "2  a2  b2  c2  d2\n",
      "3  a3  b3  c3  d3\n",
      "     0    A    B    C    D\n",
      "0   n1  NaN  NaN  NaN  NaN\n",
      "1   n2  NaN  NaN  NaN  NaN\n",
      "2   n3  NaN  NaN  NaN  NaN\n",
      "3   n4  NaN  NaN  NaN  NaN\n",
      "0  NaN   a0   b0   c0   d0\n",
      "1  NaN   a1   b1   c1   d1\n",
      "2  NaN   a2   b2   c2   d2\n",
      "3  NaN   a3   b3   c3   d3\n"
     ]
    }
   ],
   "source": [
    "# 'n1', 'n2', 'n3', 'n4'를 가지는 Series를 만드시오. new_row_series \n",
    "new_row_series = pd.Series(['n1', 'n2', 'n3', 'n4'])\n",
    "print(new_row_series)\n",
    "print(df1)\n",
    "# 데이터프레임과 시리즈를 연결\n",
    "dataframe_series = pd.concat([new_row_series, df1]) # x축기준 : 행으로 연결\n",
    "# 열이름이 같은 것끼리 연결된다.\n",
    "print(dataframe_series)"
   ]
  },
  {
   "cell_type": "code",
   "execution_count": 254,
   "id": "5e460769",
   "metadata": {},
   "outputs": [
    {
     "name": "stdout",
     "output_type": "stream",
     "text": [
      "    0   A   B   C   D\n",
      "0  n1  a0  b0  c0  d0\n",
      "1  n2  a1  b1  c1  d1\n",
      "2  n3  a2  b2  c2  d2\n",
      "3  n4  a3  b3  c3  d3\n"
     ]
    }
   ],
   "source": [
    "# 열로 붙이기 , y축기준 , 행번호 기준으로 붙는다.\n",
    "dataframe_series1 = pd.concat([new_row_series, df1], axis = 1)\n",
    "print(dataframe_series1) # 행번호가 같은 것 옆으로 붙는다."
   ]
  },
  {
   "cell_type": "code",
   "execution_count": 257,
   "id": "306d76f0",
   "metadata": {},
   "outputs": [
    {
     "name": "stdout",
     "output_type": "stream",
     "text": [
      "    A   B   C   D\n",
      "0  n1  n2  n3  n4\n",
      "\n",
      "    A   B   C   D\n",
      "0  a0  b0  c0  d0\n",
      "1  a1  b1  c1  d1\n",
      "2  a2  b2  c2  d2\n",
      "3  a3  b3  c3  d3\n"
     ]
    }
   ],
   "source": [
    "## 행 1개로 구성된 데이터프레임 생성\n",
    "df4 = pd.DataFrame([['n1','n2','n3','n4']], columns=['A', 'B' ,  'C' ,  'D'])\n",
    "print(df4)\n",
    "print()\n",
    "print(df1)"
   ]
  },
  {
   "cell_type": "code",
   "execution_count": 259,
   "id": "24ec35a7",
   "metadata": {},
   "outputs": [
    {
     "name": "stdout",
     "output_type": "stream",
     "text": [
      "    A   B   C   D\n",
      "0  a0  b0  c0  d0\n",
      "1  a1  b1  c1  d1\n",
      "2  a2  b2  c2  d2\n",
      "3  a3  b3  c3  d3\n",
      "0  n1  n2  n3  n4\n",
      "    A   B   C   D    A    B    C    D\n",
      "0  a0  b0  c0  d0   n1   n2   n3   n4\n",
      "1  a1  b1  c1  d1  NaN  NaN  NaN  NaN\n",
      "2  a2  b2  c2  d2  NaN  NaN  NaN  NaN\n",
      "3  a3  b3  c3  d3  NaN  NaN  NaN  NaN\n"
     ]
    }
   ],
   "source": [
    "row_concat1 = pd.concat([df1, df4]) # 열 이름이 같은 것이 있어서 밑으로 붙는다, 행 단위\n",
    "print(row_concat1)\n",
    "col_concat1 = pd.concat([df1, df4], axis =1) # 열 단위 ,df4는 0행만 있어서 0행에만 붙는다\n",
    "print(col_concat1)"
   ]
  },
  {
   "cell_type": "code",
   "execution_count": 262,
   "id": "26dc6ac4",
   "metadata": {},
   "outputs": [
    {
     "name": "stdout",
     "output_type": "stream",
     "text": [
      "    A   B   C   D\n",
      "0  a0  b0  c0  d0\n",
      "1  a1  b1  c1  d1\n",
      "2  a2  b2  c2  d2\n",
      "3  a3  b3  c3  d3\n",
      "    A   B   C   D\n",
      "0  n1  n2  n3  n4\n",
      "      A     B     C     D\n",
      "0  a0n1  b0n2  c0n3  d0n4\n",
      "1   NaN   NaN   NaN   NaN\n",
      "2   NaN   NaN   NaN   NaN\n",
      "3   NaN   NaN   NaN   NaN\n"
     ]
    }
   ],
   "source": [
    "print(df1)\n",
    "print(df4)\n",
    "df5 = df1 + df4 #  행과 열번호가 같은 것끼리 문자열 연결 \n",
    "print(df5)      #  연산자 안된 데이터는 누락값이 된다."
   ]
  },
  {
   "cell_type": "code",
   "execution_count": 266,
   "id": "6e493a14",
   "metadata": {},
   "outputs": [
    {
     "name": "stdout",
     "output_type": "stream",
     "text": [
      "    A   B   C   D\n",
      "0  a0  b0  c0  d0\n",
      "1  a1  b1  c1  d1\n",
      "2  a2  b2  c2  d2\n",
      "3  a3  b3  c3  d3\n",
      "0  n1  n2  n3  n4\n",
      "    A   B   C   D\n",
      "0  a0  b0  c0  d0\n",
      "1  a1  b1  c1  d1\n",
      "2  a2  b2  c2  d2\n",
      "3  a3  b3  c3  d3\n",
      "4  n1  n2  n3  n4\n",
      "      A    B    C    D\n",
      "0    a0   b0   c0   d0\n",
      "1    a1   b1   c1   d1\n",
      "2    a2   b2   c2   d2\n",
      "3    a3   b3   c3   d3\n",
      "4    a4   b4   c4   d4\n",
      "5    a5   b5   c5   d5\n",
      "6    a6   b6   c6   d6\n",
      "7    a7   b7   c7   d7\n",
      "8    a8   b8   c8   d8\n",
      "9    a9   b9   c9   d9\n",
      "10  a10  b10  c10  d10\n",
      "11  a11  b11  c11  d11\n"
     ]
    }
   ],
   "source": [
    "row_df1 = df1.append(df4) # x축 기준으로 연결\n",
    "print(row_df1)\n",
    "row_df1 = df1.append(df4, ignore_index = True) # 기존 index를 사용하지 않겠다.\n",
    "print(row_df1)\n",
    "row_df2 = pd.concat([df1,df2,df3], ignore_index = True)\n",
    "print(row_df2)"
   ]
  },
  {
   "cell_type": "code",
   "execution_count": 268,
   "id": "3fd6af4e",
   "metadata": {},
   "outputs": [
    {
     "name": "stdout",
     "output_type": "stream",
     "text": [
      "   0   1   2   3   4   5   6   7    8    9    10   11\n",
      "0  a0  b0  c0  d0  a4  b4  c4  d4   a8   b8   c8   d8\n",
      "1  a1  b1  c1  d1  a5  b5  c5  d5   a9   b9   c9   d9\n",
      "2  a2  b2  c2  d2  a6  b6  c6  d6  a10  b10  c10  d10\n",
      "3  a3  b3  c3  d3  a7  b7  c7  d7  a11  b11  c11  d11\n"
     ]
    }
   ],
   "source": [
    "col_concat  = pd.concat([df1,df2,df3],axis=1, ignore_index=True)\n",
    "print(col_concat) "
   ]
  },
  {
   "cell_type": "code",
   "execution_count": 271,
   "id": "f66f9fc9",
   "metadata": {},
   "outputs": [
    {
     "name": "stdout",
     "output_type": "stream",
     "text": [
      "Index(['A', 'B', 'C', 'D'], dtype='object')\n",
      "Index(['E', 'F', 'G', 'H'], dtype='object')\n",
      "Index(['A', 'C', 'F', 'H'], dtype='object')\n",
      "    A   B   C   D\n",
      "0  a0  b0  c0  d0\n",
      "1  a1  b1  c1  d1\n",
      "2  a2  b2  c2  d2\n",
      "3  a3  b3  c3  d3\n",
      "    E   F   G   H\n",
      "0  a4  b4  c4  d4\n",
      "1  a5  b5  c5  d5\n",
      "2  a6  b6  c6  d6\n",
      "3  a7  b7  c7  d7\n",
      "     A    C    F    H\n",
      "0   a8   b8   c8   d8\n",
      "1   a9   b9   c9   d9\n",
      "2  a10  b10  c10  d10\n",
      "3  a11  b11  c11  d11\n",
      "     A    B    C    D    E    F    G    H\n",
      "0   a0   b0   c0   d0  NaN  NaN  NaN  NaN\n",
      "1   a1   b1   c1   d1  NaN  NaN  NaN  NaN\n",
      "2   a2   b2   c2   d2  NaN  NaN  NaN  NaN\n",
      "3   a3   b3   c3   d3  NaN  NaN  NaN  NaN\n",
      "0  NaN  NaN  NaN  NaN   a4   b4   c4   d4\n",
      "1  NaN  NaN  NaN  NaN   a5   b5   c5   d5\n",
      "2  NaN  NaN  NaN  NaN   a6   b6   c6   d6\n",
      "3  NaN  NaN  NaN  NaN   a7   b7   c7   d7\n",
      "0   a8  NaN   b8  NaN  NaN   c8  NaN   d8\n",
      "1   a9  NaN   b9  NaN  NaN   c9  NaN   d9\n",
      "2  a10  NaN  b10  NaN  NaN  c10  NaN  d10\n",
      "3  a11  NaN  b11  NaN  NaN  c11  NaN  d11\n"
     ]
    }
   ],
   "source": [
    "print(df1.columns)\n",
    "print(df2.columns)\n",
    "print(df3.columns)\n",
    "df2.columns = ['E','F','G','H'] # 컬럼명 변경\n",
    "df3.columns = ['A','C','F','H']\n",
    "print(df1)\n",
    "print(df2)\n",
    "print(df3)\n",
    "row_concat2 = pd.concat([df1,df2,df3]) # 열이름이 일치하는 것과 연결\n",
    "# 연결되지 못한 영역은 누락값이 생긴다\n",
    "print(row_concat2)"
   ]
  },
  {
   "cell_type": "code",
   "execution_count": 277,
   "id": "6b9f37e0",
   "metadata": {},
   "outputs": [
    {
     "name": "stdout",
     "output_type": "stream",
     "text": [
      "     A    C\n",
      "0   a0   c0\n",
      "1   a1   c1\n",
      "2   a2   c2\n",
      "3   a3   c3\n",
      "0   a8   b8\n",
      "1   a9   b9\n",
      "2  a10  b10\n",
      "3  a11  b11\n",
      "     A    C\n",
      "0   a0   c0\n",
      "1   a1   c1\n",
      "2   a2   c2\n",
      "3   a3   c3\n",
      "4   a8   b8\n",
      "5   a9   b9\n",
      "6  a10  b10\n",
      "7  a11  b11\n"
     ]
    }
   ],
   "source": [
    "# 열 이름이 일치하는 것끼리만 연결하기\n",
    "# df1과 df2가 연결되면 A,C만 연결된 정보를 얻을 수 있다. 누락값은 말생하지 않는다.\n",
    "df6 = pd.concat([df1,df3], join = 'inner')\n",
    "print(df6)\n",
    "df6 = pd.concat([df1,df3], join = 'inner', ignore_index=True)\n",
    "print(df6)"
   ]
  },
  {
   "cell_type": "code",
   "execution_count": 279,
   "id": "7f61e0a4",
   "metadata": {},
   "outputs": [
    {
     "name": "stdout",
     "output_type": "stream",
     "text": [
      "RangeIndex(start=0, stop=4, step=1)\n",
      "RangeIndex(start=0, stop=4, step=1)\n",
      "Int64Index([4, 5, 6, 7], dtype='int64')\n",
      "Int64Index([0, 2, 5, 7], dtype='int64')\n"
     ]
    }
   ],
   "source": [
    "print(df2.index)\n",
    "print(df3.index)\n",
    "df2.index = [4, 5, 6, 7]  # 행번호를 변경\n",
    "df3.index = [0, 2, 5, 7]\n",
    "print(df2.index)\n",
    "print(df3.index)"
   ]
  },
  {
   "cell_type": "code",
   "execution_count": 283,
   "id": "572d075f",
   "metadata": {
    "scrolled": false
   },
   "outputs": [
    {
     "name": "stdout",
     "output_type": "stream",
     "text": [
      "    A   B   C   D\n",
      "0  a0  b0  c0  d0\n",
      "1  a1  b1  c1  d1\n",
      "2  a2  b2  c2  d2\n",
      "3  a3  b3  c3  d3\n",
      "     A    C    F    H\n",
      "0   a8   b8   c8   d8\n",
      "2   a9   b9   c9   d9\n",
      "5  a10  b10  c10  d10\n",
      "7  a11  b11  c11  d11\n",
      "    A   B   C   D   A   C   F   H\n",
      "0  a0  b0  c0  d0  a8  b8  c8  d8\n",
      "2  a2  b2  c2  d2  a9  b9  c9  d9\n"
     ]
    }
   ],
   "source": [
    "print(df1)\n",
    "print(df3)\n",
    "### 행번호가 일치하는 것끼리만 연결 : y축기준\n",
    "col_concat2 = pd.concat([df1,df3], axis = 1, join = \"inner\") \n",
    "print(col_concat2)"
   ]
  },
  {
   "cell_type": "code",
   "execution_count": 284,
   "id": "ab009620",
   "metadata": {},
   "outputs": [],
   "source": [
    "site = pd.read_csv(\"https://raw.githubusercontent.com/SoongMoo/soldesk2110/main/data/survey_site.csv\")\n",
    "visited = pd.read_csv(\"https://raw.githubusercontent.com/SoongMoo/soldesk2110/main/data/survey_visited.csv\")\n",
    "survey = pd.read_csv(\"https://raw.githubusercontent.com/SoongMoo/soldesk2110/main/data/survey_survey.csv\")\n",
    "person = pd.read_csv(\"https://raw.githubusercontent.com/SoongMoo/soldesk2110/main/data/survey_person.csv\")"
   ]
  },
  {
   "cell_type": "code",
   "execution_count": 291,
   "id": "ca0bbb59",
   "metadata": {
    "scrolled": true
   },
   "outputs": [
    {
     "name": "stdout",
     "output_type": "stream",
     "text": [
      "    name    lat    long\n",
      "0   DR-1 -49.85 -128.57\n",
      "1   DR-3 -47.15 -126.72\n",
      "2  MSK-4 -48.87 -123.40\n",
      "\n",
      "   ident   site       dated\n",
      "0    619   DR-1  1927-02-08\n",
      "1    622   DR-1  1927-02-10\n",
      "2    734   DR-3  1939-01-07\n",
      "3    735   DR-3  1930-01-12\n",
      "4    751   DR-3  1930-02-26\n",
      "5    752   DR-3         NaN\n",
      "6    837  MSK-4  1932-01-14\n",
      "7    844   DR-1  1932-03-22\n",
      "\n",
      "    taken person quant  reading\n",
      "0     619   dyer   rad     9.82\n",
      "1     619   dyer   sal     0.13\n",
      "2     622   dyer   rad     7.80\n",
      "3     622   dyer   sal     0.09\n",
      "4     734     pb   rad     8.41\n",
      "5     734   lake   sal     0.05\n",
      "6     734     pb  temp   -21.50\n",
      "7     735     pb   rad     7.22\n",
      "8     735    NaN   sal     0.06\n",
      "9     735    NaN  temp   -26.00\n",
      "10    751     pb   rad     4.35\n",
      "11    751     pb  temp   -18.50\n",
      "12    751   lake   sal     0.10\n",
      "13    752   lake   rad     2.19\n",
      "14    752   lake   sal     0.09\n",
      "15    752   lake  temp   -16.00\n",
      "16    752    roe   sal    41.60\n",
      "17    837   lake   rad     1.46\n",
      "18    837   lake   sal     0.21\n",
      "19    837    roe   sal    22.50\n",
      "20    844    roe   rad    11.25\n",
      "\n",
      "      ident   personal    family\n",
      "0      dyer    William      Dyer\n",
      "1        pb      Frank   Pabodie\n",
      "2      lake   Anderson      Lake\n",
      "3       roe  Valentina   Roerich\n",
      "4  danforth      Frank  Danforth\n",
      "    name    lat    long  ident   site       dated\n",
      "0   DR-1 -49.85 -128.57    619   DR-1  1927-02-08\n",
      "1   DR-1 -49.85 -128.57    622   DR-1  1927-02-10\n",
      "2   DR-1 -49.85 -128.57    844   DR-1  1932-03-22\n",
      "3   DR-3 -47.15 -126.72    734   DR-3  1939-01-07\n",
      "4   DR-3 -47.15 -126.72    735   DR-3  1930-01-12\n",
      "5   DR-3 -47.15 -126.72    751   DR-3  1930-02-26\n",
      "6   DR-3 -47.15 -126.72    752   DR-3         NaN\n",
      "7  MSK-4 -48.87 -123.40    837  MSK-4  1932-01-14\n",
      "   ident   personal   family  taken person quant  reading\n",
      "0   dyer    William     Dyer    619   dyer   rad     9.82\n",
      "1   dyer    William     Dyer    619   dyer   sal     0.13\n",
      "2   dyer    William     Dyer    622   dyer   rad     7.80\n",
      "3   dyer    William     Dyer    622   dyer   sal     0.09\n",
      "4     pb      Frank  Pabodie    734     pb   rad     8.41\n",
      "5     pb      Frank  Pabodie    734     pb  temp   -21.50\n",
      "6     pb      Frank  Pabodie    735     pb   rad     7.22\n",
      "7     pb      Frank  Pabodie    751     pb   rad     4.35\n",
      "8     pb      Frank  Pabodie    751     pb  temp   -18.50\n",
      "9   lake   Anderson     Lake    734   lake   sal     0.05\n",
      "10  lake   Anderson     Lake    751   lake   sal     0.10\n",
      "11  lake   Anderson     Lake    752   lake   rad     2.19\n",
      "12  lake   Anderson     Lake    752   lake   sal     0.09\n",
      "13  lake   Anderson     Lake    752   lake  temp   -16.00\n",
      "14  lake   Anderson     Lake    837   lake   rad     1.46\n",
      "15  lake   Anderson     Lake    837   lake   sal     0.21\n",
      "16   roe  Valentina  Roerich    752    roe   sal    41.60\n",
      "17   roe  Valentina  Roerich    837    roe   sal    22.50\n",
      "18   roe  Valentina  Roerich    844    roe   rad    11.25\n",
      "\n",
      "       ident   personal    family  taken person quant  reading\n",
      "0       dyer    William      Dyer  619.0   dyer   rad     9.82\n",
      "1       dyer    William      Dyer  619.0   dyer   sal     0.13\n",
      "2       dyer    William      Dyer  622.0   dyer   rad     7.80\n",
      "3       dyer    William      Dyer  622.0   dyer   sal     0.09\n",
      "4         pb      Frank   Pabodie  734.0     pb   rad     8.41\n",
      "5         pb      Frank   Pabodie  734.0     pb  temp   -21.50\n",
      "6         pb      Frank   Pabodie  735.0     pb   rad     7.22\n",
      "7         pb      Frank   Pabodie  751.0     pb   rad     4.35\n",
      "8         pb      Frank   Pabodie  751.0     pb  temp   -18.50\n",
      "9       lake   Anderson      Lake  734.0   lake   sal     0.05\n",
      "10      lake   Anderson      Lake  751.0   lake   sal     0.10\n",
      "11      lake   Anderson      Lake  752.0   lake   rad     2.19\n",
      "12      lake   Anderson      Lake  752.0   lake   sal     0.09\n",
      "13      lake   Anderson      Lake  752.0   lake  temp   -16.00\n",
      "14      lake   Anderson      Lake  837.0   lake   rad     1.46\n",
      "15      lake   Anderson      Lake  837.0   lake   sal     0.21\n",
      "16       roe  Valentina   Roerich  752.0    roe   sal    41.60\n",
      "17       roe  Valentina   Roerich  837.0    roe   sal    22.50\n",
      "18       roe  Valentina   Roerich  844.0    roe   rad    11.25\n",
      "19  danforth      Frank  Danforth    NaN    NaN   NaN      NaN\n"
     ]
    }
   ],
   "source": [
    "print(site)\n",
    "print()\n",
    "print(visited)\n",
    "print()\n",
    "print(survey)\n",
    "print()\n",
    "print(person)\n",
    "# 값이 같은 것끼리 붙이기, 데이터베이스의 join과 같다.\n",
    "site_visited = site.merge(visited, left_on=\"name\", right_on =\"site\")\n",
    "print(site_visited)\n",
    "# select \n",
    "# from site , visited\n",
    "# where site.name = visited.site\n",
    "person_survey  = person.merge(survey, left_on = \"ident\", right_on =\"person\")\n",
    "print(person_survey) # 설문을 안한 사용자는 출력이 안됨\n",
    "print()\n",
    "###  설문을 안한 사용자도 출력 , outer join\n",
    "person_survey  = person.merge(survey, left_on = \"ident\", right_on =\"person\" ,how='left')\n",
    "print(person_survey)\n",
    "'''inner, outer, left, right'''"
   ]
  },
  {
   "cell_type": "code",
   "execution_count": 293,
   "id": "c43d0c49",
   "metadata": {},
   "outputs": [
    {
     "name": "stdout",
     "output_type": "stream",
     "text": [
      "   ident   site       dated\n",
      "0    619   DR-1  1927-02-08\n",
      "1    622   DR-1  1927-02-10\n",
      "2    734   DR-3  1939-01-07\n",
      "3    735   DR-3  1930-01-12\n",
      "4    751   DR-3  1930-02-26\n",
      "5    752   DR-3         NaN\n",
      "6    837  MSK-4  1932-01-14\n",
      "7    844   DR-1  1932-03-22\n",
      "    taken person quant  reading\n",
      "0     619   dyer   rad     9.82\n",
      "1     619   dyer   sal     0.13\n",
      "2     622   dyer   rad     7.80\n",
      "3     622   dyer   sal     0.09\n",
      "4     734     pb   rad     8.41\n",
      "5     734   lake   sal     0.05\n",
      "6     734     pb  temp   -21.50\n",
      "7     735     pb   rad     7.22\n",
      "8     735    NaN   sal     0.06\n",
      "9     735    NaN  temp   -26.00\n",
      "10    751     pb   rad     4.35\n",
      "11    751     pb  temp   -18.50\n",
      "12    751   lake   sal     0.10\n",
      "13    752   lake   rad     2.19\n",
      "14    752   lake   sal     0.09\n",
      "15    752   lake  temp   -16.00\n",
      "16    752    roe   sal    41.60\n",
      "17    837   lake   rad     1.46\n",
      "18    837   lake   sal     0.21\n",
      "19    837    roe   sal    22.50\n",
      "20    844    roe   rad    11.25\n",
      "    ident   site       dated  taken person quant  reading\n",
      "0     619   DR-1  1927-02-08    619   dyer   rad     9.82\n",
      "1     619   DR-1  1927-02-08    619   dyer   sal     0.13\n",
      "2     622   DR-1  1927-02-10    622   dyer   rad     7.80\n",
      "3     622   DR-1  1927-02-10    622   dyer   sal     0.09\n",
      "4     734   DR-3  1939-01-07    734     pb   rad     8.41\n",
      "5     734   DR-3  1939-01-07    734   lake   sal     0.05\n",
      "6     734   DR-3  1939-01-07    734     pb  temp   -21.50\n",
      "7     735   DR-3  1930-01-12    735     pb   rad     7.22\n",
      "8     735   DR-3  1930-01-12    735    NaN   sal     0.06\n",
      "9     735   DR-3  1930-01-12    735    NaN  temp   -26.00\n",
      "10    751   DR-3  1930-02-26    751     pb   rad     4.35\n",
      "11    751   DR-3  1930-02-26    751     pb  temp   -18.50\n",
      "12    751   DR-3  1930-02-26    751   lake   sal     0.10\n",
      "13    752   DR-3         NaN    752   lake   rad     2.19\n",
      "14    752   DR-3         NaN    752   lake   sal     0.09\n",
      "15    752   DR-3         NaN    752   lake  temp   -16.00\n",
      "16    752   DR-3         NaN    752    roe   sal    41.60\n",
      "17    837  MSK-4  1932-01-14    837   lake   rad     1.46\n",
      "18    837  MSK-4  1932-01-14    837   lake   sal     0.21\n",
      "19    837  MSK-4  1932-01-14    837    roe   sal    22.50\n",
      "20    844   DR-1  1932-03-22    844    roe   rad    11.25\n"
     ]
    }
   ],
   "source": [
    "print(visited)\n",
    "print(survey)\n",
    "visited_survey = visited.merge(survey , left_on='ident', right_on='taken')\n",
    "print(visited_survey)"
   ]
  },
  {
   "cell_type": "code",
   "execution_count": 297,
   "id": "c89a5a8e",
   "metadata": {},
   "outputs": [
    {
     "name": "stdout",
     "output_type": "stream",
     "text": [
      "       ident   personal    family  taken person quant  reading\n",
      "0       dyer    William      Dyer  619.0   dyer   rad     9.82\n",
      "1       dyer    William      Dyer  619.0   dyer   sal     0.13\n",
      "2       dyer    William      Dyer  622.0   dyer   rad     7.80\n",
      "3       dyer    William      Dyer  622.0   dyer   sal     0.09\n",
      "4         pb      Frank   Pabodie  734.0     pb   rad     8.41\n",
      "5         pb      Frank   Pabodie  734.0     pb  temp   -21.50\n",
      "6         pb      Frank   Pabodie  735.0     pb   rad     7.22\n",
      "7         pb      Frank   Pabodie  751.0     pb   rad     4.35\n",
      "8         pb      Frank   Pabodie  751.0     pb  temp   -18.50\n",
      "9       lake   Anderson      Lake  734.0   lake   sal     0.05\n",
      "10      lake   Anderson      Lake  751.0   lake   sal     0.10\n",
      "11      lake   Anderson      Lake  752.0   lake   rad     2.19\n",
      "12      lake   Anderson      Lake  752.0   lake   sal     0.09\n",
      "13      lake   Anderson      Lake  752.0   lake  temp   -16.00\n",
      "14      lake   Anderson      Lake  837.0   lake   rad     1.46\n",
      "15      lake   Anderson      Lake  837.0   lake   sal     0.21\n",
      "16       roe  Valentina   Roerich  752.0    roe   sal    41.60\n",
      "17       roe  Valentina   Roerich  837.0    roe   sal    22.50\n",
      "18       roe  Valentina   Roerich  844.0    roe   rad    11.25\n",
      "19  danforth      Frank  Danforth    NaN    NaN   NaN      NaN\n",
      "\n",
      "    ident   site       dated  taken person quant  reading\n",
      "0     619   DR-1  1927-02-08    619   dyer   rad     9.82\n",
      "1     619   DR-1  1927-02-08    619   dyer   sal     0.13\n",
      "2     622   DR-1  1927-02-10    622   dyer   rad     7.80\n",
      "3     622   DR-1  1927-02-10    622   dyer   sal     0.09\n",
      "4     734   DR-3  1939-01-07    734     pb   rad     8.41\n",
      "5     734   DR-3  1939-01-07    734   lake   sal     0.05\n",
      "6     734   DR-3  1939-01-07    734     pb  temp   -21.50\n",
      "7     735   DR-3  1930-01-12    735     pb   rad     7.22\n",
      "8     735   DR-3  1930-01-12    735    NaN   sal     0.06\n",
      "9     735   DR-3  1930-01-12    735    NaN  temp   -26.00\n",
      "10    751   DR-3  1930-02-26    751     pb   rad     4.35\n",
      "11    751   DR-3  1930-02-26    751     pb  temp   -18.50\n",
      "12    751   DR-3  1930-02-26    751   lake   sal     0.10\n",
      "13    752   DR-3         NaN    752   lake   rad     2.19\n",
      "14    752   DR-3         NaN    752   lake   sal     0.09\n",
      "15    752   DR-3         NaN    752   lake  temp   -16.00\n",
      "16    752   DR-3         NaN    752    roe   sal    41.60\n",
      "17    837  MSK-4  1932-01-14    837   lake   rad     1.46\n",
      "18    837  MSK-4  1932-01-14    837   lake   sal     0.21\n",
      "19    837  MSK-4  1932-01-14    837    roe   sal    22.50\n",
      "20    844   DR-1  1932-03-22    844    roe   rad    11.25\n",
      "   ident_x   personal   family  taken_x person_x quant  reading  ident_y  \\\n",
      "0     dyer    William     Dyer    619.0     dyer   rad     9.82      619   \n",
      "1     dyer    William     Dyer    619.0     dyer   sal     0.13      619   \n",
      "2     dyer    William     Dyer    622.0     dyer   rad     7.80      622   \n",
      "3     dyer    William     Dyer    622.0     dyer   sal     0.09      622   \n",
      "4       pb      Frank  Pabodie    734.0       pb   rad     8.41      734   \n",
      "5       pb      Frank  Pabodie    734.0       pb  temp   -21.50      734   \n",
      "6       pb      Frank  Pabodie    735.0       pb   rad     7.22      735   \n",
      "7       pb      Frank  Pabodie    751.0       pb   rad     4.35      751   \n",
      "8       pb      Frank  Pabodie    751.0       pb  temp   -18.50      751   \n",
      "9     lake   Anderson     Lake    734.0     lake   sal     0.05      734   \n",
      "10    lake   Anderson     Lake    751.0     lake   sal     0.10      751   \n",
      "11    lake   Anderson     Lake    752.0     lake   rad     2.19      752   \n",
      "12    lake   Anderson     Lake    752.0     lake   sal     0.09      752   \n",
      "13    lake   Anderson     Lake    752.0     lake  temp   -16.00      752   \n",
      "14    lake   Anderson     Lake    837.0     lake   rad     1.46      837   \n",
      "15    lake   Anderson     Lake    837.0     lake   sal     0.21      837   \n",
      "16     roe  Valentina  Roerich    752.0      roe   sal    41.60      752   \n",
      "17     roe  Valentina  Roerich    837.0      roe   sal    22.50      837   \n",
      "18     roe  Valentina  Roerich    844.0      roe   rad    11.25      844   \n",
      "\n",
      "     site       dated  taken_y person_y  \n",
      "0    DR-1  1927-02-08      619     dyer  \n",
      "1    DR-1  1927-02-08      619     dyer  \n",
      "2    DR-1  1927-02-10      622     dyer  \n",
      "3    DR-1  1927-02-10      622     dyer  \n",
      "4    DR-3  1939-01-07      734       pb  \n",
      "5    DR-3  1939-01-07      734       pb  \n",
      "6    DR-3  1930-01-12      735       pb  \n",
      "7    DR-3  1930-02-26      751       pb  \n",
      "8    DR-3  1930-02-26      751       pb  \n",
      "9    DR-3  1939-01-07      734     lake  \n",
      "10   DR-3  1930-02-26      751     lake  \n",
      "11   DR-3         NaN      752     lake  \n",
      "12   DR-3         NaN      752     lake  \n",
      "13   DR-3         NaN      752     lake  \n",
      "14  MSK-4  1932-01-14      837     lake  \n",
      "15  MSK-4  1932-01-14      837     lake  \n",
      "16   DR-3         NaN      752      roe  \n",
      "17  MSK-4  1932-01-14      837      roe  \n",
      "18   DR-1  1932-03-22      844      roe  \n"
     ]
    }
   ],
   "source": [
    "print(person_survey)\n",
    "print()\n",
    "print(visited_survey)\n",
    "# person_survey.ident = visited_survey.person and person_survey.taken = visited_survey.ident   \n",
    "# and person_survey.quant  = visited_survey.quant \n",
    "# and person_survey.reading =  visited_survey.reading\n",
    "ps_vs = person_survey.merge(visited_survey, left_on=[\"ident\",\"taken\",\"quant\",\"reading\"],\n",
    "                                         right_on = [\"person\",\"ident\",\"quant\",\"reading\"])\n",
    "print(ps_vs)"
   ]
  },
  {
   "cell_type": "code",
   "execution_count": 298,
   "id": "d0e4496e",
   "metadata": {},
   "outputs": [
    {
     "name": "stdout",
     "output_type": "stream",
     "text": [
      "False\n",
      "False\n",
      "False\n"
     ]
    }
   ],
   "source": [
    "from numpy import NaN, NAN, nan # null : 누락값 : 알 수 없는 값\n",
    "print(NaN == True)\n",
    "print(NAN == True)\n",
    "print(nan == True)"
   ]
  },
  {
   "cell_type": "code",
   "execution_count": 299,
   "id": "4f313eaf",
   "metadata": {},
   "outputs": [
    {
     "name": "stdout",
     "output_type": "stream",
     "text": [
      "False\n",
      "False\n",
      "False\n"
     ]
    }
   ],
   "source": [
    "print(NaN == False)\n",
    "print(NAN == False)\n",
    "print(nan == False)"
   ]
  },
  {
   "cell_type": "code",
   "execution_count": 301,
   "id": "03a4cdb9",
   "metadata": {},
   "outputs": [
    {
     "name": "stdout",
     "output_type": "stream",
     "text": [
      "False\n",
      "False\n",
      "False\n",
      "False\n"
     ]
    }
   ],
   "source": [
    "print(NaN == 0)\n",
    "print(NaN == '')\n",
    "print(NaN == None)\n",
    "print(NaN == nan) # 누락값은 알수 없는 값이므로 비교를 할 수 없다."
   ]
  },
  {
   "cell_type": "code",
   "execution_count": 302,
   "id": "84809166",
   "metadata": {},
   "outputs": [
    {
     "name": "stdout",
     "output_type": "stream",
     "text": [
      "True\n",
      "True\n",
      "False\n"
     ]
    }
   ],
   "source": [
    "print(pd.isnull(NAN)) # True\n",
    "print(pd.notnull(42)) # True\n",
    "print(pd.isnull(42)) # False"
   ]
  },
  {
   "cell_type": "code",
   "execution_count": 305,
   "id": "2aee6d7b",
   "metadata": {},
   "outputs": [
    {
     "name": "stdout",
     "output_type": "stream",
     "text": [
      "    name    lat    long\n",
      "0   DR-1 -49.85 -128.57\n",
      "1   DR-3 -47.15 -126.72\n",
      "2  MSK-4 -48.87 -123.40\n",
      "\n",
      "name    3\n",
      "lat     3\n",
      "long    3\n",
      "dtype: int64\n",
      "\n",
      "   ident   site       dated\n",
      "0    619   DR-1  1927-02-08\n",
      "1    622   DR-1  1927-02-10\n",
      "2    734   DR-3  1939-01-07\n",
      "3    735   DR-3  1930-01-12\n",
      "4    751   DR-3  1930-02-26\n",
      "5    752   DR-3         NaN\n",
      "6    837  MSK-4  1932-01-14\n",
      "7    844   DR-1  1932-03-22\n",
      "\n",
      "ident    8\n",
      "site     8\n",
      "dated    7\n",
      "dtype: int64\n",
      "\n",
      "    taken person quant  reading\n",
      "0     619   dyer   rad     9.82\n",
      "1     619   dyer   sal     0.13\n",
      "2     622   dyer   rad     7.80\n",
      "3     622   dyer   sal     0.09\n",
      "4     734     pb   rad     8.41\n",
      "5     734   lake   sal     0.05\n",
      "6     734     pb  temp   -21.50\n",
      "7     735     pb   rad     7.22\n",
      "8     735    NaN   sal     0.06\n",
      "9     735    NaN  temp   -26.00\n",
      "10    751     pb   rad     4.35\n",
      "11    751     pb  temp   -18.50\n",
      "12    751   lake   sal     0.10\n",
      "13    752   lake   rad     2.19\n",
      "14    752   lake   sal     0.09\n",
      "15    752   lake  temp   -16.00\n",
      "16    752    roe   sal    41.60\n",
      "17    837   lake   rad     1.46\n",
      "18    837   lake   sal     0.21\n",
      "19    837    roe   sal    22.50\n",
      "20    844    roe   rad    11.25\n",
      "\n",
      "taken      21\n",
      "person     19\n",
      "quant      21\n",
      "reading    21\n",
      "dtype: int64\n",
      "\n",
      "      ident   personal    family\n",
      "0      dyer    William      Dyer\n",
      "1        pb      Frank   Pabodie\n",
      "2      lake   Anderson      Lake\n",
      "3       roe  Valentina   Roerich\n",
      "4  danforth      Frank  Danforth\n",
      "\n",
      "ident       5\n",
      "personal    5\n",
      "family      5\n",
      "dtype: int64\n",
      "\n",
      "       ident   personal    family  taken person quant  reading\n",
      "0       dyer    William      Dyer  619.0   dyer   rad     9.82\n",
      "1       dyer    William      Dyer  619.0   dyer   sal     0.13\n",
      "2       dyer    William      Dyer  622.0   dyer   rad     7.80\n",
      "3       dyer    William      Dyer  622.0   dyer   sal     0.09\n",
      "4         pb      Frank   Pabodie  734.0     pb   rad     8.41\n",
      "5         pb      Frank   Pabodie  734.0     pb  temp   -21.50\n",
      "6         pb      Frank   Pabodie  735.0     pb   rad     7.22\n",
      "7         pb      Frank   Pabodie  751.0     pb   rad     4.35\n",
      "8         pb      Frank   Pabodie  751.0     pb  temp   -18.50\n",
      "9       lake   Anderson      Lake  734.0   lake   sal     0.05\n",
      "10      lake   Anderson      Lake  751.0   lake   sal     0.10\n",
      "11      lake   Anderson      Lake  752.0   lake   rad     2.19\n",
      "12      lake   Anderson      Lake  752.0   lake   sal     0.09\n",
      "13      lake   Anderson      Lake  752.0   lake  temp   -16.00\n",
      "14      lake   Anderson      Lake  837.0   lake   rad     1.46\n",
      "15      lake   Anderson      Lake  837.0   lake   sal     0.21\n",
      "16       roe  Valentina   Roerich  752.0    roe   sal    41.60\n",
      "17       roe  Valentina   Roerich  837.0    roe   sal    22.50\n",
      "18       roe  Valentina   Roerich  844.0    roe   rad    11.25\n",
      "19  danforth      Frank  Danforth    NaN    NaN   NaN      NaN\n",
      "\n",
      "ident       20\n",
      "personal    20\n",
      "family      20\n",
      "taken       19\n",
      "person      19\n",
      "quant       19\n",
      "reading     19\n",
      "dtype: int64\n",
      "\n",
      "    ident   site       dated  taken person quant  reading\n",
      "0     619   DR-1  1927-02-08    619   dyer   rad     9.82\n",
      "1     619   DR-1  1927-02-08    619   dyer   sal     0.13\n",
      "2     622   DR-1  1927-02-10    622   dyer   rad     7.80\n",
      "3     622   DR-1  1927-02-10    622   dyer   sal     0.09\n",
      "4     734   DR-3  1939-01-07    734     pb   rad     8.41\n",
      "5     734   DR-3  1939-01-07    734   lake   sal     0.05\n",
      "6     734   DR-3  1939-01-07    734     pb  temp   -21.50\n",
      "7     735   DR-3  1930-01-12    735     pb   rad     7.22\n",
      "8     735   DR-3  1930-01-12    735    NaN   sal     0.06\n",
      "9     735   DR-3  1930-01-12    735    NaN  temp   -26.00\n",
      "10    751   DR-3  1930-02-26    751     pb   rad     4.35\n",
      "11    751   DR-3  1930-02-26    751     pb  temp   -18.50\n",
      "12    751   DR-3  1930-02-26    751   lake   sal     0.10\n",
      "13    752   DR-3         NaN    752   lake   rad     2.19\n",
      "14    752   DR-3         NaN    752   lake   sal     0.09\n",
      "15    752   DR-3         NaN    752   lake  temp   -16.00\n",
      "16    752   DR-3         NaN    752    roe   sal    41.60\n",
      "17    837  MSK-4  1932-01-14    837   lake   rad     1.46\n",
      "18    837  MSK-4  1932-01-14    837   lake   sal     0.21\n",
      "19    837  MSK-4  1932-01-14    837    roe   sal    22.50\n",
      "20    844   DR-1  1932-03-22    844    roe   rad    11.25\n",
      "\n",
      "ident      21\n",
      "site       21\n",
      "dated      17\n",
      "taken      21\n",
      "person     19\n",
      "quant      21\n",
      "reading    21\n",
      "dtype: int64\n"
     ]
    }
   ],
   "source": [
    "#### 데이터 갯수 :NaN은 갯수에서 제외된다.\n",
    "print(site)\n",
    "print()\n",
    "print(site.count())\n",
    "print()\n",
    "print(visited)\n",
    "print()\n",
    "print(visited.count())\n",
    "print()\n",
    "print(survey)\n",
    "print()\n",
    "print(survey.count())\n",
    "print()\n",
    "print(person)\n",
    "print()\n",
    "print(person.count())\n",
    "print()\n",
    "print(person_survey)\n",
    "print()\n",
    "print(person_survey.count())\n",
    "print()\n",
    "print(visited_survey)\n",
    "print()\n",
    "print(visited_survey.count())\n"
   ]
  },
  {
   "cell_type": "code",
   "execution_count": 306,
   "id": "89de6f37",
   "metadata": {},
   "outputs": [
    {
     "name": "stdout",
     "output_type": "stream",
     "text": [
      "goat      4.0\n",
      "amoeba    NaN\n",
      "dtype: float64\n"
     ]
    }
   ],
   "source": [
    "num_legs = pd.Series({'goat': 4, 'amoeba': nan }) # 누락값을 갖는 시리즈\n",
    "print(num_legs)"
   ]
  },
  {
   "cell_type": "code",
   "execution_count": 307,
   "id": "032e8ed0",
   "metadata": {},
   "outputs": [
    {
     "name": "stdout",
     "output_type": "stream",
     "text": [
      "  Name  age        born  missing\n",
      "0  이숭무   30  1990-10-15      NaN\n",
      "1  이장범   18  2005-05-27      NaN\n",
      "2  이상범   17  2006-09-27      NaN\n"
     ]
    }
   ],
   "source": [
    "df = pd.DataFrame({\n",
    "    'Name': ['이숭무', '이장범', '이상범'],\n",
    "    'age':[30,18,17],\n",
    "    'born':['1990-10-15','2005-05-27','2006-09-27'],\n",
    "    'missing':[NaN,NaN,NaN]\n",
    "})\n",
    "print(df)"
   ]
  },
  {
   "cell_type": "code",
   "execution_count": 309,
   "id": "e4e6270c",
   "metadata": {},
   "outputs": [],
   "source": [
    "df = pd.read_csv(\n",
    "    \"https://raw.githubusercontent.com/SoongMoo/soldesk2110/main/data/gapminder.tsv\",sep=\"\\t\")"
   ]
  },
  {
   "cell_type": "code",
   "execution_count": 311,
   "id": "3e98b732",
   "metadata": {},
   "outputs": [
    {
     "name": "stdout",
     "output_type": "stream",
     "text": [
      "country      1704\n",
      "continent    1704\n",
      "year         1704\n",
      "lifeExp      1704\n",
      "pop          1704\n",
      "gdpPercap    1704\n",
      "dtype: int64\n"
     ]
    }
   ],
   "source": [
    "# 누락값을 뺀 데이터의 수를 확인할 수 있다.\n",
    "print(df.count())"
   ]
  },
  {
   "cell_type": "code",
   "execution_count": 317,
   "id": "41512af2",
   "metadata": {},
   "outputs": [
    {
     "name": "stdout",
     "output_type": "stream",
     "text": [
      "year\n",
      "1952    49.057620\n",
      "1957    51.507401\n",
      "1962    53.609249\n",
      "1967    55.678290\n",
      "1972    57.647386\n",
      "1977    59.570157\n",
      "1982    61.533197\n",
      "1987    63.212613\n",
      "1992    64.160338\n",
      "1997    65.014676\n",
      "2002    65.694923\n",
      "2007    67.007423\n",
      "Name: lifeExp, dtype: float64\n",
      "year\n",
      "1952    49.057620\n",
      "1957    51.507401\n",
      "1962    53.609249\n",
      "1967    55.678290\n",
      "1972    57.647386\n",
      "1977    59.570157\n",
      "1982    61.533197\n",
      "1987    63.212613\n",
      "1992    64.160338\n",
      "1997    65.014676\n",
      "2002    65.694923\n",
      "2007    67.007423\n",
      "Name: lifeExp, dtype: float64\n",
      "<class 'pandas.core.series.Series'>\n",
      "65.69492253521126\n",
      "67.00742253521126\n"
     ]
    }
   ],
   "source": [
    "### 년도별 평균수명의 평균?\n",
    "life_exp = df.groupby(['year'])['lifeExp'].mean()\n",
    "print(life_exp)\n",
    "life_exp = df.groupby(['year']).lifeExp.mean()\n",
    "print(life_exp)\n",
    "### 2002년의 데이터만 가지고 오시오\n",
    "print(type(life_exp)) # Series\n",
    "print(life_exp[2002])\n",
    "### 2007년의 데이터만 가지고 오시오\n",
    "print(life_exp[2007])"
   ]
  },
  {
   "cell_type": "code",
   "execution_count": 323,
   "id": "7371994c",
   "metadata": {},
   "outputs": [
    {
     "name": "stdout",
     "output_type": "stream",
     "text": [
      "Int64Index([1952, 1957, 1962, 1967, 1972, 1977, 1982, 1987, 1992, 1997, 2002,\n",
      "            2007],\n",
      "           dtype='int64', name='year')\n",
      "55.67828957746479\n",
      "[ True  True  True  True  True  True  True  True  True  True False False]\n",
      "year\n",
      "1952    49.057620\n",
      "1957    51.507401\n",
      "1962    53.609249\n",
      "1967    55.678290\n",
      "1972    57.647386\n",
      "1977    59.570157\n",
      "1982    61.533197\n",
      "1987    63.212613\n",
      "1992    64.160338\n",
      "1997    65.014676\n",
      "Name: lifeExp, dtype: float64\n",
      "year\n",
      "1952    49.057620\n",
      "1957    51.507401\n",
      "1962    53.609249\n",
      "1967    55.678290\n",
      "1972    57.647386\n",
      "1977    59.570157\n",
      "1982    61.533197\n",
      "1987    63.212613\n",
      "1992    64.160338\n",
      "1997    65.014676\n",
      "Name: lifeExp, dtype: float64\n",
      "[False False False False False False False False False False  True  True]\n"
     ]
    }
   ],
   "source": [
    "# life_exp 인덱스\n",
    "print(life_exp.index)\n",
    "print(life_exp[1967])\n",
    "# 인덱스를 이용해서 비교\n",
    "print(life_exp.index < 2000 )\n",
    "print(life_exp[[ True,True,True,True,True,True,True,True,True,True,False,False]])\n",
    "print(life_exp[life_exp.index < 2000])"
   ]
  },
  {
   "cell_type": "code",
   "execution_count": 325,
   "id": "3d7f660a",
   "metadata": {},
   "outputs": [
    {
     "name": "stdout",
     "output_type": "stream",
     "text": [
      "[False False False False False False False False False False  True  True]\n",
      "year\n",
      "2002    65.694923\n",
      "2007    67.007423\n",
      "Name: lifeExp, dtype: float64\n",
      "year\n",
      "2002    65.694923\n",
      "2007    67.007423\n",
      "Name: lifeExp, dtype: float64\n"
     ]
    }
   ],
   "source": [
    "# 2000년도 이후 년도의 평균 수명을 가지고 오시오.\n",
    "print(life_exp.index >= 2000 )\n",
    "print(life_exp[[False,False,False,False,False,False,False,False,False,False,True,True]])\n",
    "print(life_exp[life_exp.index >= 2000])"
   ]
  },
  {
   "cell_type": "code",
   "execution_count": 326,
   "id": "524a0a3e",
   "metadata": {},
   "outputs": [],
   "source": [
    "ebola = pd.read_csv(\"https://raw.githubusercontent.com/SoongMoo/soldesk2110/main/data/country_timeseries.csv\")"
   ]
  },
  {
   "cell_type": "code",
   "execution_count": 327,
   "id": "1b3d54ae",
   "metadata": {},
   "outputs": [
    {
     "name": "stdout",
     "output_type": "stream",
     "text": [
      "           Date  Day  Cases_Guinea  Cases_Liberia  Cases_SierraLeone  \\\n",
      "0      1/5/2015  289        2776.0            NaN            10030.0   \n",
      "1      1/4/2015  288        2775.0            NaN             9780.0   \n",
      "2      1/3/2015  287        2769.0         8166.0             9722.0   \n",
      "3      1/2/2015  286           NaN         8157.0                NaN   \n",
      "4    12/31/2014  284        2730.0         8115.0             9633.0   \n",
      "..          ...  ...           ...            ...                ...   \n",
      "117   3/27/2014    5         103.0            8.0                6.0   \n",
      "118   3/26/2014    4          86.0            NaN                NaN   \n",
      "119   3/25/2014    3          86.0            NaN                NaN   \n",
      "120   3/24/2014    2          86.0            NaN                NaN   \n",
      "121   3/22/2014    0          49.0            NaN                NaN   \n",
      "\n",
      "     Cases_Nigeria  Cases_Senegal  Cases_UnitedStates  Cases_Spain  \\\n",
      "0              NaN            NaN                 NaN          NaN   \n",
      "1              NaN            NaN                 NaN          NaN   \n",
      "2              NaN            NaN                 NaN          NaN   \n",
      "3              NaN            NaN                 NaN          NaN   \n",
      "4              NaN            NaN                 NaN          NaN   \n",
      "..             ...            ...                 ...          ...   \n",
      "117            NaN            NaN                 NaN          NaN   \n",
      "118            NaN            NaN                 NaN          NaN   \n",
      "119            NaN            NaN                 NaN          NaN   \n",
      "120            NaN            NaN                 NaN          NaN   \n",
      "121            NaN            NaN                 NaN          NaN   \n",
      "\n",
      "     Cases_Mali  Deaths_Guinea  Deaths_Liberia  Deaths_SierraLeone  \\\n",
      "0           NaN         1786.0             NaN              2977.0   \n",
      "1           NaN         1781.0             NaN              2943.0   \n",
      "2           NaN         1767.0          3496.0              2915.0   \n",
      "3           NaN            NaN          3496.0                 NaN   \n",
      "4           NaN         1739.0          3471.0              2827.0   \n",
      "..          ...            ...             ...                 ...   \n",
      "117         NaN           66.0             6.0                 5.0   \n",
      "118         NaN           62.0             NaN                 NaN   \n",
      "119         NaN           60.0             NaN                 NaN   \n",
      "120         NaN           59.0             NaN                 NaN   \n",
      "121         NaN           29.0             NaN                 NaN   \n",
      "\n",
      "     Deaths_Nigeria  Deaths_Senegal  Deaths_UnitedStates  Deaths_Spain  \\\n",
      "0               NaN             NaN                  NaN           NaN   \n",
      "1               NaN             NaN                  NaN           NaN   \n",
      "2               NaN             NaN                  NaN           NaN   \n",
      "3               NaN             NaN                  NaN           NaN   \n",
      "4               NaN             NaN                  NaN           NaN   \n",
      "..              ...             ...                  ...           ...   \n",
      "117             NaN             NaN                  NaN           NaN   \n",
      "118             NaN             NaN                  NaN           NaN   \n",
      "119             NaN             NaN                  NaN           NaN   \n",
      "120             NaN             NaN                  NaN           NaN   \n",
      "121             NaN             NaN                  NaN           NaN   \n",
      "\n",
      "     Deaths_Mali  \n",
      "0            NaN  \n",
      "1            NaN  \n",
      "2            NaN  \n",
      "3            NaN  \n",
      "4            NaN  \n",
      "..           ...  \n",
      "117          NaN  \n",
      "118          NaN  \n",
      "119          NaN  \n",
      "120          NaN  \n",
      "121          NaN  \n",
      "\n",
      "[122 rows x 18 columns]\n"
     ]
    }
   ],
   "source": [
    "print(ebola)"
   ]
  },
  {
   "cell_type": "code",
   "execution_count": 332,
   "id": "db20eda6",
   "metadata": {},
   "outputs": [
    {
     "name": "stdout",
     "output_type": "stream",
     "text": [
      "122\n",
      "Date                   122\n",
      "Day                    122\n",
      "Cases_Guinea            93\n",
      "Cases_Liberia           83\n",
      "Cases_SierraLeone       87\n",
      "Cases_Nigeria           38\n",
      "Cases_Senegal           25\n",
      "Cases_UnitedStates      18\n",
      "Cases_Spain             16\n",
      "Cases_Mali              12\n",
      "Deaths_Guinea           92\n",
      "Deaths_Liberia          81\n",
      "Deaths_SierraLeone      87\n",
      "Deaths_Nigeria          38\n",
      "Deaths_Senegal          22\n",
      "Deaths_UnitedStates     18\n",
      "Deaths_Spain            16\n",
      "Deaths_Mali             12\n",
      "dtype: int64\n",
      "\n",
      "Date                     0\n",
      "Day                      0\n",
      "Cases_Guinea            29\n",
      "Cases_Liberia           39\n",
      "Cases_SierraLeone       35\n",
      "Cases_Nigeria           84\n",
      "Cases_Senegal           97\n",
      "Cases_UnitedStates     104\n",
      "Cases_Spain            106\n",
      "Cases_Mali             110\n",
      "Deaths_Guinea           30\n",
      "Deaths_Liberia          41\n",
      "Deaths_SierraLeone      35\n",
      "Deaths_Nigeria          84\n",
      "Deaths_Senegal         100\n",
      "Deaths_UnitedStates    104\n",
      "Deaths_Spain           106\n",
      "Deaths_Mali            110\n",
      "dtype: int64\n"
     ]
    }
   ],
   "source": [
    "### 누락 값에 갯수를 출력하시오\n",
    "### 전체 행의 갯수를 확인\n",
    "print(ebola.shape[0])\n",
    "print(ebola.count())\n",
    "## 각 컬럼의 누락값의 갯수\n",
    "print()\n",
    "print(ebola.shape[0] - ebola.count())"
   ]
  },
  {
   "cell_type": "code",
   "execution_count": 334,
   "id": "f9b1f8a8",
   "metadata": {},
   "outputs": [
    {
     "name": "stdout",
     "output_type": "stream",
     "text": [
      "1214\n",
      "39\n"
     ]
    }
   ],
   "source": [
    "# 누락 값의 총 갯수\n",
    "import numpy as np\n",
    "print(np.count_nonzero(ebola.isnull()))\n",
    "print(np.count_nonzero(ebola['Cases_Liberia'].isnull()))"
   ]
  },
  {
   "cell_type": "code",
   "execution_count": 339,
   "id": "e58d5983",
   "metadata": {},
   "outputs": [
    {
     "name": "stdout",
     "output_type": "stream",
     "text": [
      "         Date  Day  Cases_Guinea  Cases_Liberia  Cases_SierraLeone\n",
      "0    1/5/2015  289        2776.0            NaN            10030.0\n",
      "1    1/4/2015  288        2775.0            NaN             9780.0\n",
      "2    1/3/2015  287        2769.0         8166.0             9722.0\n",
      "3    1/2/2015  286           NaN         8157.0                NaN\n",
      "4  12/31/2014  284        2730.0         8115.0             9633.0\n",
      "5  12/28/2014  281        2706.0         8018.0             9446.0\n",
      "6  12/27/2014  280        2695.0            NaN             9409.0\n",
      "7  12/24/2014  277        2630.0         7977.0             9203.0\n",
      "8  12/21/2014  273        2597.0            NaN             9004.0\n",
      "9  12/20/2014  272        2571.0         7862.0             8939.0\n",
      "         Date  Day  Cases_Guinea  Cases_Liberia  Cases_SierraLeone\n",
      "0    1/5/2015  289        2776.0            0.0            10030.0\n",
      "1    1/4/2015  288        2775.0            0.0             9780.0\n",
      "2    1/3/2015  287        2769.0         8166.0             9722.0\n",
      "3    1/2/2015  286           0.0         8157.0                0.0\n",
      "4  12/31/2014  284        2730.0         8115.0             9633.0\n",
      "5  12/28/2014  281        2706.0         8018.0             9446.0\n",
      "6  12/27/2014  280        2695.0            0.0             9409.0\n",
      "7  12/24/2014  277        2630.0         7977.0             9203.0\n",
      "8  12/21/2014  273        2597.0            0.0             9004.0\n",
      "9  12/20/2014  272        2571.0         7862.0             8939.0\n",
      "         Date  Day  Cases_Guinea  Cases_Liberia  Cases_SierraLeone\n",
      "0    1/5/2015  289        2776.0          100.0            10030.0\n",
      "1    1/4/2015  288        2775.0          100.0             9780.0\n",
      "2    1/3/2015  287        2769.0         8166.0             9722.0\n",
      "3    1/2/2015  286         100.0         8157.0              100.0\n",
      "4  12/31/2014  284        2730.0         8115.0             9633.0\n",
      "5  12/28/2014  281        2706.0         8018.0             9446.0\n",
      "6  12/27/2014  280        2695.0          100.0             9409.0\n",
      "7  12/24/2014  277        2630.0         7977.0             9203.0\n",
      "8  12/21/2014  273        2597.0          100.0             9004.0\n",
      "9  12/20/2014  272        2571.0         7862.0             8939.0\n"
     ]
    }
   ],
   "source": [
    "#### 누락값이 있는 경우 특정 값으로 채우기\n",
    "### fillna()라는 함수를 이용해서  누락값을 대체\n",
    "print(ebola.iloc[0:10,0:5 ])\n",
    "ebola_fillna_0 = ebola.fillna(0)\n",
    "print(ebola_fillna_0.iloc[0:10,0:5 ])\n",
    "ebola_fillna_100 = ebola.fillna(100)\n",
    "print(ebola_fillna_100.iloc[0:10,0:5 ])"
   ]
  },
  {
   "cell_type": "code",
   "execution_count": 341,
   "id": "1afa8505",
   "metadata": {},
   "outputs": [
    {
     "name": "stdout",
     "output_type": "stream",
     "text": [
      "         Date  Day  Cases_Guinea  Cases_Liberia\n",
      "0    1/5/2015  289        2776.0            0.0\n",
      "1    1/4/2015  288        2775.0            0.0\n",
      "2    1/3/2015  287        2769.0         8166.0\n",
      "3    1/2/2015  286           0.0         8157.0\n",
      "4  12/31/2014  284        2730.0         8115.0\n",
      "5  12/28/2014  281        2706.0         8018.0\n",
      "6  12/27/2014  280        2695.0            0.0\n",
      "7  12/24/2014  277        2630.0         7977.0\n",
      "8  12/21/2014  273        2597.0            0.0\n",
      "9  12/20/2014  272        2571.0         7862.0\n"
     ]
    }
   ],
   "source": [
    "# 0~9행, 0열 4에만 누락값을 0으로 주자\n",
    "print(ebola.fillna(0).iloc[0:10, 0:4])"
   ]
  },
  {
   "cell_type": "code",
   "execution_count": 345,
   "id": "ca72046c",
   "metadata": {},
   "outputs": [
    {
     "name": "stdout",
     "output_type": "stream",
     "text": [
      "Day                     144.778689\n",
      "Cases_Guinea            911.064516\n",
      "Cases_Liberia          2335.337349\n",
      "Cases_SierraLeone      2427.367816\n",
      "Cases_Nigeria            16.736842\n",
      "Cases_Senegal             1.080000\n",
      "Cases_UnitedStates        3.277778\n",
      "Cases_Spain               1.000000\n",
      "Cases_Mali                3.500000\n",
      "Deaths_Guinea           563.239130\n",
      "Deaths_Liberia         1101.209877\n",
      "Deaths_SierraLeone      693.701149\n",
      "Deaths_Nigeria            6.131579\n",
      "Deaths_Senegal            0.000000\n",
      "Deaths_UnitedStates       0.833333\n",
      "Deaths_Spain              0.187500\n",
      "Deaths_Mali               3.166667\n",
      "dtype: float64\n",
      "         Date  Day  Cases_Guinea  Cases_Liberia  Cases_SierraLeone\n",
      "0    1/5/2015  289   2776.000000    2335.337349       10030.000000\n",
      "1    1/4/2015  288   2775.000000    2335.337349        9780.000000\n",
      "2    1/3/2015  287   2769.000000    8166.000000        9722.000000\n",
      "3    1/2/2015  286    911.064516    8157.000000        2427.367816\n",
      "4  12/31/2014  284   2730.000000    8115.000000        9633.000000\n",
      "5  12/28/2014  281   2706.000000    8018.000000        9446.000000\n",
      "6  12/27/2014  280   2695.000000    2335.337349        9409.000000\n",
      "7  12/24/2014  277   2630.000000    7977.000000        9203.000000\n",
      "8  12/21/2014  273   2597.000000    2335.337349        9004.000000\n",
      "9  12/20/2014  272   2571.000000    7862.000000        8939.000000\n"
     ]
    },
    {
     "name": "stderr",
     "output_type": "stream",
     "text": [
      "C:\\Users\\soldesk\\AppData\\Local\\Temp/ipykernel_6032/2759838075.py:2: FutureWarning: Dropping of nuisance columns in DataFrame reductions (with 'numeric_only=None') is deprecated; in a future version this will raise TypeError.  Select only valid columns before calling the reduction.\n",
      "  print(ebola.mean())\n",
      "C:\\Users\\soldesk\\AppData\\Local\\Temp/ipykernel_6032/2759838075.py:3: FutureWarning: Dropping of nuisance columns in DataFrame reductions (with 'numeric_only=None') is deprecated; in a future version this will raise TypeError.  Select only valid columns before calling the reduction.\n",
      "  ebola_fillna_mean  = ebola.fillna(ebola.mean())\n"
     ]
    }
   ],
   "source": [
    "# 누락값을 평균 값으로 변경\n",
    "print(ebola.mean())\n",
    "ebola_fillna_mean  = ebola.fillna(ebola.mean())\n",
    "print(ebola_fillna_mean.iloc[0:10, 0:5])"
   ]
  },
  {
   "cell_type": "code",
   "execution_count": 348,
   "id": "85bb6d52",
   "metadata": {},
   "outputs": [
    {
     "name": "stdout",
     "output_type": "stream",
     "text": [
      "         Date  Day  Cases_Guinea  Cases_Liberia  Cases_SierraLeone\n",
      "0    1/5/2015  289        2776.0            NaN            10030.0\n",
      "1    1/4/2015  288        2775.0            NaN             9780.0\n",
      "2    1/3/2015  287        2769.0         8166.0             9722.0\n",
      "3    1/2/2015  286           NaN         8157.0                NaN\n",
      "4  12/31/2014  284        2730.0         8115.0             9633.0\n",
      "5  12/28/2014  281        2706.0         8018.0             9446.0\n",
      "6  12/27/2014  280        2695.0            NaN             9409.0\n",
      "7  12/24/2014  277        2630.0         7977.0             9203.0\n",
      "8  12/21/2014  273        2597.0            NaN             9004.0\n",
      "9  12/20/2014  272        2571.0         7862.0             8939.0\n",
      "         Date  Day  Cases_Guinea  Cases_Liberia  Cases_SierraLeone\n",
      "0    1/5/2015  289        2776.0            NaN            10030.0\n",
      "1    1/4/2015  288        2775.0            NaN             9780.0\n",
      "2    1/3/2015  287        2769.0         8166.0             9722.0\n",
      "3    1/2/2015  286        2769.0         8157.0             9722.0\n",
      "4  12/31/2014  284        2730.0         8115.0             9633.0\n",
      "5  12/28/2014  281        2706.0         8018.0             9446.0\n",
      "6  12/27/2014  280        2695.0         8018.0             9409.0\n",
      "7  12/24/2014  277        2630.0         7977.0             9203.0\n",
      "8  12/21/2014  273        2597.0         7977.0             9004.0\n",
      "9  12/20/2014  272        2571.0         7862.0             8939.0\n"
     ]
    }
   ],
   "source": [
    "#위 행에 있는 값으로 적용\n",
    "print(ebola.iloc[0:10, 0:5])\n",
    "print(ebola.fillna(method='ffill').iloc[0:10, 0:5])"
   ]
  },
  {
   "cell_type": "code",
   "execution_count": 349,
   "id": "a86c87ed",
   "metadata": {},
   "outputs": [
    {
     "name": "stdout",
     "output_type": "stream",
     "text": [
      "         Date  Day  Cases_Guinea  Cases_Liberia  Cases_SierraLeone\n",
      "0    1/5/2015  289        2776.0            NaN            10030.0\n",
      "1    1/4/2015  288        2775.0            NaN             9780.0\n",
      "2    1/3/2015  287        2769.0         8166.0             9722.0\n",
      "3    1/2/2015  286           NaN         8157.0                NaN\n",
      "4  12/31/2014  284        2730.0         8115.0             9633.0\n",
      "5  12/28/2014  281        2706.0         8018.0             9446.0\n",
      "6  12/27/2014  280        2695.0            NaN             9409.0\n",
      "7  12/24/2014  277        2630.0         7977.0             9203.0\n",
      "8  12/21/2014  273        2597.0            NaN             9004.0\n",
      "9  12/20/2014  272        2571.0         7862.0             8939.0\n",
      "         Date  Day  Cases_Guinea  Cases_Liberia  Cases_SierraLeone\n",
      "0    1/5/2015  289        2776.0         8166.0            10030.0\n",
      "1    1/4/2015  288        2775.0         8166.0             9780.0\n",
      "2    1/3/2015  287        2769.0         8166.0             9722.0\n",
      "3    1/2/2015  286        2730.0         8157.0             9633.0\n",
      "4  12/31/2014  284        2730.0         8115.0             9633.0\n",
      "5  12/28/2014  281        2706.0         8018.0             9446.0\n",
      "6  12/27/2014  280        2695.0         7977.0             9409.0\n",
      "7  12/24/2014  277        2630.0         7977.0             9203.0\n",
      "8  12/21/2014  273        2597.0         7862.0             9004.0\n",
      "9  12/20/2014  272        2571.0         7862.0             8939.0\n"
     ]
    }
   ],
   "source": [
    "print(ebola.iloc[0:10, 0:5])\n",
    "print(ebola.fillna(method='bfill').iloc[0:10, 0:5])"
   ]
  },
  {
   "cell_type": "code",
   "execution_count": 350,
   "id": "6e79f85b",
   "metadata": {},
   "outputs": [
    {
     "name": "stdout",
     "output_type": "stream",
     "text": [
      "         Date  Day  Cases_Guinea  Cases_Liberia  Cases_SierraLeone\n",
      "0    1/5/2015  289        2776.0            NaN            10030.0\n",
      "1    1/4/2015  288        2775.0            NaN             9780.0\n",
      "2    1/3/2015  287        2769.0         8166.0             9722.0\n",
      "3    1/2/2015  286        2749.5         8157.0             9677.5\n",
      "4  12/31/2014  284        2730.0         8115.0             9633.0\n",
      "5  12/28/2014  281        2706.0         8018.0             9446.0\n",
      "6  12/27/2014  280        2695.0         7997.5             9409.0\n",
      "7  12/24/2014  277        2630.0         7977.0             9203.0\n",
      "8  12/21/2014  273        2597.0         7919.5             9004.0\n",
      "9  12/20/2014  272        2571.0         7862.0             8939.0\n"
     ]
    }
   ],
   "source": [
    "# 위와 아래행의 중간값으로 채우기\n",
    "ebola_itpfill = ebola.interpolate()\n",
    "print(ebola_itpfill.iloc[0:10, 0:5])"
   ]
  },
  {
   "cell_type": "code",
   "execution_count": 351,
   "id": "cd2058c0",
   "metadata": {},
   "outputs": [
    {
     "name": "stdout",
     "output_type": "stream",
     "text": [
      "          Date  Day  Cases_Guinea  Cases_Liberia  Cases_SierraLeone  \\\n",
      "19  11/18/2014  241        2047.0         7082.0             6190.0   \n",
      "\n",
      "    Cases_Nigeria  Cases_Senegal  Cases_UnitedStates  Cases_Spain  Cases_Mali  \\\n",
      "19           20.0            1.0                 4.0          1.0         6.0   \n",
      "\n",
      "    Deaths_Guinea  Deaths_Liberia  Deaths_SierraLeone  Deaths_Nigeria  \\\n",
      "19         1214.0          2963.0              1267.0             8.0   \n",
      "\n",
      "    Deaths_Senegal  Deaths_UnitedStates  Deaths_Spain  Deaths_Mali  \n",
      "19             0.0                  1.0           0.0          6.0  \n"
     ]
    }
   ],
   "source": [
    "# 누락값을 가진 행을 모두 삭제 # 하나의 행의 열값중 누락값이 하나래도 있으면 행 삭제\n",
    "ebola_drop = ebola.dropna()\n",
    "print(ebola_drop)"
   ]
  },
  {
   "cell_type": "code",
   "execution_count": 353,
   "id": "e3d6bf42",
   "metadata": {},
   "outputs": [
    {
     "name": "stdout",
     "output_type": "stream",
     "text": [
      "           Date  Day  Cases_Guinea  Cases_Liberia  Cases_SierraLeone  \\\n",
      "0      1/5/2015  289        2776.0            NaN            10030.0   \n",
      "1      1/4/2015  288        2775.0            NaN             9780.0   \n",
      "2      1/3/2015  287        2769.0         8166.0             9722.0   \n",
      "4    12/31/2014  284        2730.0         8115.0             9633.0   \n",
      "5    12/28/2014  281        2706.0         8018.0             9446.0   \n",
      "..          ...  ...           ...            ...                ...   \n",
      "117   3/27/2014    5         103.0            8.0                6.0   \n",
      "118   3/26/2014    4          86.0            NaN                NaN   \n",
      "119   3/25/2014    3          86.0            NaN                NaN   \n",
      "120   3/24/2014    2          86.0            NaN                NaN   \n",
      "121   3/22/2014    0          49.0            NaN                NaN   \n",
      "\n",
      "     Cases_Nigeria  Cases_Senegal  Cases_UnitedStates  Cases_Spain  \\\n",
      "0              NaN            NaN                 NaN          NaN   \n",
      "1              NaN            NaN                 NaN          NaN   \n",
      "2              NaN            NaN                 NaN          NaN   \n",
      "4              NaN            NaN                 NaN          NaN   \n",
      "5              NaN            NaN                 NaN          NaN   \n",
      "..             ...            ...                 ...          ...   \n",
      "117            NaN            NaN                 NaN          NaN   \n",
      "118            NaN            NaN                 NaN          NaN   \n",
      "119            NaN            NaN                 NaN          NaN   \n",
      "120            NaN            NaN                 NaN          NaN   \n",
      "121            NaN            NaN                 NaN          NaN   \n",
      "\n",
      "     Cases_Mali  Deaths_Guinea  Deaths_Liberia  Deaths_SierraLeone  \\\n",
      "0           NaN         1786.0             NaN              2977.0   \n",
      "1           NaN         1781.0             NaN              2943.0   \n",
      "2           NaN         1767.0          3496.0              2915.0   \n",
      "4           NaN         1739.0          3471.0              2827.0   \n",
      "5           NaN         1708.0          3423.0              2758.0   \n",
      "..          ...            ...             ...                 ...   \n",
      "117         NaN           66.0             6.0                 5.0   \n",
      "118         NaN           62.0             NaN                 NaN   \n",
      "119         NaN           60.0             NaN                 NaN   \n",
      "120         NaN           59.0             NaN                 NaN   \n",
      "121         NaN           29.0             NaN                 NaN   \n",
      "\n",
      "     Deaths_Nigeria  Deaths_Senegal  Deaths_UnitedStates  Deaths_Spain  \\\n",
      "0               NaN             NaN                  NaN           NaN   \n",
      "1               NaN             NaN                  NaN           NaN   \n",
      "2               NaN             NaN                  NaN           NaN   \n",
      "4               NaN             NaN                  NaN           NaN   \n",
      "5               NaN             NaN                  NaN           NaN   \n",
      "..              ...             ...                  ...           ...   \n",
      "117             NaN             NaN                  NaN           NaN   \n",
      "118             NaN             NaN                  NaN           NaN   \n",
      "119             NaN             NaN                  NaN           NaN   \n",
      "120             NaN             NaN                  NaN           NaN   \n",
      "121             NaN             NaN                  NaN           NaN   \n",
      "\n",
      "     Deaths_Mali  \n",
      "0            NaN  \n",
      "1            NaN  \n",
      "2            NaN  \n",
      "4            NaN  \n",
      "5            NaN  \n",
      "..           ...  \n",
      "117          NaN  \n",
      "118          NaN  \n",
      "119          NaN  \n",
      "120          NaN  \n",
      "121          NaN  \n",
      "\n",
      "[93 rows x 18 columns]\n",
      "(122, 18)\n"
     ]
    }
   ],
   "source": [
    "# Cases_Guinea라는 열에 누락값을 무시하고 삭제하시오.\n",
    "ebola_drop_Cases_Guinea = ebola.dropna(subset=['Cases_Guinea'])\n",
    "print(ebola_drop_Cases_Guinea)\n",
    "print(ebola.shape)"
   ]
  },
  {
   "cell_type": "code",
   "execution_count": 365,
   "id": "c9ac230e",
   "metadata": {},
   "outputs": [
    {
     "name": "stdout",
     "output_type": "stream",
     "text": [
      "93\n",
      "84729.0\n",
      "84729.0\n",
      "84729.0\n",
      "911.0645161290323\n",
      "911.0645161290323\n",
      "911.0645161290323\n",
      "nan\n",
      "Day                     144.778689\n",
      "Cases_Guinea            911.064516\n",
      "Cases_Liberia          2335.337349\n",
      "Cases_SierraLeone      2427.367816\n",
      "Cases_Nigeria            16.736842\n",
      "Cases_Senegal             1.080000\n",
      "Cases_UnitedStates        3.277778\n",
      "Cases_Spain               1.000000\n",
      "Cases_Mali                3.500000\n",
      "Deaths_Guinea           563.239130\n",
      "Deaths_Liberia         1101.209877\n",
      "Deaths_SierraLeone      693.701149\n",
      "Deaths_Nigeria            6.131579\n",
      "Deaths_Senegal            0.000000\n",
      "Deaths_UnitedStates       0.833333\n",
      "Deaths_Spain              0.187500\n",
      "Deaths_Mali               3.166667\n",
      "dtype: float64\n",
      "Date                   1/5/20151/4/20151/3/20151/2/201512/31/201412/2...\n",
      "Day                                                                17663\n",
      "Cases_Guinea                                                     84729.0\n",
      "Cases_Liberia                                                   193833.0\n",
      "Cases_SierraLeone                                               211181.0\n",
      "Cases_Nigeria                                                      636.0\n",
      "Cases_Senegal                                                       27.0\n",
      "Cases_UnitedStates                                                  59.0\n",
      "Cases_Spain                                                         16.0\n",
      "Cases_Mali                                                          42.0\n",
      "Deaths_Guinea                                                    51818.0\n",
      "Deaths_Liberia                                                   89198.0\n",
      "Deaths_SierraLeone                                               60352.0\n",
      "Deaths_Nigeria                                                     233.0\n",
      "Deaths_Senegal                                                       0.0\n",
      "Deaths_UnitedStates                                                 15.0\n",
      "Deaths_Spain                                                         3.0\n",
      "Deaths_Mali                                                         38.0\n",
      "dtype: object\n",
      "Date                   1/2/2015\n",
      "Day                           0\n",
      "Cases_Guinea               49.0\n",
      "Cases_Liberia               3.0\n",
      "Cases_SierraLeone           0.0\n",
      "Cases_Nigeria               0.0\n",
      "Cases_Senegal               1.0\n",
      "Cases_UnitedStates          1.0\n",
      "Cases_Spain                 1.0\n",
      "Cases_Mali                  1.0\n",
      "Deaths_Guinea              29.0\n",
      "Deaths_Liberia              2.0\n",
      "Deaths_SierraLeone          0.0\n",
      "Deaths_Nigeria              0.0\n",
      "Deaths_Senegal              0.0\n",
      "Deaths_UnitedStates         0.0\n",
      "Deaths_Spain                0.0\n",
      "Deaths_Mali                 1.0\n",
      "dtype: object\n",
      "Date                   9/9/2014\n",
      "Day                         289\n",
      "Cases_Guinea             2776.0\n",
      "Cases_Liberia            8166.0\n",
      "Cases_SierraLeone       10030.0\n",
      "Cases_Nigeria              22.0\n",
      "Cases_Senegal               3.0\n",
      "Cases_UnitedStates          4.0\n",
      "Cases_Spain                 1.0\n",
      "Cases_Mali                  7.0\n",
      "Deaths_Guinea            1786.0\n",
      "Deaths_Liberia           3496.0\n",
      "Deaths_SierraLeone       2977.0\n",
      "Deaths_Nigeria              8.0\n",
      "Deaths_Senegal              0.0\n",
      "Deaths_UnitedStates         1.0\n",
      "Deaths_Spain                1.0\n",
      "Deaths_Mali                 6.0\n",
      "dtype: object\n"
     ]
    },
    {
     "name": "stderr",
     "output_type": "stream",
     "text": [
      "C:\\Users\\soldesk\\AppData\\Local\\Temp/ipykernel_6032/3163510008.py:14: FutureWarning: Dropping of nuisance columns in DataFrame reductions (with 'numeric_only=None') is deprecated; in a future version this will raise TypeError.  Select only valid columns before calling the reduction.\n",
      "  print(ebola.mean())\n"
     ]
    }
   ],
   "source": [
    "### Cases_Guinea열에 대한 합계 값을 구하시오.\n",
    "print(ebola['Cases_Guinea'].count())  \n",
    "# 누락값을 제외한 나머지의 합계\n",
    "print(ebola['Cases_Guinea'].sum())\n",
    "print(ebola['Cases_Guinea'].sum(skipna=True))\n",
    "print(ebola.Cases_Guinea.sum(skipna=True))\n",
    "# 누락값을 제외한 나머지의 평균\n",
    "print(ebola['Cases_Guinea'].mean())\n",
    "print(ebola['Cases_Guinea'].mean(skipna=True))\n",
    "print(ebola.Cases_Guinea.mean(skipna=True))\n",
    "print(ebola.Cases_Guinea.mean(skipna=False)) # 누락값을 포함시키면 연산을 할 수 없어 NaN\n",
    "\n",
    "# 각 컬럼에 대한 합계값을 구하시오\n",
    "print(ebola.mean())\n",
    "print(ebola.sum())\n",
    "print(ebola.min())\n",
    "print(ebola.max())"
   ]
  },
  {
   "cell_type": "code",
   "execution_count": 371,
   "id": "5c0c16cd",
   "metadata": {},
   "outputs": [
    {
     "name": "stdout",
     "output_type": "stream",
     "text": [
      "Date                   1/5/20151/4/20151/3/20151/2/201512/31/201412/2...\n",
      "Day                                                                17663\n",
      "Cases_Guinea                                                     84729.0\n",
      "Cases_Liberia                                                   193833.0\n",
      "Cases_SierraLeone                                               211181.0\n",
      "Cases_Nigeria                                                      636.0\n",
      "Cases_Senegal                                                       27.0\n",
      "Cases_UnitedStates                                                  59.0\n",
      "Cases_Spain                                                         16.0\n",
      "Cases_Mali                                                          42.0\n",
      "Deaths_Guinea                                                    51818.0\n",
      "Deaths_Liberia                                                   89198.0\n",
      "Deaths_SierraLeone                                               60352.0\n",
      "Deaths_Nigeria                                                     233.0\n",
      "Deaths_Senegal                                                       0.0\n",
      "Deaths_UnitedStates                                                 15.0\n",
      "Deaths_Spain                                                         3.0\n",
      "Deaths_Mali                                                         38.0\n",
      "dtype: object\n",
      "Date                   1/5/20151/4/20151/3/20151/2/201512/31/201412/2...\n",
      "Day                                                                17663\n",
      "Cases_Guinea                                                     84729.0\n",
      "Cases_Liberia                                                   193833.0\n",
      "Cases_SierraLeone                                               211181.0\n",
      "Cases_Nigeria                                                      636.0\n",
      "Cases_Senegal                                                       27.0\n",
      "Cases_UnitedStates                                                  59.0\n",
      "Cases_Spain                                                         16.0\n",
      "Cases_Mali                                                          42.0\n",
      "Deaths_Guinea                                                    51818.0\n",
      "Deaths_Liberia                                                   89198.0\n",
      "Deaths_SierraLeone                                               60352.0\n",
      "Deaths_Nigeria                                                     233.0\n",
      "Deaths_Senegal                                                       0.0\n",
      "Deaths_UnitedStates                                                 15.0\n",
      "Deaths_Spain                                                         3.0\n",
      "Deaths_Mali                                                         38.0\n",
      "dtype: object\n",
      "Date                   1/5/20151/4/20151/3/20151/2/201512/31/201412/2...\n",
      "Day                                                                17663\n",
      "Cases_Guinea                                               111149.870968\n",
      "Cases_Liberia                                              284911.156627\n",
      "Cases_SierraLeone                                          296138.873563\n",
      "Cases_Nigeria                                                2041.894737\n",
      "Cases_Senegal                                                     131.76\n",
      "Cases_UnitedStates                                            399.888889\n",
      "Cases_Spain                                                        122.0\n",
      "Cases_Mali                                                         427.0\n",
      "Deaths_Guinea                                               68715.173913\n",
      "Deaths_Liberia                                             134347.604938\n",
      "Deaths_SierraLeone                                           84631.54023\n",
      "Deaths_Nigeria                                                748.052632\n",
      "Deaths_Senegal                                                       0.0\n",
      "Deaths_UnitedStates                                           101.666667\n",
      "Deaths_Spain                                                      22.875\n",
      "Deaths_Mali                                                   386.333333\n",
      "dtype: object\n"
     ]
    },
    {
     "name": "stderr",
     "output_type": "stream",
     "text": [
      "C:\\Users\\soldesk\\AppData\\Local\\Temp/ipykernel_6032/1165180062.py:5: FutureWarning: Dropping of nuisance columns in DataFrame reductions (with 'numeric_only=None') is deprecated; in a future version this will raise TypeError.  Select only valid columns before calling the reduction.\n",
      "  print(ebola.fillna(ebola.mean()).sum())\n"
     ]
    }
   ],
   "source": [
    "###  누락값에 0으로 대체한 후 합계를 구하시오.\n",
    "print(ebola.fillna(0).sum())\n",
    "print(ebola.fillna(0).sum(skipna=True))\n",
    "#  누락값을 각 컬럼의 평균으로 대체한 후 합계값을 구하시오.\n",
    "print(ebola.fillna(ebola.mean()).sum())"
   ]
  },
  {
   "cell_type": "code",
   "execution_count": 379,
   "id": "f59e9b3c",
   "metadata": {},
   "outputs": [
    {
     "name": "stdout",
     "output_type": "stream",
     "text": [
      "84729.0\n",
      "84729.0\n",
      "84729.0\n",
      "84729.0\n",
      "84729.0\n",
      "111149.87096774194\n",
      "111149.87096774194\n",
      "111149.87096774194\n",
      "111149.87096774194\n",
      "111149.87096774194\n"
     ]
    }
   ],
   "source": [
    "#### Cases_Guinea컬럼에 누락값을 0으로 대체한 후 합계값을 구하시오.\n",
    "print(ebola['Cases_Guinea'].fillna(0).sum())\n",
    "print(ebola['Cases_Guinea'].fillna(0).sum(skipna=True)) # 누락값 제외\n",
    "print(ebola.Cases_Guinea.fillna(0).sum())\n",
    "print(ebola.Cases_Guinea.fillna(0).sum(skipna=True))\n",
    "print(ebola.Cases_Guinea.fillna(0).sum(skipna=False)) # 누락값 포함\n",
    "\n",
    "### Cases_Guinea컬럼에 누락값을 Cases_Guinea의 평균값으로 대체한 후 합계값을 구하시오.\n",
    "print(ebola['Cases_Guinea'].fillna(ebola.Cases_Guinea.mean()).sum())\n",
    "print(ebola['Cases_Guinea'].fillna(ebola.Cases_Guinea.mean()).sum(skipna=True)) # 누락값 제외\n",
    "print(ebola.Cases_Guinea.fillna(ebola.Cases_Guinea.mean()).sum())\n",
    "print(ebola.Cases_Guinea.fillna(ebola.Cases_Guinea.mean()).sum(skipna=True))\n",
    "print(ebola.Cases_Guinea.fillna(ebola['Cases_Guinea'].mean()).sum(skipna=False)) # 누락값 포함"
   ]
  },
  {
   "cell_type": "code",
   "execution_count": 383,
   "id": "35e5d9cb",
   "metadata": {},
   "outputs": [
    {
     "name": "stdout",
     "output_type": "stream",
     "text": [
      "0      2776.0\n",
      "1      2775.0\n",
      "2      2769.0\n",
      "3         NaN\n",
      "4      2730.0\n",
      "        ...  \n",
      "117     103.0\n",
      "118      86.0\n",
      "119      86.0\n",
      "120      86.0\n",
      "121      49.0\n",
      "Name: Cases_Guinea, Length: 122, dtype: float64\n",
      "123761.0\n",
      "123761.0\n"
     ]
    }
   ],
   "source": [
    "print(ebola['Cases_Guinea'])\n",
    "### 위아래 평균 값으로 대체한 후 합계 값을 구하시오.\n",
    "print(ebola['Cases_Guinea'].interpolate().sum())\n",
    "print(ebola.Cases_Guinea.interpolate().sum())"
   ]
  },
  {
   "cell_type": "code",
   "execution_count": null,
   "id": "b1fd7ad1",
   "metadata": {},
   "outputs": [],
   "source": []
  },
  {
   "cell_type": "code",
   "execution_count": null,
   "id": "2711b7bb",
   "metadata": {},
   "outputs": [],
   "source": []
  },
  {
   "cell_type": "code",
   "execution_count": null,
   "id": "62061f18",
   "metadata": {},
   "outputs": [],
   "source": []
  },
  {
   "cell_type": "code",
   "execution_count": null,
   "id": "49e3adb2",
   "metadata": {},
   "outputs": [],
   "source": []
  },
  {
   "cell_type": "code",
   "execution_count": null,
   "id": "a4c61ad8",
   "metadata": {},
   "outputs": [],
   "source": []
  },
  {
   "cell_type": "code",
   "execution_count": null,
   "id": "ea1d609a",
   "metadata": {},
   "outputs": [],
   "source": []
  },
  {
   "cell_type": "code",
   "execution_count": null,
   "id": "5b597fc3",
   "metadata": {},
   "outputs": [],
   "source": []
  },
  {
   "cell_type": "code",
   "execution_count": null,
   "id": "b03643f1",
   "metadata": {},
   "outputs": [],
   "source": []
  }
 ],
 "metadata": {
  "kernelspec": {
   "display_name": "Python 3 (ipykernel)",
   "language": "python",
   "name": "python3"
  },
  "language_info": {
   "codemirror_mode": {
    "name": "ipython",
    "version": 3
   },
   "file_extension": ".py",
   "mimetype": "text/x-python",
   "name": "python",
   "nbconvert_exporter": "python",
   "pygments_lexer": "ipython3",
   "version": "3.8.11"
  }
 },
 "nbformat": 4,
 "nbformat_minor": 5
}
