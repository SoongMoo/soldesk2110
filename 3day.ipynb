{
 "cells": [
  {
   "cell_type": "code",
   "execution_count": 9,
   "id": "d39555f0",
   "metadata": {},
   "outputs": [
    {
     "name": "stdout",
     "output_type": "stream",
     "text": [
      "8 * 1 = 8\n",
      "8 * 2 = 16\n",
      "8 * 3 = 24\n",
      "8 * 4 = 32\n",
      "8 * 5 = 40\n",
      "8 * 6 = 48\n",
      "8 * 7 = 56\n",
      "8 * 8 = 64\n",
      "8 * 9 = 72\n",
      "==================================\n",
      "8 * 1 = 8 \n",
      "8 * 2 = 16 \n",
      "8 * 3 = 24 \n",
      "8 * 4 = 32 \n",
      "8 * 5 = 40 \n",
      "8 * 6 = 48 \n",
      "8 * 7 = 56 \n",
      "8 * 8 = 64 \n",
      "8 * 9 = 72 \n",
      "============================================================\n",
      "8 * 1 = 8 \n",
      "8 * 2 = 16 \n",
      "8 * 3 = 24 \n",
      "8 * 4 = 32 \n",
      "8 * 5 = 40 \n",
      "8 * 6 = 48 \n",
      "8 * 7 = 56 \n",
      "8 * 8 = 64 \n",
      "8 * 9 = 72 \n",
      "============================================================\n",
      "8 * 1 = 8 \n",
      "8 * 2 = 16 \n",
      "8 * 3 = 24 \n",
      "8 * 4 = 32 \n",
      "8 * 5 = 40 \n",
      "8 * 6 = 48 \n",
      "8 * 7 = 56 \n",
      "8 * 8 = 64 \n",
      "8 * 9 = 72 \n"
     ]
    }
   ],
   "source": [
    "print(\"8 * 1 = 8\")\n",
    "print(\"8 * 2 = 16\")\n",
    "print(\"8 * 3 = 24\")\n",
    "print(\"8 * 4 = 32\")\n",
    "print(\"8 * 5 = 40\")\n",
    "print(\"8 * 6 = 48\")\n",
    "print(\"8 * 7 = 56\")\n",
    "print(\"8 * 8 = 64\")\n",
    "print(\"8 * 9 = 72\")\n",
    "print(\"==================================\")\n",
    "print(\"8 * %d = %d \" % (1, 8 * 1) )\n",
    "print(\"8 * %d = %d \" % (2, 8 * 2) )\n",
    "print(\"8 * %d = %d \" % (3, 8 * 3) )\n",
    "print(\"8 * %d = %d \" % (4, 8 * 4) )\n",
    "print(\"8 * %d = %d \" % (5, 8 * 5) )\n",
    "print(\"8 * %d = %d \" % (6, 8 * 6) )\n",
    "print(\"8 * %d = %d \" % (7, 8 * 7) )\n",
    "print(\"8 * %d = %d \" % (8, 8 * 8) )\n",
    "print(\"8 * %d = %d \" % (9, 8 * 9) )\n",
    "print(\"==\" * 30)\n",
    "\n",
    "i = 1\n",
    "while i <= 9: # 반복문\n",
    "    print(\"8 * %d = %d \" % (i, 8 * i) )\n",
    "    i = i + 1   # i = 1 + 1, i = 2 + 1\n",
    "\n",
    "print(\"==\" * 30)\n",
    "\n",
    "i = 1\n",
    "while i <= 9: # 반복문 : i 가 10이 되면 반복을 중지 (조건에 만족하지 않으면 반복을 중지)\n",
    "    print(f\"8 * {i} = {8 * i} \")\n",
    "    i = i + 1"
   ]
  },
  {
   "cell_type": "code",
   "execution_count": 32,
   "id": "045211a5",
   "metadata": {
    "scrolled": true
   },
   "outputs": [
    {
     "name": "stdout",
     "output_type": "stream",
     "text": [
      "3  * 1 = 3 \n",
      "3  * 2 = 6 \n",
      "3  * 3 = 9 \n",
      "3  * 4 = 12 \n",
      "3  * 5 = 15 \n",
      "3  * 6 = 18 \n",
      "3  * 7 = 21 \n",
      "3  * 8 = 24 \n",
      "3  * 9 = 27 \n",
      "4  * 1 = 4 \n",
      "4  * 2 = 8 \n",
      "4  * 3 = 12 \n",
      "4  * 4 = 16 \n",
      "4  * 5 = 20 \n",
      "4  * 6 = 24 \n",
      "4  * 7 = 28 \n",
      "4  * 8 = 32 \n",
      "4  * 9 = 36 \n",
      "5  * 1 = 5 \n",
      "5  * 2 = 10 \n",
      "5  * 3 = 15 \n",
      "5  * 4 = 20 \n",
      "5  * 5 = 25 \n",
      "5  * 6 = 30 \n",
      "5  * 7 = 35 \n",
      "5  * 8 = 40 \n",
      "5  * 9 = 45 \n",
      "6  * 1 = 6 \n",
      "6  * 2 = 12 \n",
      "6  * 3 = 18 \n",
      "6  * 4 = 24 \n",
      "6  * 5 = 30 \n",
      "6  * 6 = 36 \n",
      "6  * 7 = 42 \n",
      "6  * 8 = 48 \n",
      "6  * 9 = 54 \n",
      "==========================================================================================\n",
      "3  * 1 = 6 \n",
      "3  * 2 = 12 \n",
      "3  * 3 = 18 \n",
      "3  * 4 = 24 \n",
      "3  * 5 = 30 \n",
      "3  * 6 = 36 \n",
      "3  * 7 = 42 \n",
      "3  * 8 = 48 \n",
      "3  * 9 = 54 \n",
      "4  * 1 = 6 \n",
      "4  * 2 = 12 \n",
      "4  * 3 = 18 \n",
      "4  * 4 = 24 \n",
      "4  * 5 = 30 \n",
      "4  * 6 = 36 \n",
      "4  * 7 = 42 \n",
      "4  * 8 = 48 \n",
      "4  * 9 = 54 \n",
      "5  * 1 = 6 \n",
      "5  * 2 = 12 \n",
      "5  * 3 = 18 \n",
      "5  * 4 = 24 \n",
      "5  * 5 = 30 \n",
      "5  * 6 = 36 \n",
      "5  * 7 = 42 \n",
      "5  * 8 = 48 \n",
      "5  * 9 = 54 \n",
      "6  * 1 = 6 \n",
      "6  * 2 = 12 \n",
      "6  * 3 = 18 \n",
      "6  * 4 = 24 \n",
      "6  * 5 = 30 \n",
      "6  * 6 = 36 \n",
      "6  * 7 = 42 \n",
      "6  * 8 = 48 \n",
      "6  * 9 = 54 \n",
      "==========================================================================================\n",
      "3  * 1 = 3 \n",
      "3  * 2 = 6 \n",
      "3  * 3 = 9 \n",
      "3  * 4 = 12 \n",
      "3  * 5 = 15 \n",
      "3  * 6 = 18 \n",
      "3  * 7 = 21 \n",
      "3  * 8 = 24 \n",
      "3  * 9 = 27 \n",
      "4  * 1 = 4 \n",
      "4  * 2 = 8 \n",
      "4  * 3 = 12 \n",
      "4  * 4 = 16 \n",
      "4  * 5 = 20 \n",
      "4  * 6 = 24 \n",
      "4  * 7 = 28 \n",
      "4  * 8 = 32 \n",
      "4  * 9 = 36 \n",
      "5  * 1 = 5 \n",
      "5  * 2 = 10 \n",
      "5  * 3 = 15 \n",
      "5  * 4 = 20 \n",
      "5  * 5 = 25 \n",
      "5  * 6 = 30 \n",
      "5  * 7 = 35 \n",
      "5  * 8 = 40 \n",
      "5  * 9 = 45 \n",
      "6  * 1 = 6 \n",
      "6  * 2 = 12 \n",
      "6  * 3 = 18 \n",
      "6  * 4 = 24 \n",
      "6  * 5 = 30 \n",
      "6  * 6 = 36 \n",
      "6  * 7 = 42 \n",
      "6  * 8 = 48 \n",
      "6  * 9 = 54 \n",
      "7  * 1 = 7 \n",
      "7  * 2 = 14 \n",
      "7  * 3 = 21 \n",
      "7  * 4 = 28 \n",
      "7  * 5 = 35 \n",
      "7  * 6 = 42 \n",
      "7  * 7 = 49 \n",
      "7  * 8 = 56 \n",
      "7  * 9 = 63 \n",
      "8  * 1 = 8 \n",
      "8  * 2 = 16 \n",
      "8  * 3 = 24 \n",
      "8  * 4 = 32 \n",
      "8  * 5 = 40 \n",
      "8  * 6 = 48 \n",
      "8  * 7 = 56 \n",
      "8  * 8 = 64 \n",
      "8  * 9 = 72 \n"
     ]
    }
   ],
   "source": [
    "# 3단을 출력하시오\n",
    "i = 1\n",
    "while i <= 9:\n",
    "    print(\"3  * %d = %d \" % (i, 3 * i))\n",
    "    i = i + 1\n",
    "    \n",
    "# 4단을 출력하시오\n",
    "i = 1\n",
    "while i <= 9:\n",
    "    print(\"4  * %d = %d \" % (i, 4 * i))\n",
    "    i = i + 1\n",
    "    \n",
    "# 5단을 출력하시오\n",
    "i = 1\n",
    "while i <= 9:\n",
    "    print(\"5  * %d = %d \" % (i, 5 * i))\n",
    "    i = i + 1\n",
    "    \n",
    "# 6단을 출력하시오\n",
    "i = 1\n",
    "while i <= 9:\n",
    "    print(f\"6  * {i} = {6 * i} \")\n",
    "    i = i + 1\n",
    "   \n",
    "print(\"===\" * 30)\n",
    "\n",
    "dan = 3\n",
    "while dan <= 6:\n",
    "    i = 1\n",
    "    while i <= 9:\n",
    "        print(\"%d  * %d = %d \" % (dan, i, 6 * i))\n",
    "        i = i + 1\n",
    "    dan = dan + 1\n",
    "\n",
    "print(\"===\" * 30)\n",
    "\n",
    "dan = 3\n",
    "while dan <= 8:\n",
    "    i = 1\n",
    "    while i <= 9:\n",
    "        print(f\"{dan}  * {i} = {dan * i} \")\n",
    "        i = i + 1\n",
    "    dan = dan + 1\n"
   ]
  },
  {
   "cell_type": "code",
   "execution_count": 39,
   "id": "3f1b716d",
   "metadata": {},
   "outputs": [
    {
     "name": "stdout",
     "output_type": "stream",
     "text": [
      "시작단을 입력해 주세요 : 2\n",
      "마지막단을 입력해 주세요 : 4\n",
      "시작 곱을 입력해 주세요. : 4\n",
      "마지막 곱을 입력해 주세요. : 7\n",
      "2  * 4 = 8 \n",
      "2  * 5 = 10 \n",
      "2  * 6 = 12 \n",
      "2  * 7 = 14 \n",
      "3  * 4 = 12 \n",
      "3  * 5 = 15 \n",
      "3  * 6 = 18 \n",
      "3  * 7 = 21 \n",
      "4  * 4 = 16 \n",
      "4  * 5 = 20 \n",
      "4  * 6 = 24 \n",
      "4  * 7 = 28 \n"
     ]
    }
   ],
   "source": [
    "start =  int(input(\"시작단을 입력해 주세요 : \"))\n",
    "end = int(input(\"마지막단을 입력해 주세요 : \"))\n",
    "gupStart = int(input(\"시작 곱을 입력해 주세요. : \"))\n",
    "gupEnd = int(input(\"마지막 곱을 입력해 주세요. : \"))\n",
    "dan = start\n",
    "while dan <= end:\n",
    "    i = gupStart\n",
    "    while i <= gupEnd:\n",
    "        print(f\"{dan}  * {i} = {dan * i} \")\n",
    "        i = i + 1\n",
    "    dan = dan + 1"
   ]
  },
  {
   "cell_type": "code",
   "execution_count": 40,
   "id": "be1fa58e",
   "metadata": {},
   "outputs": [
    {
     "name": "stdout",
     "output_type": "stream",
     "text": [
      "1 ~ 100 까지의 합은 5050입니다.\n"
     ]
    }
   ],
   "source": [
    "### 1 ~ 100까지의 합을 구하시오.\n",
    "i = 1\n",
    "sum = 0\n",
    "while i <= 100:  ### 조건이 True이면 계속 반복, 조건이 False일때 반복을 종료\n",
    "    sum = sum + i\n",
    "    i = i + 1\n",
    "print(\"1 ~ 100 까지의 합은 %d입니다.\" % sum)"
   ]
  },
  {
   "cell_type": "code",
   "execution_count": 45,
   "id": "2bee77e4",
   "metadata": {},
   "outputs": [
    {
     "name": "stdout",
     "output_type": "stream",
     "text": [
      "1\n",
      "2\n",
      "3\n",
      "4\n",
      "5\n",
      "6\n",
      "7\n",
      "8\n",
      "9\n",
      "10\n",
      "11\n",
      "12\n",
      "13\n",
      "14\n",
      "15\n",
      "16\n",
      "17\n",
      "18\n",
      "19\n",
      "20\n",
      "21\n",
      "22\n",
      "23\n",
      "24\n",
      "25\n",
      "26\n",
      "27\n",
      "28\n",
      "29\n",
      "30\n",
      "31\n",
      "32\n",
      "33\n",
      "34\n",
      "35\n",
      "36\n",
      "37\n",
      "38\n",
      "39\n",
      "40\n",
      "41\n",
      "42\n",
      "43\n",
      "44\n",
      "45\n",
      "46\n",
      "47\n",
      "48\n",
      "49\n",
      "50\n",
      "51\n",
      "52\n",
      "53\n",
      "54\n",
      "55\n",
      "56\n",
      "57\n",
      "58\n",
      "59\n",
      "60\n",
      "61\n",
      "62\n",
      "63\n",
      "64\n",
      "65\n",
      "66\n",
      "67\n",
      "68\n",
      "69\n",
      "70\n",
      "71\n",
      "72\n",
      "73\n",
      "74\n",
      "75\n",
      "76\n",
      "77\n",
      "78\n",
      "79\n",
      "80\n",
      "81\n",
      "82\n",
      "83\n",
      "84\n",
      "85\n",
      "86\n",
      "87\n",
      "88\n",
      "89\n",
      "90\n",
      "91\n",
      "92\n",
      "93\n",
      "94\n",
      "95\n",
      "96\n",
      "97\n",
      "98\n",
      "99\n",
      "100\n",
      "============================================================\n",
      "1 ~ 100 까지의 합은 5050입니다.\n"
     ]
    }
   ],
   "source": [
    "i = 1\n",
    "while True:\n",
    "    if i > 100:\n",
    "        break # 반복을 중지 시킬 수 있다. \n",
    "    print(i)\n",
    "    i += 1   # i = i + 1\n",
    "\n",
    "print(\"==\" * 30)\n",
    "\n",
    "### 1 ~ 100까지의 합을 구하시오.\n",
    "i = 1\n",
    "sum = 0\n",
    "while True:\n",
    "    if i > 100: # i 가 10보다 작거나 같으면 실행되지 않는다.\n",
    "        break \n",
    "    sum += i # sum = sum + i\n",
    "    i += 1\n",
    "\n",
    "print(\"1 ~ 100 까지의 합은 %d입니다.\" % sum)\n"
   ]
  },
  {
   "cell_type": "code",
   "execution_count": 54,
   "id": "0bca1ce1",
   "metadata": {},
   "outputs": [
    {
     "name": "stdout",
     "output_type": "stream",
     "text": [
      "i = 1\n",
      "i = 2\n",
      "i = 3\n",
      "i = 4\n",
      "i = 5\n",
      "i = 6\n",
      "i = 7\n",
      "i = 8\n",
      "i = 9\n",
      "i = 10\n",
      "============================================================\n",
      "i = 2\n",
      "i = 4\n",
      "i = 6\n",
      "i = 8\n",
      "i = 10\n"
     ]
    }
   ],
   "source": [
    "i = 1\n",
    "while i <= 10:\n",
    "    print(f\"i = {i}\")\n",
    "    i = i + 1 # i += 1\n",
    "#### 짝수만 출력하시오,\n",
    "'''\n",
    "i = 1\n",
    "while i <= 10:\n",
    "    if i % 2 != 0: ### i 가 증가 하지 않고 계속 1이므로 무한 반복하개 된다.\n",
    "        continue\n",
    "    print(f\"i = {i}\")\n",
    "    i = i + 1 # i += 1\n",
    "'''\n",
    "'''\n",
    "i = 1\n",
    "while i <= 10:\n",
    "    i = i + 1 # i += 1 # 초기값이 1이므로 i는 2부터 시작을 한다.\n",
    "    if i % 2 != 0: \n",
    "        continue\n",
    "    print(f\"i = {i}\")\n",
    "'''\n",
    "print(\"==\" * 30)\n",
    "i = 0\n",
    "while i <= 10:\n",
    "    i = i + 1 # i += 1 # 초기값이 1이므로 i는 2부터 시작을 한다.\n",
    "    if i % 2 != 0: ###  홀수이면 while 문으로 가라 \n",
    "        continue\n",
    "    print(f\"i = {i}\")"
   ]
  },
  {
   "cell_type": "code",
   "execution_count": 58,
   "id": "b16db439",
   "metadata": {},
   "outputs": [
    {
     "name": "stdout",
     "output_type": "stream",
     "text": [
      "i = 1\n",
      "i = 3\n",
      "i = 5\n",
      "i = 7\n",
      "i = 9\n"
     ]
    }
   ],
   "source": [
    "### 홀수만 출력하시오.\n",
    "i = 0\n",
    "while i <= 9:\n",
    "    i = i + 1\n",
    "    if i % 2 == 0:\n",
    "        continue\n",
    "    print(\"i = %d\" % i)"
   ]
  },
  {
   "cell_type": "code",
   "execution_count": 63,
   "id": "2a4edd02",
   "metadata": {},
   "outputs": [
    {
     "name": "stdout",
     "output_type": "stream",
     "text": [
      "i = 3\n",
      "i = 5\n",
      "i = 7\n",
      "i = 9\n"
     ]
    }
   ],
   "source": [
    "### 1부터 10에서 홀수만 출력하는데 조건을 True로 주시오\n",
    "i = 1\n",
    "while True:\n",
    "    if i == 10:\n",
    "        break\n",
    "    i += 1\n",
    "    if i % 2 == 0:\n",
    "        continue\n",
    "    print(\"i = %d\" % i)"
   ]
  },
  {
   "cell_type": "code",
   "execution_count": 69,
   "id": "dc4f73d8",
   "metadata": {},
   "outputs": [
    {
     "name": "stdout",
     "output_type": "stream",
     "text": [
      "\n",
      "*\n",
      "**\n",
      "***\n",
      "****\n",
      "*****\n",
      "\n",
      "*\n",
      "**\n",
      "***\n",
      "****\n",
      "*****\n",
      "*\n",
      "**\n",
      "***\n",
      "****\n",
      "*****\n"
     ]
    }
   ],
   "source": [
    "print('''\n",
    "*\n",
    "**\n",
    "***\n",
    "****\n",
    "*****\n",
    "''')\n",
    "print(\"*\" * 1)\n",
    "print(\"*\" * 2)\n",
    "print(\"*\" * 3)\n",
    "print(\"*\" * 4)\n",
    "print(\"*\" * 5)\n",
    "i = 1\n",
    "while i <= 5:\n",
    "    print(\"*\" * i)\n",
    "    i += 1"
   ]
  },
  {
   "cell_type": "code",
   "execution_count": 101,
   "id": "8cee19ca",
   "metadata": {},
   "outputs": [
    {
     "name": "stdout",
     "output_type": "stream",
     "text": [
      "40\n"
     ]
    }
   ],
   "source": [
    "### 로또 프로그램 작성(비복원 추출)\n",
    "import random\n",
    "rnum = random.randint(1, 45) ## 1부터 45까지 값 중 하나\n",
    "print(rnum)"
   ]
  },
  {
   "cell_type": "code",
   "execution_count": 109,
   "id": "1d8747c2",
   "metadata": {},
   "outputs": [
    {
     "name": "stdout",
     "output_type": "stream",
     "text": [
      "[1, 2, 3, 4, 5, 6, 7, 8, 9, 10, 11, 12, 13, 14, 15, 16, 17, 18, 19, 20, 21, 22, 23, 24, 25, 26, 27, 28, 29, 30, 31, 32, 33, 34, 35, 36, 37, 38, 39, 40, 41, 42, 43, 44, 45]\n",
      "45\n",
      "11\n",
      "[1, 2, 3, 4, 5, 6, 7, 8, 9, 10, 12, 13, 14, 15, 16, 17, 18, 19, 20, 21, 22, 23, 24, 25, 26, 27, 28, 29, 30, 31, 32, 33, 34, 35, 36, 37, 38, 39, 40, 41, 42, 43, 44, 45]\n",
      "44\n",
      "12\n",
      "[1, 2, 3, 4, 5, 6, 7, 8, 9, 10, 13, 14, 15, 16, 17, 18, 19, 20, 21, 22, 23, 24, 25, 26, 27, 28, 29, 30, 31, 32, 33, 34, 35, 36, 37, 38, 39, 40, 41, 42, 43, 44, 45]\n",
      "43\n"
     ]
    }
   ],
   "source": [
    "lotto = [] # 1부터 45까지의 값을 갖는 리스트를 만들기 위해 빈리스트 선언\n",
    "i = 1\n",
    "while i <= 45:\n",
    "    lotto.append(i) #1부터 45까지의 값을 리스트에 저장\n",
    "    i += 1\n",
    "print(lotto)\n",
    "print(len(lotto))\n",
    "print(lotto.pop(10)) ### pop()을 하면 리스트의 사이즈는 1씩 감소\n",
    "print(lotto)\n",
    "print(len(lotto))\n",
    "print(lotto.pop(10)) \n",
    "print(lotto)\n",
    "print(len(lotto))"
   ]
  },
  {
   "cell_type": "code",
   "execution_count": 122,
   "id": "7bcca544",
   "metadata": {},
   "outputs": [
    {
     "name": "stdout",
     "output_type": "stream",
     "text": [
      "[1, 2, 3, 4, 5, 6, 7, 8, 9, 10, 11, 12, 13, 14, 15, 16, 17, 18, 19, 20, 21, 22, 23, 24, 25, 26, 27, 28, 29, 30, 31, 32, 33, 34, 35, 36, 37, 38, 39, 40, 41, 42, 43, 44, 45]\n",
      "9, 8, 26, 33, 10, 36, "
     ]
    }
   ],
   "source": [
    "lotto = [] # 1부터 45까지의 값을 갖는 리스트를 만들기 위해 빈리스트 선언\n",
    "i = 1\n",
    "while i <= 45:\n",
    "    lotto.append(i) #1부터 45까지의 값을 리스트에 저장\n",
    "    i += 1\n",
    "print(lotto)\n",
    "\n",
    "i = 1\n",
    "lottoSize = 45\n",
    "while i <= 6:\n",
    "    lottoSize -= 1 ### pop()을 하면 리스트의 사이즈가 1씩 줄기 때문에 크기를 1씩 감소\n",
    "    index = random.randint(0, lottoSize) ## 0 ~ 44까지의 값을 가져 옴\n",
    "    num = lotto.pop(index)\n",
    "    print(num, end = \", \")\n",
    "    i += 1"
   ]
  },
  {
   "cell_type": "code",
   "execution_count": 130,
   "id": "147c0cb6",
   "metadata": {},
   "outputs": [
    {
     "name": "stdout",
     "output_type": "stream",
     "text": [
      "로또 수량을 입력하시오. : 4\n",
      "25, 40, 37, 13, 43, 35, \n",
      "5, 30, 45, 1, 24, 15, \n",
      "12, 39, 25, 32, 18, 1, \n",
      "4, 19, 39, 14, 30, 7, \n"
     ]
    }
   ],
   "source": [
    "icnt = int(input(\"로또 수량을 입력하시오. : \"))\n",
    "lotto = []\n",
    "cnt = 1\n",
    "while cnt <= icnt:\n",
    "    j = 1\n",
    "    while j <= 45: \n",
    "        lotto.append(j) # 빈리스트에 1부터 45까지의 값을 저장\n",
    "        j += 1\n",
    "    \n",
    "    i = 1\n",
    "    lottoSize = 45\n",
    "    while i <= 6:\n",
    "        lottoSize -= 1 ### pop()을 하면 리스트의 사이즈가 1씩 줄기 때문에 크기를 1씩 감소\n",
    "        index = random.randint(0, lottoSize) ## 0 ~ 44까지의 값을 가져 옴\n",
    "        num = lotto.pop(index)\n",
    "        print(num, end = \", \")\n",
    "        i += 1\n",
    "    lotto.clear() ### 계속 추가 되는 것을 막기 위해서 리스트의 내용을 모두 삭제\n",
    "    print()\n",
    "    \n",
    "    cnt += 1 # 구매수량을 1부터 icnt가 될 때까지 1씩 증가 시킴"
   ]
  },
  {
   "cell_type": "code",
   "execution_count": 135,
   "id": "9b8308ff",
   "metadata": {},
   "outputs": [
    {
     "name": "stdout",
     "output_type": "stream",
     "text": [
      "1\n",
      "43\n",
      "5\n",
      "56\n",
      "============================================================\n",
      "1\n",
      "43\n",
      "5\n",
      "56\n"
     ]
    }
   ],
   "source": [
    "#### 반복문 for문\n",
    "### while문을 조건식이 있는 경우에 주로 사용\n",
    "### for문은 리스트나 튜플과 같은  자료형을 이용할 때 주로 사용\n",
    "\n",
    "# 리스트의 값을 출력하시오\n",
    "l = [1,43,5, 56]\n",
    "\n",
    "idx = 0\n",
    "size = len(l) # 4\n",
    "while idx < size:\n",
    "    print(l[idx])\n",
    "    idx += 1\n",
    "\n",
    "print(\"==\" * 30)    \n",
    "\n",
    "for val in l: # [1,43,5, 56]\n",
    "    print(val)"
   ]
  },
  {
   "cell_type": "code",
   "execution_count": 138,
   "id": "979cde65",
   "metadata": {},
   "outputs": [
    {
     "name": "stdout",
     "output_type": "stream",
     "text": [
      "105\n",
      "105\n",
      "105\n"
     ]
    }
   ],
   "source": [
    "## 리스트의 값을 더하시오.\n",
    "l = [1,43,5, 56]\n",
    "idx = 0\n",
    "size = len(l) # 4\n",
    "sum = 0\n",
    "while idx < size:\n",
    "    sum += l[idx]\n",
    "    idx += 1\n",
    "print(sum)\n",
    "\n",
    "sum = 0\n",
    "for val in l:\n",
    "    sum += val\n",
    "print(sum)\n",
    "\n",
    "## 튜플의 값을 더하시오.\n",
    "t = (1,43,5, 56)\n",
    "sum = 0\n",
    "for val in t:\n",
    "    sum += val\n",
    "print(sum)"
   ]
  },
  {
   "cell_type": "code",
   "execution_count": 147,
   "id": "c6ea774c",
   "metadata": {},
   "outputs": [
    {
     "name": "stdout",
     "output_type": "stream",
     "text": [
      "79.0\n",
      "79.0\n",
      "============================================================\n",
      "(1, 2)\n",
      "(3, 4)\n",
      "(5, 6)\n",
      "============================================================\n",
      "1\n",
      "2\n",
      "a + b = 3\n",
      "3\n",
      "4\n",
      "a + b = 7\n",
      "5\n",
      "6\n",
      "a + b = 11\n",
      "============================================================\n",
      "1\n",
      "2\n",
      "3\n",
      "a + b + c = 6\n",
      "4\n",
      "5\n",
      "6\n",
      "a + b + c = 15\n",
      "7\n",
      "8\n",
      "9\n",
      "a + b + c = 24\n"
     ]
    }
   ],
   "source": [
    "# l = [70, 60, 55, 75, 95, 90, 80, 80, 85, 100] 의 평균을 구하시오\n",
    "l = [70, 60, 55, 75, 95, 90, 80, 80, 85, 100] \n",
    "sum = 0\n",
    "for i in l:\n",
    "    sum += i\n",
    "print(sum / len(l))\n",
    "\n",
    "### while문으로 변경 하시오.\n",
    "idx = 0\n",
    "sum = 0\n",
    "while idx < len(l):\n",
    "    sum += l[idx]\n",
    "    idx += 1\n",
    "print(sum / len(l))\n",
    "\n",
    "print(\"==\" * 30)\n",
    "l1 = [(1,2),(3,4),(5,6)]\n",
    "for j in l1:\n",
    "    print(j)\n",
    "\n",
    "print(\"==\" * 30)\n",
    "for (a, b) in l1:\n",
    "    print(a)\n",
    "    print(b)\n",
    "    print(f\"a + b = {a + b}\")\n",
    "\n",
    "print(\"==\" * 30)\n",
    "l2 = [(1,2,3),(4,5,6),(7,8,9)]\n",
    "for (a,b,c) in l2:\n",
    "    print(a)\n",
    "    print(b)\n",
    "    print(c)\n",
    "    print(f\"a + b + c = {a + b + c}\")"
   ]
  },
  {
   "cell_type": "code",
   "execution_count": 150,
   "id": "d5726e11",
   "metadata": {},
   "outputs": [
    {
     "name": "stdout",
     "output_type": "stream",
     "text": [
      "3번째 학생의 점수는 80입니다.\n",
      "5번째 학생의 점수는 85입니다.\n",
      "6번째 학생의 점수는 95입니다.\n",
      "7번째 학생의 점수는 90입니다.\n",
      "9번째 학생의 점수는 80입니다.\n",
      "10번째 학생의 점수는 100입니다.\n"
     ]
    }
   ],
   "source": [
    "#[70, 60, 80, 55, 85,  95, 90, 75, 80, 100]리스트에서 점수가 80점이상인 사람만 순서와 점수를 출력\n",
    "l1 = [70, 60, 80,  55, 85,  95, 90, 75,  80,  100]\n",
    "\n",
    "i = 1\n",
    "for score in l1:\n",
    "    if score >= 80 :\n",
    "        print(\"%d번째 학생의 점수는 %d입니다.\" % (i, score))\n",
    "    i += 1"
   ]
  },
  {
   "cell_type": "code",
   "execution_count": 156,
   "id": "db8639f7",
   "metadata": {},
   "outputs": [
    {
     "name": "stdout",
     "output_type": "stream",
     "text": [
      "range(0, 100)\n",
      "5050\n",
      "5050\n",
      "2550\n"
     ]
    }
   ],
   "source": [
    "### range()함수 : range는 범위를 의미한다.\n",
    "print(range(100)) ### 0 ~ 99까지의 범위\n",
    "'''\n",
    "for i in range(100):\n",
    "    print(i)\n",
    "print(\"==\" * 30)\n",
    "'''\n",
    "## range()함수를 이용해서 1~100까지의 합을 구하시오.\n",
    "i = 1\n",
    "sum = 0 \n",
    "while i <= 100:\n",
    "    sum += i\n",
    "    i += 1\n",
    "print(sum)\n",
    "\n",
    "sum = 0\n",
    "for i in range(1, 100 + 1):\n",
    "    sum += i\n",
    "print(sum)\n",
    "\n",
    "#1부터 100 까지 중 짝수만 더하시오\n",
    "sum = 0\n",
    "for i in range(1, 100 + 1):\n",
    "    if i % 2 == 0:\n",
    "        sum += i\n",
    "print(sum)"
   ]
  },
  {
   "cell_type": "code",
   "execution_count": 168,
   "id": "89528596",
   "metadata": {},
   "outputs": [
    {
     "name": "stdout",
     "output_type": "stream",
     "text": [
      "시작 값을 입력하시오. 1\n",
      "마지막 값을 입력하시오. 100\n",
      "1683\n"
     ]
    }
   ],
   "source": [
    "# 1부터 3의 배수만 더하는 데 마지막 값은 원하는 숫자를 입력 받아서 더하시오\n",
    "start = int(input(\"시작 값을 입력하시오. \"))\n",
    "end = int(input(\"마지막 값을 입력하시오. \"))\n",
    "sum = 0\n",
    "for i in range(start, end + 1):\n",
    "    if i % 3 == 0:\n",
    "        sum += i\n",
    "print(sum)"
   ]
  },
  {
   "cell_type": "code",
   "execution_count": 172,
   "id": "61c3626f",
   "metadata": {},
   "outputs": [
    {
     "name": "stdout",
     "output_type": "stream",
     "text": [
      "6 * 1 = 6\n",
      "6 * 2 = 12\n",
      "6 * 3 = 18\n",
      "6 * 4 = 24\n",
      "6 * 5 = 30\n",
      "6 * 6 = 36\n",
      "6 * 7 = 42\n",
      "6 * 8 = 48\n",
      "6 * 9 = 54\n",
      "============================================================\n",
      "6 * 1 = 6\n",
      "6 * 2 = 12\n",
      "6 * 3 = 18\n",
      "6 * 4 = 24\n",
      "6 * 5 = 30\n",
      "6 * 6 = 36\n",
      "6 * 7 = 42\n",
      "6 * 8 = 48\n",
      "6 * 9 = 54\n",
      "7 * 1 = 7\n",
      "7 * 2 = 14\n",
      "7 * 3 = 21\n",
      "7 * 4 = 28\n",
      "7 * 5 = 35\n",
      "7 * 6 = 42\n",
      "7 * 7 = 49\n",
      "7 * 8 = 56\n",
      "7 * 9 = 63\n",
      "8 * 1 = 8\n",
      "8 * 2 = 16\n",
      "8 * 3 = 24\n",
      "8 * 4 = 32\n",
      "8 * 5 = 40\n",
      "8 * 6 = 48\n",
      "8 * 7 = 56\n",
      "8 * 8 = 64\n",
      "8 * 9 = 72\n",
      "============================================================\n",
      "6 * 1 = 8\n",
      "6 * 2 = 16\n",
      "6 * 3 = 24\n",
      "6 * 4 = 32\n",
      "6 * 5 = 40\n",
      "6 * 6 = 48\n",
      "6 * 7 = 56\n",
      "6 * 8 = 64\n",
      "6 * 9 = 72\n",
      "7 * 1 = 8\n",
      "7 * 2 = 16\n",
      "7 * 3 = 24\n",
      "7 * 4 = 32\n",
      "7 * 5 = 40\n",
      "7 * 6 = 48\n",
      "7 * 7 = 56\n",
      "7 * 8 = 64\n",
      "7 * 9 = 72\n",
      "8 * 1 = 8\n",
      "8 * 2 = 16\n",
      "8 * 3 = 24\n",
      "8 * 4 = 32\n",
      "8 * 5 = 40\n",
      "8 * 6 = 48\n",
      "8 * 7 = 56\n",
      "8 * 8 = 64\n",
      "8 * 9 = 72\n"
     ]
    }
   ],
   "source": [
    "# 6단 출력하시오\n",
    "print(\"6 * 1 = %d\" % (6 * 1) )\n",
    "print(\"6 * 2 = %d\" % (6 * 2) )\n",
    "print(\"6 * 3 = %d\" % (6 * 3) )\n",
    "print(\"6 * 4 = %d\" % (6 * 4) )\n",
    "print(\"6 * 5 = %d\" % (6 * 5) )\n",
    "print(\"6 * 6 = %d\" % (6 * 6) )\n",
    "print(\"6 * 7 = %d\" % (6 * 7) )\n",
    "print(\"6 * 8 = %d\" % (6 * 8) )\n",
    "print(\"6 * 9 = %d\" % (6 * 9) )\n",
    "\n",
    "print(\"==\" * 30)\n",
    "for i in range(1 , 10):\n",
    "    print(\"6 * %d = %d\" % (i, 6 * i) )\n",
    "\n",
    "# 7단\n",
    "for i in range(1 , 10):\n",
    "    print(\"7 * %d = %d\" % (i, 7 * i) )\n",
    "\n",
    "# 8단\n",
    "for i in range(1 , 10):\n",
    "    print(\"8 * %d = %d\" % (i, 8 * i) )\n",
    "\n",
    "print(\"==\" * 30)\n",
    "for dan in range(6, 8+1):\n",
    "    for i in range(1 , 10):\n",
    "        print(\"%d * %d = %d\" % (dan , i, 8 * i))"
   ]
  },
  {
   "cell_type": "code",
   "execution_count": 178,
   "id": "c2059a5d",
   "metadata": {},
   "outputs": [
    {
     "name": "stdout",
     "output_type": "stream",
     "text": [
      "[4, 5, 6, 7]\n",
      "============================================================\n",
      "[4, 5, 6, 7]\n",
      "============================================================\n",
      "[6, 12]\n",
      "============================================================\n",
      "[6, 12]\n"
     ]
    }
   ],
   "source": [
    "a = (1,2,3,4) \n",
    "# a퓨플에 있는 값에 3을 더한 값을 빈 리스트에 저장하시오.\n",
    "result = []\n",
    "for i in a:\n",
    "    result.append(i + 3)\n",
    "print(result)\n",
    "\n",
    "print(\"==\" * 30)\n",
    "result = [ i + 3  for i in a ]\n",
    "print(result)\n",
    "\n",
    "print(\"==\" * 30)\n",
    "# a튜플에서 값이 짝수인 것만 3을 곱한 값을 리스트에 추가하시오.\n",
    "result = []\n",
    "for i in a:\n",
    "    if i % 2 == 0:\n",
    "        result.append(i * 3)\n",
    "print(result)\n",
    "\n",
    "print(\"==\" * 30)\n",
    "result = [ i * 3 for i in a if i % 2 == 0]\n",
    "print(result)"
   ]
  },
  {
   "cell_type": "code",
   "execution_count": 194,
   "id": "4398c48d",
   "metadata": {},
   "outputs": [
    {
     "name": "stdout",
     "output_type": "stream",
     "text": [
      "6 * 1 = 6\n",
      "6 * 2 = 12\n",
      "6 * 3 = 18\n",
      "6 * 4 = 24\n",
      "6 * 5 = 30\n",
      "6 * 6 = 36\n",
      "6 * 7 = 42\n",
      "6 * 8 = 48\n",
      "6 * 9 = 54\n",
      "7 * 1 = 7\n",
      "7 * 2 = 14\n",
      "7 * 3 = 21\n",
      "7 * 4 = 28\n",
      "7 * 5 = 35\n",
      "7 * 6 = 42\n",
      "7 * 7 = 49\n",
      "7 * 8 = 56\n",
      "7 * 9 = 63\n",
      "8 * 1 = 8\n",
      "8 * 2 = 16\n",
      "8 * 3 = 24\n",
      "8 * 4 = 32\n",
      "8 * 5 = 40\n",
      "8 * 6 = 48\n",
      "8 * 7 = 56\n",
      "8 * 8 = 64\n",
      "8 * 9 = 72\n",
      "============================================================\n",
      "6 * 1 = 8\n",
      "6 * 2 = 16\n",
      "6 * 3 = 24\n",
      "6 * 4 = 32\n",
      "6 * 5 = 40\n",
      "6 * 6 = 48\n",
      "6 * 7 = 56\n",
      "6 * 8 = 64\n",
      "6 * 9 = 72\n",
      "7 * 1 = 8\n",
      "7 * 2 = 16\n",
      "7 * 3 = 24\n",
      "7 * 4 = 32\n",
      "7 * 5 = 40\n",
      "7 * 6 = 48\n",
      "7 * 7 = 56\n",
      "7 * 8 = 64\n",
      "7 * 9 = 72\n",
      "8 * 1 = 8\n",
      "8 * 2 = 16\n",
      "8 * 3 = 24\n",
      "8 * 4 = 32\n",
      "8 * 5 = 40\n",
      "8 * 6 = 48\n",
      "8 * 7 = 56\n",
      "8 * 8 = 64\n",
      "8 * 9 = 72\n",
      "6 * 1 = 6\n",
      "6 * 2 = 12\n",
      "6 * 3 = 18\n",
      "6 * 4 = 24\n",
      "6 * 5 = 30\n",
      "6 * 6 = 36\n",
      "6 * 7 = 42\n",
      "6 * 8 = 48\n",
      "6 * 9 = 54\n",
      "3 * 1 = 3\n",
      "3 * 2 = 6\n",
      "3 * 3 = 9\n",
      "3 * 4 = 12\n",
      "3 * 5 = 15\n",
      "3 * 6 = 18\n",
      "3 * 7 = 21\n",
      "3 * 8 = 24\n",
      "3 * 9 = 27\n",
      "7 * 1 = 7\n",
      "7 * 2 = 14\n",
      "7 * 3 = 21\n",
      "7 * 4 = 28\n",
      "7 * 5 = 35\n",
      "7 * 6 = 42\n",
      "7 * 7 = 49\n",
      "7 * 8 = 56\n",
      "7 * 9 = 63\n"
     ]
    }
   ],
   "source": [
    "#6단\n",
    "for i in range(1 , 10):\n",
    "    print(\"6 * %d = %d\" % (i, 6 * i) )\n",
    "\n",
    "# 7단\n",
    "for i in range(1 , 10):\n",
    "    print(\"7 * %d = %d\" % (i, 7 * i) )\n",
    "\n",
    "# 8단\n",
    "for i in range(1 , 10):\n",
    "    print(\"8 * %d = %d\" % (i, 8 * i) )\n",
    "\n",
    "print(\"==\" * 30)\n",
    "for dan in range(6 , 9):\n",
    "    for i in range(1 , 10):\n",
    "        print(\"%d * %d = %d\" % (dan, i, 8 * i) )\n",
    "    \n",
    "    \n",
    "### 함수\n",
    "#6단\n",
    "for i in range(1 , 10):\n",
    "    print(\"6 * %d = %d\" % (i, 6 * i) )\n",
    "    \n",
    "#3단\n",
    "for i in range(1 , 10):\n",
    "    print(\"3 * %d = %d\" % (i, 3 * i) )\n",
    "    \n",
    "#7단\n",
    "for i in range(1 , 10):\n",
    "    print(\"7 * %d = %d\" % (i, 7 * i) )\n",
    "    \n",
    "# 특정 명령문을 반복적으로 사용한다면 특정 명령문을 정의 해 놓고 필요할 때마다 실행 시킬 수 있게하자.\n",
    "def dan7(): ## 함수\n",
    "    for i in range(1 , 10):\n",
    "        print(\"7 * %d = %d\" % (i, 7 * i) )\n",
    "\n",
    "def dan3(): ## 함수\n",
    "    for i in range(1 , 10):\n",
    "        print(\"3 * %d = %d\" % (i, 3 * i) )\n",
    "        \n",
    "def gugu(dan): ## 함수 : dan : 매개변수, 인자 , argument, parameter\n",
    "    for i in range(1 , 10):\n",
    "        print(\"%d * %d = %d\" % (dan, i, dan * i) )\n",
    "## 함수를 사용할 때 값을 꼭 적어주어야 한다."
   ]
  },
  {
   "cell_type": "code",
   "execution_count": 191,
   "id": "304fd1f5",
   "metadata": {},
   "outputs": [
    {
     "name": "stdout",
     "output_type": "stream",
     "text": [
      "7 * 1 = 7\n",
      "7 * 2 = 14\n",
      "7 * 3 = 21\n",
      "7 * 4 = 28\n",
      "7 * 5 = 35\n",
      "7 * 6 = 42\n",
      "7 * 7 = 49\n",
      "7 * 8 = 56\n",
      "7 * 9 = 63\n",
      "3 * 1 = 3\n",
      "3 * 2 = 6\n",
      "3 * 3 = 9\n",
      "3 * 4 = 12\n",
      "3 * 5 = 15\n",
      "3 * 6 = 18\n",
      "3 * 7 = 21\n",
      "3 * 8 = 24\n",
      "3 * 9 = 27\n",
      "7 * 1 = 7\n",
      "7 * 2 = 14\n",
      "7 * 3 = 21\n",
      "7 * 4 = 28\n",
      "7 * 5 = 35\n",
      "7 * 6 = 42\n",
      "7 * 7 = 49\n",
      "7 * 8 = 56\n",
      "7 * 9 = 63\n",
      "7 * 1 = 7\n",
      "7 * 2 = 14\n",
      "7 * 3 = 21\n",
      "7 * 4 = 28\n",
      "7 * 5 = 35\n",
      "7 * 6 = 42\n",
      "7 * 7 = 49\n",
      "7 * 8 = 56\n",
      "7 * 9 = 63\n",
      "3 * 1 = 3\n",
      "3 * 2 = 6\n",
      "3 * 3 = 9\n",
      "3 * 4 = 12\n",
      "3 * 5 = 15\n",
      "3 * 6 = 18\n",
      "3 * 7 = 21\n",
      "3 * 8 = 24\n",
      "3 * 9 = 27\n",
      "7 * 1 = 7\n",
      "7 * 2 = 14\n",
      "7 * 3 = 21\n",
      "7 * 4 = 28\n",
      "7 * 5 = 35\n",
      "7 * 6 = 42\n",
      "7 * 7 = 49\n",
      "7 * 8 = 56\n",
      "7 * 9 = 63\n",
      "7 * 1 = 7\n",
      "7 * 2 = 14\n",
      "7 * 3 = 21\n",
      "7 * 4 = 28\n",
      "7 * 5 = 35\n",
      "7 * 6 = 42\n",
      "7 * 7 = 49\n",
      "7 * 8 = 56\n",
      "7 * 9 = 63\n",
      "3 * 1 = 3\n",
      "3 * 2 = 6\n",
      "3 * 3 = 9\n",
      "3 * 4 = 12\n",
      "3 * 5 = 15\n",
      "3 * 6 = 18\n",
      "3 * 7 = 21\n",
      "3 * 8 = 24\n",
      "3 * 9 = 27\n"
     ]
    }
   ],
   "source": [
    "dan7()\n",
    "dan3()\n",
    "dan7()\n",
    "dan7()\n",
    "dan3()\n",
    "dan7()\n",
    "dan7()\n",
    "dan3()"
   ]
  },
  {
   "cell_type": "code",
   "execution_count": 198,
   "id": "2e6d1efe",
   "metadata": {},
   "outputs": [
    {
     "name": "stdout",
     "output_type": "stream",
     "text": [
      "3 * 1 = 3\n",
      "3 * 2 = 6\n",
      "3 * 3 = 9\n",
      "3 * 4 = 12\n",
      "3 * 5 = 15\n",
      "3 * 6 = 18\n",
      "3 * 7 = 21\n",
      "3 * 8 = 24\n",
      "3 * 9 = 27\n",
      "7 * 1 = 7\n",
      "7 * 2 = 14\n",
      "7 * 3 = 21\n",
      "7 * 4 = 28\n",
      "7 * 5 = 35\n",
      "7 * 6 = 42\n",
      "7 * 7 = 49\n",
      "7 * 8 = 56\n",
      "7 * 9 = 63\n",
      "5 * 1 = 5\n",
      "5 * 2 = 10\n",
      "5 * 3 = 15\n",
      "5 * 4 = 20\n",
      "5 * 5 = 25\n",
      "5 * 6 = 30\n",
      "5 * 7 = 35\n",
      "5 * 8 = 40\n",
      "5 * 9 = 45\n"
     ]
    }
   ],
   "source": [
    "#gugu()\n",
    "gugu(3)\n",
    "gugu(7)\n",
    "gugu(5)"
   ]
  },
  {
   "cell_type": "code",
   "execution_count": 200,
   "id": "41bd27e7",
   "metadata": {},
   "outputs": [
    {
     "name": "stdout",
     "output_type": "stream",
     "text": [
      "4 * 1 = 4\n",
      "4 * 2 = 8\n",
      "4 * 3 = 12\n",
      "4 * 4 = 16\n",
      "4 * 5 = 20\n",
      "4 * 6 = 24\n",
      "4 * 7 = 28\n",
      "4 * 8 = 32\n",
      "4 * 9 = 36\n",
      "5 * 1 = 5\n",
      "5 * 2 = 10\n",
      "5 * 3 = 15\n",
      "5 * 4 = 20\n",
      "5 * 5 = 25\n",
      "5 * 6 = 30\n",
      "5 * 7 = 35\n",
      "5 * 8 = 40\n",
      "5 * 9 = 45\n",
      "6 * 1 = 6\n",
      "6 * 2 = 12\n",
      "6 * 3 = 18\n",
      "6 * 4 = 24\n",
      "6 * 5 = 30\n",
      "6 * 6 = 36\n",
      "6 * 7 = 42\n",
      "6 * 8 = 48\n",
      "6 * 9 = 54\n",
      "4 * 1 = 4\n",
      "4 * 2 = 8\n",
      "4 * 3 = 12\n",
      "4 * 4 = 16\n",
      "4 * 5 = 20\n",
      "4 * 6 = 24\n",
      "4 * 7 = 28\n",
      "4 * 8 = 32\n",
      "4 * 9 = 36\n",
      "5 * 1 = 5\n",
      "5 * 2 = 10\n",
      "5 * 3 = 15\n",
      "5 * 4 = 20\n",
      "5 * 5 = 25\n",
      "5 * 6 = 30\n",
      "5 * 7 = 35\n",
      "5 * 8 = 40\n",
      "5 * 9 = 45\n",
      "6 * 1 = 6\n",
      "6 * 2 = 12\n",
      "6 * 3 = 18\n",
      "6 * 4 = 24\n",
      "6 * 5 = 30\n",
      "6 * 6 = 36\n",
      "6 * 7 = 42\n",
      "6 * 8 = 48\n",
      "6 * 9 = 54\n"
     ]
    }
   ],
   "source": [
    "gugu(4)\n",
    "gugu(5)\n",
    "gugu(6)\n",
    "\n",
    "for i in range(4 , 7):\n",
    "    gugu(i)"
   ]
  },
  {
   "cell_type": "code",
   "execution_count": 201,
   "id": "691588f6",
   "metadata": {},
   "outputs": [
    {
     "name": "stdout",
     "output_type": "stream",
     "text": [
      "9\n",
      "10\n"
     ]
    }
   ],
   "source": [
    "a = 4 + 5\n",
    "print(a)\n",
    "a  = 3 + 7\n",
    "print(a)"
   ]
  },
  {
   "cell_type": "code",
   "execution_count": 203,
   "id": "8f644e77",
   "metadata": {},
   "outputs": [],
   "source": [
    "def add(i, j):\n",
    "    a = i + j\n",
    "    print(a)"
   ]
  },
  {
   "cell_type": "code",
   "execution_count": 205,
   "id": "4f05f33a",
   "metadata": {},
   "outputs": [
    {
     "name": "stdout",
     "output_type": "stream",
     "text": [
      "9\n",
      "10\n"
     ]
    }
   ],
   "source": [
    "add(4, 5)\n",
    "add(3, 7)"
   ]
  },
  {
   "cell_type": "code",
   "execution_count": 207,
   "id": "f25fdce0",
   "metadata": {},
   "outputs": [],
   "source": [
    "'''\n",
    "def 함수명(parameter):\n",
    "    명령문1\n",
    "    명령문2\n",
    "    print(parameter)\n",
    "    return 결과값\n",
    "    ...\n",
    "\n",
    "함수명(argument)\n",
    "\n",
    "'''\n",
    "### 함수를 만드는 4가지 형식\n",
    "'''1. 일반적인 함수 : 인자도 있고 결과값이 있다.'''\n",
    "# f(x) = 3 + x + 3  # 3 + 5 + 3\n",
    "# y = f(5)일때 y 값은 # y = 3 + 5 + 3 ; y = 11 : 11을 결과값\n",
    "def f(x):\n",
    "    return 3 + x + 3"
   ]
  },
  {
   "cell_type": "code",
   "execution_count": 210,
   "id": "cc9a3981",
   "metadata": {},
   "outputs": [
    {
     "name": "stdout",
     "output_type": "stream",
     "text": [
      "11\n"
     ]
    }
   ],
   "source": [
    "y = f(5) # y = 11\n",
    "print(y)"
   ]
  },
  {
   "cell_type": "code",
   "execution_count": 214,
   "id": "93cfbb34",
   "metadata": {},
   "outputs": [],
   "source": [
    "def add(x, y):\n",
    "    return x + y # 함수가 실행된 위치에 결과값이 전달되기 위해서는 return문이 꼭 있어야 한다."
   ]
  },
  {
   "cell_type": "code",
   "execution_count": 217,
   "id": "92b62481",
   "metadata": {},
   "outputs": [
    {
     "name": "stdout",
     "output_type": "stream",
     "text": [
      "9\n",
      "10\n"
     ]
    }
   ],
   "source": [
    "y = add(4, 5)\n",
    "print(y)\n",
    "print(add(3 ,7 ))\n"
   ]
  },
  {
   "cell_type": "code",
   "execution_count": 218,
   "id": "023b7ad4",
   "metadata": {},
   "outputs": [],
   "source": [
    "'''2. 입력값은 없지만 결과값이 있다.'''\n",
    "# 즉 매개변수가 없다. \n",
    "def add():\n",
    "    i = 3\n",
    "    y = 4\n",
    "    return i + y"
   ]
  },
  {
   "cell_type": "code",
   "execution_count": 221,
   "id": "598e4020",
   "metadata": {},
   "outputs": [
    {
     "name": "stdout",
     "output_type": "stream",
     "text": [
      "7\n"
     ]
    }
   ],
   "source": [
    "k = add()\n",
    "print(k)"
   ]
  },
  {
   "cell_type": "code",
   "execution_count": 232,
   "id": "023fb3b7",
   "metadata": {},
   "outputs": [],
   "source": [
    "def add1():\n",
    "    i = int(input(\"숫자를 입력하시오\"))\n",
    "    y = int(input(\"숫자를 입력하시오\"))\n",
    "    return i + y"
   ]
  },
  {
   "cell_type": "code",
   "execution_count": 227,
   "id": "d026cfe0",
   "metadata": {},
   "outputs": [
    {
     "name": "stdout",
     "output_type": "stream",
     "text": [
      "숫자를 입력하시오1\n",
      "숫자를 입력하시오3\n",
      "4\n"
     ]
    }
   ],
   "source": [
    "k = add1()\n",
    "print(k)"
   ]
  },
  {
   "cell_type": "code",
   "execution_count": 235,
   "id": "943174f4",
   "metadata": {},
   "outputs": [
    {
     "name": "stdout",
     "output_type": "stream",
     "text": [
      "숫자를 입력하시오2\n",
      "숫자를 입력하시오3\n",
      "5\n"
     ]
    }
   ],
   "source": [
    "print(add1())"
   ]
  },
  {
   "cell_type": "code",
   "execution_count": 243,
   "id": "26802729",
   "metadata": {},
   "outputs": [],
   "source": [
    "'''3.입력 값은 있으나 결과값이 없다.'''\n",
    "def add(a, b):\n",
    "    y = a + b\n",
    "    print(y)"
   ]
  },
  {
   "cell_type": "code",
   "execution_count": 248,
   "id": "f0aeecb3",
   "metadata": {},
   "outputs": [
    {
     "name": "stdout",
     "output_type": "stream",
     "text": [
      "8\n",
      "21\n",
      "13\n",
      "None\n"
     ]
    }
   ],
   "source": [
    "add(3, 5)\n",
    "add(6 , 15)\n",
    "k = add( 4 , 9) # 함수를 정의 할 때 return문을 사용하지 않았으므로 k에 전달되는 값이 없다.\n",
    "print(k) # k는 None이 된다."
   ]
  },
  {
   "cell_type": "code",
   "execution_count": 249,
   "id": "e128063a",
   "metadata": {},
   "outputs": [],
   "source": [
    "'''4. 입력값도 없고 결과값도 없다.'''\n",
    "def add(): # paramemter가 존재 하지 않는다.\n",
    "    i = 10\n",
    "    j = 20\n",
    "    print(i + j)"
   ]
  },
  {
   "cell_type": "code",
   "execution_count": 250,
   "id": "c2680360",
   "metadata": {},
   "outputs": [
    {
     "name": "stdout",
     "output_type": "stream",
     "text": [
      "30\n"
     ]
    }
   ],
   "source": [
    "add() # paramemter가 없는 경우 argument를 사용할 수 없다."
   ]
  },
  {
   "cell_type": "code",
   "execution_count": 252,
   "id": "e6fea0a2",
   "metadata": {},
   "outputs": [],
   "source": [
    "def add():\n",
    "    i = int(input(\"숫자를 입력해 주세요. : \"))\n",
    "    j = int(input(\"숫자를 입력해 주세요. : \"))\n",
    "    print(i + j)"
   ]
  },
  {
   "cell_type": "code",
   "execution_count": 254,
   "id": "da182ca9",
   "metadata": {},
   "outputs": [
    {
     "name": "stdout",
     "output_type": "stream",
     "text": [
      "숫자를 입력해 주세요. : 1\n",
      "숫자를 입력해 주세요. : 1\n",
      "2\n"
     ]
    }
   ],
   "source": [
    "add()"
   ]
  },
  {
   "cell_type": "code",
   "execution_count": 259,
   "id": "1e558f4e",
   "metadata": {},
   "outputs": [
    {
     "name": "stdout",
     "output_type": "stream",
     "text": [
      "[1, 2, 3, 4, 5, 6, 7, 8, 9, 10, 11, 12, 13, 14, 15, 16, 17, 18, 19, 20, 21, 22, 23, 24, 25, 26, 27, 28, 29, 30, 31, 32, 33, 34, 35, 36, 37, 38, 39, 40, 41, 42, 43, 44, 45]\n",
      "20, 24, 22, 5, 14, 16, "
     ]
    }
   ],
   "source": [
    "lotto = []\n",
    "i = 1\n",
    "while i <= 45:\n",
    "    lotto.append(i)\n",
    "    i += 1\n",
    "\n",
    "print(lotto)\n",
    "\n",
    "j = 1\n",
    "lottoSize = 45\n",
    "while j <= 6:\n",
    "    lottoSize -= 1\n",
    "    idx = random.randint(0, lottoSize)\n",
    "    num = lotto.pop(idx)\n",
    "    print(num , end =\", \")\n",
    "    j += 1"
   ]
  },
  {
   "cell_type": "code",
   "execution_count": 262,
   "id": "c41eb429",
   "metadata": {},
   "outputs": [],
   "source": [
    "def lottoprint(): ### 입력값도 없고 결과값도 없는 함수\n",
    "    lotto = []\n",
    "    i = 1\n",
    "    while i <= 45:\n",
    "        lotto.append(i)\n",
    "        i += 1\n",
    "\n",
    "    j = 1\n",
    "    lottoSize = 45\n",
    "    while j <= 6:\n",
    "        lottoSize -= 1\n",
    "        idx = random.randint(0, lottoSize)\n",
    "        num = lotto.pop(idx)\n",
    "        print(num , end =\", \")\n",
    "        j += 1   "
   ]
  },
  {
   "cell_type": "code",
   "execution_count": 294,
   "id": "1233c42d",
   "metadata": {},
   "outputs": [
    {
     "name": "stdout",
     "output_type": "stream",
     "text": [
      "37, 26, 24, 36, 30, 10, "
     ]
    }
   ],
   "source": [
    "lottoprint()"
   ]
  },
  {
   "cell_type": "code",
   "execution_count": 296,
   "id": "2c7fa1b7",
   "metadata": {},
   "outputs": [
    {
     "name": "stdout",
     "output_type": "stream",
     "text": [
      "로또 구매 수량을 입력해 주세요. : 3\n",
      "40, 13, 22, 32, 23, 19, \n",
      "26, 17, 20, 21, 33, 1, \n",
      "40, 41, 1, 6, 38, 4, \n"
     ]
    }
   ],
   "source": [
    "cnt = int(input(\"로또 구매 수량을 입력해 주세요. : \"))\n",
    "for i in range(0, cnt):\n",
    "    lottoprint()\n",
    "    print()"
   ]
  },
  {
   "cell_type": "code",
   "execution_count": 302,
   "id": "cc4bdfe5",
   "metadata": {},
   "outputs": [],
   "source": [
    "# 1~~~100, 1~~~~1000, 50~~~~1000의 합을 구하는 함수를 만들자.입력값으로 시작값과 마지막값을 받아온다.\n",
    "def sum2(start, end): #### 입력값도 있고 결과값이 있는 함수\n",
    "    sum1 = 0\n",
    "    for i in range(start, end +1):\n",
    "        sum1 += i\n",
    "    return sum1    "
   ]
  },
  {
   "cell_type": "code",
   "execution_count": 304,
   "id": "6b83715d",
   "metadata": {},
   "outputs": [
    {
     "name": "stdout",
     "output_type": "stream",
     "text": [
      "5050\n",
      "125240\n"
     ]
    }
   ],
   "source": [
    "result = sum2( 1 , 100)\n",
    "print(result)\n",
    "result = sum2(5, 500)\n",
    "print(result)"
   ]
  },
  {
   "cell_type": "code",
   "execution_count": 306,
   "id": "f2127604",
   "metadata": {},
   "outputs": [],
   "source": [
    "#### 입력값이 없고 결과값이 있는 함수\n",
    "def sum2():\n",
    "    start = int(input(\"숫자를 입력해 주세요. : \"))\n",
    "    end = int(input(\"숫자를 입력해 주세요. : \"))\n",
    "    sum1 = 0\n",
    "    for i in range(start, end +1):\n",
    "        sum1 += i\n",
    "    return sum1"
   ]
  },
  {
   "cell_type": "code",
   "execution_count": 308,
   "id": "ebcdda0d",
   "metadata": {},
   "outputs": [
    {
     "name": "stdout",
     "output_type": "stream",
     "text": [
      "숫자를 입력해 주세요. : 1\n",
      "숫자를 입력해 주세요. : 2\n",
      "3\n"
     ]
    }
   ],
   "source": [
    "result = sum2()\n",
    "print(result)"
   ]
  },
  {
   "cell_type": "code",
   "execution_count": 309,
   "id": "be578691",
   "metadata": {},
   "outputs": [],
   "source": [
    "#### 입력값이 있고 결과값이 없는 함수\n",
    "def sum2(start, end): #### 입력값도 있고 결과값이 있는 함수\n",
    "    sum1 = 0\n",
    "    for i in range(start, end +1):\n",
    "        sum1 += i\n",
    "    print(sum1) "
   ]
  },
  {
   "cell_type": "code",
   "execution_count": 314,
   "id": "309c3972",
   "metadata": {},
   "outputs": [
    {
     "name": "stdout",
     "output_type": "stream",
     "text": [
      "숫자를 입력해 주세요. : 1\n",
      "숫자를 입력해 주세요. : 2\n",
      "3\n"
     ]
    }
   ],
   "source": [
    "s = int(input(\"숫자를 입력해 주세요. : \"))\n",
    "e = int(input(\"숫자를 입력해 주세요. : \"))\n",
    "sum2(s, e)"
   ]
  },
  {
   "cell_type": "code",
   "execution_count": 315,
   "id": "1d8d53e0",
   "metadata": {},
   "outputs": [
    {
     "name": "stdout",
     "output_type": "stream",
     "text": [
      "숫자를 입력해 주세요. : 1\n",
      "숫자를 입력해 주세요. : 2\n",
      "3\n"
     ]
    }
   ],
   "source": [
    "s = int(input(\"숫자를 입력해 주세요. : \"))\n",
    "e = int(input(\"숫자를 입력해 주세요. : \"))\n",
    "sum2(end= e, start = s)"
   ]
  },
  {
   "cell_type": "code",
   "execution_count": 317,
   "id": "4796e3f2",
   "metadata": {},
   "outputs": [
    {
     "name": "stdout",
     "output_type": "stream",
     "text": [
      "2000999\n",
      "2000999\n"
     ]
    }
   ],
   "source": [
    "sum2(2, 2000)\n",
    "sum2(end= 2000, start = 2) # 함수를 실행할 때 매개변수 지정하기"
   ]
  },
  {
   "cell_type": "code",
   "execution_count": 319,
   "id": "5144d7d7",
   "metadata": {},
   "outputs": [
    {
     "name": "stdout",
     "output_type": "stream",
     "text": [
      "3\n",
      "6\n",
      "10\n",
      "55\n"
     ]
    }
   ],
   "source": [
    "def sum11(*para): ## argument의 갯수가 일정하지 않을 때 parameter에 *를 주면 된다.\n",
    "    sum = 0\n",
    "    for i in para:\n",
    "        sum += i\n",
    "    print(sum)\n",
    "    \n",
    "sum11(1,2)\n",
    "sum11(1,2,3)\n",
    "sum11(1,2,3,4)\n",
    "sum11(1,2,3,4,5,6,7,8,9,10)"
   ]
  },
  {
   "cell_type": "code",
   "execution_count": 324,
   "id": "823c3616",
   "metadata": {},
   "outputs": [],
   "source": [
    "def sum11(operater, *para):\n",
    "    sum = 1\n",
    "    if operater == \"add\":\n",
    "        for i in para:\n",
    "            sum += i\n",
    "    elif operater == \"mul\":\n",
    "        for i in para:\n",
    "            sum *= i\n",
    "    print(sum)"
   ]
  },
  {
   "cell_type": "code",
   "execution_count": 326,
   "id": "c8541174",
   "metadata": {},
   "outputs": [
    {
     "name": "stdout",
     "output_type": "stream",
     "text": [
      "2\n",
      "7\n",
      "24\n",
      "56\n"
     ]
    }
   ],
   "source": [
    "sum11(\"mul\",1,2)\n",
    "sum11(\"add\",1,2,3)\n",
    "sum11(\"mul\",1,2,3,4)\n",
    "sum11(\"add\",1,2,3,4,5,6,7,8,9,10)"
   ]
  },
  {
   "cell_type": "code",
   "execution_count": null,
   "id": "621919e5",
   "metadata": {},
   "outputs": [],
   "source": []
  }
 ],
 "metadata": {
  "kernelspec": {
   "display_name": "Python 3 (ipykernel)",
   "language": "python",
   "name": "python3"
  },
  "language_info": {
   "codemirror_mode": {
    "name": "ipython",
    "version": 3
   },
   "file_extension": ".py",
   "mimetype": "text/x-python",
   "name": "python",
   "nbconvert_exporter": "python",
   "pygments_lexer": "ipython3",
   "version": "3.8.11"
  }
 },
 "nbformat": 4,
 "nbformat_minor": 5
}
